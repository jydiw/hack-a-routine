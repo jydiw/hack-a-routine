{
 "cells": [
  {
   "cell_type": "markdown",
   "metadata": {},
   "source": [
    "# Python Object-Oriented Programming (OOP)\n",
    "\n",
    "All material taken from Corey Schafer: https://www.youtube.com/watch?v=ZDa-Z5JzLYM\n",
    "\n",
    "- method: function associated with class  \n",
    "- class: blueprint for instances\n",
    "- instance: object belonging to class\n",
    "\n",
    "eg: if Human were a class, then I am an instance of that class."
   ]
  },
  {
   "cell_type": "markdown",
   "metadata": {},
   "source": [
    "## Part 1: Classes and Instances"
   ]
  },
  {
   "cell_type": "code",
   "execution_count": null,
   "metadata": {},
   "outputs": [],
   "source": [
    "# create a class and give it a name\n",
    "# conventionally, class names are UpperCamelCase\n",
    "\n",
    "class Employee:\n",
    "    pass"
   ]
  },
  {
   "cell_type": "code",
   "execution_count": null,
   "metadata": {},
   "outputs": [],
   "source": [
    "# different instances of class Employee\n",
    "emp_1 = Employee()\n",
    "emp_2 = Employee()"
   ]
  },
  {
   "cell_type": "code",
   "execution_count": 3,
   "metadata": {},
   "outputs": [
    {
     "name": "stdout",
     "output_type": "stream",
     "text": [
      "Gordon\n",
      "Lara\n"
     ]
    }
   ],
   "source": [
    "# manually creating instance variables\n",
    "\n",
    "emp_1.first = 'Gordon'\n",
    "emp_1.last = 'Freeman'\n",
    "emp_2.first = 'Lara'\n",
    "emp_2.last = 'Croft'\n",
    "\n",
    "print(emp_1.first)\n",
    "print(emp_2.first)"
   ]
  },
  {
   "cell_type": "code",
   "execution_count": 4,
   "metadata": {},
   "outputs": [],
   "source": [
    "# using __init__ method to make it easier to assign instance variables\n",
    "# when creating an instance of class, the instance is automatically first argument\n",
    "# by convention, instance is called 'self'\n",
    "\n",
    "class Employee:\n",
    "    \n",
    "    def __init__(self, first, last):\n",
    "        self.first = first\n",
    "        self.last = last\n",
    "        self.email = first + '.' + last + '@company.com'"
   ]
  },
  {
   "cell_type": "code",
   "execution_count": 5,
   "metadata": {},
   "outputs": [
    {
     "name": "stdout",
     "output_type": "stream",
     "text": [
      "Gordon.Freeman@company.com\n",
      "Lara.Croft@company.com\n"
     ]
    }
   ],
   "source": [
    "emp_1 = Employee('Gordon', 'Freeman')\n",
    "emp_2 = Employee('Lara', 'Croft')\n",
    "print(emp_1.email)\n",
    "print(emp_2.email)"
   ]
  },
  {
   "cell_type": "code",
   "execution_count": 6,
   "metadata": {},
   "outputs": [],
   "source": [
    "# creating a method within our class\n",
    "\n",
    "class Employee:\n",
    "    \n",
    "    def __init__(self, first, last):\n",
    "        self.first = first\n",
    "        self.last = last\n",
    "        self.email = first + '.' + last + '@company.com'\n",
    "        \n",
    "    # remember to include self as the argument\n",
    "    def fullname(self):\n",
    "        # attributes belong to the instance, self\n",
    "        return f'{self.first} {self.last}'"
   ]
  },
  {
   "cell_type": "code",
   "execution_count": 7,
   "metadata": {},
   "outputs": [
    {
     "name": "stdout",
     "output_type": "stream",
     "text": [
      "Gordon Freeman\n",
      "Lara Croft\n"
     ]
    }
   ],
   "source": [
    "emp_1 = Employee('Gordon', 'Freeman')\n",
    "emp_2 = Employee('Lara', 'Croft')\n",
    "print(emp_1.fullname())\n",
    "print(emp_2.fullname())"
   ]
  },
  {
   "cell_type": "code",
   "execution_count": 8,
   "metadata": {},
   "outputs": [
    {
     "data": {
      "text/plain": [
       "'Gordon Freeman'"
      ]
     },
     "execution_count": 8,
     "metadata": {},
     "output_type": "execute_result"
    }
   ],
   "source": [
    "# you could do this manually, too\n",
    "# when referencing the class method, it doesn't know what instance to reference\n",
    "# so 'emp_1', the instance, must be passed as an argument\n",
    "Employee.fullname(emp_1)"
   ]
  },
  {
   "cell_type": "markdown",
   "metadata": {},
   "source": [
    "## Part 2: Class Variables\n",
    "\n",
    "Instance variables are unique to each instance (such as name).  \n",
    "Class variables are the same for each instance, eg across the entire class."
   ]
  },
  {
   "cell_type": "code",
   "execution_count": 9,
   "metadata": {},
   "outputs": [],
   "source": [
    "class Employee:\n",
    "    \n",
    "    def __init__(self, first, last, pay):\n",
    "        self.first = first\n",
    "        self.last = last\n",
    "        self.pay = pay\n",
    "        self.email = first + '.' + last + '@company.com'\n",
    "        \n",
    "    # remember to include self as the argument\n",
    "    def fullname(self):\n",
    "        # attributes belong to the instance, self\n",
    "        return f'{self.first} {self.last}'\n",
    "    \n",
    "    def apply_raise(self):\n",
    "        self.pay = int(self.pay * 1.04)"
   ]
  },
  {
   "cell_type": "code",
   "execution_count": 10,
   "metadata": {},
   "outputs": [
    {
     "name": "stdout",
     "output_type": "stream",
     "text": [
      "100000\n",
      "104000\n"
     ]
    }
   ],
   "source": [
    "emp_1 = Employee('Gordon', 'Freeman', 100_000)\n",
    "\n",
    "print(emp_1.pay)\n",
    "emp_1.apply_raise()\n",
    "print(emp_1.pay)"
   ]
  },
  {
   "cell_type": "code",
   "execution_count": 11,
   "metadata": {},
   "outputs": [],
   "source": [
    "# if the raise is applied to every employee, it is better to make that a class variable\n",
    "# test usage: if raise rate changes, we can change the class variable instead of changing every instance variable\n",
    "\n",
    "class Employee:\n",
    "    \n",
    "    raise_amount = 1.04\n",
    "    \n",
    "    def __init__(self, first, last, pay):\n",
    "        self.first = first\n",
    "        self.last = last\n",
    "        self.pay = pay\n",
    "        self.email = first + '.' + last + '@company.com'\n",
    "        \n",
    "    # remember to include self as the argument\n",
    "    def fullname(self):\n",
    "        # attributes belong to the instance, self\n",
    "        return f'{self.first} {self.last}'\n",
    "    \n",
    "    def apply_raise(self):\n",
    "        self.pay = int(self.pay * Employee.raise_amount)\n"
   ]
  },
  {
   "cell_type": "code",
   "execution_count": 12,
   "metadata": {},
   "outputs": [
    {
     "name": "stdout",
     "output_type": "stream",
     "text": [
      "100000\n",
      "104000\n"
     ]
    }
   ],
   "source": [
    "emp_1 = Employee('Gordon', 'Freeman', 100_000)\n",
    "emp_2 = Employee('Lara', 'Croft', 200_000)\n",
    "\n",
    "print(emp_1.pay)\n",
    "emp_1.apply_raise()\n",
    "print(emp_1.pay)"
   ]
  },
  {
   "cell_type": "code",
   "execution_count": 13,
   "metadata": {},
   "outputs": [
    {
     "name": "stdout",
     "output_type": "stream",
     "text": [
      "1.04\n",
      "1.04\n",
      "1.04\n"
     ]
    }
   ],
   "source": [
    "# when we access raise_amount, we access the class attribute raise_amount\n",
    "# this is because self.raise_amount does not exist\n",
    "print(emp_1.raise_amount)\n",
    "print(Employee.raise_amount)\n",
    "print(emp_1.raise_amount)"
   ]
  },
  {
   "cell_type": "code",
   "execution_count": 14,
   "metadata": {},
   "outputs": [
    {
     "name": "stdout",
     "output_type": "stream",
     "text": [
      "{'first': 'Gordon', 'last': 'Freeman', 'pay': 104000, 'email': 'Gordon.Freeman@company.com'}\n"
     ]
    }
   ],
   "source": [
    "print(emp_1.__dict__)"
   ]
  },
  {
   "cell_type": "code",
   "execution_count": 15,
   "metadata": {},
   "outputs": [
    {
     "name": "stdout",
     "output_type": "stream",
     "text": [
      "{'__module__': '__main__', 'raise_amount': 1.04, '__init__': <function Employee.__init__ at 0x0000022EB0A9A828>, 'fullname': <function Employee.fullname at 0x0000022EB0A9A8B8>, 'apply_raise': <function Employee.apply_raise at 0x0000022EB0A9A438>, '__dict__': <attribute '__dict__' of 'Employee' objects>, '__weakref__': <attribute '__weakref__' of 'Employee' objects>, '__doc__': None}\n"
     ]
    }
   ],
   "source": [
    "print(Employee.__dict__)"
   ]
  },
  {
   "cell_type": "code",
   "execution_count": 23,
   "metadata": {},
   "outputs": [
    {
     "name": "stdout",
     "output_type": "stream",
     "text": [
      "1.05\n",
      "1.05\n",
      "1.05\n"
     ]
    }
   ],
   "source": [
    "class Employee:\n",
    "    \n",
    "    raise_amount = 1.04\n",
    "    \n",
    "    def __init__(self, first, last, pay):\n",
    "        self.first = first\n",
    "        self.last = last\n",
    "        self.pay = pay\n",
    "        self.email = first + '.' + last + '@company.com'\n",
    "        \n",
    "    # remember to include self as the argument\n",
    "    def fullname(self):\n",
    "        # attributes belong to the instance, self\n",
    "        return f'{self.first} {self.last}'\n",
    "    \n",
    "    def apply_raise(self):\n",
    "        self.pay = int(self.pay * self.raise_amount)\n",
    "\n",
    "emp_1 = Employee('Gordon', 'Freeman', 100_000)\n",
    "emp_2 = Employee('Lara', 'Croft', 200_000)  \n",
    "\n",
    "Employee.raise_amount = 1.05\n",
    "\n",
    "print(emp_1.raise_amount)\n",
    "print(Employee.raise_amount)\n",
    "print(emp_2.raise_amount)"
   ]
  },
  {
   "cell_type": "code",
   "execution_count": 22,
   "metadata": {},
   "outputs": [
    {
     "name": "stdout",
     "output_type": "stream",
     "text": [
      "1.05\n",
      "1.04\n",
      "1.04\n"
     ]
    }
   ],
   "source": [
    "class Employee:\n",
    "    \n",
    "    raise_amount = 1.04\n",
    "    \n",
    "    def __init__(self, first, last, pay):\n",
    "        self.first = first\n",
    "        self.last = last\n",
    "        self.pay = pay\n",
    "        self.email = first + '.' + last + '@company.com'\n",
    "        \n",
    "    # remember to include self as the argument\n",
    "    def fullname(self):\n",
    "        # attributes belong to the instance, self\n",
    "        return f'{self.first} {self.last}'\n",
    "    \n",
    "    def apply_raise(self):\n",
    "        self.pay = int(self.pay * self.raise_amount)\n",
    "\n",
    "emp_1 = Employee('Gordon', 'Freeman', 100_000)\n",
    "emp_2 = Employee('Lara', 'Croft', 200_000)        \n",
    "        \n",
    "emp_1.raise_amount = 1.05\n",
    "\n",
    "print(emp_1.raise_amount)\n",
    "print(Employee.raise_amount)\n",
    "print(emp_2.raise_amount)"
   ]
  },
  {
   "cell_type": "code",
   "execution_count": 26,
   "metadata": {},
   "outputs": [
    {
     "name": "stdout",
     "output_type": "stream",
     "text": [
      "2\n"
     ]
    }
   ],
   "source": [
    "# sometimes class variables make more sense, as in the case for number of instances\n",
    "\n",
    "class Employee:\n",
    "    \n",
    "    num_of_emps = 0    \n",
    "    raise_amount = 1.04\n",
    "    \n",
    "    def __init__(self, first, last, pay):\n",
    "        self.first = first\n",
    "        self.last = last\n",
    "        self.pay = pay\n",
    "        self.email = first + '.' + last + '@company.com'\n",
    "        Employee.num_of_emps += 1\n",
    "        \n",
    "    # remember to include self as the argument\n",
    "    def fullname(self):\n",
    "        # attributes belong to the instance, self\n",
    "        return f'{self.first} {self.last}'\n",
    "    \n",
    "    def apply_raise(self):\n",
    "        self.pay = int(self.pay * self.raise_amount)\n",
    "\n",
    "emp_1 = Employee('Gordon', 'Freeman', 100_000)\n",
    "emp_2 = Employee('Lara', 'Croft', 200_000)        \n",
    "        \n",
    "print(Employee.num_of_emps)"
   ]
  },
  {
   "cell_type": "markdown",
   "metadata": {},
   "source": [
    "## Part 3: classmethods and staticmethods\n",
    "\n",
    "regular methods in a class automatically take the instance as the first argument"
   ]
  },
  {
   "cell_type": "code",
   "execution_count": 34,
   "metadata": {},
   "outputs": [
    {
     "name": "stdout",
     "output_type": "stream",
     "text": [
      "1.04\n",
      "1.04\n",
      "1.04\n"
     ]
    }
   ],
   "source": [
    "class Employee:\n",
    "    \n",
    "    num_of_emps = 0    \n",
    "    raise_amount = 1.04\n",
    "    \n",
    "    def __init__(self, first, last, pay):\n",
    "        self.first = first\n",
    "        self.last = last\n",
    "        self.pay = pay\n",
    "        self.email = first + '.' + last + '@company.com'\n",
    "        Employee.num_of_emps += 1\n",
    "        \n",
    "    # remember to include self as the argument\n",
    "    def fullname(self):\n",
    "        # attributes belong to the instance, self\n",
    "        return f'{self.first} {self.last}'\n",
    "    \n",
    "    def apply_raise(self):\n",
    "        self.pay = int(self.pay * self.raise_amount)\n",
    "        \n",
    "    # this decorator makes it a class method\n",
    "    # we have to use 'cls' since 'class' is a python keyword\n",
    "    @classmethod\n",
    "    def set_raise_amount(cls, amount):\n",
    "        cls.raise_amount = amount\n",
    "        \n",
    "emp_1 = Employee('Gordon', 'Freeman', 100_000)\n",
    "emp_2 = Employee('Lara', 'Croft', 200_000) \n",
    "\n",
    "print(Employee.raise_amount)\n",
    "print(emp_1.raise_amount)\n",
    "print(emp_2.raise_amount)"
   ]
  },
  {
   "cell_type": "code",
   "execution_count": 37,
   "metadata": {},
   "outputs": [
    {
     "name": "stdout",
     "output_type": "stream",
     "text": [
      "1.1\n",
      "1.1\n",
      "1.1\n"
     ]
    }
   ],
   "source": [
    "# notice that the raise_amount for all instances changes even though\n",
    "# the instances were created prior to this class method\n",
    "\n",
    "Employee.set_raise_amount(1.1)\n",
    "\n",
    "print(Employee.raise_amount)\n",
    "print(emp_1.raise_amount)\n",
    "print(emp_2.raise_amount)"
   ]
  },
  {
   "cell_type": "code",
   "execution_count": 41,
   "metadata": {},
   "outputs": [
    {
     "name": "stdout",
     "output_type": "stream",
     "text": [
      "1.06\n",
      "1.06\n",
      "1.06\n"
     ]
    }
   ],
   "source": [
    "# don't actually do this, since the true meaning is obfuscated by how python automatically looks for things\n",
    "# even calling it from the instance changes it throughout since it's a classmethod\n",
    "\n",
    "emp_1.set_raise_amount(1.06)\n",
    "\n",
    "print(Employee.raise_amount)\n",
    "print(emp_1.raise_amount)\n",
    "print(emp_2.raise_amount)"
   ]
  },
  {
   "cell_type": "code",
   "execution_count": 42,
   "metadata": {},
   "outputs": [],
   "source": [
    "emp_str_1 = 'Gordon-Freeman-100000'\n",
    "emp_str_2 = 'Lara-Croft-200000'\n",
    "\n",
    "class Employee:\n",
    "    \n",
    "    num_of_emps = 0    \n",
    "    raise_amount = 1.04\n",
    "    \n",
    "    def __init__(self, first, last, pay):\n",
    "        self.first = first\n",
    "        self.last = last\n",
    "        self.pay = pay\n",
    "        self.email = first + '.' + last + '@company.com'\n",
    "        Employee.num_of_emps += 1\n",
    "        \n",
    "    def fullname(self):\n",
    "        return f'{self.first} {self.last}'\n",
    "    \n",
    "    def apply_raise(self):\n",
    "        self.pay = int(self.pay * self.raise_amount)\n",
    "\n",
    "    @classmethod\n",
    "    def set_raise_amount(cls, amount):\n",
    "        cls.raise_amount = amount\n",
    "        \n",
    "    @classmethod\n",
    "    def from_string(cls, emp_str):\n",
    "        first, last, pay = emp_str.split('-')\n",
    "        return cls(first, last, pay)"
   ]
  },
  {
   "cell_type": "code",
   "execution_count": 43,
   "metadata": {},
   "outputs": [
    {
     "name": "stdout",
     "output_type": "stream",
     "text": [
      "Gordon Freeman\n"
     ]
    }
   ],
   "source": [
    "new_emp_1 = Employee.from_string(emp_str_1)\n",
    "print(emp_1.fullname())"
   ]
  },
  {
   "cell_type": "markdown",
   "metadata": {},
   "source": [
    "## static methods\n",
    "\n",
    "static methods behave just like regular functions and do not have a default argument of either the class or instance"
   ]
  },
  {
   "cell_type": "code",
   "execution_count": 44,
   "metadata": {},
   "outputs": [],
   "source": [
    "class Employee:\n",
    "    \n",
    "    num_of_emps = 0    \n",
    "    raise_amount = 1.04\n",
    "    \n",
    "    def __init__(self, first, last, pay):\n",
    "        self.first = first\n",
    "        self.last = last\n",
    "        self.pay = pay\n",
    "        self.email = first + '.' + last + '@company.com'\n",
    "        Employee.num_of_emps += 1\n",
    "        \n",
    "    def fullname(self):\n",
    "        return f'{self.first} {self.last}'\n",
    "    \n",
    "    def apply_raise(self):\n",
    "        self.pay = int(self.pay * self.raise_amount)\n",
    "\n",
    "    @classmethod\n",
    "    def set_raise_amount(cls, amount):\n",
    "        cls.raise_amount = amount\n",
    "        \n",
    "    @classmethod\n",
    "    def from_string(cls, emp_str):\n",
    "        first, last, pay = emp_str.split('-')\n",
    "        return cls(first, last, pay)\n",
    "    \n",
    "    # here is the static method\n",
    "    @staticmethod\n",
    "    def is_workday(day):\n",
    "        return day.weekday() in range(0,5)"
   ]
  },
  {
   "cell_type": "code",
   "execution_count": 47,
   "metadata": {},
   "outputs": [
    {
     "name": "stdout",
     "output_type": "stream",
     "text": [
      "False\n"
     ]
    }
   ],
   "source": [
    "import datetime\n",
    "my_date = datetime.date(2020, 5, 16)\n",
    "\n",
    "print(Employee.is_workday(my_date))"
   ]
  },
  {
   "cell_type": "markdown",
   "metadata": {},
   "source": [
    "## Part 4: Inheritance and Subclasses"
   ]
  },
  {
   "cell_type": "code",
   "execution_count": 52,
   "metadata": {},
   "outputs": [
    {
     "name": "stdout",
     "output_type": "stream",
     "text": [
      "Samus.Aran@company.com\n"
     ]
    }
   ],
   "source": [
    "class Developer(Employee):\n",
    "    # since there is no __init__ method here, it will look to parent class\n",
    "    # in this case, Employee.__init__\n",
    "    pass\n",
    "\n",
    "dev_1 = Developer('Samus', 'Aran', 180_000)\n",
    "\n",
    "print(dev_1.email)"
   ]
  },
  {
   "cell_type": "code",
   "execution_count": 53,
   "metadata": {},
   "outputs": [
    {
     "name": "stdout",
     "output_type": "stream",
     "text": [
      "Help on class Developer in module __main__:\n",
      "\n",
      "class Developer(Employee)\n",
      " |  Developer(first, last, pay)\n",
      " |  \n",
      " |  Method resolution order:\n",
      " |      Developer\n",
      " |      Employee\n",
      " |      builtins.object\n",
      " |  \n",
      " |  Methods inherited from Employee:\n",
      " |  \n",
      " |  __init__(self, first, last, pay)\n",
      " |      Initialize self.  See help(type(self)) for accurate signature.\n",
      " |  \n",
      " |  apply_raise(self)\n",
      " |  \n",
      " |  fullname(self)\n",
      " |  \n",
      " |  ----------------------------------------------------------------------\n",
      " |  Class methods inherited from Employee:\n",
      " |  \n",
      " |  from_string(emp_str) from builtins.type\n",
      " |  \n",
      " |  set_raise_amount(amount) from builtins.type\n",
      " |  \n",
      " |  ----------------------------------------------------------------------\n",
      " |  Static methods inherited from Employee:\n",
      " |  \n",
      " |  is_workday(day)\n",
      " |      # here is the static method\n",
      " |  \n",
      " |  ----------------------------------------------------------------------\n",
      " |  Data descriptors inherited from Employee:\n",
      " |  \n",
      " |  __dict__\n",
      " |      dictionary for instance variables (if defined)\n",
      " |  \n",
      " |  __weakref__\n",
      " |      list of weak references to the object (if defined)\n",
      " |  \n",
      " |  ----------------------------------------------------------------------\n",
      " |  Data and other attributes inherited from Employee:\n",
      " |  \n",
      " |  num_of_emps = 4\n",
      " |  \n",
      " |  raise_amount = 1.04\n",
      "\n",
      "None\n"
     ]
    }
   ],
   "source": [
    "print(help(Developer))"
   ]
  },
  {
   "cell_type": "code",
   "execution_count": 54,
   "metadata": {},
   "outputs": [
    {
     "name": "stdout",
     "output_type": "stream",
     "text": [
      "180000\n",
      "187200\n"
     ]
    }
   ],
   "source": [
    "print(dev_1.pay)\n",
    "dev_1.apply_raise()\n",
    "print(dev_1.pay)"
   ]
  },
  {
   "cell_type": "code",
   "execution_count": 56,
   "metadata": {},
   "outputs": [
    {
     "name": "stdout",
     "output_type": "stream",
     "text": [
      "100000\n",
      "104000\n",
      "\n",
      "180000\n",
      "198000\n"
     ]
    }
   ],
   "source": [
    "class Developer(Employee):\n",
    "    raise_amount = 1.1\n",
    "\n",
    "dev_1 = Developer('Samus', 'Aran', 180_000)\n",
    "emp_1 = Employee('Gordon', 'Freeman', 100_000)\n",
    "\n",
    "print(emp_1.pay)\n",
    "emp_1.apply_raise()\n",
    "print(emp_1.pay)\n",
    "print()\n",
    "print(dev_1.pay)\n",
    "dev_1.apply_raise()\n",
    "print(dev_1.pay)"
   ]
  },
  {
   "cell_type": "code",
   "execution_count": 58,
   "metadata": {},
   "outputs": [
    {
     "name": "stdout",
     "output_type": "stream",
     "text": [
      "Samus.Aran@company.com\n",
      "Python\n"
     ]
    }
   ],
   "source": [
    "# sometimes subclasses may need more arguments than the parent class can handle\n",
    "\n",
    "class Developer(Employee):\n",
    "    raise_amount = 1.1\n",
    "    \n",
    "    def __init__(self, first, last, pay, language):\n",
    "        # this passes arguments to the parent class\n",
    "        super().__init__(first, last, pay)\n",
    "        # now this is specific to Developer\n",
    "        self.language = language\n",
    "        \n",
    "dev_1 = Developer('Samus', 'Aran', 180_000, 'Python')\n",
    "\n",
    "print(dev_1.email)\n",
    "print(dev_1.language)"
   ]
  },
  {
   "cell_type": "code",
   "execution_count": 59,
   "metadata": {},
   "outputs": [],
   "source": [
    "class Manager(Employee):\n",
    "    \n",
    "    def __init__(self, first, last, pay, employees=None):\n",
    "        super().__init__(first, last, pay)\n",
    "        # now this is specific to Manager\n",
    "        if employees is None:\n",
    "            self.employees = []\n",
    "        else:\n",
    "            self.employees = employees\n",
    "            \n",
    "    def add_employee(self, employee):\n",
    "        if employee not in self.employees:\n",
    "            self.employees.append(employee)\n",
    "            \n",
    "    def remove_employee(self, employee):\n",
    "        if employee in self.employees:\n",
    "            self.employees.remove(employee)\n",
    "            \n",
    "    def print_employees(self):\n",
    "        for employee in self.employees:\n",
    "            print('--', employee.fullname())"
   ]
  },
  {
   "cell_type": "code",
   "execution_count": 60,
   "metadata": {},
   "outputs": [
    {
     "name": "stdout",
     "output_type": "stream",
     "text": [
      "Fox.McCloud@company.com\n"
     ]
    }
   ],
   "source": [
    "mgr_1 = Manager('Fox', 'McCloud', 150_000, [dev_1])\n",
    "\n",
    "print(mgr_1.email)"
   ]
  },
  {
   "cell_type": "code",
   "execution_count": 61,
   "metadata": {},
   "outputs": [
    {
     "name": "stdout",
     "output_type": "stream",
     "text": [
      "-- Samus Aran\n"
     ]
    }
   ],
   "source": [
    "mgr_1.print_employees()"
   ]
  },
  {
   "cell_type": "code",
   "execution_count": 62,
   "metadata": {},
   "outputs": [
    {
     "name": "stdout",
     "output_type": "stream",
     "text": [
      "-- Samus Aran\n",
      "-- Gordon Freeman\n"
     ]
    }
   ],
   "source": [
    "mgr_1.add_employee(emp_1)\n",
    "mgr_1.print_employees()"
   ]
  },
  {
   "cell_type": "code",
   "execution_count": 65,
   "metadata": {},
   "outputs": [
    {
     "name": "stdout",
     "output_type": "stream",
     "text": [
      "True\n",
      "True\n",
      "False\n"
     ]
    }
   ],
   "source": [
    "print(isinstance(mgr_1, Manager))\n",
    "print(isinstance(mgr_1, Employee))\n",
    "print(isinstance(mgr_1, Developer))"
   ]
  },
  {
   "cell_type": "code",
   "execution_count": 66,
   "metadata": {},
   "outputs": [
    {
     "name": "stdout",
     "output_type": "stream",
     "text": [
      "False\n"
     ]
    }
   ],
   "source": [
    "print(issubclass(Manager, Developer))"
   ]
  },
  {
   "cell_type": "markdown",
   "metadata": {},
   "source": [
    "## Part 5: Magic / Dunder Methods"
   ]
  },
  {
   "cell_type": "code",
   "execution_count": 72,
   "metadata": {},
   "outputs": [],
   "source": [
    "# repr is for developers to know how to recreate your object\n",
    "# str is a readable representation of your object for your end-user\n",
    "\n",
    "class Employee:\n",
    "    \n",
    "    num_of_emps = 0    \n",
    "    raise_amount = 1.04\n",
    "    \n",
    "    def __init__(self, first, last, pay):\n",
    "        self.first = first\n",
    "        self.last = last\n",
    "        self.pay = pay\n",
    "        self.email = first + '.' + last + '@company.com'\n",
    "        Employee.num_of_emps += 1\n",
    "        \n",
    "    def fullname(self):\n",
    "        return f'{self.first} {self.last}'\n",
    "    \n",
    "    def apply_raise(self):\n",
    "        self.pay = int(self.pay * self.raise_amount)\n",
    "\n",
    "    @classmethod\n",
    "    def set_raise_amount(cls, amount):\n",
    "        cls.raise_amount = amount\n",
    "        \n",
    "    @classmethod\n",
    "    def from_string(cls, emp_str):\n",
    "        first, last, pay = emp_str.split('-')\n",
    "        return cls(first, last, pay)\n",
    "    \n",
    "    @staticmethod\n",
    "    def is_workday(day):\n",
    "        return day.weekday() in range(0,5)\n",
    "    \n",
    "    # shows exactly how to instantiate the instance\n",
    "    def __repr__(self):\n",
    "        return f'Employee({self.first}, {self.last}, {self.pay})'\n",
    "    \n",
    "    # shows info that may be useful for end-user\n",
    "    def __str__(self):\n",
    "        return f'{self.fullname()}, {self.email}'"
   ]
  },
  {
   "cell_type": "code",
   "execution_count": 73,
   "metadata": {},
   "outputs": [
    {
     "name": "stdout",
     "output_type": "stream",
     "text": [
      "Gordon Freeman, Gordon.Freeman@company.com\n"
     ]
    }
   ],
   "source": [
    "emp_1 = Employee('Gordon', 'Freeman', 100_000)\n",
    "emp_2 = Employee('Lara', 'Croft', 200_000)\n",
    "dev_1 = Developer('Samus', 'Aran', 180_000, 'Python')\n",
    "mgr_1 = Manager('Fox', 'McCloud', 150_000, [dev_1])\n",
    "\n",
    "print(emp_1)"
   ]
  },
  {
   "cell_type": "code",
   "execution_count": 75,
   "metadata": {},
   "outputs": [
    {
     "name": "stdout",
     "output_type": "stream",
     "text": [
      "Employee(Gordon, Freeman, 100000)\n",
      "Gordon Freeman, Gordon.Freeman@company.com\n"
     ]
    }
   ],
   "source": [
    "print(repr(emp_1))\n",
    "print(str(emp_1))"
   ]
  },
  {
   "cell_type": "code",
   "execution_count": 77,
   "metadata": {},
   "outputs": [
    {
     "name": "stdout",
     "output_type": "stream",
     "text": [
      "Employee(Fox, McCloud, 150000)\n",
      "Fox McCloud, Fox.McCloud@company.com\n"
     ]
    }
   ],
   "source": [
    "class Manager(Employee):\n",
    "    \n",
    "    def __init__(self, first, last, pay, employees=None):\n",
    "        super().__init__(first, last, pay)\n",
    "        # now this is specific to Manager\n",
    "        if employees is None:\n",
    "            self.employees = []\n",
    "        else:\n",
    "            self.employees = employees\n",
    "            \n",
    "    def add_employee(self, employee):\n",
    "        if employee not in self.employees:\n",
    "            self.employees.append(employee)\n",
    "            \n",
    "    def remove_employee(self, employee):\n",
    "        if employee in self.employees:\n",
    "            self.employees.remove(employee)\n",
    "            \n",
    "    def print_employees(self):\n",
    "        for employee in self.employees:\n",
    "            print('--', employee.fullname())\n",
    "\n",
    "mgr_1 = Manager('Fox', 'McCloud', 150_000, [dev_1])\n",
    "print(repr(mgr_1))\n",
    "print(str(mgr_1))"
   ]
  },
  {
   "cell_type": "code",
   "execution_count": 78,
   "metadata": {},
   "outputs": [
    {
     "name": "stdout",
     "output_type": "stream",
     "text": [
      "300000\n"
     ]
    }
   ],
   "source": [
    "class Employee:\n",
    "    \n",
    "    num_of_emps = 0    \n",
    "    raise_amount = 1.04\n",
    "    \n",
    "    def __init__(self, first, last, pay):\n",
    "        self.first = first\n",
    "        self.last = last\n",
    "        self.pay = pay\n",
    "        self.email = first + '.' + last + '@company.com'\n",
    "        Employee.num_of_emps += 1\n",
    "        \n",
    "    def fullname(self):\n",
    "        return f'{self.first} {self.last}'\n",
    "    \n",
    "    def apply_raise(self):\n",
    "        self.pay = int(self.pay * self.raise_amount)\n",
    "\n",
    "    @classmethod\n",
    "    def set_raise_amount(cls, amount):\n",
    "        cls.raise_amount = amount\n",
    "        \n",
    "    @classmethod\n",
    "    def from_string(cls, emp_str):\n",
    "        first, last, pay = emp_str.split('-')\n",
    "        return cls(first, last, pay)\n",
    "    \n",
    "    @staticmethod\n",
    "    def is_workday(day):\n",
    "        return day.weekday() in range(0,5)\n",
    "    \n",
    "    def __repr__(self):\n",
    "        return f'Employee({self.first}, {self.last}, {self.pay})'\n",
    "    \n",
    "    def __str__(self):\n",
    "        return f'{self.fullname()}, {self.email}'\n",
    "    \n",
    "    def __add__(self, other):\n",
    "        return self.pay + other.pay\n",
    "    \n",
    "emp_1 = Employee('Gordon', 'Freeman', 100_000)\n",
    "emp_2 = Employee('Lara', 'Croft', 200_000)\n",
    "\n",
    "print(emp_1 + emp_2)"
   ]
  },
  {
   "cell_type": "code",
   "execution_count": 79,
   "metadata": {},
   "outputs": [],
   "source": [
    "class Employee:\n",
    "    \n",
    "    num_of_emps = 0    \n",
    "    raise_amount = 1.04\n",
    "    \n",
    "    def __init__(self, first, last, pay):\n",
    "        self.first = first\n",
    "        self.last = last\n",
    "        self.pay = pay\n",
    "        self.email = first + '.' + last + '@company.com'\n",
    "        Employee.num_of_emps += 1\n",
    "        \n",
    "    def fullname(self):\n",
    "        return f'{self.first} {self.last}'\n",
    "    \n",
    "    def apply_raise(self):\n",
    "        self.pay = int(self.pay * self.raise_amount)\n",
    "\n",
    "    @classmethod\n",
    "    def set_raise_amount(cls, amount):\n",
    "        cls.raise_amount = amount\n",
    "        \n",
    "    @classmethod\n",
    "    def from_string(cls, emp_str):\n",
    "        first, last, pay = emp_str.split('-')\n",
    "        return cls(first, last, pay)\n",
    "    \n",
    "    @staticmethod\n",
    "    def is_workday(day):\n",
    "        return day.weekday() in range(0,5)\n",
    "    \n",
    "    def __repr__(self):\n",
    "        return f'Employee({self.first}, {self.last}, {self.pay})'\n",
    "    \n",
    "    def __str__(self):\n",
    "        return f'{self.fullname()}, {self.email}'\n",
    "    \n",
    "    def __add__(self, other):\n",
    "        return self.pay + other.pay\n",
    "    \n",
    "    # other dunder methods exist\n",
    "    def __len__(self):\n",
    "        return len(self.fullname())"
   ]
  },
  {
   "cell_type": "code",
   "execution_count": 80,
   "metadata": {},
   "outputs": [
    {
     "data": {
      "text/plain": [
       "14"
      ]
     },
     "execution_count": 80,
     "metadata": {},
     "output_type": "execute_result"
    }
   ],
   "source": [
    "emp_1 = Employee('Gordon', 'Freeman', 100_000)\n",
    "len(emp_1)"
   ]
  },
  {
   "cell_type": "markdown",
   "metadata": {},
   "source": [
    "## Part 6: Property Decorators"
   ]
  },
  {
   "cell_type": "code",
   "execution_count": 82,
   "metadata": {},
   "outputs": [
    {
     "name": "stdout",
     "output_type": "stream",
     "text": [
      "Gordon\n",
      "Gordon.Freeman@company.com\n",
      "Gordon Freeman\n"
     ]
    }
   ],
   "source": [
    "# let's strip down the Employee class to focus on Properties\n",
    "\n",
    "class Employee:\n",
    "    \n",
    "    def __init__(self, first, last):\n",
    "        self.first = first\n",
    "        self.last = last\n",
    "        self.email = first + '.' + last + '@company.com'\n",
    "        \n",
    "    def fullname(self):\n",
    "        return f'{self.first} {self.last}'\n",
    "        \n",
    "emp_1 = Employee('Gordon', 'Freeman')\n",
    "\n",
    "print(emp_1.first)\n",
    "print(emp_1.email)\n",
    "print(emp_1.fullname())"
   ]
  },
  {
   "cell_type": "code",
   "execution_count": 84,
   "metadata": {},
   "outputs": [
    {
     "name": "stdout",
     "output_type": "stream",
     "text": [
      "G-man\n",
      "Gordon.Freeman@company.com\n",
      "G-man Freeman\n"
     ]
    }
   ],
   "source": [
    "emp_1.first = 'G-man'\n",
    "\n",
    "print(emp_1.first)\n",
    "\n",
    "# notice email does not update\n",
    "print(emp_1.email)\n",
    "\n",
    "# whereas fullname() does, since it is a method that grabs the current first\n",
    "print(emp_1.fullname())"
   ]
  },
  {
   "cell_type": "code",
   "execution_count": 87,
   "metadata": {},
   "outputs": [
    {
     "name": "stdout",
     "output_type": "stream",
     "text": [
      "G-man\n",
      "<bound method Employee.email of <__main__.Employee object at 0x0000022EB0BB8608>>\n",
      "G-man Freeman\n"
     ]
    }
   ],
   "source": [
    "class Employee:\n",
    "    \n",
    "    def __init__(self, first, last):\n",
    "        self.first = first\n",
    "        self.last = last\n",
    "        # self.email = first + '.' + last + '@company.com'\n",
    "        \n",
    "    def email(self):\n",
    "        return f'{self.first}.{self.last}@company.com'\n",
    "        \n",
    "    def fullname(self):\n",
    "        return f'{self.first} {self.last}'\n",
    "\n",
    "emp_1 = Employee('Gordon', 'Freeman')\n",
    "emp_1.first = 'G-man'\n",
    "\n",
    "print(emp_1.first)\n",
    "# notice email does not update the way we want since it's now a method\n",
    "print(emp_1.email)\n",
    "print(emp_1.fullname())"
   ]
  },
  {
   "cell_type": "code",
   "execution_count": 88,
   "metadata": {},
   "outputs": [
    {
     "name": "stdout",
     "output_type": "stream",
     "text": [
      "G-man.Freeman@company.com\n"
     ]
    }
   ],
   "source": [
    "print(emp_1.email())"
   ]
  },
  {
   "cell_type": "code",
   "execution_count": 91,
   "metadata": {},
   "outputs": [
    {
     "name": "stdout",
     "output_type": "stream",
     "text": [
      "G-man\n",
      "G-man.Freeman@company.com\n",
      "G-man Freeman\n"
     ]
    }
   ],
   "source": [
    "class Employee:\n",
    "    \n",
    "    def __init__(self, first, last):\n",
    "        self.first = first\n",
    "        self.last = last\n",
    "        # self.email = first + '.' + last + '@company.com'\n",
    "    \n",
    "    @property\n",
    "    def email(self):\n",
    "        return f'{self.first}.{self.last}@company.com'\n",
    "    \n",
    "    @property\n",
    "    def fullname(self):\n",
    "        return f'{self.first} {self.last}'\n",
    "\n",
    "emp_1 = Employee('Gordon', 'Freeman')\n",
    "emp_1.first = 'G-man'\n",
    "\n",
    "print(emp_1.first)\n",
    "# now this works\n",
    "print(emp_1.email)\n",
    "print(emp_1.fullname)"
   ]
  },
  {
   "cell_type": "code",
   "execution_count": 94,
   "metadata": {},
   "outputs": [
    {
     "ename": "AttributeError",
     "evalue": "can't set attribute",
     "output_type": "error",
     "traceback": [
      "\u001b[1;31m---------------------------------------------------------------------------\u001b[0m",
      "\u001b[1;31mAttributeError\u001b[0m                            Traceback (most recent call last)",
      "\u001b[1;32m<ipython-input-94-5bae74ead155>\u001b[0m in \u001b[0;36m<module>\u001b[1;34m\u001b[0m\n\u001b[0;32m     16\u001b[0m \u001b[0memp_1\u001b[0m \u001b[1;33m=\u001b[0m \u001b[0mEmployee\u001b[0m\u001b[1;33m(\u001b[0m\u001b[1;34m'Gordon'\u001b[0m\u001b[1;33m,\u001b[0m \u001b[1;34m'Freeman'\u001b[0m\u001b[1;33m)\u001b[0m\u001b[1;33m\u001b[0m\u001b[1;33m\u001b[0m\u001b[0m\n\u001b[0;32m     17\u001b[0m \u001b[1;31m# this throws an error\u001b[0m\u001b[1;33m\u001b[0m\u001b[1;33m\u001b[0m\u001b[1;33m\u001b[0m\u001b[0m\n\u001b[1;32m---> 18\u001b[1;33m \u001b[0memp_1\u001b[0m\u001b[1;33m.\u001b[0m\u001b[0mfullname\u001b[0m \u001b[1;33m=\u001b[0m \u001b[1;34m'Alyx Vance'\u001b[0m\u001b[1;33m\u001b[0m\u001b[1;33m\u001b[0m\u001b[0m\n\u001b[0m\u001b[0;32m     19\u001b[0m \u001b[1;33m\u001b[0m\u001b[0m\n\u001b[0;32m     20\u001b[0m \u001b[0mprint\u001b[0m\u001b[1;33m(\u001b[0m\u001b[0memp_1\u001b[0m\u001b[1;33m.\u001b[0m\u001b[0mfirst\u001b[0m\u001b[1;33m)\u001b[0m\u001b[1;33m\u001b[0m\u001b[1;33m\u001b[0m\u001b[0m\n",
      "\u001b[1;31mAttributeError\u001b[0m: can't set attribute"
     ]
    }
   ],
   "source": [
    "class Employee:\n",
    "    \n",
    "    def __init__(self, first, last):\n",
    "        self.first = first\n",
    "        self.last = last\n",
    "        # self.email = first + '.' + last + '@company.com'\n",
    "    \n",
    "    @property\n",
    "    def email(self):\n",
    "        return f'{self.first}.{self.last}@company.com'\n",
    "    \n",
    "    @property\n",
    "    def fullname(self):\n",
    "        return f'{self.first} {self.last}'\n",
    "\n",
    "emp_1 = Employee('Gordon', 'Freeman')\n",
    "# this throws an error\n",
    "emp_1.fullname = 'Alyx Vance'\n",
    "\n",
    "print(emp_1.first)\n",
    "print(emp_1.email)\n",
    "print(emp_1.fullname)"
   ]
  },
  {
   "cell_type": "code",
   "execution_count": 95,
   "metadata": {},
   "outputs": [
    {
     "name": "stdout",
     "output_type": "stream",
     "text": [
      "Alyx\n",
      "Alyx.Vance@company.com\n",
      "Alyx Vance\n"
     ]
    }
   ],
   "source": [
    "class Employee:\n",
    "    \n",
    "    def __init__(self, first, last):\n",
    "        self.first = first\n",
    "        self.last = last\n",
    "        # self.email = first + '.' + last + '@company.com'\n",
    "    \n",
    "    @property\n",
    "    def email(self):\n",
    "        return f'{self.first}.{self.last}@company.com'\n",
    "    \n",
    "    @property\n",
    "    def fullname(self):\n",
    "        return f'{self.first} {self.last}'\n",
    "    \n",
    "    @fullname.setter\n",
    "    def fullname(self, name):\n",
    "        self.first, self.last = name.split(' ')\n",
    "        \n",
    "\n",
    "emp_1 = Employee('Gordon', 'Freeman')\n",
    "emp_1.fullname = 'Alyx Vance'\n",
    "\n",
    "print(emp_1.first)\n",
    "print(emp_1.email)\n",
    "print(emp_1.fullname)"
   ]
  },
  {
   "cell_type": "code",
   "execution_count": 96,
   "metadata": {},
   "outputs": [
    {
     "name": "stdout",
     "output_type": "stream",
     "text": [
      "Alyx\n",
      "Alyx.Vance@company.com\n",
      "Alyx Vance\n",
      "Delete Name!\n",
      "None\n"
     ]
    }
   ],
   "source": [
    "class Employee:\n",
    "    \n",
    "    def __init__(self, first, last):\n",
    "        self.first = first\n",
    "        self.last = last\n",
    "        # self.email = first + '.' + last + '@company.com'\n",
    "    \n",
    "    @property\n",
    "    def email(self):\n",
    "        return f'{self.first}.{self.last}@company.com'\n",
    "    \n",
    "    @property\n",
    "    def fullname(self):\n",
    "        return f'{self.first} {self.last}'\n",
    "    \n",
    "    @fullname.setter\n",
    "    def fullname(self, name):\n",
    "        self.first, self.last = name.split(' ')\n",
    "        \n",
    "    @fullname.deleter\n",
    "    def fullname(self):\n",
    "        print('Delete Name!')\n",
    "        self.first = None\n",
    "        self.last = None\n",
    "        \n",
    "\n",
    "emp_1 = Employee('Gordon', 'Freeman')\n",
    "emp_1.fullname = 'Alyx Vance'\n",
    "\n",
    "print(emp_1.first)\n",
    "print(emp_1.email)\n",
    "print(emp_1.fullname)\n",
    "del emp_1.fullname\n",
    "print(emp_1.first)"
   ]
  },
  {
   "cell_type": "code",
   "execution_count": null,
   "metadata": {},
   "outputs": [],
   "source": [
    "class Cosmetic(CosDNA):  \n",
    "    \n",
    "    def __init__(self, name=None):\n",
    "        super().__init__()\n",
    "        self.synced = False\n",
    "        self.__name = name\n",
    "        self.__temp_cosdna_url = None\n",
    "            \n",
    "            \n",
    "    def link(self, base_url=None, sort=None, cosdna_url=None):\n",
    "        \n",
    "        if cosdna_url is not None:\n",
    "            self.__temp_cosdna_url = cosdna_url\n",
    "        \n",
    "        else:\n",
    "            sort_dict = {\n",
    "                'latest': '&sort=date',\n",
    "                'featured': '&sort=featured',\n",
    "                'clicks': '&sort=click',\n",
    "                'reviews': '&sort=review'\n",
    "            }\n",
    "\n",
    "            # search for name in cosdna.com\n",
    "            # _base_url defined in child classes\n",
    "            if Cosmetic.MAIN_URL in base_url:\n",
    "                search_name = str(self.name).translate(str.maketrans('', '', string.punctuation)).lower()\n",
    "                search_name = search_name.replace(' ', '+')\n",
    "                if sort in sort_dict.keys():\n",
    "                    search_url = base_url + search_name + sort_dict[sort]\n",
    "                else:\n",
    "                    search_url = base_url + search_name\n",
    "                Cosmetic.driver.get(search_url)\n",
    "\n",
    "            # try to get the top result from the search\n",
    "            try:\n",
    "                top = self.driver.find_element_by_xpath((\"//table[@class='table table-hover']/tbody/tr/td[1]/a\"))\n",
    "                self.__temp_cosdna_url = top.get_attribute('href')\n",
    "                return self\n",
    "            except:\n",
    "                print(f'No results for {self.name} on CosDNA.')\n",
    "                name = input('Enter new search: ')\n",
    "                if name.lower() == 'break':\n",
    "                    return self\n",
    "                else:\n",
    "                    self.name = name\n",
    "                    return self.link(base_url=base_url, sort=sort)\n",
    "        \n",
    "        \n",
    "    def sync(self):\n",
    "        \n",
    "        if self.__temp_cosdna_url is None:\n",
    "            print('Cannot sync without first linking with valid CosDNA URL.')\n",
    "            return self        \n",
    "        else:\n",
    "            Cosmetic.driver.get(self.cosdna_url)\n",
    "            return self\n",
    "    \n",
    "    \n",
    "    def end(self):\n",
    "        Cosmetic.driver.close()\n",
    "        Cosmetic.session_open = False\n",
    "    \n",
    "    \n",
    "    @property\n",
    "    def cosdna_url(self):\n",
    "        if self.__temp_cosdna_url is None:\n",
    "            return self.__temp_cosdna_url\n",
    "        elif CosDNA.MAIN_URL in self.__temp_cosdna_url:\n",
    "            return self.__temp_cosdna_url\n",
    "        else:\n",
    "            print('Invalid CosDNA URL')\n",
    "            return None\n",
    "    \n",
    "    @property\n",
    "    def linked(self):\n",
    "        return (self.cosdna_url is not None)"
   ]
  },
  {
   "cell_type": "code",
   "execution_count": null,
   "metadata": {},
   "outputs": [],
   "source": [
    "class Product(Cosmetic):\n",
    "    \n",
    "    def __init__(self, name=None, brand=None, product=None):\n",
    "        self.brand = brand\n",
    "        self.product = product\n",
    "        self.__temp_name = name\n",
    "#         self.__name = name\n",
    "#         if brand is None and product is None:\n",
    "#             self.__name = name\n",
    "#         else:\n",
    "#             self.name(brand, product)\n",
    "        super().__init__(self.name)\n",
    "    \n",
    "    def link(self, sort='featured', cosdna_url=None):\n",
    "        return super().link(base_url='https://cosdna.com/eng/product.php?q=', \n",
    "                            sort=sort,\n",
    "                            cosdna_url=cosdna_url)\n",
    "        \n",
    "    def sync(self):\n",
    "        super().sync()\n",
    "        \n",
    "        cosdna_brand = self.driver.find_element_by_class_name('brand-name').text.lower()\n",
    "        cosdna_product = self.driver.find_element_by_class_name('prod-name').text.lower()\n",
    "        if cosdna_brand is not '':\n",
    "            self.brand = cosdna_brand\n",
    "            self.product = cosdna_product\n",
    "        cosdna_name = cosdna_brand + ' ' + cosdna_product\n",
    "        self.cosdna_name = cosdna_name.strip()\n",
    "        \n",
    "        # get ingredients information from ingredients table\n",
    "        self.ingredients = {}\n",
    "        table = self.driver.find_element_by_class_name('chem-list')\n",
    "        rows = table.find_elements_by_tag_name('tr')\n",
    "        for row in rows:\n",
    "            ingredient = row.find_elements_by_tag_name('td')[0].text.strip().lower()\n",
    "            if 'no results' in ingredient:\n",
    "                ingredient = row.find_elements_by_class_name('text-muted')[0].text.strip().lower()\n",
    "                function = None\n",
    "            else:\n",
    "                try:\n",
    "                    function_cell = row.find_elements_by_tag_name('td')[1]\n",
    "                    function = function_cell.text.strip().lower().split(',')\n",
    "                    if 'sunscreen' in function:\n",
    "                        try:\n",
    "                            uva = re.search(\"uv[ab]\\d\", function_cell.find_elements_by_tag_name('img')[0].get_attribute('src'))[0]\n",
    "                            uvb = re.search(\"uv[ab]\\d\", function_cell.find_elements_by_tag_name('img')[1].get_attribute('src'))[0]\n",
    "                            function.append(uva)\n",
    "                            function.append(uvb)\n",
    "                        except:\n",
    "                            continue\n",
    "                except:\n",
    "                    function = None\n",
    "            self.ingredients[ingredient] = function\n",
    "            \n",
    "        # change state to True\n",
    "        self.synced = True\n",
    "        return self\n",
    "    \n",
    "    def link_sync(self, sort='featured', cosdna_url=None):\n",
    "        self.link(sort=sort, cosdna_url=cosdna_url)\n",
    "        self.sync()\n",
    "    \n",
    "    @property\n",
    "    def name(self):\n",
    "        if self.brand is None and self.product is None:\n",
    "            self.__name = self.__temp_name\n",
    "            return self.__name\n",
    "        else:\n",
    "            self.__name = self.brand + ' ' + self.product\n",
    "            return self.__name"
   ]
  }
 ],
 "metadata": {
  "kernelspec": {
   "display_name": "Python 3",
   "language": "python",
   "name": "python3"
  },
  "language_info": {
   "codemirror_mode": {
    "name": "ipython",
    "version": 3
   },
   "file_extension": ".py",
   "mimetype": "text/x-python",
   "name": "python",
   "nbconvert_exporter": "python",
   "pygments_lexer": "ipython3",
   "version": "3.7.4"
  }
 },
 "nbformat": 4,
 "nbformat_minor": 4
}