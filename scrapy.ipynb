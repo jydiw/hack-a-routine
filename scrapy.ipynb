{
 "cells": [
  {
   "cell_type": "code",
   "execution_count": 1,
   "metadata": {},
   "outputs": [],
   "source": [
    "import requests\n",
    "from scrapy.http import TextResponse"
   ]
  },
  {
   "cell_type": "code",
   "execution_count": 2,
   "metadata": {},
   "outputs": [],
   "source": [
    "r = requests.get('https://cosdna.com/eng/466110332.html')\n",
    "response = TextResponse(r.url, body=r.text, encoding='utf-8')"
   ]
  },
  {
   "cell_type": "code",
   "execution_count": 4,
   "metadata": {},
   "outputs": [
    {
     "output_type": "execute_result",
     "data": {
      "text/plain": "'<!doctype html>\\n<html lang=\"en\">\\n<head>\\n        <title> | CosDNA</title>\\n    <meta charset=\"utf-8\">\\n            <link rel=\"alternate\" hreflang=\"zh-Hant\" href=\"//www.cosdna.com/cht/466110332.html\" />\\n            <link rel=\"alternate\" hreflang=\"zh-Hans\" href=\"//www.cosdna.com/chs/466110332.html\" />\\n            <link rel=\"alternate\" hreflang=\"ja\" href=\"//www.cosdna.com/jpn/466110332.html\" />\\n        <link rel=\"icon\" sizes=\"16x16 24x24 32x32 48x48 64x64\" href=\"/favicon.ico\">\\n    <link rel=\"stylesheet\" href=\"/css/style.css?ver=1.00\">\\n    <script src=\\'/js/main.js\\' defer></script>\\n    </head>\\n<body>\\n<div class=\"layout\">\\n    <div class=\"header\">\\n        <div class=\"header-toolbar py-2 px-2\">\\n            <a class=\"mr-5\" href=\"/eng/\" title=\"CosDNA Home\">\\n                <img src=\"/images/logo.png\" style=\"max-height: 2.5em;\">\\n            </a>\\n            <a class=\"mr-4\" href=\"https://m.cosdna.com/eng/466110332.html\">\\n                <i class=\"fas fa-mobile-alt\"></i> Mobile\\n            </a>\\n            <span class=\"d-inline-block\">\\n                <select class=\"custom-select custom-select-sm select-lang\">\\n                    <option selected>Switch language</option>\\n                                            <option data-url=\"/cht/466110332.html\">繁體中文</option>\\n                                            <option data-url=\"/chs/466110332.html\">简体中文</option>\\n                                            <option data-url=\"/jpn/466110332.html\">日本語</option>\\n                                    </select>\\n            </span>\\n            <span class=\"float-right\">\\n                                    <a class=\"px-1\" href=\"/eng/user/signup.php\"><i class=\"fas fa-user-circle\"></i> Sign up</a>\\n                    <span class=\"text-weak\">|</span>\\n                    <a class=\"px-1\" href=\"/eng/user/login.php\"><i class=\"fas fa-sign-in-alt\"></i> Login</a>\\n                            </span>\\n        </div>\\n        <div class=\"header-menu\">\\n                            <a href=\"/eng/\" class=\"py-1 px-2 menu-item hm1 \">\\n                    Home\\n                </a>\\n                            <a href=\"/eng/product.php\" class=\"py-1 px-2 menu-item hm2 \">\\n                    Product Search\\n                </a>\\n                            <a href=\"/eng/stuff.php\" class=\"py-1 px-2 menu-item hm3 font-weight-bold\">\\n                    Ingredients\\n                </a>\\n                            <a href=\"/eng/ingredients.php\" class=\"py-1 px-2 menu-item hm4 \">\\n                    Analyze Cosmetics\\n                </a>\\n                            <a href=\"/eng/supplier/product.php\" class=\"py-1 px-2 menu-item hm5 \">\\n                    Ingredients Market\\n                </a>\\n                            <a href=\"/eng/soap_recipe.php\" class=\"py-1 px-2 menu-item hm6 \">\\n                    Handmade Soap\\n                </a>\\n                            <a href=\"/eng/forum\" class=\"py-1 px-2 menu-item hm7 \">\\n                    Forum\\n                </a>\\n                        <span class=\"menu-item hm-extend\">\\n                            </span>\\n        </div>\\n    </div>\\n        <main class=\"main\">\\n            <div class=\"container-fluid mt-5\">\\n        <div class=\"d-flex mt-5\">\\n            <div class=\"flex-grow-1\">\\n                <form class=\"pt-2 mb-4\" method=\"GET\" action=\"stuff.php\">\\n                    <input type=\"text\" class=\"form-control mb-3\" name=\"q\" value=\"\" placeholder=\"Ingredient Name\" autofocus required>\\n                    <button type=\"submit\" class=\"btn btn-block btn-secondary\">\\n                        <i class=\"fa fa-search\" style=\"color: #DEF0C6\"></i> Search\\n                    </button>\\n                </form>\\n                <div class=\"text-right small-90\">\\n                                    </div>\\n                <div class=\"chem mb-5\">\\n                    <div class=\"h4 text-vampire\"></div>\\n                    <div class=\"mb-2\">\\n                                            </div>\\n                    <div class=\"pb-3 mb-3 border-bottom\"></div>\\n                    <div class=\"d-flex justify-content-between mb-3\">\\n                        <div>\\n                            <span class=\"badge badge-light\"></span>\\n                            <span class=\"badge badge-light\"></span>\\n                            <span class=\"badge badge-light\"></span>\\n                        </div>\\n                                            </div>\\n                    <div class=\"text-info ls-1 mb-1 small-90\">\\n                        <em class=\"memo\"></em>\\n                    </div>\\n                    <div class=\"linkb1 ls-2 lh-1\">\\n                        \\n                                            </div>\\n                    <div class=\"text-muted mt-3\"></div>\\n                    <div class=\"linkb1 text-right mt-4\">\\n                                                <a href=\"supplier/466110332.html\"><i class=\"fal fa-store-alt\"></i> Ingredient supplier (2)</a>\\n                                            </div>\\n                </div>\\n                                <div class=\"text-right  \">\\n                    <a class=\"text-calm px-3\" href=\"user/login.php\">\\n                        <i class=\"far fa-comment-dots fa-flip-horizontal\"></i> Leave a Comment\\n                    </a>\\n                </div>\\n                <form class=\"collapse mt-2\" method=\"POST\" id=\"comment_post\">\\n                    <textarea class=\"required form-control\" rows=\"5\" name=\"usercomment\"></textarea>\\n                    <div class=\"text-right mt-3\">\\n                        <button type=\"submit\" class=\"btn-compose btn btn-primary px-4\">\\n                            <i class=\"fas fa-chevron-circle-right\"></i> Send Comment\\n                        </button>\\n                    </div>\\n                </form>\\n            </div>\\n            <div class=\"ml-4 block-300\">\\n                <div class=\"mb-4\">\\n                    <div class=\"bg-pink3 rounded-top font-weight-bold py-1 px-3 mt-2 small-90\">\\n                        Product contain this ingredient\\n                    </div>\\n                    <div class=\"rounded-bottom small-90 text-calm\" style=\"border:1px solid #FFC7E3;\">\\n                        <ul class=\"list-group list-group-flush px-3 py-2\">\\n                                                    <li class=\"list-group-item px-0 py-2 border-weak\">\\n                                <a href=\"/eng/cosmetic_6cc9510258.html\">\\n                                    Body Shop Tea Tree Anti-Imperfection Night Mask 75ml\\n                                </a>\\n                            </li>\\n                                                    <li class=\"list-group-item px-0 py-2 border-weak\">\\n                                <a href=\"/eng/cosmetic_fed0510343.html\">\\n                                     VT COSMETICS Cica Mild Toner Pad\\n                                </a>\\n                            </li>\\n                                                    <li class=\"list-group-item px-0 py-2 border-weak\">\\n                                <a href=\"/eng/cosmetic_8793510397.html\">\\n                                    BioDerma Sébium Global\\n                                </a>\\n                            </li>\\n                                                    <li class=\"list-group-item px-0 py-2 border-weak\">\\n                                <a href=\"/eng/cosmetic_0a3e510408.html\">\\n                                     Biologique Recherche Masque VIP O2\\n                                </a>\\n                            </li>\\n                                                    <li class=\"list-group-item px-0 py-2 border-weak\">\\n                                <a href=\"/eng/cosmetic_efb7510444.html\">\\n                                    AnneMarie Borlind Purifying Care, Facial Toner\\n                                </a>\\n                            </li>\\n                                                <div class=\"text-right mt-2\">\\n                            <a href=\"stuff_prod.php?in[1]=466110332\"><i class=\"fal fa-clipboard-list\"></i> list more cosmetics</a>\\n                        </div>\\n                        </ul>\\n                    </div>\\n                </div>\\n                <script async src=\"//pagead2.googlesyndication.com/pagead/js/adsbygoogle.js\"></script>\\r\\n            <ins class=\"adsbygoogle \"\\r\\n            style=\"display:inline-block;width:300px;height:250px\"\\r\\n            data-ad-client=\"ca-pub-0684184712291081\"\\r\\n            data-ad-slot=\"8925834435\"></ins>\\r\\n            <script>\\r\\n            (adsbygoogle = window.adsbygoogle || []).push({});\\r\\n            </script>\\n                \\n                \\n            </div>\\n        </div>\\n    </div>\\n    </main>\\n    <div class=\"footer mt-5 text-center\">\\n                <div class=\"contact\">\\n            <span class=\"text-muted\">|</span>\\n            <a class=\"px-1\" href=\"/eng/help/privacy.php\">Privacy Policy</a>\\n            <span class=\"text-muted\">|</span>\\n            <a class=\"px-1\" href=\"/eng/help/cooperate.php\">Contact Us</a>\\n            <span class=\"text-muted\">|</span>\\n        </div>\\n        <div class=\"copyright rounded-bottom\">\\n            Copyright cosdna.com All rights reserved. Cosmetic Ingredients\\n        </div>\\n            </div>\\n</div>\\n<div class=\"privacy-banner\">\\n    <p class=\"text-center m-0\">\\n        We use cookies to provide and improve our services. By using our site, you consent to cookies.\\n        <a class=\"banner-learn ml-1\" href=\"/eng/help/privacy.php\">Learn more</a>\\n        <a class=\"banner-accept ml-3 px-4\" href=\"javascript:void(0);\"><i class=\"fa fa-times fa-lg\" title=\"Close\"></i></a>\\n    </p>\\n</div>\\n</body>\\n</html>'"
     },
     "metadata": {},
     "execution_count": 4
    }
   ],
   "source": [
    "response."
   ]
  },
  {
   "cell_type": "code",
   "execution_count": null,
   "metadata": {},
   "outputs": [],
   "source": []
  }
 ],
 "metadata": {
  "language_info": {
   "codemirror_mode": {
    "name": "ipython",
    "version": 3
   },
   "file_extension": ".py",
   "mimetype": "text/x-python",
   "name": "python",
   "nbconvert_exporter": "python",
   "pygments_lexer": "ipython3",
   "version": "3.7.4-final"
  },
  "orig_nbformat": 2,
  "kernelspec": {
   "name": "python37464bitbaseconda02ec2a07eb85407987cf410ca1df4ebc",
   "display_name": "Python 3.7.4 64-bit ('base': conda)"
  }
 },
 "nbformat": 4,
 "nbformat_minor": 2
}