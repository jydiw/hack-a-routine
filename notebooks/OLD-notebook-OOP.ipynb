{
 "cells": [
  {
   "cell_type": "code",
   "execution_count": 197,
   "metadata": {},
   "outputs": [],
   "source": [
    "import numpy as np\n",
    "import pandas as pd\n",
    "import glob, re, string\n",
    "from collections import Counter\n",
    "import time\n",
    "\n",
    "# https://medium.com/@asheeshmisra29/web-automation-selenium-webdriver-and-python-getting-started-part-3-a9c07143d36d\n",
    "import unittest\n",
    "from selenium import webdriver\n",
    "from selenium.webdriver.common.keys import Keys\n",
    "from selenium.webdriver.common.by import By\n",
    "\n",
    "from string_grouper import match_strings, match_most_similar, group_similar_strings, StringGrouper\n",
    "# from sklearn.feature_extraction.text import TfidfVectorizer\n",
    "# from scipy.sparse import csr_matrix\n",
    "# import sparse_dot_topn.sparse_dot_topn as sdt"
   ]
  },
  {
   "cell_type": "markdown",
   "metadata": {},
   "source": [
    "cosmetic ingredient database: https://public.opendatasoft.com/explore/dataset/cosmetic-ingredient-database-ingredients-and-fragrance-inventory/table/\n",
    "\n",
    "cosdna: https://cosdna.com/"
   ]
  },
  {
   "cell_type": "code",
   "execution_count": 2,
   "metadata": {},
   "outputs": [
    {
     "data": {
      "text/plain": [
       "['./data\\\\brands.csv',\n",
       " './data\\\\recommendations_2020-05-05.csv',\n",
       " './data\\\\responses_2020-05-05.csv',\n",
       " './data\\\\responses_modified_2020-05-05.csv']"
      ]
     },
     "execution_count": 2,
     "metadata": {},
     "output_type": "execute_result"
    }
   ],
   "source": [
    "file_list = glob.glob('./data/*.csv')\n",
    "file_list"
   ]
  },
  {
   "cell_type": "code",
   "execution_count": 3,
   "metadata": {},
   "outputs": [],
   "source": [
    "responses = pd.read_csv(file_list[2])"
   ]
  },
  {
   "cell_type": "code",
   "execution_count": 4,
   "metadata": {},
   "outputs": [
    {
     "data": {
      "text/html": [
       "<div>\n",
       "<style scoped>\n",
       "    .dataframe tbody tr th:only-of-type {\n",
       "        vertical-align: middle;\n",
       "    }\n",
       "\n",
       "    .dataframe tbody tr th {\n",
       "        vertical-align: top;\n",
       "    }\n",
       "\n",
       "    .dataframe thead th {\n",
       "        text-align: right;\n",
       "    }\n",
       "</style>\n",
       "<table border=\"1\" class=\"dataframe\">\n",
       "  <thead>\n",
       "    <tr style=\"text-align: right;\">\n",
       "      <th></th>\n",
       "      <th>timestamp</th>\n",
       "      <th>order_number</th>\n",
       "      <th>skin_type</th>\n",
       "      <th>cannot_contain</th>\n",
       "      <th>skin_concern</th>\n",
       "      <th>am_routine</th>\n",
       "      <th>pm_routine</th>\n",
       "      <th>climate</th>\n",
       "      <th>skin_sensitivities</th>\n",
       "      <th>used_retinoids</th>\n",
       "      <th>used_acids</th>\n",
       "      <th>prone_to_breakouts</th>\n",
       "      <th>miscellaneous</th>\n",
       "      <th>permission</th>\n",
       "    </tr>\n",
       "  </thead>\n",
       "  <tbody>\n",
       "    <tr>\n",
       "      <th>0</th>\n",
       "      <td>4/30/2020 12:43:32</td>\n",
       "      <td>12846</td>\n",
       "      <td>Combination</td>\n",
       "      <td>None</td>\n",
       "      <td>Acne, Pigmentation, Fine lines/wrinkles</td>\n",
       "      <td>Trader Joe’s “all in one” cleanser, Bioderma S...</td>\n",
       "      <td>Trader Joe’s “all in one” cleanser, Bioderma S...</td>\n",
       "      <td>Temperate, a lovely 70F (lucky!)</td>\n",
       "      <td>I broke out from Cosrx snail serum and from Ma...</td>\n",
       "      <td>Differing 0.1% for four years</td>\n",
       "      <td>I prefer toners with acids as masks with AHA s...</td>\n",
       "      <td>I have mild to moderate acne that I have been ...</td>\n",
       "      <td>I have a super oily forehead, oily nose and c...</td>\n",
       "      <td>Yes</td>\n",
       "    </tr>\n",
       "    <tr>\n",
       "      <th>1</th>\n",
       "      <td>4/30/2020 12:45:25</td>\n",
       "      <td>12837</td>\n",
       "      <td>Combination</td>\n",
       "      <td>No allergies</td>\n",
       "      <td>Acne, Fine lines/wrinkles, Skin Texture (rough...</td>\n",
       "      <td>1. Wash with Biore Charcoal Acne Clearing Clea...</td>\n",
       "      <td>Collapse into bed</td>\n",
       "      <td>Tropical, humid</td>\n",
       "      <td>No.</td>\n",
       "      <td>No.</td>\n",
       "      <td>No.</td>\n",
       "      <td>Yes. They are usually cystic and around my cyc...</td>\n",
       "      <td>I need help.</td>\n",
       "      <td>Yes</td>\n",
       "    </tr>\n",
       "    <tr>\n",
       "      <th>2</th>\n",
       "      <td>4/30/2020 12:50:26</td>\n",
       "      <td>12845</td>\n",
       "      <td>Oily</td>\n",
       "      <td>No.</td>\n",
       "      <td>Acne, Pigmentation</td>\n",
       "      <td>Cleanser (Drunk Elephant Beste No. 9 Jelly Cle...</td>\n",
       "      <td>Oil cleanser (Dermalogica Precleanse); Cleanse...</td>\n",
       "      <td>Desert dry heat</td>\n",
       "      <td>No.</td>\n",
       "      <td>No.</td>\n",
       "      <td>I've used 2% BHA on and off; and daily I use a...</td>\n",
       "      <td>Yes, occasional small whiteheads and blackhead...</td>\n",
       "      <td>I'm Black so hyperpigmentation and skin discol...</td>\n",
       "      <td>Yes</td>\n",
       "    </tr>\n",
       "    <tr>\n",
       "      <th>3</th>\n",
       "      <td>4/30/2020 13:02:43</td>\n",
       "      <td>12850</td>\n",
       "      <td>Normal</td>\n",
       "      <td>No</td>\n",
       "      <td>Fine lines/wrinkles, Skin Texture (roughness, ...</td>\n",
       "      <td>Splash of water, occasional Paula's Choice enr...</td>\n",
       "      <td>Occasional Palmer's facial cleansing oil (if w...</td>\n",
       "      <td>Tropical, humid</td>\n",
       "      <td>No</td>\n",
       "      <td>Almost through the purging/peeling phase with ...</td>\n",
       "      <td>I've tried (and still own) The Ordinary red pe...</td>\n",
       "      <td>Not really - a very rare pimple, I tend more o...</td>\n",
       "      <td>I turn 43 in a month and am really trying to g...</td>\n",
       "      <td>Yes</td>\n",
       "    </tr>\n",
       "    <tr>\n",
       "      <th>4</th>\n",
       "      <td>4/30/2020 13:08:20</td>\n",
       "      <td>12842</td>\n",
       "      <td>Combination</td>\n",
       "      <td>Ethylhexyl palmitate, strong sulfates, chemica...</td>\n",
       "      <td>Acne, Skin Texture (roughness, dullness), Other</td>\n",
       "      <td>Osea Ocean Cleanser, Renee Rouleau (RR) Elderb...</td>\n",
       "      <td>Renee Rouleau (RR) Luxe Mint Cleanser, Renee R...</td>\n",
       "      <td>Temperate, a lovely 70F (lucky!)</td>\n",
       "      <td>Overall I have fairly sensitive skin with horm...</td>\n",
       "      <td>No, but I would like to start to address early...</td>\n",
       "      <td>Azelaic acid has been a good acid for me (not ...</td>\n",
       "      <td>My acne is adult onset, primarily hormonal, an...</td>\n",
       "      <td>I just moved to Chicago, so lots of temperatur...</td>\n",
       "      <td>Yes</td>\n",
       "    </tr>\n",
       "  </tbody>\n",
       "</table>\n",
       "</div>"
      ],
      "text/plain": [
       "            timestamp order_number    skin_type  \\\n",
       "0  4/30/2020 12:43:32        12846  Combination   \n",
       "1  4/30/2020 12:45:25        12837  Combination   \n",
       "2  4/30/2020 12:50:26        12845         Oily   \n",
       "3  4/30/2020 13:02:43        12850       Normal   \n",
       "4  4/30/2020 13:08:20        12842  Combination   \n",
       "\n",
       "                                      cannot_contain  \\\n",
       "0                                               None   \n",
       "1                                       No allergies   \n",
       "2                                                No.   \n",
       "3                                                 No   \n",
       "4  Ethylhexyl palmitate, strong sulfates, chemica...   \n",
       "\n",
       "                                        skin_concern  \\\n",
       "0            Acne, Pigmentation, Fine lines/wrinkles   \n",
       "1  Acne, Fine lines/wrinkles, Skin Texture (rough...   \n",
       "2                                 Acne, Pigmentation   \n",
       "3  Fine lines/wrinkles, Skin Texture (roughness, ...   \n",
       "4    Acne, Skin Texture (roughness, dullness), Other   \n",
       "\n",
       "                                          am_routine  \\\n",
       "0  Trader Joe’s “all in one” cleanser, Bioderma S...   \n",
       "1  1. Wash with Biore Charcoal Acne Clearing Clea...   \n",
       "2  Cleanser (Drunk Elephant Beste No. 9 Jelly Cle...   \n",
       "3  Splash of water, occasional Paula's Choice enr...   \n",
       "4  Osea Ocean Cleanser, Renee Rouleau (RR) Elderb...   \n",
       "\n",
       "                                          pm_routine  \\\n",
       "0  Trader Joe’s “all in one” cleanser, Bioderma S...   \n",
       "1                                  Collapse into bed   \n",
       "2  Oil cleanser (Dermalogica Precleanse); Cleanse...   \n",
       "3  Occasional Palmer's facial cleansing oil (if w...   \n",
       "4  Renee Rouleau (RR) Luxe Mint Cleanser, Renee R...   \n",
       "\n",
       "                            climate  \\\n",
       "0  Temperate, a lovely 70F (lucky!)   \n",
       "1                   Tropical, humid   \n",
       "2                   Desert dry heat   \n",
       "3                   Tropical, humid   \n",
       "4  Temperate, a lovely 70F (lucky!)   \n",
       "\n",
       "                                  skin_sensitivities  \\\n",
       "0  I broke out from Cosrx snail serum and from Ma...   \n",
       "1                                                No.   \n",
       "2                                                No.   \n",
       "3                                                No    \n",
       "4  Overall I have fairly sensitive skin with horm...   \n",
       "\n",
       "                                      used_retinoids  \\\n",
       "0                     Differing 0.1% for four years    \n",
       "1                                                No.   \n",
       "2                                                No.   \n",
       "3  Almost through the purging/peeling phase with ...   \n",
       "4  No, but I would like to start to address early...   \n",
       "\n",
       "                                          used_acids  \\\n",
       "0  I prefer toners with acids as masks with AHA s...   \n",
       "1                                                No.   \n",
       "2  I've used 2% BHA on and off; and daily I use a...   \n",
       "3  I've tried (and still own) The Ordinary red pe...   \n",
       "4  Azelaic acid has been a good acid for me (not ...   \n",
       "\n",
       "                                  prone_to_breakouts  \\\n",
       "0  I have mild to moderate acne that I have been ...   \n",
       "1  Yes. They are usually cystic and around my cyc...   \n",
       "2  Yes, occasional small whiteheads and blackhead...   \n",
       "3  Not really - a very rare pimple, I tend more o...   \n",
       "4  My acne is adult onset, primarily hormonal, an...   \n",
       "\n",
       "                                       miscellaneous permission  \n",
       "0   I have a super oily forehead, oily nose and c...        Yes  \n",
       "1                                       I need help.        Yes  \n",
       "2  I'm Black so hyperpigmentation and skin discol...        Yes  \n",
       "3  I turn 43 in a month and am really trying to g...        Yes  \n",
       "4  I just moved to Chicago, so lots of temperatur...        Yes  "
      ]
     },
     "execution_count": 4,
     "metadata": {},
     "output_type": "execute_result"
    }
   ],
   "source": [
    "new_columns = [\n",
    "    'timestamp',\n",
    "    'email_address',\n",
    "    'name',\n",
    "    'order_number',\n",
    "    'skin_type',\n",
    "    'cannot_contain',\n",
    "    'skin_concern',\n",
    "    'am_routine',\n",
    "    'pm_routine',\n",
    "    'climate',\n",
    "    'skin_sensitivities',\n",
    "    'used_retinoids',\n",
    "    'used_acids',\n",
    "    'prone_to_breakouts',\n",
    "    'miscellaneous',\n",
    "    'permission'\n",
    "]\n",
    "\n",
    "responses.columns = new_columns\n",
    "responses.drop(columns=['email_address','name'], inplace=True)\n",
    "responses.head()"
   ]
  },
  {
   "cell_type": "code",
   "execution_count": 5,
   "metadata": {},
   "outputs": [
    {
     "data": {
      "text/plain": [
       "0            [acne, pigmentation, fine lines/wrinkles]\n",
       "1    [acne, fine lines/wrinkles, skin texture (roug...\n",
       "2                                 [acne, pigmentation]\n",
       "3    [fine lines/wrinkles, skin texture (roughness,...\n",
       "4    [acne, skin texture (roughness, dullness), other]\n",
       "Name: skin_concern, dtype: object"
      ]
     },
     "execution_count": 5,
     "metadata": {},
     "output_type": "execute_result"
    }
   ],
   "source": [
    "responses['skin_concern'] = responses['skin_concern'].str.lower().str.split(', ')\n",
    "responses['skin_concern'][:5]"
   ]
  },
  {
   "cell_type": "markdown",
   "metadata": {},
   "source": [
    "# page objects\n",
    "\n",
    "https://selenium-python.readthedocs.io/page-objects.html\n",
    "https://www.youtube.com/watch?v=BURK7wMcCwU"
   ]
  },
  {
   "cell_type": "code",
   "execution_count": null,
   "metadata": {},
   "outputs": [],
   "source": [
    "class BasePage():\n",
    "    \n",
    "    def __init__(self, driver):\n",
    "        self.driver = driver\n",
    "        \n",
    "class MainPage(BasePage):\n",
    "    \n",
    "    def is_title_matches(self):\n",
    "        return 'cosdna' in self.driver.title"
   ]
  },
  {
   "cell_type": "code",
   "execution_count": 292,
   "metadata": {},
   "outputs": [],
   "source": [
    "CHROMEDRIVER_PATH = 'C:/chromedriver_win32/chromedriver.exe'\n",
    "BASE_URL = 'https://www.cosdna.com'\n",
    "DRIVER = webdriver.Chrome(executable_path = CHROMEDRIVER_PATH)"
   ]
  },
  {
   "cell_type": "code",
   "execution_count": 321,
   "metadata": {},
   "outputs": [],
   "source": [
    "class Product():\n",
    "    \"\"\"\n",
    "    Create a product object containing various features scraped from cosdna.com\n",
    "    \n",
    "    Parameters\n",
    "    ----------\n",
    "    \n",
    "    driver : current selenium.webdriver instance\n",
    "    \n",
    "    name : str, (default=None)\n",
    "        name of product\n",
    "        \n",
    "    cosdna_id : str, (default=None)\n",
    "        10-digit identifier at the end of the cosdna url\n",
    "        \n",
    "        \n",
    "    Attributes\n",
    "    ----------\n",
    "    \n",
    "    name : str\n",
    "        user-defined name of Product\n",
    "        \n",
    "    cosdna_name : str\n",
    "        full name of product as it appears on cosdna\n",
    "        \n",
    "    brand : str\n",
    "        name of brand as it appears on cosdna\n",
    "        \n",
    "    product : str\n",
    "        name of product as it appears on cosdna\n",
    "        \n",
    "    cosdna_id : str\n",
    "        10-digit identifier at the end of the cosdna url\n",
    "        \n",
    "    cosdna_url : str\n",
    "        full cosdna_url\n",
    "        \n",
    "    ingredients : dict\n",
    "        full list of ingredients and their listed functions from cosdna\n",
    "        \n",
    "    linked : bool\n",
    "        whether Product() has been linked with a cosdna listing\n",
    "        \n",
    "    synced : bool\n",
    "        whether Product() has collected information from linked cosdna listing\n",
    "    \"\"\"\n",
    "    \n",
    "    def __init__(self, driver, name=None, cosdna_id=None):\n",
    "        self.driver = driver \n",
    "        self.name = name\n",
    "        self.cosdna_id = cosdna_id\n",
    "        if cosdna_id != None:\n",
    "            self.cosdna_url = 'https://cosdna.com/eng/cosmetic_' + cosdna_id + '.html'\n",
    "            self.linked = True\n",
    "        else:\n",
    "            self.cosdna_url = None\n",
    "            self.linked = False\n",
    "        self.synced = False\n",
    "    \n",
    "    \n",
    "    def link(self, name=None, sort='featured'):\n",
    "        \"\"\"\n",
    "        Searches for top match on cosdna\n",
    "        \n",
    "        cosdna_url\n",
    "        cosdna_id\n",
    "        \n",
    "        Parameters\n",
    "        ----------\n",
    "        \n",
    "        name : str, (default=None)\n",
    "            full name of product \n",
    "            if blank: uses name assigned when creating Product() instance\n",
    "            if not blank: updates name\n",
    "            \n",
    "        Returns\n",
    "        -------\n",
    "        \n",
    "        self : object\n",
    "        \"\"\"\n",
    "        \n",
    "        # if name=None, use existing name. if not, update name\n",
    "        if name is not None:\n",
    "            self.name = name\n",
    "        \n",
    "        # search for name in cosdna.com\n",
    "        name = str(self.name).translate(str.maketrans('', '', string.punctuation)).lower()\n",
    "        name = name.replace(' ', '+')\n",
    "        search_url = 'https://cosdna.com/eng/product.php?q=' + name + '&sort=' + sort\n",
    "        self.driver.get(search_url)\n",
    "        \n",
    "        # try to get the top result. if successful, changed linked to True\n",
    "        try:\n",
    "            top = self.driver.find_element_by_xpath((\"//table[@class='table table-hover']/tbody/tr/td[1]/a\"))\n",
    "            self.cosdna_url = top.get_attribute('href')\n",
    "            self.cosdna_id = re.findall(\".*cosmetic_(.*).html\", self.cosdna_url)[0]\n",
    "            self.linked = True\n",
    "            return self\n",
    "        except:\n",
    "            print('no results on cosdna')\n",
    "            name = input('enter new search: ')\n",
    "            if name == 'break':\n",
    "                return self\n",
    "            else:\n",
    "                return self.link(name=name)\n",
    "        \n",
    "        \n",
    "    def sync(self, cosdna_url=None):\n",
    "        \"\"\"\n",
    "        Collects information from linked cosdna site:\n",
    "        \n",
    "        cosdna_url\n",
    "        cosdna_id\n",
    "        brand\n",
    "        product\n",
    "        cosdna_name\n",
    "        ingredients\n",
    "        synced\n",
    "        \n",
    "        Parameters\n",
    "        ----------\n",
    "        \n",
    "        cosdna_url : str, (default=None)\n",
    "            full cosdna url of product. \n",
    "            if blank: uses linked cosdna_url\n",
    "            if not blank: updates cosdna_url\n",
    "            \n",
    "        Returns\n",
    "        -------\n",
    "        \n",
    "        self : object\n",
    "        \"\"\"\n",
    "        # navigate to url and get cosdna_id\n",
    "        if self.cosdna_url == None:\n",
    "            if new_url == None:\n",
    "                return 'create instance with cosdna_id or .link() instance with cosdna_url'\n",
    "            else:\n",
    "                self.cosdna_url = cosdna_url\n",
    "        self.cosdna_id = re.findall(\".*cosmetic_(.*).html\", self.cosdna_url)[0]\n",
    "        self.driver.get(self.cosdna_url)\n",
    "\n",
    "        # get brand and product information from page\n",
    "        self.brand = self.driver.find_element_by_class_name('brand-name').text.lower()\n",
    "        self.product = self.driver.find_element_by_class_name('prod-name').text.lower()\n",
    "        cosdna_name = self.brand + ' ' + self.product\n",
    "        self.cosdna_name = cosdna_name.strip()\n",
    "\n",
    "        # get ingredients information from ingredients table\n",
    "        self.ingredients = {}\n",
    "        table = self.driver.find_element_by_class_name('chem-list')\n",
    "        rows = table.find_elements_by_tag_name('tr')\n",
    "        for row in rows:\n",
    "            ingredient = row.find_elements_by_tag_name('td')[0].text.strip().lower()\n",
    "            if 'no results' in ingredient:\n",
    "                ingredient = row.find_elements_by_class_name('text-muted')[0].text.strip().lower()\n",
    "                function = None\n",
    "            else:\n",
    "                try:\n",
    "                    function_cell = row.find_elements_by_tag_name('td')[1]\n",
    "                    function = function_cell.text.strip().lower().split(',')\n",
    "                    if 'sunscreen' in function:\n",
    "                        try:\n",
    "                            uva = re.search(\"uv[ab]\\d\", function_cell.find_elements_by_tag_name('img')[0].get_attribute('src'))[0]\n",
    "                            uvb = re.search(\"uv[ab]\\d\", function_cell.find_elements_by_tag_name('img')[1].get_attribute('src'))[0]\n",
    "                            function.append(uva)\n",
    "                            function.append(uvb)\n",
    "                        except:\n",
    "                            continue\n",
    "                except:\n",
    "                    function = None\n",
    "            self.ingredients[ingredient] = function\n",
    "        # change state to True\n",
    "        self.synced = True\n",
    "        return self\n",
    "        \n",
    "        \n",
    "    def link_sync(self, sort='featured'):\n",
    "        \"\"\"\n",
    "        Should operate the same way as .link().sync()\n",
    "        \"\"\"\n",
    "        self.link(sort=sort)\n",
    "        self.sync(self.cosdna_url)\n",
    "        return self"
   ]
  },
  {
   "cell_type": "markdown",
   "metadata": {},
   "source": [
    "## test usage: `link()` and `sync()`"
   ]
  },
  {
   "cell_type": "code",
   "execution_count": 337,
   "metadata": {},
   "outputs": [
    {
     "name": "stdout",
     "output_type": "stream",
     "text": [
      "no results on cosdna\n"
     ]
    },
    {
     "name": "stdin",
     "output_type": "stream",
     "text": [
      "enter new search:  trader joe's all in one cleanser\n"
     ]
    },
    {
     "data": {
      "text/plain": [
       "<__main__.Product at 0x1b6a7e98508>"
      ]
     },
     "execution_count": 337,
     "metadata": {},
     "output_type": "execute_result"
    }
   ],
   "source": [
    "product = Product(DRIVER, 'Trader Joeâ€™s â€œall in oneâ€ cleanser')\n",
    "product.link()"
   ]
  },
  {
   "cell_type": "code",
   "execution_count": 338,
   "metadata": {},
   "outputs": [
    {
     "data": {
      "text/plain": [
       "'https://cosdna.com/eng/cosmetic_aa6a484449.html'"
      ]
     },
     "execution_count": 338,
     "metadata": {},
     "output_type": "execute_result"
    }
   ],
   "source": [
    "product.cosdna_url"
   ]
  },
  {
   "cell_type": "code",
   "execution_count": 339,
   "metadata": {},
   "outputs": [
    {
     "data": {
      "text/plain": [
       "<__main__.Product at 0x1b6a7e98508>"
      ]
     },
     "execution_count": 339,
     "metadata": {},
     "output_type": "execute_result"
    }
   ],
   "source": [
    "product.sync()"
   ]
  },
  {
   "cell_type": "code",
   "execution_count": 340,
   "metadata": {},
   "outputs": [
    {
     "data": {
      "text/plain": [
       "{'aqua': ['solvent'],\n",
       " 'peg-80 sorbitan laurate': ['surfactant', ' emulsifier'],\n",
       " 'cocamidopropyl betaine': ['surfactant', ' viscosity control', ' antistatic'],\n",
       " 'sodium trideceth sulfate': ['surfactant'],\n",
       " 'sodium lauroamphoacetate': ['surfactant'],\n",
       " 'peg 150 distearate': ['surfactant', ' viscosity control', ' emulsifier'],\n",
       " 'ubiquinone': ['antioxidant'],\n",
       " 'tocopheryl acetate': ['moisturizer', ' antioxidant'],\n",
       " 'thioctic acid': ['antioxidant'],\n",
       " 'retinyl palmitate': ['antioxidant'],\n",
       " 'phytonadione': [''],\n",
       " 'cholecalciferol': [''],\n",
       " 'ascorbyl palmitate': ['antioxidant'],\n",
       " 'citric acid': ['ph adjusters'],\n",
       " 'panthenol': ['antistatic', ' moisturizer'],\n",
       " 'sorbic acid': ['preservative'],\n",
       " 'phenoxyethanol': ['preservative'],\n",
       " 'sodium lauroyl glutamate': ['surfactant', ' antistatic'],\n",
       " 'glycerin': ['solvent', ' moisturizer'],\n",
       " 'sodium lauroyl oat amino acids': ['antistatic'],\n",
       " 'camellia sinensis leaf extract': ['moisturizer',\n",
       "  ' antioxidant',\n",
       "  ' astringent',\n",
       "  ' sunscreen',\n",
       "  ' emollient'],\n",
       " 'copper chloride': None}"
      ]
     },
     "execution_count": 340,
     "metadata": {},
     "output_type": "execute_result"
    }
   ],
   "source": [
    "product.ingredients"
   ]
  },
  {
   "cell_type": "markdown",
   "metadata": {},
   "source": [
    "## test usage: `link_sync()`"
   ]
  },
  {
   "cell_type": "code",
   "execution_count": 341,
   "metadata": {},
   "outputs": [
    {
     "data": {
      "text/plain": [
       "'chemist confessions aquafix'"
      ]
     },
     "execution_count": 341,
     "metadata": {},
     "output_type": "execute_result"
    }
   ],
   "source": [
    "product = Product(DRIVER, 'chemist confessions aquafix')\n",
    "product.name"
   ]
  },
  {
   "cell_type": "code",
   "execution_count": 342,
   "metadata": {},
   "outputs": [
    {
     "name": "stdout",
     "output_type": "stream",
     "text": [
      "\n",
      "\n",
      "chemist confessions aquafix\n",
      "\n",
      "{'water': ['solvent'], 'propanediol': ['solvent', ' viscosity control'], 'glycerin': ['solvent', ' moisturizer'], 'ethoxydiglycol': ['solvent', ' viscosity control'], 'sodium pca': ['antistatic', ' moisturizer'], 'panthenol': ['antistatic', ' moisturizer'], 'allantoin': ['anti-inflammatory', ' anti-allergic'], 'vinyl dimethicone/methicone silsesquioxane crosspolymer': ['viscosity control'], 'madecassoside': ['antioxidant', ' plant extract'], 'asiaticoside': ['fragrance', ' antioxidant'], 'polyacrylate crosspolymer-6': ['viscosity control'], 'sodium hyaluronate': ['moisturizer'], 'xanthan gum': ['viscosity control'], 'lecithin': ['emollient', ' emulsifier'], 'sclerotium gum': ['viscosity control'], 'pullulan': [''], 'hexanediol': ['solvent'], 'caprylhydroxamic acid': [''], 'disodium edta': ['']}\n"
     ]
    }
   ],
   "source": [
    "product.link_sync()\n",
    "print(product.brand)\n",
    "print()\n",
    "print(product.product)\n",
    "print()\n",
    "print(product.ingredients)"
   ]
  },
  {
   "cell_type": "code",
   "execution_count": 327,
   "metadata": {},
   "outputs": [
    {
     "data": {
      "text/plain": [
       "True"
      ]
     },
     "execution_count": 327,
     "metadata": {},
     "output_type": "execute_result"
    }
   ],
   "source": [
    "product.synced"
   ]
  },
  {
   "cell_type": "markdown",
   "metadata": {},
   "source": [
    "# cosdna class"
   ]
  },
  {
   "cell_type": "code",
   "execution_count": null,
   "metadata": {},
   "outputs": [],
   "source": [
    "class CosDNA():\n",
    "    \n",
    "    "
   ]
  },
  {
   "cell_type": "markdown",
   "metadata": {},
   "source": [
    "# routine class"
   ]
  },
  {
   "cell_type": "code",
   "execution_count": 343,
   "metadata": {},
   "outputs": [],
   "source": [
    "popular_ingredients = [\n",
    "    'Vitamin C',\n",
    "    'L-ascorbic acid', \n",
    "    'tetrahexydecyl ascorbate', \n",
    "    '3-o-ethyl ascorbic acid', \n",
    "    'ascorbyl glucoside', \n",
    "    'magnesium ascorbyl phosphate', \n",
    "    'sodium ascorbyl phosphate', \n",
    "    'ascorbyl palmitate', \n",
    "    'Glycolic Acid', \n",
    "    'Lactic Acid', \n",
    "    'Mandelic Acid',\n",
    "    'Niacinamide', \n",
    "    'Retinol', \n",
    "    'Hydroxypinocolone Retinoate', \n",
    "    'Bakuchiol', \n",
    "    'Retinyl Palmitate', \n",
    "    'Ceramides', \n",
    "    'Salicylic Acid', \n",
    "    'Willow bark Extract', \n",
    "    'Adapalene', \n",
    "    'Sodium Lauryl Sulfate', \n",
    "    'Cocoamidopropyl Betaine'\n",
    "    ]\n",
    "popular_ingredients = [ing.lower() for ing in popular_ingredients]"
   ]
  },
  {
   "cell_type": "code",
   "execution_count": 344,
   "metadata": {},
   "outputs": [],
   "source": [
    "class Routine():\n",
    "    \"\"\"\n",
    "    Create a container of Products with useful ingredient tabulation methods\n",
    "    \n",
    "    Parameters\n",
    "    ----------\n",
    "    \n",
    "    driver : current selenium.webdriver instance\n",
    "    \n",
    "    name : str, (default=None)\n",
    "        name of routine\n",
    "        \n",
    "        \n",
    "    Attributes\n",
    "    ----------\n",
    "    \n",
    "    name : str\n",
    "        user-defined name of Routine\n",
    "        \n",
    "    routine : list\n",
    "        list of Products in Routine\n",
    "        \n",
    "    ingredients : list\n",
    "        list of all ingredients in Routine\n",
    "        \n",
    "    counts : Counter object\n",
    "        Counter object of all ingredients in Routine\n",
    "        \n",
    "    linked : bool\n",
    "        whether all Products have been linked with a cosdna listing\n",
    "        \n",
    "    synced : bool\n",
    "        whether all Products have collected information from linked cosdna listing\n",
    "    \"\"\"\n",
    "    \n",
    "    def __init__(self, driver, name=None):\n",
    "        self.driver = driver\n",
    "        self.name = name\n",
    "        self.routine = []\n",
    "        self.linked = False\n",
    "        self.synced = False\n",
    "        \n",
    "    def add(self, *products):\n",
    "        \"\"\"\n",
    "        Adds a product or list of products to the routine.\n",
    "        \n",
    "        Parameters\n",
    "        ----------\n",
    "        \n",
    "        *products: unpackable\n",
    "        \"\"\"\n",
    "        for product in products:\n",
    "            if type(product) == Product:\n",
    "                self.routine.append(product)\n",
    "            elif type(product) == str:\n",
    "                self.routine.append(Product(self.driver, product))\n",
    "        return self\n",
    "    \n",
    "    def link(self, sort='featured', force=False):\n",
    "        \"\"\"\n",
    "        Searches each Product for top match on cosdna\n",
    "        \n",
    "        updates (for each Product):\n",
    "        cosdna_url\n",
    "        cosdna_id\n",
    "        \n",
    "        Parameters\n",
    "        ----------\n",
    "        \n",
    "        sort : str\n",
    "            sort algorithm for cosdna results\n",
    "            \n",
    "        Attributes\n",
    "        ----------\n",
    "        linked : bool\n",
    "            returns True if all Products are linked\n",
    "            \n",
    "        Returns\n",
    "        -------\n",
    "        \n",
    "        self : object\n",
    "        \"\"\"\n",
    "        for product in self.routine:\n",
    "            if force:\n",
    "                product.link()\n",
    "            else:\n",
    "                if not product.linked:\n",
    "                    product.link()\n",
    "        self.cosdna_urls = [product.cosdna_url for product in self.routine]\n",
    "        self.cosdna_ids = [product.cosdna_id for product in self.routine]\n",
    "        if all([product.linked for product in self.routine]):\n",
    "            self.linked = True\n",
    "        return self\n",
    "    \n",
    "    def sync(self, force=False):\n",
    "        \"\"\"\n",
    "        Collects information for each Product\n",
    "        \n",
    "        Parameters\n",
    "        ----------\n",
    "        \n",
    "        sort : str\n",
    "            sort algorithm for cosdna results\n",
    "            \n",
    "        Attributes\n",
    "        ----------\n",
    "        linked : bool\n",
    "            returns True if all Products are linked\n",
    "            \n",
    "        Returns\n",
    "        -------\n",
    "        \n",
    "        self : object\n",
    "        \"\"\"\n",
    "        changes = False\n",
    "        for product in self.routine:\n",
    "            if force:\n",
    "                product.sync()\n",
    "                changes = True\n",
    "            else:\n",
    "                if not product.synced:\n",
    "                    product.sync()\n",
    "                    changes = True\n",
    "        if changes:\n",
    "#             self.brands = list(set([product.brand for product in routine]))\n",
    "            self._analyze()\n",
    "        else:\n",
    "            return self\n",
    "            \n",
    "    def _analyze(self):\n",
    "        \"\"\"\n",
    "        Tabulates frequency of ingredients across all Products\n",
    "        \"\"\"\n",
    "        self._all_ingredients = []\n",
    "        for product in self.routine:\n",
    "            self._all_ingredients += [*product.ingredients]\n",
    "        self._counts = Counter(all_ingredients)\n",
    "        self.ingredients = list(set(all_ingredients))\n",
    "\n",
    "        # make product vectors\n",
    "        self._product_vectors = []\n",
    "        for product in self.routine:\n",
    "            product_vector = []\n",
    "            for routine_ingredient in self.ingredients:\n",
    "                if routine_ingredient in [*product.ingredients]:\n",
    "                    product_vector.append(1)\n",
    "                else:\n",
    "                    product_vector.append(0)\n",
    "            self._product_vectors.append(product_vector)\n",
    "        if all([product.synced for product in self.routine]):\n",
    "            self.synced = True\n",
    "        return self\n",
    "    \n",
    "    def link_sync(self, sort='featured', force=False):\n",
    "        self.link(sort=sort, force=force)\n",
    "        self.sync(force=force)\n",
    "        return self\n",
    "    \n",
    "    def top_ingredients(self, top=None, mask=None):\n",
    "        if mask is not None:\n",
    "            masked_counts = Counter([x for x in self._all_ingredients if x in mask])\n",
    "            return masked_counts.most_common(top)\n",
    "        return self._counts.most_common(top)\n",
    "    \n",
    "    def has(self, ingredient):\n",
    "        isolated_products = []\n",
    "        for i, product_vector in enumerate(self._product_vectors):\n",
    "            if product_vector[self.ingredients.index(ingredient)] == 1:\n",
    "                isolated_products.append(self.routine[i].name)\n",
    "        return isolated_products"
   ]
  },
  {
   "cell_type": "code",
   "execution_count": 293,
   "metadata": {},
   "outputs": [
    {
     "name": "stdout",
     "output_type": "stream",
     "text": [
      "7.802136182785034\n"
     ]
    }
   ],
   "source": [
    "tick = time.time()\n",
    "routine = Routine(DRIVER)\n",
    "routine.add('Biore Charcoal Acne Clearing Cleanser', \n",
    "    \"kiehl's powerful strength line-reducing concentrate 12.5\", \n",
    "    'Neutrogena Rapid Clear Spot Gel',\n",
    "    'Roc Retinol Correxion eye cream', \n",
    "    'Body Merry Retinol Surge Moisturizer')\n",
    "routine.link_sync()\n",
    "tock = time.time()\n",
    "elapsed = tock - tick\n",
    "print(elapsed)"
   ]
  },
  {
   "cell_type": "code",
   "execution_count": 294,
   "metadata": {},
   "outputs": [
    {
     "data": {
      "text/plain": [
       "[('glycerin', 4),\n",
       " ('disodium edta', 3),\n",
       " ('ethylhexylglycerin', 2),\n",
       " ('sodium hydroxide', 2),\n",
       " ('water', 2)]"
      ]
     },
     "execution_count": 294,
     "metadata": {},
     "output_type": "execute_result"
    }
   ],
   "source": [
    "routine.top_ingredients()"
   ]
  },
  {
   "cell_type": "code",
   "execution_count": 297,
   "metadata": {},
   "outputs": [
    {
     "data": {
      "text/plain": [
       "[('retinol', 2), ('ascorbyl glucoside', 1)]"
      ]
     },
     "execution_count": 297,
     "metadata": {},
     "output_type": "execute_result"
    }
   ],
   "source": [
    "routine.top_ingredients(mask=popular_ingredients)"
   ]
  },
  {
   "cell_type": "code",
   "execution_count": 298,
   "metadata": {},
   "outputs": [
    {
     "data": {
      "text/plain": [
       "['Roc Retinol Correxion eye cream', 'Body Merry Retinol Surge Moisturizer']"
      ]
     },
     "execution_count": 298,
     "metadata": {},
     "output_type": "execute_result"
    }
   ],
   "source": [
    "routine.has('retinol')"
   ]
  },
  {
   "cell_type": "code",
   "execution_count": 299,
   "metadata": {},
   "outputs": [
    {
     "data": {
      "text/plain": [
       "<__main__.Routine at 0x1b6a7dbc348>"
      ]
     },
     "execution_count": 299,
     "metadata": {},
     "output_type": "execute_result"
    }
   ],
   "source": [
    "routine.add('la roche posay antihelios mineral')"
   ]
  },
  {
   "cell_type": "code",
   "execution_count": 300,
   "metadata": {},
   "outputs": [
    {
     "name": "stdout",
     "output_type": "stream",
     "text": [
      "1.9447968006134033\n"
     ]
    }
   ],
   "source": [
    "tick = time.time()\n",
    "routine.link_sync()\n",
    "tock = time.time()\n",
    "elapsed = tock - tick\n",
    "print(elapsed)"
   ]
  },
  {
   "cell_type": "code",
   "execution_count": 301,
   "metadata": {},
   "outputs": [
    {
     "data": {
      "text/plain": [
       "[('retinol', 2), ('ascorbyl glucoside', 1)]"
      ]
     },
     "execution_count": 301,
     "metadata": {},
     "output_type": "execute_result"
    }
   ],
   "source": [
    "routine.top_ingredients(mask=popular_ingredients)"
   ]
  },
  {
   "cell_type": "code",
   "execution_count": 302,
   "metadata": {},
   "outputs": [
    {
     "data": {
      "text/plain": [
       "[('glycerin', 4),\n",
       " ('disodium edta', 3),\n",
       " ('ethylhexylglycerin', 2),\n",
       " ('sodium hydroxide', 2),\n",
       " ('water', 2)]"
      ]
     },
     "execution_count": 302,
     "metadata": {},
     "output_type": "execute_result"
    }
   ],
   "source": [
    "routine.top_ingredients()"
   ]
  },
  {
   "cell_type": "markdown",
   "metadata": {},
   "source": [
    "# ingredient class"
   ]
  },
  {
   "cell_type": "code",
   "execution_count": 330,
   "metadata": {},
   "outputs": [],
   "source": [
    "import pubchempy as pcp"
   ]
  },
  {
   "cell_type": "code",
   "execution_count": 335,
   "metadata": {},
   "outputs": [],
   "source": [
    "pca = pcp.get_compounds('28874-51-3', 'name')[0]"
   ]
  },
  {
   "cell_type": "code",
   "execution_count": 336,
   "metadata": {},
   "outputs": [
    {
     "data": {
      "text/plain": [
       "['Sodium L-pyroglutamate',\n",
       " '28874-51-3',\n",
       " 'Sodium pidolate',\n",
       " 'Sodium pyroglutamate',\n",
       " 'Sodium 5-oxo-L-prolinate',\n",
       " 'L-Proline, 5-oxo-, monosodium salt',\n",
       " 'Ajidew N-50',\n",
       " 'L-5-Oxoproline monosodium salt',\n",
       " 'Sodium pyrrolidone-5-carboxylate',\n",
       " '5-Oxo-L-proline monosodium salt',\n",
       " 'UNII-1V74VH163T',\n",
       " 'Sodium L-pyrrolidonecarboxylate',\n",
       " 'Sodium (S)-5-oxopyrrolidine-2-carboxylate',\n",
       " 'Proline, 5-oxo-, monosodium salt',\n",
       " 'EINECS 249-277-1',\n",
       " 'Sodium PCA',\n",
       " '1V74VH163T',\n",
       " 'Proline, 5-oxo-, monosodium salt, L-',\n",
       " '5-Oxo-DL-proline, monosodium salt',\n",
       " 'PCA Soda',\n",
       " 'C5H6NNaO3',\n",
       " 'sodium (2S)-5-oxo-2-pyrrolidinecarboxylate',\n",
       " 'sodium (2S)-5-oxidanylidenepyrrolidine-2-carboxylate',\n",
       " 'PDSI 101',\n",
       " 'DL-Proline, 5-oxo-, monosodium salt',\n",
       " 'EC 249-277-1',\n",
       " 'SCHEMBL164853',\n",
       " 'DTXSID50183074',\n",
       " 'CRPCXAMJWCDHFM-DFWYDOINSA-M',\n",
       " 'AKOS006277120',\n",
       " 'Sodium DL-2-pyrrolidone-5-carboxylate',\n",
       " 'LS-118970',\n",
       " 'CS-0112985',\n",
       " 'A819646',\n",
       " 'A830250',\n",
       " 'C-36564',\n",
       " 'Q27252940',\n",
       " 'UNII-469OTG57A2 component CRPCXAMJWCDHFM-DFWYDOINSA-M']"
      ]
     },
     "execution_count": 336,
     "metadata": {},
     "output_type": "execute_result"
    }
   ],
   "source": [
    "pca.synonyms"
   ]
  },
  {
   "cell_type": "code",
   "execution_count": 345,
   "metadata": {},
   "outputs": [],
   "source": [
    "class Ingredient():\n",
    "    \n",
    "    def __init__(self, driver, name=None, cosdna_id=None, cas=None):\n",
    "        self.driver = driver\n",
    "        self.name = name\n",
    "        self.cosdna_id = cosdna_id\n",
    "        if cosdna_id != None:\n",
    "            self.cosdna_url = 'https://cosdna.com/eng/' + cosdna_id + '.html'\n",
    "            self.linked = True\n",
    "        else:\n",
    "            self.cosdna_url = None\n",
    "            self.linked = False\n",
    "        self.cas = cas\n",
    "        self.synced = False\n",
    "        \n",
    "    def link(self, name=None):\n",
    "        # if name=None, use existing name. if not, update name\n",
    "        if name is not None:\n",
    "            self.name = name\n",
    "        \n",
    "        # search for name in cosdna.com\n",
    "        name = str(self.name).translate(str.maketrans('', '', string.punctuation)).lower()\n",
    "        name = name.replace(' ', '+')\n",
    "        search_url = 'https://cosdna.com/eng/stuff.php?q=' + name\n",
    "        self.driver.get(search_url)\n",
    "        \n",
    "        # try to get the top result. if successful, changed linked to True\n",
    "        try:\n",
    "            top = self.driver.find_element_by_xpath((\"//table[@class='table table-hover']/tbody/tr/td[1]/a\"))\n",
    "            self.cosdna_url = top.get_attribute('href')\n",
    "            self.cosdna_id = re.findall(\".*eng//(.*).html\", self.cosdna_url)[0]\n",
    "            self.linked = True\n",
    "            return self\n",
    "        except:\n",
    "            print('no results on cosdna')\n",
    "            name = input('enter new search: ')\n",
    "            if name == 'break':\n",
    "                return self\n",
    "            else:\n",
    "                return self.link(name=name)\n",
    "            \n",
    "    def sync(self, cosdna_url=None):\n",
    "\n",
    "        # navigate to url and get cosdna_id\n",
    "        if self.cosdna_url == None:\n",
    "            if cosdna_url == None:\n",
    "                return 'create instance with cosdna_id or .link() instance with cosdna_url'\n",
    "            else:\n",
    "                self.cosdna_url = cosdna_url\n",
    "        self.cosdna_id = re.findall(\".*cosmetic_(.*).html\", self.cosdna_url)[0]\n",
    "        self.driver.get(self.cosdna_url)\n",
    "\n",
    "        # get brand and product information from page\n",
    "        self.brand = self.driver.find_element_by_class_name('brand-name').text.lower()\n",
    "        self.product = self.driver.find_element_by_class_name('prod-name').text.lower()\n",
    "        cosdna_name = self.brand + ' ' + self.product\n",
    "        self.cosdna_name = cosdna_name.strip()\n",
    "\n",
    "        # get ingredients information from ingredients table\n",
    "        self.ingredients = {}\n",
    "        table = self.driver.find_element_by_class_name('chem-list')\n",
    "        rows = table.find_elements_by_tag_name('tr')\n",
    "        for row in rows:\n",
    "            ingredient = row.find_elements_by_tag_name('td')[0].text.strip().lower()\n",
    "            if 'no results' in ingredient:\n",
    "                ingredient = row.find_elements_by_class_name('text-muted')[0].text.strip().lower()\n",
    "                function = None\n",
    "            else:\n",
    "                try:\n",
    "                    function_cell = row.find_elements_by_tag_name('td')[1]\n",
    "                    function = function_cell.text.strip().lower().split(',')\n",
    "                    if 'sunscreen' in function:\n",
    "                        try:\n",
    "                            uva = re.search(\"uv[ab]\\d\", function_cell.find_elements_by_tag_name('img')[0].get_attribute('src'))[0]\n",
    "                            uvb = re.search(\"uv[ab]\\d\", function_cell.find_elements_by_tag_name('img')[1].get_attribute('src'))[0]\n",
    "                            function.append(uva)\n",
    "                            function.append(uvb)\n",
    "                        except:\n",
    "                            continue\n",
    "                except:\n",
    "                    function = None\n",
    "            self.ingredients[ingredient] = function\n",
    "        # change state to True\n",
    "        self.synced = True\n",
    "        return self"
   ]
  },
  {
   "cell_type": "code",
   "execution_count": 348,
   "metadata": {},
   "outputs": [],
   "source": [
    "pca = Ingredient(DRIVER, 'sodium pca')"
   ]
  },
  {
   "cell_type": "code",
   "execution_count": 357,
   "metadata": {},
   "outputs": [],
   "source": [
    "pca = DRIVER.get('https://cosdna.com/eng/stuff.php?q=sodium+pca')"
   ]
  },
  {
   "cell_type": "code",
   "execution_count": 358,
   "metadata": {},
   "outputs": [],
   "source": [
    "top = DRIVER.find_element_by_xpath((\"//table[@class='table table-hover']/tbody/tr/td[1]/a\"))"
   ]
  },
  {
   "cell_type": "code",
   "execution_count": 359,
   "metadata": {},
   "outputs": [
    {
     "data": {
      "text/plain": [
       "'https://cosdna.com/eng/dfa882349.html'"
      ]
     },
     "execution_count": 359,
     "metadata": {},
     "output_type": "execute_result"
    }
   ],
   "source": [
    "top.get_attribute('href')"
   ]
  },
  {
   "cell_type": "code",
   "execution_count": 360,
   "metadata": {},
   "outputs": [
    {
     "data": {
      "text/plain": [
       "'dfa882349'"
      ]
     },
     "execution_count": 360,
     "metadata": {},
     "output_type": "execute_result"
    }
   ],
   "source": [
    "re.findall(\".*eng/(.*).html\", top.get_attribute('href'))[0]"
   ]
  },
  {
   "cell_type": "code",
   "execution_count": 349,
   "metadata": {},
   "outputs": [
    {
     "name": "stdout",
     "output_type": "stream",
     "text": [
      "no results on cosdna\n"
     ]
    },
    {
     "name": "stdin",
     "output_type": "stream",
     "text": [
      "enter new search:  break\n"
     ]
    },
    {
     "data": {
      "text/plain": [
       "<__main__.Ingredient at 0x1b6a7ea0e48>"
      ]
     },
     "execution_count": 349,
     "metadata": {},
     "output_type": "execute_result"
    }
   ],
   "source": [
    "pca.link()"
   ]
  },
  {
   "cell_type": "markdown",
   "metadata": {},
   "source": [
    "# fast text matching\n",
    "\n",
    "adapting `string_grouper` so that we don't have to use dataframes if we don't want to"
   ]
  },
  {
   "cell_type": "markdown",
   "metadata": {},
   "source": []
  },
  {
   "cell_type": "code",
   "execution_count": null,
   "metadata": {},
   "outputs": [],
   "source": [
    "string_grouper = StringGrouper('la-roche posay')"
   ]
  },
  {
   "cell_type": "code",
   "execution_count": null,
   "metadata": {},
   "outputs": [],
   "source": [
    "\n",
    "\n",
    "# PRODUCTS = {}\n",
    "\n",
    "# brands = pd.read_csv('./data\\\\brands.csv')\n",
    "# brands.head()\n",
    "\n",
    "# matches = match_strings(brands['brand_name'])\n",
    "# matches[matches.left_side != matches.right_side].head()"
   ]
  },
  {
   "cell_type": "code",
   "execution_count": null,
   "metadata": {},
   "outputs": [],
   "source": [
    "# test = 'LA ROCHE-POSAY'\n",
    "\n",
    "# def ngrams(string, n=3):\n",
    "#     string = string.encode('ascii', errors='ignore').decode()\n",
    "#     string = string.lower()\n",
    "    \n",
    "#     chars_to_remove = [\")\",\"(\",\".\",\"|\",\"[\",\"]\",\"{\",\"}\",\"'\"]\n",
    "#     rx = '[' + re.escape(''.join(chars_to_remove)) + ']'\n",
    "#     string = re.sub(rx, '', string)\n",
    "    \n",
    "#     string = string.replace('&', 'and')\n",
    "#     string = string.replace(',', ' ')\n",
    "#     string = string.replace('-', ' ')\n",
    "#     string = re.sub(' +',' ',string).strip()\n",
    "#     string = ' '+ string +' '\n",
    "#     string = re.sub(r'[,-./]|\\sBD',r'', string)\n",
    "    \n",
    "#     ngrams = zip(*[string[i:] for i in range(n)])\n",
    "            \n",
    "#     return [''.join(ngram) for ngram in ngrams]"
   ]
  },
  {
   "cell_type": "code",
   "execution_count": null,
   "metadata": {},
   "outputs": [],
   "source": [
    "# # cosine similarity\n",
    "# # https://bergvca.github.io/2017/10/14/super-fast-string-matching.html\n",
    "\n",
    "# def cosine_similarity_top(A, B, ntop, lower_bound=0):\n",
    "#     A = A.tocsr()\n",
    "#     B = B.tocsr()\n",
    "#     M, _ = A.shape\n",
    "#     _, N = B.shape\n",
    "    \n",
    "#     idx.dtype = np.int32\n",
    "    \n",
    "#     nnz_max = M * ntop\n",
    "    \n",
    "#     indptr = np.zeros(M+1, dtype=idx_dtype)\n",
    "#     indices = np.zeros(nnz_max, dtype=idx_dtype)\n",
    "#     data = np.zeros(nnz_max, dtype=A.dtype)\n",
    "    \n",
    "#     sdt.sparse_dot_topn(\n",
    "#         M, N, np.asarray(A.indptr, dtype=idx_dtype),\n",
    "#         np.asarray(A.indices, dtype=idx_dtype),\n",
    "#         A.data,\n",
    "#         np.asarray(B.indptr, dtype=idx_dtype),\n",
    "#         np.asarray(B.indices, dtype=idx_dtype),\n",
    "#         B.data,\n",
    "#         ntop,\n",
    "#         lower_bound,\n",
    "#         indptr, indices, data)\n",
    "    \n",
    "#     return csr_matrix((data,indices,indptr),shape=(M,N))"
   ]
  },
  {
   "cell_type": "markdown",
   "metadata": {},
   "source": [
    "# sample routine analysis"
   ]
  },
  {
   "cell_type": "markdown",
   "metadata": {},
   "source": [
    "# fuzzy string comparison"
   ]
  },
  {
   "cell_type": "markdown",
   "metadata": {},
   "source": [
    "# extra stuff"
   ]
  },
  {
   "cell_type": "code",
   "execution_count": null,
   "metadata": {},
   "outputs": [],
   "source": [
    "# class Product():\n",
    "#     \"\"\"\n",
    "#     Create a product object containing various features scraped from cosdna.com\n",
    "    \n",
    "#     Parameters\n",
    "#     ----------\n",
    "    \n",
    "#     driver : current selenium.webdriver instance\n",
    "    \n",
    "#     name : str, (default=None)\n",
    "#         name of product\n",
    "        \n",
    "#     cosdna_id : str, (default=None)\n",
    "#         10-digit identifier at the end of the cosdna url\n",
    "        \n",
    "        \n",
    "#     Attributes\n",
    "#     ----------\n",
    "    \n",
    "#     name : str\n",
    "#         user-defined name of Product\n",
    "        \n",
    "#     cosdna_name : str\n",
    "#         full name of product as it appears on cosdna\n",
    "        \n",
    "#     brand : str\n",
    "#         name of brand as it appears on cosdna\n",
    "        \n",
    "#     product : str\n",
    "#         name of product as it appears on cosdna\n",
    "        \n",
    "#     cosdna_id : str\n",
    "#         10-digit identifier at the end of the cosdna url\n",
    "        \n",
    "#     cosdna_url : str\n",
    "#         full cosdna_url\n",
    "        \n",
    "#     ingredients : dict\n",
    "#         full list of ingredients and their listed functions from cosdna\n",
    "        \n",
    "#     linked : bool\n",
    "#         whether Product() has been linked with a cosdna listing\n",
    "        \n",
    "#     synced : bool\n",
    "#         whether Product() has collected information from linked cosdna listing\n",
    "#     \"\"\"\n",
    "    \n",
    "#     def __init__(self, driver, name=None, cosdna_id=None):\n",
    "#         self.driver = driver \n",
    "#         self.name = name\n",
    "#         self.cosdna_id = cosdna_id\n",
    "#         if cosdna_id != None:\n",
    "#             self.cosdna_url = 'https://cosdna.com/eng/cosmetic_' + cosdna_id + '.html'\n",
    "#             self.linked = True\n",
    "#         else:\n",
    "#             self.cosdna_url = None\n",
    "#             self.linked = False\n",
    "#         self.synced = False\n",
    "    \n",
    "    \n",
    "#     def link(self, name=None, sort='featured'):\n",
    "#         \"\"\"\n",
    "#         Searches for top match on cosdna\n",
    "        \n",
    "#         cosdna_url\n",
    "#         cosdna_id\n",
    "        \n",
    "#         Parameters\n",
    "#         ----------\n",
    "        \n",
    "#         name : str, (default=None)\n",
    "#             full name of product \n",
    "#             if blank: uses name assigned when creating Product() instance\n",
    "#             if not blank: updates name\n",
    "            \n",
    "#         Returns\n",
    "#         -------\n",
    "        \n",
    "#         self : object\n",
    "#         \"\"\"\n",
    "        \n",
    "#         # if name=None, use existing name. if not, update name\n",
    "#         if name is not None:\n",
    "#             self.name = name\n",
    "        \n",
    "#         # search for name in cosdna.com\n",
    "#         name = str(self.name).translate(str.maketrans('', '', string.punctuation)).lower()\n",
    "#         name = name.replace(' ', '+')\n",
    "#         search_url = 'https://cosdna.com/eng/product.php?q=' + name + '&sort=' + sort\n",
    "#         self.driver.get(search_url)\n",
    "        \n",
    "#         # try to get the top result. if successful, changed linked to True\n",
    "#         try:\n",
    "#             top = self.driver.find_element_by_xpath((\"//table[@class='table table-hover']/tbody/tr/td[1]/a\"))\n",
    "#             self.cosdna_url = top.get_attribute('href')\n",
    "#             self.cosdna_id = re.findall(\".*cosmetic_(.*).html\", self.cosdna_url)[0]\n",
    "#             self.linked = True\n",
    "#             return self\n",
    "#         except:\n",
    "#             print('no results on cosdna')\n",
    "#             name = input('enter new search: ')\n",
    "#             if name == 'break':\n",
    "#                 return self\n",
    "#             else:\n",
    "#                 return self.link(name=name)\n",
    "        \n",
    "        \n",
    "#     def sync(self, cosdna_url=None):\n",
    "#         \"\"\"\n",
    "#         Collects information from linked cosdna site:\n",
    "        \n",
    "#         cosdna_url\n",
    "#         cosdna_id\n",
    "#         brand\n",
    "#         product\n",
    "#         cosdna_name\n",
    "#         ingredients\n",
    "#         synced\n",
    "        \n",
    "#         Parameters\n",
    "#         ----------\n",
    "        \n",
    "#         cosdna_url : str, (default=None)\n",
    "#             full cosdna url of product. \n",
    "#             if blank: uses linked cosdna_url\n",
    "#             if not blank: updates cosdna_url\n",
    "            \n",
    "#         Returns\n",
    "#         -------\n",
    "        \n",
    "#         self : object\n",
    "#         \"\"\"\n",
    "#         # navigate to url and get cosdna_id\n",
    "#         if self.cosdna_url == None:\n",
    "#             if new_url == None:\n",
    "#                 return 'create instance with cosdna_id or .link() instance with cosdna_url'\n",
    "#             else:\n",
    "#                 self.cosdna_url = cosdna_url\n",
    "#         self.cosdna_id = re.findall(\".*cosmetic_(.*).html\", self.cosdna_url)[0]\n",
    "#         self.driver.get(self.cosdna_url)\n",
    "\n",
    "#         # get brand and product information from page\n",
    "#         self.brand = self.driver.find_element_by_class_name('brand-name').text.lower()\n",
    "#         self.product = self.driver.find_element_by_class_name('prod-name').text.lower()\n",
    "#         cosdna_name = self.brand + ' ' + self.product\n",
    "#         self.cosdna_name = cosdna_name.strip()\n",
    "\n",
    "#         # get ingredients information from ingredients table\n",
    "#         self.ingredients = {}\n",
    "#         table = self.driver.find_element_by_class_name('chem-list')\n",
    "#         rows = table.find_elements_by_tag_name('tr')\n",
    "#         for row in rows:\n",
    "#             ingredient = row.find_elements_by_tag_name('td')[0].text.strip().lower()\n",
    "#             if 'no results' in ingredient:\n",
    "#                 ingredient = row.find_elements_by_class_name('text-muted')[0].text.strip().lower()\n",
    "#                 function = None\n",
    "#             else:\n",
    "#                 try:\n",
    "#                     function_cell = row.find_elements_by_tag_name('td')[1]\n",
    "#                     function = function_cell.text.strip().lower().split(',')\n",
    "#                     if 'sunscreen' in function:\n",
    "#                         try:\n",
    "#                             uva = re.search(\"uv[ab]\\d\", function_cell.find_elements_by_tag_name('img')[0].get_attribute('src'))[0]\n",
    "#                             uvb = re.search(\"uv[ab]\\d\", function_cell.find_elements_by_tag_name('img')[1].get_attribute('src'))[0]\n",
    "#                             function.append(uva)\n",
    "#                             function.append(uvb)\n",
    "#                         except:\n",
    "#                             continue\n",
    "#                 except:\n",
    "#                     function = None\n",
    "#             self.ingredients[ingredient] = function\n",
    "#         # change state to True\n",
    "#         self.synced = True\n",
    "#         return self\n",
    "        \n",
    "        \n",
    "#     def link_sync(self, sort='featured'):\n",
    "#         \"\"\"\n",
    "#         Should operate the same way as .link().sync()\n",
    "#         \"\"\"\n",
    "#         self.link(sort=sort)\n",
    "#         self.sync(self.cosdna_url)\n",
    "#         return self"
   ]
  },
  {
   "cell_type": "code",
   "execution_count": null,
   "metadata": {},
   "outputs": [],
   "source": [
    "# class Routine():\n",
    "#     \"\"\"\n",
    "#     Create a container of Products with useful ingredient tabulation methods\n",
    "    \n",
    "#     Parameters\n",
    "#     ----------\n",
    "    \n",
    "#     driver : current selenium.webdriver instance\n",
    "    \n",
    "#     name : str, (default=None)\n",
    "#         name of routine\n",
    "        \n",
    "        \n",
    "#     Attributes\n",
    "#     ----------\n",
    "    \n",
    "#     name : str\n",
    "#         user-defined name of Routine\n",
    "        \n",
    "#     routine : list\n",
    "#         list of Products in Routine\n",
    "        \n",
    "#     ingredients : list\n",
    "#         list of all ingredients in Routine\n",
    "        \n",
    "#     counts : Counter object\n",
    "#         Counter object of all ingredients in Routine\n",
    "        \n",
    "#     linked : bool\n",
    "#         whether all Products have been linked with a cosdna listing\n",
    "        \n",
    "#     synced : bool\n",
    "#         whether all Products have collected information from linked cosdna listing\n",
    "#     \"\"\"\n",
    "    \n",
    "#     def __init__(self, driver, name=None):\n",
    "#         self.driver = driver\n",
    "#         self.name = name\n",
    "#         self.routine = []\n",
    "#         self.linked = False\n",
    "#         self.synced = False\n",
    "        \n",
    "#     def add(self, *products):\n",
    "#         \"\"\"\n",
    "#         Adds a product or list of products to the routine.\n",
    "        \n",
    "#         Parameters\n",
    "#         ----------\n",
    "        \n",
    "#         *products: unpackable\n",
    "#         \"\"\"\n",
    "#         for product in products:\n",
    "#             if type(product) == Product:\n",
    "#                 self.routine.append(product)\n",
    "#             elif type(product) == str:\n",
    "#                 self.routine.append(Product(self.driver, product))\n",
    "#         return self\n",
    "    \n",
    "#     def link(self, sort='featured', force=False):\n",
    "#         \"\"\"\n",
    "#         Searches each Product for top match on cosdna\n",
    "        \n",
    "#         updates (for each Product):\n",
    "#         cosdna_url\n",
    "#         cosdna_id\n",
    "        \n",
    "#         Parameters\n",
    "#         ----------\n",
    "        \n",
    "#         sort : str\n",
    "#             sort algorithm for cosdna results\n",
    "            \n",
    "#         Attributes\n",
    "#         ----------\n",
    "#         linked : bool\n",
    "#             returns True if all Products are linked\n",
    "            \n",
    "#         Returns\n",
    "#         -------\n",
    "        \n",
    "#         self : object\n",
    "#         \"\"\"\n",
    "#         for product in self.routine:\n",
    "#             if force:\n",
    "#                 product.link()\n",
    "#             else:\n",
    "#                 if not product.linked:\n",
    "#                     product.link()\n",
    "#         self.cosdna_urls = [product.cosdna_url for product in self.routine]\n",
    "#         self.cosdna_ids = [product.cosdna_id for product in self.routine]\n",
    "#         if all([product.linked for product in self.routine]):\n",
    "#             self.linked = True\n",
    "#         return self\n",
    "    \n",
    "#     def sync(self, force=False):\n",
    "#         \"\"\"\n",
    "#         Collects information for each Product\n",
    "        \n",
    "#         Parameters\n",
    "#         ----------\n",
    "        \n",
    "#         sort : str\n",
    "#             sort algorithm for cosdna results\n",
    "            \n",
    "#         Attributes\n",
    "#         ----------\n",
    "#         linked : bool\n",
    "#             returns True if all Products are linked\n",
    "            \n",
    "#         Returns\n",
    "#         -------\n",
    "        \n",
    "#         self : object\n",
    "#         \"\"\"\n",
    "#         changes = False\n",
    "#         for product in self.routine:\n",
    "#             if force:\n",
    "#                 product.sync()\n",
    "#                 changes = True\n",
    "#             else:\n",
    "#                 if not product.synced:\n",
    "#                     product.sync()\n",
    "#                     changes = True\n",
    "#         if changes:\n",
    "# #             self.brands = list(set([product.brand for product in routine]))\n",
    "#             self._analyze()\n",
    "#         else:\n",
    "#             return self\n",
    "            \n",
    "#     def _analyze(self):\n",
    "#         \"\"\"\n",
    "#         Tabulates frequency of ingredients across all Products\n",
    "#         \"\"\"\n",
    "#         self._all_ingredients = []\n",
    "#         for product in self.routine:\n",
    "#             self._all_ingredients += [*product.ingredients]\n",
    "#         self._counts = Counter(all_ingredients)\n",
    "#         self.ingredients = list(set(all_ingredients))\n",
    "\n",
    "#         # make product vectors\n",
    "#         self._product_vectors = []\n",
    "#         for product in self.routine:\n",
    "#             product_vector = []\n",
    "#             for routine_ingredient in self.ingredients:\n",
    "#                 if routine_ingredient in [*product.ingredients]:\n",
    "#                     product_vector.append(1)\n",
    "#                 else:\n",
    "#                     product_vector.append(0)\n",
    "#             self._product_vectors.append(product_vector)\n",
    "#         if all([product.synced for product in self.routine]):\n",
    "#             self.synced = True\n",
    "#         return self\n",
    "    \n",
    "#     def link_sync(self, sort='featured', force=False):\n",
    "#         self.link(sort=sort, force=force)\n",
    "#         self.sync(force=force)\n",
    "#         return self\n",
    "    \n",
    "#     def top_ingredients(self, top=None, mask=None):\n",
    "#         if mask is not None:\n",
    "#             masked_counts = Counter([x for x in self._all_ingredients if x in mask])\n",
    "#             return masked_counts.most_common(top)\n",
    "#         return self._counts.most_common(top)\n",
    "    \n",
    "#     def has(self, ingredient):\n",
    "#         isolated_products = []\n",
    "#         for i, product_vector in enumerate(self._product_vectors):\n",
    "#             if product_vector[self.ingredients.index(ingredient)] == 1:\n",
    "#                 isolated_products.append(self.routine[i].name)\n",
    "#         return isolated_products"
   ]
  },
  {
   "cell_type": "code",
   "execution_count": null,
   "metadata": {},
   "outputs": [],
   "source": [
    "# class Ingredient():\n",
    "    \n",
    "#     def __init__(self, driver, name=None, cosdna_id=None, cas=None):\n",
    "#         self.driver = driver\n",
    "#         self.name = name\n",
    "#         self.cosdna_id = cosdna_id\n",
    "#         if cosdna_id != None:\n",
    "#             self.cosdna_url = 'https://cosdna.com/eng/' + cosdna_id + '.html'\n",
    "#             self.linked = True\n",
    "#         else:\n",
    "#             self.cosdna_url = None\n",
    "#             self.linked = False\n",
    "#         self.cas = cas\n",
    "#         self.synced = False\n",
    "        \n",
    "#     def link(self, name=None):\n",
    "#         # if name=None, use existing name. if not, update name\n",
    "#         if name is not None:\n",
    "#             self.name = name\n",
    "        \n",
    "#         # search for name in cosdna.com\n",
    "#         name = str(self.name).translate(str.maketrans('', '', string.punctuation)).lower()\n",
    "#         name = name.replace(' ', '+')\n",
    "#         search_url = 'https://cosdna.com/eng/stuff.php?q=' + name\n",
    "#         self.driver.get(search_url)\n",
    "        \n",
    "#         # try to get the top result. if successful, changed linked to True\n",
    "#         try:\n",
    "#             top = self.driver.find_element_by_xpath((\"//table[@class='table table-hover']/tbody/tr/td[1]/a\"))\n",
    "#             self.cosdna_url = top.get_attribute('href')\n",
    "#             self.cosdna_id = re.findall(\".*eng//(.*).html\", self.cosdna_url)[0]\n",
    "#             self.linked = True\n",
    "#             return self\n",
    "#         except:\n",
    "#             print('no results on cosdna')\n",
    "#             name = input('enter new search: ')\n",
    "#             if name == 'break':\n",
    "#                 return self\n",
    "#             else:\n",
    "#                 return self.link(name=name)\n",
    "            \n",
    "#     def sync(self, cosdna_url=None):\n",
    "\n",
    "#         # navigate to url and get cosdna_id\n",
    "#         if self.cosdna_url == None:\n",
    "#             if cosdna_url == None:\n",
    "#                 return 'create instance with cosdna_id or .link() instance with cosdna_url'\n",
    "#             else:\n",
    "#                 self.cosdna_url = cosdna_url\n",
    "#         self.cosdna_id = re.findall(\".*cosmetic_(.*).html\", self.cosdna_url)[0]\n",
    "#         self.driver.get(self.cosdna_url)\n",
    "\n",
    "#         # get brand and product information from page\n",
    "#         self.brand = self.driver.find_element_by_class_name('brand-name').text.lower()\n",
    "#         self.product = self.driver.find_element_by_class_name('prod-name').text.lower()\n",
    "#         cosdna_name = self.brand + ' ' + self.product\n",
    "#         self.cosdna_name = cosdna_name.strip()\n",
    "\n",
    "#         # get ingredients information from ingredients table\n",
    "#         self.ingredients = {}\n",
    "#         table = self.driver.find_element_by_class_name('chem-list')\n",
    "#         rows = table.find_elements_by_tag_name('tr')\n",
    "#         for row in rows:\n",
    "#             ingredient = row.find_elements_by_tag_name('td')[0].text.strip().lower()\n",
    "#             if 'no results' in ingredient:\n",
    "#                 ingredient = row.find_elements_by_class_name('text-muted')[0].text.strip().lower()\n",
    "#                 function = None\n",
    "#             else:\n",
    "#                 try:\n",
    "#                     function_cell = row.find_elements_by_tag_name('td')[1]\n",
    "#                     function = function_cell.text.strip().lower().split(',')\n",
    "#                     if 'sunscreen' in function:\n",
    "#                         try:\n",
    "#                             uva = re.search(\"uv[ab]\\d\", function_cell.find_elements_by_tag_name('img')[0].get_attribute('src'))[0]\n",
    "#                             uvb = re.search(\"uv[ab]\\d\", function_cell.find_elements_by_tag_name('img')[1].get_attribute('src'))[0]\n",
    "#                             function.append(uva)\n",
    "#                             function.append(uvb)\n",
    "#                         except:\n",
    "#                             continue\n",
    "#                 except:\n",
    "#                     function = None\n",
    "#             self.ingredients[ingredient] = function\n",
    "#         # change state to True\n",
    "#         self.synced = True\n",
    "#         return self"
   ]
  },
  {
   "cell_type": "code",
   "execution_count": 16,
   "metadata": {},
   "outputs": [],
   "source": [
    "# class BasePage():\n",
    "#     \"\"\"This class is the parent class for all the pages in our application.\"\"\"\n",
    "#     \"\"\"It contains all common elements and functionalities available to all pages.\"\"\"\n",
    "\n",
    "#     # this function is called every time a new object of the base class is created.\n",
    "#     def __init__(self, driver):\n",
    "#         self.driver=driver\n",
    "\n",
    "#     # this function performs click on web element whose locator is passed to it.\n",
    "#     def click(self, by_locator):\n",
    "#         WebDriverWait(self.driver, 10).until(EC.visibility_of_element_located(by_locator)).click()\n",
    "    \n",
    "#     # this function asserts comparison of a web element's text with passed in text.\n",
    "#     def assert_element_text(self, by_locator, element_text):\n",
    "#         web_element=WebDriverWait(self.driver, 10).until(EC.visibility_of_element_located(by_locator))\n",
    "#         assert web_element.text == element_text\n",
    "\n",
    "#     # this function performs text entry of the passed in text, in a web element whose locator is passed to it.\n",
    "#     def enter_text(self, by_locator, text):\n",
    "#         return WebDriverWait(self.driver, 10).until(EC.visibility_of_element_located(by_locator)).send_keys(text)\n",
    "\n",
    "#     # this function checks if the web element whose locator has been passed to it, is enabled or not and returns\n",
    "#     # web element if it is enabled.\n",
    "#     def is_enabled(self, by_locator):\n",
    "#         return WebDriverWait(self.driver, 10).until(EC.visibility_of_element_located(by_locator))\n",
    "\n",
    "#     # this function checks if the web element whose locator has been passed to it, is visible or not and returns\n",
    "#     # true or false depending upon its visibility.\n",
    "#     def is_visible(self,by_locator):\n",
    "#         element=WebDriverWait(self.driver, 10).until(EC.visibility_of_element_located(by_locator))\n",
    "#         return bool(element)\n",
    "    \n",
    "#     # this function moves the mouse pointer over a web element whose locator has been passed to it.\n",
    "#     def hover_to(self, by_locator):\n",
    "#         element = WebDriverWait(self.driver, 10).until(EC.visibility_of_element_located(by_locator))\n",
    "#         ActionChains(self.driver).move_to_element(element).perform()"
   ]
  },
  {
   "cell_type": "code",
   "execution_count": null,
   "metadata": {},
   "outputs": [],
   "source": []
  }
 ],
 "metadata": {
  "kernelspec": {
   "display_name": "Python 3",
   "language": "python",
   "name": "python3"
  },
  "language_info": {
   "codemirror_mode": {
    "name": "ipython",
    "version": 3
   },
   "file_extension": ".py",
   "mimetype": "text/x-python",
   "name": "python",
   "nbconvert_exporter": "python",
   "pygments_lexer": "ipython3",
   "version": "3.7.4"
  }
 },
 "nbformat": 4,
 "nbformat_minor": 4
}
