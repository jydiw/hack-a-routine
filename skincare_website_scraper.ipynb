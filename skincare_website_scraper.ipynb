{
 "cells": [
  {
   "cell_type": "markdown",
   "metadata": {},
   "source": [
    "# skincare website scraper"
   ]
  },
  {
   "cell_type": "code",
   "execution_count": 1,
   "metadata": {},
   "outputs": [],
   "source": [
    "import json\n",
    "\n",
    "import requests\n",
    "from requests_html import HTMLSession\n",
    "from selenium import webdriver"
   ]
  },
  {
   "cell_type": "markdown",
   "metadata": {},
   "source": [
    "## opening the file"
   ]
  },
  {
   "cell_type": "code",
   "execution_count": 2,
   "metadata": {},
   "outputs": [],
   "source": [
    "with open('./data/big_dict.json', 'rb') as handle:\n",
    "    big_dict = json.load(handle)"
   ]
  },
  {
   "cell_type": "code",
   "execution_count": 5,
   "metadata": {},
   "outputs": [
    {
     "data": {
      "text/plain": [
       "dict_keys([\"kiehl's creme de corps\", \"kiehl's bath and shower liquid body cleanser\", \"kiehl's body fuel\", \"kiehl's ultimate strength hand salve\", \"kiehl's ultra facial cream\", \"kiehl's creamy eye treatment with avocado\", \"kiehl's powerful-strength vitamin c serum\", \"kiehl's super multi-corrective cream\", \"kiehl's facial fuel energizing face wash\", \"kiehl's facial fuel spf 20\", \"kiehl's midnight recovery face oil\", \"kiehl's ultra facial cleanser\", \"kiehl's facial fuel energizing moisture treatment for men\", \"kiehl's calendula herbal extract alcohol-free toner\", \"kiehl's rare earth deep pore cleansing mask\", \"kiehl's calendula deep cleansing foaming face wash\", \"kiehl's clearly corrective dark spot solution\", \"kiehl's rare earth deep pore daily cleanser\", \"kiehl's buttermask for lips\", \"kiehl's ultra facial toner\", \"kiehl's hydro-plumping re-texturizing serum concentrate\", \"kiehl's midnight recovery eye\", \"kiehl's ultra facial moisturizer spf 30\", \"kiehl's ginger leaf & hibiscus firming mask\", \"kiehl's ultra facial moisturizer\", \"kiehl's age defender moisturizer\", \"kiehl's facial fuel energizing scrub\", \"kiehl's daily reviving face oil\", \"kiehl's ultra facial cream spf 30\", \"kiehl's ultra facial oil-free gel-cream\", \"kiehl's glow formula skin hydrator\", \"kiehl's turmeric & cranberry seed energizing radiance mask\", \"kiehl's lip balm #1\", \"kiehl's scented lip balm #1\", \"kiehl's super fluid daily uv defense spf 50+\", \"kiehl's super multi-corrective cream spf 30\", \"kiehl's nightly refining micro-peel concentrate\", \"kiehl's age defender eye repair\", \"kiehl's powerful wrinkle reducing eye cream\", \"kiehl's cucumber herbal alcohol-free toner\", \"kiehl's powerful wrinkle reducing cream spf 30\", \"kiehl's blue herbal acne cleanser treatment\", \"kiehl's epidermal re-texturizing micro-dermabrasion\", \"kiehl's bb cream - actively correcting and beautifying with spf 50 pa+++\", \"kiehl's ultra facial overnight hydrating mask\", \"kiehl's super multi-corrective eye-opening serum\", \"kiehl's men's oil eliminator deep cleansing exfoliating face wash\", \"kiehl's cucumber herbal conditioning cleanser\", \"kiehl's facial fuel eye de-puffer\", \"kiehl's butterstick lip treatment spf 30\", \"kiehl's eye fuel\", \"kiehl's calendula & aloe soothing hydration mask\", \"kiehl's blue astringent herbal lotion\", \"kiehl's ultra facial oil-free cleanser\", \"kiehl's age defender power serum\", \"kiehl's midnight recovery botanical cleansing oil\", \"kiehl's activated sun protector water-light lotion for face & body\", \"kiehl's powerful wrinkle reducing cream\", \"kiehl's facial fuel energizing tonic for men\", \"kiehl's precision lifting & pore-tightening concentrate\", \"kiehl's creme d'elegance repairateur\", \"kiehl's clearly corrective brightening & exfoliating daily cleanser\", \"kiehl's vital skin-strengthening hyaluronic acid super serum\", \"kiehl's facial fuel no-shine moisturizing lip balm\", \"kiehl's rare earth pore refining tonic\", \"kiehl's ultra facial oil-free lotion\", \"kiehl's rare earth pore minimizing lotion\", \"kiehl's clearly corrective brightening & smoothing moisture treatment\", \"kiehl's pineapple papaya facial scrub\", \"kiehl's youth dose eye treatment\", \"kiehl's instant renewal concentrate mask\", \"kiehl's ultra facial oil-free toner\", \"kiehl's skin rescuer\", \"kiehl's cactus flower & tibetan ginseng hydrating mist\", \"kiehl's rosa arctica\", \"kiehl's iris extract activating treatment essence\", \"kiehl's breakout control acne treatment facial lotion\", \"kiehl's rosa arctica eye\", \"kiehl's super fluid uv mineral defense broad spectrum spf 50+\", \"kiehl's butterstick lip treatment\", \"kiehl's micro-blur skin perfector\", \"kiehl's blue herbal spot treatment\", \"kiehl's baby lip balm\", \"kiehl's clearly corrective brightening & soothing treatment water\", \"kiehl's dermatologist solutions centella cica cream\", \"kiehl's oil eliminator refreshing shine control toner for men\", \"kiehl's dermatologist solutions centella sensitive facial cleanser\", 'la roche-posay lipikar balm ap+ moisturizer for dry skin', 'la roche-posay hyalu b5 pure hyaluronic acid serum', 'la roche-posay toleriane ultra moisturizing cream', 'la roche-posay anthelios tinted mineral sunscreen for face spf 50', 'la roche-posay effaclar duo acne spot treatment', 'la roche-posay redermic r retinol cream', 'la roche-posay effaclar mat mattifying moisturizer', 'la roche-posay effaclar acne treatment system', 'la roche-posay anthelios ultra light fluid facial sunscreen spf 60', 'la roche-posay anthelios aox antioxidant serum spf 50', 'la roche-posay toleriane hydrating gentle facial cleanser', 'la roche-posay anthelios melt-in sunscreen milk spf 60', 'la roche-posay toleriane ultra night moisturizer', 'la roche-posay thermal spring water face mist', 'la roche-posay cicaplast baume b5 for dry skin irritations', 'la roche-posay anthelios clear skin oil free sunscreen spf 60', 'la roche-posay effaclar anti-aging pore minimizer face serum', 'la roche-posay redermic r retinol eye cream', 'la roche-posay toleriane double repair facial moisturizer with spf', 'la roche-posay toleriane double repair face moisturizer', 'la roche-posay effaclar gel facial wash for oily skin', 'la roche-posay mela-d pigment control glycolic acid serum', 'la roche-posay effaclar clarifying solution acne toner', 'la roche-posay pigmentclar brightening deep cleanser', 'la roche-posay effaclar medicated acne face wash', 'la roche-posay 10% pure vitamin c serum', 'la roche-posay redermic c vitamin c eye cream', 'la roche-posay retinol b3 pure retinol serum', 'la roche-posay rosaliac ar intense visible facial redness serum', 'la roche-posay anthelios sx spf moisturizer with mexoryl spf 15', 'la roche-posay effaclar adapalene gel 0.1% acne treatment', 'la roche-posay substiane riche anti-aging cream', 'la roche-posay anthelios mineral zinc oxide sunscreen spf 50', 'la roche-posay toleriane purifying foaming facial wash', 'la roche-posay effaclar astringent toner for oily skin', 'la roche-posay anti-aging serum set', 'la roche-posay toleriane dermo milky cleanser', 'la roche-posay micellar water ultra', 'la roche-posay anthelios anti-aging face primer spf 50', 'la roche-posay toleriane ultra eye cream', 'la roche-posay anthelios cooling water sunscreen lotion spf 60', 'la roche-posay pigmentclar eye cream for dark circles', 'la roche-posay toleriane purifying foaming cream cleanser', 'la roche-posay ultra sensitive skin moisturizer set', 'la roche-posay redermic c vitamin c lotion', 'la roche-posay toleriane fluide oil free moisturizer', 'la roche-posay hydraphase intense light hyaluronic acid moisturizer', 'la roche-posay active c10 vitamin c wrinkle cream', 'la roche-posay anthelios lotion spray sunscreen spf 60', 'la roche-posay anti-aging skin care set', 'la roche-posay lipikar body lotion for normal to dry skin', 'la roche-posay hydraphase moisturizer with hyaluronic acid and spf', 'la roche-posay anthelios melt-in milk sunscreen for face & body spf 100', 'la roche-posay substiane anti-aging serum', 'la roche-posay hydraphase intense hyaluronic acid eye cream', 'la roche-posay oily skin care set', 'la roche-posay anthelios sunscreen for kids spf 60', 'la roche-posay substiane anti aging eye cream', 'la roche-posay ultra-fine face scrub', 'la roche-posay nutritic lip balm', 'la roche-posay hydraphase intense riche hyaluronic acid cream', 'la roche-posay effaclar shine control clay mask', 'la roche-posay lipikar eczema cream', 'la roche-posay effaclar cream cleanser for oily skin', 'la roche-posay hydraphase intense hyaluronic acid mask', 'la roche-posay anthelios cooling water sunscreen lotion spf 30', 'la roche-posay extra sensitive skin care set', 'la roche-posay anthelios spf 50 mineral sunscreen - gentle lotion', 'la roche-posay anthelios mineral tinted primer spf 50', 'la roche-posay redermic c vitamin c cream for dry skin', 'la roche-posay respectissime eye makeup remover', 'la roche-posay hydraphase intense serum with hyaluronic acid', 'la roche-posay serozinc face mist', 'la roche-posay effaclar micellar water for oily skin', 'la roche-posay dry skin care set', 'la roche-posay effaclar facial wipes for oily skin', 'la roche-posay lipikar podologics foot cream', 'la roche-posay micellar foaming water face cleanser', 'la roche-posay anthelios sport sunscreen spf 60', 'la roche-posay pigmentclar serum visible dark spot reducer', 'la roche-posay toleriane waterproof mascara', 'la roche-posay my skin track uv', 'la roche-posay toleriane ultra makeup remover for sensitive skin', 'la roche-posay micellar water gel cleanser', 'la roche-posay respectissime extension lengthening mascara', 'la roche-posay respectissime eyeliner pencil'])"
      ]
     },
     "execution_count": 5,
     "metadata": {},
     "output_type": "execute_result"
    }
   ],
   "source": [
    "big_dict.keys()"
   ]
  },
  {
   "cell_type": "code",
   "execution_count": 23,
   "metadata": {},
   "outputs": [],
   "source": [
    "CHROMEDRIVER_PATH = 'C:/chromedriver_win32/chromedriver.exe'\n",
    "selenium = webdriver.Chrome(CHROMEDRIVER_PATH)"
   ]
  },
  {
   "cell_type": "markdown",
   "metadata": {},
   "source": [
    "## kiehl's"
   ]
  },
  {
   "cell_type": "code",
   "execution_count": 16,
   "metadata": {},
   "outputs": [],
   "source": [
    "session = HTMLSession()\n",
    "response = session.get('https://www.kiehls.com/skincare/view-all-skincare/?start=50&amp;sz=50')\n",
    "products = response.html.find('a.product_name')"
   ]
  },
  {
   "cell_type": "code",
   "execution_count": 17,
   "metadata": {},
   "outputs": [],
   "source": [
    "for product in products:\n",
    "    prod_name = product.attrs['title'].lower()\n",
    "    name = \"kiehl's \" + prod_name\n",
    "    big_dictionary_of_products[name] = {\n",
    "        'brand': \"kiehl's\",\n",
    "        'product': prod_name\n",
    "    }"
   ]
  },
  {
   "cell_type": "markdown",
   "metadata": {},
   "source": [
    "## la roche-posay"
   ]
  },
  {
   "cell_type": "code",
   "execution_count": 28,
   "metadata": {},
   "outputs": [],
   "source": [
    "selenium.get('https://www.laroche-posay.us/face-and-body-skin-care')"
   ]
  },
  {
   "cell_type": "code",
   "execution_count": 35,
   "metadata": {},
   "outputs": [
    {
     "data": {
      "text/plain": [
       "['lipikar balm ap+ moisturizer for dry skin',\n",
       " 'hyalu b5 pure hyaluronic acid serum',\n",
       " 'toleriane ultra moisturizing cream',\n",
       " 'anthelios tinted mineral sunscreen for face spf 50',\n",
       " 'effaclar duo acne spot treatment',\n",
       " 'redermic r retinol cream',\n",
       " 'effaclar mat mattifying moisturizer',\n",
       " 'effaclar acne treatment system',\n",
       " 'anthelios ultra light fluid facial sunscreen spf 60',\n",
       " 'anthelios aox antioxidant serum spf 50',\n",
       " 'toleriane hydrating gentle facial cleanser',\n",
       " 'anthelios melt-in sunscreen milk spf 60',\n",
       " 'toleriane ultra night moisturizer',\n",
       " 'thermal spring water face mist',\n",
       " 'cicaplast baume b5 for dry skin irritations',\n",
       " 'anthelios clear skin oil free sunscreen spf 60',\n",
       " 'effaclar anti-aging pore minimizer face serum',\n",
       " 'redermic r retinol eye cream',\n",
       " 'toleriane double repair facial moisturizer with spf',\n",
       " 'toleriane double repair face moisturizer',\n",
       " 'effaclar gel facial wash for oily skin',\n",
       " 'mela-d pigment control glycolic acid serum',\n",
       " 'effaclar clarifying solution acne toner',\n",
       " 'pigmentclar brightening deep cleanser',\n",
       " 'effaclar medicated acne face wash',\n",
       " '10% pure vitamin c serum',\n",
       " 'redermic c vitamin c eye cream',\n",
       " 'retinol b3 pure retinol serum',\n",
       " 'rosaliac ar intense visible facial redness serum',\n",
       " 'anthelios sx spf moisturizer with mexoryl spf 15',\n",
       " 'effaclar adapalene gel 0.1% acne treatment',\n",
       " 'substiane riche anti-aging cream',\n",
       " 'anthelios mineral zinc oxide sunscreen spf 50',\n",
       " 'toleriane purifying foaming facial wash',\n",
       " 'effaclar astringent toner for oily skin',\n",
       " 'anti-aging serum set',\n",
       " 'toleriane dermo milky cleanser',\n",
       " 'micellar water ultra',\n",
       " 'anthelios anti-aging face primer spf 50',\n",
       " 'toleriane ultra eye cream',\n",
       " 'anthelios cooling water sunscreen lotion spf 60',\n",
       " 'pigmentclar eye cream for dark circles',\n",
       " 'toleriane purifying foaming cream cleanser',\n",
       " 'ultra sensitive skin moisturizer set',\n",
       " 'redermic c vitamin c lotion',\n",
       " 'toleriane fluide oil free moisturizer',\n",
       " 'hydraphase intense light hyaluronic acid moisturizer',\n",
       " 'active c10 vitamin c wrinkle cream',\n",
       " 'anthelios lotion spray sunscreen spf 60',\n",
       " 'anti-aging skin care set',\n",
       " 'lipikar body lotion for normal to dry skin',\n",
       " 'hydraphase moisturizer with hyaluronic acid and spf',\n",
       " 'anthelios melt-in milk sunscreen for face & body spf 100',\n",
       " 'substiane anti-aging serum',\n",
       " 'hydraphase intense hyaluronic acid eye cream',\n",
       " 'oily skin care set',\n",
       " 'anthelios sunscreen for kids spf 60',\n",
       " 'substiane anti aging eye cream',\n",
       " 'thermal spring water face mist',\n",
       " 'ultra-fine face scrub',\n",
       " 'nutritic lip balm',\n",
       " 'hydraphase intense riche hyaluronic acid cream',\n",
       " 'micellar water ultra',\n",
       " 'effaclar shine control clay mask',\n",
       " 'lipikar eczema cream',\n",
       " 'effaclar cream cleanser for oily skin',\n",
       " 'hydraphase intense hyaluronic acid mask',\n",
       " 'anthelios cooling water sunscreen lotion spf 30',\n",
       " 'extra sensitive skin care set',\n",
       " 'anthelios spf 50 mineral sunscreen - gentle lotion',\n",
       " 'anthelios mineral tinted primer spf 50',\n",
       " 'redermic c vitamin c cream for dry skin',\n",
       " 'respectissime eye makeup remover',\n",
       " 'hydraphase intense serum with hyaluronic acid',\n",
       " 'serozinc face mist',\n",
       " 'effaclar micellar water for oily skin',\n",
       " 'dry skin care set',\n",
       " 'effaclar facial wipes for oily skin',\n",
       " 'lipikar podologics foot cream',\n",
       " 'micellar foaming water face cleanser',\n",
       " 'anthelios sport sunscreen spf 60',\n",
       " 'pigmentclar serum visible dark spot reducer',\n",
       " 'toleriane waterproof mascara',\n",
       " 'my skin track uv',\n",
       " 'toleriane ultra makeup remover for sensitive skin',\n",
       " 'micellar water gel cleanser',\n",
       " 'respectissime extension lengthening mascara',\n",
       " 'respectissime eyeliner pencil']"
      ]
     },
     "execution_count": 35,
     "metadata": {},
     "output_type": "execute_result"
    }
   ],
   "source": [
    "products = selenium.find_elements_by_class_name('product_name')\n",
    "products = [prod.text.lower() for prod in products]\n",
    "products"
   ]
  },
  {
   "cell_type": "code",
   "execution_count": 33,
   "metadata": {},
   "outputs": [],
   "source": [
    "for product in products:\n",
    "    prod_name = product\n",
    "    name = \"la roche-posay \" + prod_name\n",
    "    big_dictionary_of_products[name] = {\n",
    "        'brand': \"la roche-posay\",\n",
    "        'product': prod_name\n",
    "    }"
   ]
  },
  {
   "cell_type": "markdown",
   "metadata": {},
   "source": [
    "## saving the file"
   ]
  },
  {
   "cell_type": "code",
   "execution_count": 6,
   "metadata": {},
   "outputs": [],
   "source": [
    "with open('./data/big_dict.json', 'w') as handle:\n",
    "    json.dump(big_dict, handle)"
   ]
  }
 ],
 "metadata": {
  "kernelspec": {
   "display_name": "Python 3",
   "language": "python",
   "name": "python3"
  },
  "language_info": {
   "codemirror_mode": {
    "name": "ipython",
    "version": 3
   },
   "file_extension": ".py",
   "mimetype": "text/x-python",
   "name": "python",
   "nbconvert_exporter": "python",
   "pygments_lexer": "ipython3",
   "version": "3.7.4"
  }
 },
 "nbformat": 4,
 "nbformat_minor": 4
}