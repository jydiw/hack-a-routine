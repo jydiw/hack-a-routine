{
 "cells": [
  {
   "cell_type": "code",
   "execution_count": 1,
   "metadata": {},
   "outputs": [],
   "source": [
    "import numpy as np\n",
    "import pandas as pd\n",
    "import re\n",
    "import time\n",
    "from glob import glob\n",
    "\n",
    "from selenium import webdriver\n",
    "\n",
    "from hackaroutine.hackaroutine import Ingredient, Product, Routine"
   ]
  },
  {
   "cell_type": "code",
   "execution_count": 2,
   "metadata": {},
   "outputs": [],
   "source": [
    "CHROMEDRIVER_PATH = '/Users/Jelly/Documents/googledrive/chromedriver/macos/chromedriver'"
   ]
  },
  {
   "cell_type": "code",
   "execution_count": 3,
   "metadata": {},
   "outputs": [],
   "source": [
    "driver = webdriver.Chrome(CHROMEDRIVER_PATH)"
   ]
  },
  {
   "cell_type": "code",
   "execution_count": 4,
   "metadata": {},
   "outputs": [
    {
     "data": {
      "text/plain": [
       "['./data/responses_2020-05-05.csv',\n",
       " './data/responses_modified_2020-05-05.csv',\n",
       " './data/recommendations_2020-05-05.csv',\n",
       " './data/brands.csv']"
      ]
     },
     "execution_count": 4,
     "metadata": {},
     "output_type": "execute_result"
    }
   ],
   "source": [
    "file_list = glob('./data/*.csv')\n",
    "file_list"
   ]
  },
  {
   "cell_type": "code",
   "execution_count": 5,
   "metadata": {},
   "outputs": [
    {
     "data": {
      "text/html": [
       "<div>\n",
       "<style scoped>\n",
       "    .dataframe tbody tr th:only-of-type {\n",
       "        vertical-align: middle;\n",
       "    }\n",
       "\n",
       "    .dataframe tbody tr th {\n",
       "        vertical-align: top;\n",
       "    }\n",
       "\n",
       "    .dataframe thead th {\n",
       "        text-align: right;\n",
       "    }\n",
       "</style>\n",
       "<table border=\"1\" class=\"dataframe\">\n",
       "  <thead>\n",
       "    <tr style=\"text-align: right;\">\n",
       "      <th></th>\n",
       "      <th>Timestamp</th>\n",
       "      <th>What's your skin type?</th>\n",
       "      <th>Do you have any known allergies? Or any ingredients you avoid for any reason?</th>\n",
       "      <th>What are your top skin concerns?</th>\n",
       "      <th>What is your current day routine? (Please list your products in order from first to last)</th>\n",
       "      <th>What is your current night routine (Please list your products in order from first to last)</th>\n",
       "      <th>What type of summer weather will you have?</th>\n",
       "      <th>Any known skin sensitivities?</th>\n",
       "      <th>Any experience with retinoids? (If so, please tell us your use history)</th>\n",
       "      <th>Any experience with acids? (If so, please tell us your use history, what type, and any known concentrations)</th>\n",
       "      <th>Are you prone to breakouts? If so, how severe are the breakouts and what is your acne treatment history?</th>\n",
       "      <th>Anything else you want the chemists to know about your skin and your skincare routine?</th>\n",
       "      <th>Can we share your routine learnings (anonymously) on our social media (post, podcast, or insta live shoutout)?</th>\n",
       "    </tr>\n",
       "  </thead>\n",
       "  <tbody>\n",
       "    <tr>\n",
       "      <th>0</th>\n",
       "      <td>4/30/2020 12:43:32</td>\n",
       "      <td>Combination</td>\n",
       "      <td>None</td>\n",
       "      <td>Acne, Pigmentation, Fine lines/wrinkles</td>\n",
       "      <td>trader joe's all in one cleanser, bioderma seb...</td>\n",
       "      <td>trader joe's all in one cleanser, Bioderma Seb...</td>\n",
       "      <td>Temperate, a lovely 70F (lucky!)</td>\n",
       "      <td>I broke out from Cosrx snail serum and from Ma...</td>\n",
       "      <td>Differing 0.1% for four years</td>\n",
       "      <td>I prefer toners with acids as masks with AHA s...</td>\n",
       "      <td>I have mild to moderate acne that I have been ...</td>\n",
       "      <td>I have a super oily forehead, oily nose and c...</td>\n",
       "      <td>Yes</td>\n",
       "    </tr>\n",
       "    <tr>\n",
       "      <th>1</th>\n",
       "      <td>4/30/2020 12:45:25</td>\n",
       "      <td>Combination</td>\n",
       "      <td>No allergies</td>\n",
       "      <td>Acne, Fine lines/wrinkles, Skin Texture (rough...</td>\n",
       "      <td>Biore Charcoal Acne Clearing Cleanser, Kiel's ...</td>\n",
       "      <td>NaN</td>\n",
       "      <td>Tropical, humid</td>\n",
       "      <td>No.</td>\n",
       "      <td>No.</td>\n",
       "      <td>No.</td>\n",
       "      <td>Yes. They are usually cystic and around my cyc...</td>\n",
       "      <td>I need help.</td>\n",
       "      <td>Yes</td>\n",
       "    </tr>\n",
       "  </tbody>\n",
       "</table>\n",
       "</div>"
      ],
      "text/plain": [
       "            Timestamp What's your skin type?  \\\n",
       "0  4/30/2020 12:43:32            Combination   \n",
       "1  4/30/2020 12:45:25            Combination   \n",
       "\n",
       "  Do you have any known allergies? Or any ingredients you avoid for any reason?  \\\n",
       "0                                               None                              \n",
       "1                                       No allergies                              \n",
       "\n",
       "                    What are your top skin concerns?  \\\n",
       "0            Acne, Pigmentation, Fine lines/wrinkles   \n",
       "1  Acne, Fine lines/wrinkles, Skin Texture (rough...   \n",
       "\n",
       "  What is your current day routine? (Please list your products in order from first to last)  \\\n",
       "0  trader joe's all in one cleanser, bioderma seb...                                          \n",
       "1  Biore Charcoal Acne Clearing Cleanser, Kiel's ...                                          \n",
       "\n",
       "  What is your current night routine (Please list your products in order from first to last)  \\\n",
       "0  trader joe's all in one cleanser, Bioderma Seb...                                           \n",
       "1                                                NaN                                           \n",
       "\n",
       "  What type of summer weather will you have?  \\\n",
       "0           Temperate, a lovely 70F (lucky!)   \n",
       "1                            Tropical, humid   \n",
       "\n",
       "                       Any known skin sensitivities?  \\\n",
       "0  I broke out from Cosrx snail serum and from Ma...   \n",
       "1                                                No.   \n",
       "\n",
       "  Any experience with retinoids? (If so, please tell us your use history)  \\\n",
       "0                     Differing 0.1% for four years                         \n",
       "1                                                No.                        \n",
       "\n",
       "  Any experience with acids? (If so, please tell us your use history, what type, and any known concentrations)  \\\n",
       "0  I prefer toners with acids as masks with AHA s...                                                             \n",
       "1                                                No.                                                             \n",
       "\n",
       "  Are you prone to breakouts? If so, how severe are the breakouts and what is your acne treatment history?  \\\n",
       "0  I have mild to moderate acne that I have been ...                                                         \n",
       "1  Yes. They are usually cystic and around my cyc...                                                         \n",
       "\n",
       "  Anything else you want the chemists to know about your skin and your skincare routine?  \\\n",
       "0   I have a super oily forehead, oily nose and c...                                       \n",
       "1                                       I need help.                                       \n",
       "\n",
       "  Can we share your routine learnings (anonymously) on our social media (post, podcast, or insta live shoutout)?  \n",
       "0                                                Yes                                                              \n",
       "1                                                Yes                                                              "
      ]
     },
     "execution_count": 5,
     "metadata": {},
     "output_type": "execute_result"
    }
   ],
   "source": [
    "responses = pd.read_csv(file_list[1])\n",
    "responses.head(2)"
   ]
  },
  {
   "cell_type": "code",
   "execution_count": 6,
   "metadata": {},
   "outputs": [
    {
     "data": {
      "text/html": [
       "<div>\n",
       "<style scoped>\n",
       "    .dataframe tbody tr th:only-of-type {\n",
       "        vertical-align: middle;\n",
       "    }\n",
       "\n",
       "    .dataframe tbody tr th {\n",
       "        vertical-align: top;\n",
       "    }\n",
       "\n",
       "    .dataframe thead th {\n",
       "        text-align: right;\n",
       "    }\n",
       "</style>\n",
       "<table border=\"1\" class=\"dataframe\">\n",
       "  <thead>\n",
       "    <tr style=\"text-align: right;\">\n",
       "      <th></th>\n",
       "      <th>timestamp</th>\n",
       "      <th>skin_type</th>\n",
       "      <th>cannot_contain</th>\n",
       "      <th>skin_concern</th>\n",
       "      <th>am_routine</th>\n",
       "      <th>pm_routine</th>\n",
       "      <th>climate</th>\n",
       "      <th>skin_sensitivities</th>\n",
       "      <th>used_retinoids</th>\n",
       "      <th>used_acids</th>\n",
       "      <th>prone_to_breakouts</th>\n",
       "      <th>miscellaneous</th>\n",
       "      <th>permission</th>\n",
       "    </tr>\n",
       "  </thead>\n",
       "  <tbody>\n",
       "    <tr>\n",
       "      <th>0</th>\n",
       "      <td>4/30/2020 12:43:32</td>\n",
       "      <td>Combination</td>\n",
       "      <td>None</td>\n",
       "      <td>Acne, Pigmentation, Fine lines/wrinkles</td>\n",
       "      <td>trader joe's all in one cleanser, bioderma seb...</td>\n",
       "      <td>trader joe's all in one cleanser, Bioderma Seb...</td>\n",
       "      <td>Temperate, a lovely 70F (lucky!)</td>\n",
       "      <td>I broke out from Cosrx snail serum and from Ma...</td>\n",
       "      <td>Differing 0.1% for four years</td>\n",
       "      <td>I prefer toners with acids as masks with AHA s...</td>\n",
       "      <td>I have mild to moderate acne that I have been ...</td>\n",
       "      <td>I have a super oily forehead, oily nose and c...</td>\n",
       "      <td>Yes</td>\n",
       "    </tr>\n",
       "    <tr>\n",
       "      <th>1</th>\n",
       "      <td>4/30/2020 12:45:25</td>\n",
       "      <td>Combination</td>\n",
       "      <td>No allergies</td>\n",
       "      <td>Acne, Fine lines/wrinkles, Skin Texture (rough...</td>\n",
       "      <td>Biore Charcoal Acne Clearing Cleanser, Kiel's ...</td>\n",
       "      <td>NaN</td>\n",
       "      <td>Tropical, humid</td>\n",
       "      <td>No.</td>\n",
       "      <td>No.</td>\n",
       "      <td>No.</td>\n",
       "      <td>Yes. They are usually cystic and around my cyc...</td>\n",
       "      <td>I need help.</td>\n",
       "      <td>Yes</td>\n",
       "    </tr>\n",
       "  </tbody>\n",
       "</table>\n",
       "</div>"
      ],
      "text/plain": [
       "            timestamp    skin_type cannot_contain  \\\n",
       "0  4/30/2020 12:43:32  Combination           None   \n",
       "1  4/30/2020 12:45:25  Combination   No allergies   \n",
       "\n",
       "                                        skin_concern  \\\n",
       "0            Acne, Pigmentation, Fine lines/wrinkles   \n",
       "1  Acne, Fine lines/wrinkles, Skin Texture (rough...   \n",
       "\n",
       "                                          am_routine  \\\n",
       "0  trader joe's all in one cleanser, bioderma seb...   \n",
       "1  Biore Charcoal Acne Clearing Cleanser, Kiel's ...   \n",
       "\n",
       "                                          pm_routine  \\\n",
       "0  trader joe's all in one cleanser, Bioderma Seb...   \n",
       "1                                                NaN   \n",
       "\n",
       "                            climate  \\\n",
       "0  Temperate, a lovely 70F (lucky!)   \n",
       "1                   Tropical, humid   \n",
       "\n",
       "                                  skin_sensitivities  \\\n",
       "0  I broke out from Cosrx snail serum and from Ma...   \n",
       "1                                                No.   \n",
       "\n",
       "                   used_retinoids  \\\n",
       "0  Differing 0.1% for four years    \n",
       "1                             No.   \n",
       "\n",
       "                                          used_acids  \\\n",
       "0  I prefer toners with acids as masks with AHA s...   \n",
       "1                                                No.   \n",
       "\n",
       "                                  prone_to_breakouts  \\\n",
       "0  I have mild to moderate acne that I have been ...   \n",
       "1  Yes. They are usually cystic and around my cyc...   \n",
       "\n",
       "                                       miscellaneous permission  \n",
       "0   I have a super oily forehead, oily nose and c...        Yes  \n",
       "1                                       I need help.        Yes  "
      ]
     },
     "execution_count": 6,
     "metadata": {},
     "output_type": "execute_result"
    }
   ],
   "source": [
    "new_columns = [\n",
    "    'timestamp',\n",
    "    'skin_type',\n",
    "    'cannot_contain',\n",
    "    'skin_concern',\n",
    "    'am_routine',\n",
    "    'pm_routine',\n",
    "    'climate',\n",
    "    'skin_sensitivities',\n",
    "    'used_retinoids',\n",
    "    'used_acids',\n",
    "    'prone_to_breakouts',\n",
    "    'miscellaneous',\n",
    "    'permission'\n",
    "]\n",
    "\n",
    "responses.columns = new_columns\n",
    "responses.head(2)"
   ]
  },
  {
   "cell_type": "code",
   "execution_count": 7,
   "metadata": {},
   "outputs": [
    {
     "name": "stdout",
     "output_type": "stream",
     "text": [
      "0    [trader joe's all in one cleanser, bioderma se...\n",
      "1    [biore charcoal acne clearing cleanser, kiel's...\n",
      "Name: am_routine, dtype: object\n",
      "0    [trader joe's all in one cleanser, bioderma se...\n",
      "1                                                  NaN\n",
      "Name: pm_routine, dtype: object\n"
     ]
    }
   ],
   "source": [
    "routine_columns = ['am_routine', 'pm_routine']\n",
    "\n",
    "for col in routine_columns:\n",
    "    responses[col] = responses[col].str.lower().str.split(', ')\n",
    "    print(responses[col][:2])"
   ]
  },
  {
   "cell_type": "code",
   "execution_count": 8,
   "metadata": {},
   "outputs": [
    {
     "data": {
      "text/plain": [
       "[\"trader joe's all in one cleanser\",\n",
       " 'bioderma sebium toner',\n",
       " 'the ordinary ascorbic acid 8%',\n",
       " 'bioderma sebium mat control cream',\n",
       " 'purlisse bb cream']"
      ]
     },
     "execution_count": 8,
     "metadata": {},
     "output_type": "execute_result"
    }
   ],
   "source": [
    "responses['am_routine'][0]"
   ]
  },
  {
   "cell_type": "code",
   "execution_count": 9,
   "metadata": {},
   "outputs": [],
   "source": [
    "# prior experience\n",
    "\n",
    "popular_brands = [\n",
    "    'La Roche Posay',\n",
    "    'Cerave', \n",
    "    'Cetaphil', \n",
    "    'Timeless Skincare', \n",
    "    'Skinceuticals', \n",
    "    'Stratia Skincare', \n",
    "    'Paula’s Choice', \n",
    "    'CosRX', \n",
    "    'The Ordinary', \n",
    "    'Drunk Elephant', \n",
    "    'Klairs', \n",
    "    'Inkey List', \n",
    "    'Farmacy ', \n",
    "    'First Aid Beauty'\n",
    "]\n",
    "\n",
    "popular_ingredients = [\n",
    "    'Vitamin C', \n",
    "    'Glycolic Acid', \n",
    "    'Lactic Acid', \n",
    "    'Mandelic Acid', \n",
    "    'Niacinamide', \n",
    "    'Retinol', \n",
    "    'Hydroxypinocolone Retinoate', \n",
    "    'Bakuchiol', \n",
    "    'Retinyl Palmitate', \n",
    "    'Ceramides', \n",
    "    'Salicylic Acid', \n",
    "    'Willow bark Extract', \n",
    "    'Adapalene', \n",
    "    'Sodium Lauryl Sulfate', \n",
    "    'Cocoamidopropyl Betaine', \n",
    "]"
   ]
  },
  {
   "cell_type": "code",
   "execution_count": 10,
   "metadata": {},
   "outputs": [],
   "source": [
    "routine = Routine(name=0, routine=responses['am_routine'][0])"
   ]
  },
  {
   "cell_type": "code",
   "execution_count": 11,
   "metadata": {},
   "outputs": [
    {
     "name": "stdout",
     "output_type": "stream",
     "text": [
      "No results for bioderma sebium toner on CosDNA.\n",
      "Enter new search:\n"
     ]
    },
    {
     "name": "stdin",
     "output_type": "stream",
     "text": [
      "(to skip search, enter 'SKIP' w/o quotes) SKIP\n"
     ]
    },
    {
     "name": "stdout",
     "output_type": "stream",
     "text": [
      "SKIP: bioderma sebium toner\n",
      "No results for bioderma sebium mat control cream on CosDNA.\n",
      "Enter new search:\n"
     ]
    },
    {
     "name": "stdin",
     "output_type": "stream",
     "text": [
      "(to skip search, enter 'SKIP' w/o quotes) SKIP\n"
     ]
    },
    {
     "name": "stdout",
     "output_type": "stream",
     "text": [
      "SKIP: bioderma sebium mat control cream\n",
      "[\"trader joe's all in one cleanser\", 'SKIP: bioderma sebium toner', 'the ordinary ascorbic acid 8%', 'SKIP: bioderma sebium mat control cream', 'purlisse bb cream']\n"
     ]
    }
   ],
   "source": [
    "routine.link_sync()\n",
    "print(routine.routine)"
   ]
  },
  {
   "cell_type": "code",
   "execution_count": 12,
   "metadata": {},
   "outputs": [
    {
     "data": {
      "text/plain": [
       "[('water', 2),\n",
       " ('phenoxyethanol', 2),\n",
       " ('ethylhexyl methoxycinnamate', 2),\n",
       " ('titanium dioxide', 2),\n",
       " ('zinc oxide', 2),\n",
       " ('peg-80 sorbitan laurate', 1),\n",
       " ('cocamidopropyl betaine', 1),\n",
       " ('sodium trideceth sulfate', 1),\n",
       " ('sodium lauroamphoacetate', 1),\n",
       " ('peg 150 distearate', 1)]"
      ]
     },
     "execution_count": 12,
     "metadata": {},
     "output_type": "execute_result"
    }
   ],
   "source": [
    "routine.top"
   ]
  },
  {
   "cell_type": "code",
   "execution_count": 14,
   "metadata": {},
   "outputs": [
    {
     "data": {
      "text/plain": [
       "['propanediol', 'ascorbic acid (8%)', 'alpha-arbutin (2%)']"
      ]
     },
     "execution_count": 14,
     "metadata": {},
     "output_type": "execute_result"
    }
   ],
   "source": [
    "routine.products[2].ingredients"
   ]
  },
  {
   "cell_type": "code",
   "execution_count": null,
   "metadata": {},
   "outputs": [],
   "source": [
    "for ingredient in popular_ingredients:\n",
    "    print(ingredient)\n",
    "    print(routine.has(ingredient))\n",
    "    print()"
   ]
  },
  {
   "cell_type": "code",
   "execution_count": null,
   "metadata": {},
   "outputs": [],
   "source": [
    "routine.top_ingredients()"
   ]
  },
  {
   "cell_type": "code",
   "execution_count": null,
   "metadata": {},
   "outputs": [],
   "source": [
    "for i in routine.top_ingredients():\n",
    "    for k, v in i:\n",
    "        print(k)"
   ]
  },
  {
   "cell_type": "code",
   "execution_count": null,
   "metadata": {},
   "outputs": [],
   "source": [
    "routine._routine_dict"
   ]
  },
  {
   "cell_type": "code",
   "execution_count": null,
   "metadata": {},
   "outputs": [],
   "source": [
    "master_dict = {}\n",
    "\n",
    "for k, v in routine._routine_dict.items():\n",
    "    base_url = 'https://cosdna.com/eng/'\n",
    "    driver.get(base_url + k + '.html')\n",
    "    ingredient = input('preferred name: ')\n",
    "    if ingredient == 'BREAK':\n",
    "        break\n",
    "    elif ingredient == '':\n",
    "        pass\n",
    "    else:\n",
    "        master_dict[k] = ingredient"
   ]
  },
  {
   "cell_type": "code",
   "execution_count": null,
   "metadata": {},
   "outputs": [],
   "source": [
    "master_dict"
   ]
  },
  {
   "cell_type": "code",
   "execution_count": null,
   "metadata": {},
   "outputs": [],
   "source": [
    "routine._routine_dict.keys()"
   ]
  },
  {
   "cell_type": "code",
   "execution_count": null,
   "metadata": {},
   "outputs": [],
   "source": [
    "def ingredient_dict_builder(routine, dict_, ids):\n",
    "    for k, v in routine._routine_dict.items():\n",
    "        if k in ids:\n",
    "            pass\n",
    "        base_url = 'https://cosdna.com/eng/'\n",
    "        driver.get(base_url + k + '.html')\n",
    "        ingredient = input('preferred name: ')\n",
    "        if ingredient == 'BREAK':\n",
    "            break\n",
    "        elif ingredient == '':\n",
    "            pass\n",
    "        else:\n",
    "            dict_[k] = ingredient"
   ]
  },
  {
   "cell_type": "code",
   "execution_count": null,
   "metadata": {},
   "outputs": [],
   "source": [
    "ids = set()"
   ]
  },
  {
   "cell_type": "code",
   "execution_count": null,
   "metadata": {},
   "outputs": [],
   "source": [
    "for k in routine._routine_dict.keys():\n",
    "    ids.add(k)"
   ]
  },
  {
   "cell_type": "code",
   "execution_count": null,
   "metadata": {},
   "outputs": [],
   "source": [
    "am_routines = []\n",
    "for i, routine in enumerate(responses['am_routine']):\n",
    "    am_routines.append(Routine(name=i, routine=routine).link_sync())\n",
    "    time.sleep(2)\n",
    "    print(f\"{i+1} of {len(responses['am_routine'])}\")"
   ]
  },
  {
   "cell_type": "code",
   "execution_count": null,
   "metadata": {},
   "outputs": [],
   "source": [
    "am_routines"
   ]
  },
  {
   "cell_type": "code",
   "execution_count": null,
   "metadata": {},
   "outputs": [],
   "source": [
    "am_routines[0]"
   ]
  },
  {
   "cell_type": "code",
   "execution_count": 13,
   "metadata": {},
   "outputs": [
    {
     "name": "stdout",
     "output_type": "stream",
     "text": [
      "{}\n"
     ]
    }
   ],
   "source": [
    "keys = []\n",
    "values = []\n",
    "dict_ = dict(zip(keys, values))\n",
    "print(dict_)"
   ]
  },
  {
   "cell_type": "code",
   "execution_count": null,
   "metadata": {},
   "outputs": [],
   "source": []
  }
 ],
 "metadata": {
  "kernelspec": {
   "display_name": "Python 3",
   "language": "python",
   "name": "python3"
  },
  "language_info": {
   "codemirror_mode": {
    "name": "ipython",
    "version": 3
   },
   "file_extension": ".py",
   "mimetype": "text/x-python",
   "name": "python",
   "nbconvert_exporter": "python",
   "pygments_lexer": "ipython3",
   "version": "3.7.3"
  }
 },
 "nbformat": 4,
 "nbformat_minor": 4
}
