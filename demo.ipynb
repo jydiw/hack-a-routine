{
 "cells": [
  {
   "cell_type": "code",
   "execution_count": 1,
   "metadata": {},
   "outputs": [],
   "source": [
    "import numpy as np\n",
    "import pandas as pd\n",
    "import re\n",
    "import time\n",
    "import pickle\n",
    "import pprint\n",
    "from glob import glob\n",
    "\n",
    "from selenium import webdriver\n",
    "\n",
    "from hackaroutine import Ingredient, Product, Routine"
   ]
  },
  {
   "cell_type": "code",
   "execution_count": 2,
   "metadata": {},
   "outputs": [],
   "source": [
    "# CHROMEDRIVER_PATH = '/Users/Jelly/Documents/googledrive/chromedriver/macos/chromedriver'\n",
    "CHROMEDRIVER_PATH = 'C:/chromedriver_win32/chromedriver.exe'"
   ]
  },
  {
   "cell_type": "code",
   "execution_count": null,
   "metadata": {},
   "outputs": [],
   "source": [
    "driver = webdriver.Chrome(CHROMEDRIVER_PATH)"
   ]
  },
  {
   "cell_type": "code",
   "execution_count": 3,
   "metadata": {},
   "outputs": [
    {
     "output_type": "execute_result",
     "data": {
      "text/plain": "['./data\\\\brands.csv',\n './data\\\\recommendations_2020-05-05.csv',\n './data\\\\responses_2020-05-05.csv',\n './data\\\\responses_modified_2020-05-05.csv']"
     },
     "metadata": {},
     "execution_count": 3
    }
   ],
   "source": [
    "file_list = glob('./data/*.csv')\n",
    "file_list"
   ]
  },
  {
   "cell_type": "code",
   "execution_count": 4,
   "metadata": {},
   "outputs": [
    {
     "output_type": "execute_result",
     "data": {
      "text/plain": "            timestamp    skin_type cannot_contain  \\\n0  4/30/2020 12:43:32  Combination           None   \n1  4/30/2020 12:45:25  Combination   No allergies   \n\n                                        skin_concern  \\\n0            Acne, Pigmentation, Fine lines/wrinkles   \n1  Acne, Fine lines/wrinkles, Skin Texture (rough...   \n\n                                          am_routine  \\\n0  trader joe's all in one cleanser, bioderma seb...   \n1  Biore Charcoal Acne Clearing Cleanser, Kiel's ...   \n\n                                          pm_routine  \\\n0  trader joe's all in one cleanser, Bioderma Seb...   \n1                                                NaN   \n\n                            climate  \\\n0  Temperate, a lovely 70F (lucky!)   \n1                   Tropical, humid   \n\n                                  skin_sensitivities  \\\n0  I broke out from Cosrx snail serum and from Ma...   \n1                                                No.   \n\n                   used_retinoids  \\\n0  Differing 0.1% for four years    \n1                             No.   \n\n                                          used_acids  \\\n0  I prefer toners with acids as masks with AHA s...   \n1                                                No.   \n\n                                  prone_to_breakouts  \\\n0  I have mild to moderate acne that I have been ...   \n1  Yes. They are usually cystic and around my cyc...   \n\n                                       miscellaneous permission  \n0   I have a super oily forehead, oily nose and c...        Yes  \n1                                       I need help.        Yes  ",
      "text/html": "<div>\n<style scoped>\n    .dataframe tbody tr th:only-of-type {\n        vertical-align: middle;\n    }\n\n    .dataframe tbody tr th {\n        vertical-align: top;\n    }\n\n    .dataframe thead th {\n        text-align: right;\n    }\n</style>\n<table border=\"1\" class=\"dataframe\">\n  <thead>\n    <tr style=\"text-align: right;\">\n      <th></th>\n      <th>timestamp</th>\n      <th>skin_type</th>\n      <th>cannot_contain</th>\n      <th>skin_concern</th>\n      <th>am_routine</th>\n      <th>pm_routine</th>\n      <th>climate</th>\n      <th>skin_sensitivities</th>\n      <th>used_retinoids</th>\n      <th>used_acids</th>\n      <th>prone_to_breakouts</th>\n      <th>miscellaneous</th>\n      <th>permission</th>\n    </tr>\n  </thead>\n  <tbody>\n    <tr>\n      <th>0</th>\n      <td>4/30/2020 12:43:32</td>\n      <td>Combination</td>\n      <td>None</td>\n      <td>Acne, Pigmentation, Fine lines/wrinkles</td>\n      <td>trader joe's all in one cleanser, bioderma seb...</td>\n      <td>trader joe's all in one cleanser, Bioderma Seb...</td>\n      <td>Temperate, a lovely 70F (lucky!)</td>\n      <td>I broke out from Cosrx snail serum and from Ma...</td>\n      <td>Differing 0.1% for four years</td>\n      <td>I prefer toners with acids as masks with AHA s...</td>\n      <td>I have mild to moderate acne that I have been ...</td>\n      <td>I have a super oily forehead, oily nose and c...</td>\n      <td>Yes</td>\n    </tr>\n    <tr>\n      <th>1</th>\n      <td>4/30/2020 12:45:25</td>\n      <td>Combination</td>\n      <td>No allergies</td>\n      <td>Acne, Fine lines/wrinkles, Skin Texture (rough...</td>\n      <td>Biore Charcoal Acne Clearing Cleanser, Kiel's ...</td>\n      <td>NaN</td>\n      <td>Tropical, humid</td>\n      <td>No.</td>\n      <td>No.</td>\n      <td>No.</td>\n      <td>Yes. They are usually cystic and around my cyc...</td>\n      <td>I need help.</td>\n      <td>Yes</td>\n    </tr>\n  </tbody>\n</table>\n</div>"
     },
     "metadata": {},
     "execution_count": 4
    }
   ],
   "source": [
    "responses = pd.read_csv(file_list[3])\n",
    "new_columns = [\n",
    "    'timestamp',\n",
    "    'skin_type',\n",
    "    'cannot_contain',\n",
    "    'skin_concern',\n",
    "    'am_routine',\n",
    "    'pm_routine',\n",
    "    'climate',\n",
    "    'skin_sensitivities',\n",
    "    'used_retinoids',\n",
    "    'used_acids',\n",
    "    'prone_to_breakouts',\n",
    "    'miscellaneous',\n",
    "    'permission'\n",
    "]\n",
    "responses.columns = new_columns\n",
    "responses.head(2)"
   ]
  },
  {
   "cell_type": "code",
   "execution_count": 5,
   "metadata": {},
   "outputs": [
    {
     "output_type": "stream",
     "name": "stdout",
     "text": "0    [trader joe's all in one cleanser, bioderma se...\n1    [biore charcoal acne clearing cleanser, kiel's...\nName: am_routine, dtype: object\n0    [trader joe's all in one cleanser, bioderma se...\n1                                                  NaN\nName: pm_routine, dtype: object\n"
    }
   ],
   "source": [
    "routine_columns = ['am_routine', 'pm_routine']\n",
    "\n",
    "for col in routine_columns:\n",
    "    responses[col] = responses[col].str.lower().str.replace(';', ',')\\\n",
    "                     .str.replace('\\n', ',').str.split(r'\\,+\\s*')\n",
    "    print(responses[col][:2])"
   ]
  },
  {
   "cell_type": "code",
   "execution_count": 6,
   "metadata": {},
   "outputs": [
    {
     "output_type": "execute_result",
     "data": {
      "text/plain": "0    [trader joe's all in one cleanser, bioderma se...\n1    [biore charcoal acne clearing cleanser, kiel's...\n2    [drunk elephant beste no. 9 jelly cleanser, pa...\n3    [paula's choice enriched calming toner, timele...\n4    [osea ocean cleanser, renee rouleau elderberry...\nName: am_routine, dtype: object"
     },
     "metadata": {},
     "execution_count": 6
    }
   ],
   "source": [
    "responses['am_routine'][:5]"
   ]
  },
  {
   "cell_type": "code",
   "execution_count": 7,
   "metadata": {},
   "outputs": [],
   "source": [
    "def routine_analyzer(routine):\n",
    "    print(f'{len(routines)} routines')\n",
    "    start = int(input('start:'))\n",
    "    end = int(input('end:'))\n",
    "    routine_objects = []\n",
    "    cosdna_names = []\n",
    "    for i in range(start - 1, end):\n",
    "        print(f'{i + 1} of {end} ({len(routines)})')\n",
    "        text = input('proceed?')\n",
    "        if text == 'break':\n",
    "            break\n",
    "        elif text == 'skip':\n",
    "            continue\n",
    "        else:\n",
    "            routine = Routine(name=i, routine=routines[i])\n",
    "            routine.link_sync()\n",
    "            routine_objects.append(routine)\n",
    "            cosdna_names.append(routine.routine)\n",
    "    return routine_objects, cosdna_names"
   ]
  },
  {
   "cell_type": "code",
   "execution_count": 8,
   "metadata": {},
   "outputs": [],
   "source": [
    "with open('./data/am_routine_objects.pickle', 'rb') as handle:\n",
    "    am_routine_objects = pickle.load(handle)\n",
    "\n",
    "with open('./data/am_cosdna_names.pickle', 'rb') as handle:\n",
    "    am_cosdna_names = pickle.load(handle)"
   ]
  },
  {
   "cell_type": "code",
   "execution_count": 9,
   "metadata": {},
   "outputs": [
    {
     "output_type": "execute_result",
     "data": {
      "text/plain": "[[\"trader joe's all in one cleanser\",\n  'bioderma sébium h2o water (up-to-date)!',\n  'the ordinary ascorbic acid 8%',\n  'bioderma sébium mat control',\n  'purlisse bb cream'],\n ['biore charcoal acne clearing cleanser',\n  \"kiehl's powerful-strength line-reducing concentrate 12.5% vitamin c\",\n  'neutrogena rapid clear stubborn acne spot gel',\n  'roc retinol correxion',\n  'body merry retinol surge moisturizer'],\n ['drunk elephant beste no. 9 jelly cleanser',\n  \"paula's choice skin balancing pore-reducing toner\",\n  \"paula's choice boost 10% niacinamide booster\",\n  \"paula's choice boost 10% azelaic acid booster\",\n  'cerave pm facial moisturizing lotion',\n  'eltamd uv clear broad-spectrum spf 46'],\n [\"paula's choice skin recovery enriched calming toner\",\n  'timeless 20% vitamin c serum',\n  'the ordinary niacinamide',\n  'the ordinary hyaluronic acid',\n  'cerave am facial moisturizing lotion spf 30',\n  'cerave hydrating sunscreen spf 30 sheer tint '],\n ['osea ocean cleanser',\n  'renee rouleau elderberry toner',\n  'renee rouleau sheer moisture',\n  'renee rouleau skin recovery lotion',\n  'bare minerals complexion rescue']]"
     },
     "metadata": {},
     "execution_count": 9
    }
   ],
   "source": [
    "am_cosdna_names[:5]"
   ]
  },
  {
   "cell_type": "code",
   "execution_count": 10,
   "metadata": {},
   "outputs": [],
   "source": [
    "routines = responses['am_routine']"
   ]
  },
  {
   "cell_type": "code",
   "execution_count": null,
   "metadata": {},
   "outputs": [],
   "source": [
    "print(f'{len(routines)} routines')\n",
    "\n",
    "start = int(input('start:'))\n",
    "end = int(input('end:'))\n",
    "\n",
    "for i in range(start - 1, end):\n",
    "    print(f'{i + 1} of {end} ({len(routines)})')\n",
    "    text = input('proceed?')\n",
    "    if text == 'break':\n",
    "        break\n",
    "    elif text == 'skip':\n",
    "        continue\n",
    "    else:\n",
    "        routine = Routine(name=i, routine=routines[i])\n",
    "        routine.link_sync()\n",
    "        am_routine_objects.append(routine)\n",
    "        am_cosdna_names.append(routine.routine)"
   ]
  },
  {
   "cell_type": "code",
   "execution_count": 11,
   "metadata": {},
   "outputs": [
    {
     "output_type": "execute_result",
     "data": {
      "text/plain": "['papaya & vitamin c revive & brighten bar soap',\n '',\n 'stridex single-step acne contro maximum alcohol free',\n 'timeless vitamin c',\n 'mad hippie vitamin c serum',\n 'kikumasamune high moist lotion',\n 'hada labo gokujyun premium hyaluronic acid lotion',\n 'heritage products rosewater and glycerin',\n 'unscented vanicream moisturizing skin cream',\n 'australian gold botanical spf 50 tinted face mineral lotion']"
     },
     "metadata": {},
     "execution_count": 11
    }
   ],
   "source": [
    "routines[12]"
   ]
  },
  {
   "cell_type": "code",
   "execution_count": 12,
   "metadata": {},
   "outputs": [
    {
     "output_type": "stream",
     "name": "stdout",
     "text": "No results for papaya & vitamin c revive & brighten bar soap on CosDNA.\nEnter new search (to skip search, enter 'SKIP' w/o quotes):\nNo results for stridex single-step acne contro maximum alcohol free on CosDNA.\nEnter new search (to skip search, enter 'SKIP' w/o quotes):\nNo results for heritage products rosewater and glycerin on CosDNA.\nEnter new search (to skip search, enter 'SKIP' w/o quotes):\n"
    }
   ],
   "source": [
    "twelve = Routine(routine=routines[12])\n",
    "twelve.link_sync()"
   ]
  },
  {
   "cell_type": "code",
   "execution_count": 13,
   "metadata": {},
   "outputs": [
    {
     "output_type": "execute_result",
     "data": {
      "text/plain": "['papaya & vitamin c revive & brighten bar soap',\n 'stridex maximum alcohol free',\n 'timeless vitamin c',\n 'mad hippie vitamin c serum',\n 'kikumasamune high moist lotion',\n 'hada-labo gokujyun premium hyaluronic acid lotion',\n 'heritage rosewater',\n 'unscented vanicream moisturizing skin cream',\n 'australian gold botanical spf 50 tinted face mineral lotion']"
     },
     "metadata": {},
     "execution_count": 13
    }
   ],
   "source": [
    "twelve.routine"
   ]
  },
  {
   "cell_type": "code",
   "execution_count": 19,
   "metadata": {},
   "outputs": [
    {
     "output_type": "execute_result",
     "data": {
      "text/plain": "['ammonium lauryl sulfate',\n 'ammonium xylenesulfonate',\n 'citric acid',\n 'dmdm hydantoin',\n 'fragrance',\n 'menthol',\n 'ppg-5-ceteth-20',\n 'purified water',\n 'simethicone',\n 'sodium borate',\n 'tetrasodium edta']"
     },
     "metadata": {},
     "execution_count": 19
    }
   ],
   "source": [
    "twelve.products[1].ingredients"
   ]
  },
  {
   "cell_type": "code",
   "execution_count": 20,
   "metadata": {},
   "outputs": [],
   "source": [
    "stridex = Product('stridex maximum alcohol free')\n",
    "stridex.link_sync()"
   ]
  },
  {
   "cell_type": "code",
   "execution_count": 21,
   "metadata": {},
   "outputs": [
    {
     "output_type": "execute_result",
     "data": {
      "text/plain": "['ammonium lauryl sulfate',\n 'ammonium xylenesulfonate',\n 'citric acid',\n 'dmdm hydantoin',\n 'fragrance',\n 'menthol',\n 'ppg-5-ceteth-20',\n 'purified water',\n 'simethicone',\n 'sodium borate',\n 'tetrasodium edta']"
     },
     "metadata": {},
     "execution_count": 21
    }
   ],
   "source": [
    "stridex.ingredients"
   ]
  },
  {
   "cell_type": "code",
   "execution_count": null,
   "metadata": {},
   "outputs": [],
   "source": [
    "papaya = Product('papaya & vitamin c revive & brighten bar soap')"
   ]
  },
  {
   "cell_type": "code",
   "execution_count": null,
   "metadata": {},
   "outputs": [],
   "source": [
    "papaya.link_sync()"
   ]
  },
  {
   "cell_type": "code",
   "execution_count": null,
   "metadata": {},
   "outputs": [],
   "source": [
    "papaya._skip"
   ]
  },
  {
   "cell_type": "code",
   "execution_count": null,
   "metadata": {},
   "outputs": [],
   "source": [
    "am_routine_objects"
   ]
  },
  {
   "cell_type": "code",
   "execution_count": null,
   "metadata": {},
   "outputs": [],
   "source": [
    "# resume at 13 after debugging\n",
    "\n",
    "with open('./data/am_routine_objects.pickle', 'wb') as handle:\n",
    "    pickle.dump(am_routine_objects, handle, protocol=pickle.HIGHEST_PROTOCOL)\n",
    "\n",
    "with open('./data/am_cosdna_names.pickle', 'wb') as handle:\n",
    "    pickle.dump(am_cosdna_names, handle, protocol=pickle.HIGHEST_PROTOCOL)"
   ]
  },
  {
   "cell_type": "code",
   "execution_count": null,
   "metadata": {},
   "outputs": [],
   "source": [
    "# big_list = []\n",
    "# for routine in responses['am_routine']:\n",
    "#     for product in routine:\n",
    "#         big_list.append(product)"
   ]
  },
  {
   "cell_type": "code",
   "execution_count": null,
   "metadata": {},
   "outputs": [],
   "source": [
    "# prior experience\n",
    "\n",
    "popular_brands = [\n",
    "    'La Roche Posay',\n",
    "    'Cerave', \n",
    "    'Cetaphil', \n",
    "    'Timeless Skincare', \n",
    "    'Skinceuticals', \n",
    "    'Stratia Skincare', \n",
    "    'Paula’s Choice', \n",
    "    'CosRX', \n",
    "    'The Ordinary', \n",
    "    'Drunk Elephant', \n",
    "    'Klairs', \n",
    "    'Inkey List', \n",
    "    'Farmacy ', \n",
    "    'First Aid Beauty'\n",
    "]\n",
    "\n",
    "popular_ingredients = [\n",
    "    'Vitamin C', \n",
    "    'Glycolic Acid', \n",
    "    'Lactic Acid', \n",
    "    'Mandelic Acid', \n",
    "    'Niacinamide', \n",
    "    'Retinol', \n",
    "    'Hydroxypinocolone Retinoate', \n",
    "    'Bakuchiol', \n",
    "    'Retinyl Palmitate', \n",
    "    'Ceramides', \n",
    "    'Salicylic Acid', \n",
    "    'Willow bark Extract', \n",
    "    'Adapalene', \n",
    "    'Sodium Lauryl Sulfate', \n",
    "    'Cocoamidopropyl Betaine', \n",
    "]"
   ]
  },
  {
   "cell_type": "code",
   "execution_count": null,
   "metadata": {},
   "outputs": [],
   "source": [
    "tick = time.time()\n",
    "n = 3\n",
    "routine = Routine(name=n, routine=responses['am_routine'][n])\n",
    "routine.link_sync()\n",
    "print(routine.routine)\n",
    "tock = time.time()\n",
    "print(f'{tock - tick} s')"
   ]
  },
  {
   "cell_type": "code",
   "execution_count": null,
   "metadata": {},
   "outputs": [],
   "source": [
    "from sklearn.feature_extraction import DictVectorizer"
   ]
  },
  {
   "cell_type": "code",
   "execution_count": null,
   "metadata": {},
   "outputs": [],
   "source": [
    "dv = DictVectorizer(sparse=True)\n",
    "features = dv.fit_transform(dict(routine.top_ingredients()))"
   ]
  },
  {
   "cell_type": "code",
   "execution_count": null,
   "metadata": {},
   "outputs": [],
   "source": [
    "routine.has('1,3-butanediol')"
   ]
  },
  {
   "cell_type": "code",
   "execution_count": null,
   "metadata": {},
   "outputs": [],
   "source": [
    "routine.routine"
   ]
  },
  {
   "cell_type": "code",
   "execution_count": null,
   "metadata": {},
   "outputs": [],
   "source": [
    "for ingredient in popular_ingredients:\n",
    "    print(ingredient)\n",
    "    print(routine.has(ingredient))\n",
    "    print()"
   ]
  },
  {
   "cell_type": "markdown",
   "metadata": {},
   "source": [
    "## string grouper demo\n",
    "\n",
    "string_grouper is giving me a hard time, so i am going to do this manually according to:\n",
    "https://bergvca.github.io/2017/10/14/super-fast-string-matching.html"
   ]
  },
  {
   "cell_type": "code",
   "execution_count": null,
   "metadata": {},
   "outputs": [],
   "source": [
    "import json\n",
    "from string_grouper import match_strings, match_most_similar, group_similar_strings, StringGrouper"
   ]
  },
  {
   "cell_type": "code",
   "execution_count": null,
   "metadata": {},
   "outputs": [],
   "source": [
    "with open('./data/big_dict.json', 'rb') as handle:\n",
    "    big_dict = json.load(handle)"
   ]
  },
  {
   "cell_type": "code",
   "execution_count": null,
   "metadata": {},
   "outputs": [],
   "source": [
    "product_list = pd.read_json('./data/big_dict.json', orient='index').reset_index(level=0)\n",
    "product_list.columns = ['name', 'brand', 'product']\n",
    "product_list.head()"
   ]
  },
  {
   "cell_type": "code",
   "execution_count": null,
   "metadata": {},
   "outputs": [],
   "source": [
    "product_list['name']"
   ]
  },
  {
   "cell_type": "code",
   "execution_count": null,
   "metadata": {},
   "outputs": [],
   "source": [
    "# matches = match_most_similar(product_list['name'], sample_list)\n",
    "# pd.DataFrame({'sample_list': sample_list, 'matches': matches})"
   ]
  },
  {
   "cell_type": "code",
   "execution_count": null,
   "metadata": {},
   "outputs": [],
   "source": [
    "import re\n",
    "import unidecode\n",
    "from sklearn.feature_extraction.text import TfidfVectorizer\n",
    "from sklearn.neighbors import NearestNeighbors"
   ]
  },
  {
   "cell_type": "code",
   "execution_count": null,
   "metadata": {},
   "outputs": [],
   "source": [
    "# def ngrams(string, n=3):\n",
    "#     string = re.sub(r'[,-./]|\\s',r'', string)\n",
    "#     ngrams = zip(*[string[i:] for i in range(n)])\n",
    "#     return [''.join(ngram) for ngram in ngrams]\n",
    "\n",
    "def ngrams(string, n=3):\n",
    "    string = unidecode.unidecode(string)\n",
    "    string = string.lower()\n",
    "    chars_to_remove = [\")\", \"(\", \".\", \"|\", \"[\", \"]\", \"{\", \"}\", \"'\", '\"', \n",
    "                       \"?\", \"!\"]\n",
    "    punctuation = '[' + re.escape(''.join(chars_to_remove)) + ']'\n",
    "    string = re.sub(punctuation, '', string)\n",
    "    string = string.replace('&', 'and')\n",
    "    string = string.replace(',', ' ')\n",
    "    string = string.replace('-', ' ')\n",
    "    string = re.sub(' +',' ',string).strip()\n",
    "    string = ' '*(n-1) + string +' '*(n-1) # pad names for ngrams...\n",
    "    ngrams = zip(*[string[i:] for i in range(n)])\n",
    "    return [''.join(ngram) for ngram in ngrams]\n",
    "\n",
    "# vectorizer = TfidfVectorizer(min_df=1, analyzer=ngrams)\n",
    "# matrix = vectorizer.fit_transform(sample_list)"
   ]
  },
  {
   "cell_type": "code",
   "execution_count": null,
   "metadata": {},
   "outputs": [],
   "source": [
    "ngrams('Lancôme')"
   ]
  },
  {
   "cell_type": "code",
   "execution_count": null,
   "metadata": {},
   "outputs": [],
   "source": [
    "print(matrix[0])\n",
    "print(ngrams(sample_list[0]))"
   ]
  },
  {
   "cell_type": "code",
   "execution_count": null,
   "metadata": {},
   "outputs": [],
   "source": [
    "# https://caserta.com/data-blog/string-matching-record-linkage-python-strategies/\n",
    "\n",
    "def tfidf_match(list1, list2, sort=False):\n",
    "    \"\"\"For each item in list1, find the match in list2\"\"\"\n",
    "\n",
    "    list1c = list1.copy()\n",
    "    list2c = list2.copy()\n",
    "\n",
    "    def split_sorter(name):\n",
    "        split = re.split(' +', name)\n",
    "        split.sort()\n",
    "        return ' '.join(split)\n",
    "\n",
    "    if sort:\n",
    "        list1c = [split_sorter(e) for e in list1c]\n",
    "        list2c = [split_sorter(e) for e in list2c]\n",
    "            \n",
    "    vectorizer = TfidfVectorizer(analyzer=ngrams, lowercase=True)\n",
    "    tfidf = vectorizer.fit_transform(list2c)\n",
    "    nbrs = NearestNeighbors(n_neighbors=1, n_jobs=-1).fit(tfidf)\n",
    "    distances, indices = nbrs.kneighbors(vectorizer.transform(list1c))\n",
    "    \n",
    "    matches = [(round(distances[i][0], 2), list1[i], list2[j[0]]) \n",
    "               for i, j in enumerate(indices)]\n",
    "    matches = pd.DataFrame(matches, \n",
    "                           columns=['distance', 'input', 'matched'])\n",
    "    return matches"
   ]
  },
  {
   "cell_type": "code",
   "execution_count": null,
   "metadata": {},
   "outputs": [],
   "source": [
    "def split_sorter(name):\n",
    "    split = re.split(' +', name)\n",
    "    split.sort()\n",
    "    return ' '.join(split)"
   ]
  },
  {
   "cell_type": "code",
   "execution_count": null,
   "metadata": {},
   "outputs": [],
   "source": [
    "split_sorter(\"kiehl's vitamin c serum powerful-strength\")"
   ]
  },
  {
   "cell_type": "code",
   "execution_count": null,
   "metadata": {},
   "outputs": [],
   "source": [
    "tick = time.time()\n",
    "kiehls = [\n",
    "    \"Kiel's Powerful-Strength Line-Reducing Concentrate 12.5% Vitamin C Serum\",\n",
    "    \"kiehl's vitamin c serum powerful-strength\",\n",
    "    \"Kiehl's Calendula hydrating mask 5 minute\",\n",
    "    \"Kiehl's Blue Herbal Acne Cleansing Treatment\",\n",
    "    \"Kiehl's ultrafacial toner\"\n",
    "]\n",
    "matches = tfidf_match(kiehls, product_list['name'], sort=True)\n",
    "tock = time.time()\n",
    "print(f'{tock - tick} s')\n",
    "matches"
   ]
  },
  {
   "cell_type": "code",
   "execution_count": null,
   "metadata": {},
   "outputs": [],
   "source": [
    "split = kiehls[0].split(' ')\n",
    "split.sort()"
   ]
  },
  {
   "cell_type": "code",
   "execution_count": null,
   "metadata": {},
   "outputs": [],
   "source": [
    "split"
   ]
  },
  {
   "cell_type": "code",
   "execution_count": null,
   "metadata": {},
   "outputs": [],
   "source": [
    "lrp = [\n",
    "    \"La Roche-Posay tinted Anthelios 50 Mineral Sunscreen\",\n",
    "    \"La Roche Posay Medicated Gel Cleanser\",\n",
    "    \"La Roche-Posay Tolerane makeup remover\"\n",
    "]\n",
    "tfidf_match(lrp, product_list['name'])"
   ]
  },
  {
   "cell_type": "code",
   "execution_count": null,
   "metadata": {},
   "outputs": [],
   "source": [
    "english = [\n",
    "    'first i use la roche posay effaclare cleanser', \n",
    "    'then moisturize using kiehls super multi corrective cream',\n",
    "    'then kiehls facial fuel sunblock if i go outside']\n",
    "\n",
    "tfidf_match(english, product_list['name'], sort=True)"
   ]
  },
  {
   "cell_type": "markdown",
   "metadata": {},
   "source": [
    "## using rapidfuzz"
   ]
  },
  {
   "cell_type": "code",
   "execution_count": null,
   "metadata": {},
   "outputs": [],
   "source": [
    "from rapidfuzz import fuzz\n",
    "from rapidfuzz import process"
   ]
  },
  {
   "cell_type": "code",
   "execution_count": null,
   "metadata": {},
   "outputs": [],
   "source": [
    "process.extractOne(\n",
    "    \"La Roche-Posay Tolerane makeup remover\", \n",
    "    product_list['name']\n",
    "    )"
   ]
  },
  {
   "cell_type": "code",
   "execution_count": null,
   "metadata": {},
   "outputs": [],
   "source": []
  },
  {
   "cell_type": "markdown",
   "metadata": {},
   "source": [
    "## common ingredient dictionary"
   ]
  },
  {
   "cell_type": "code",
   "execution_count": null,
   "metadata": {},
   "outputs": [],
   "source": [
    "with open('./data/master_dict.pickle', 'rb') as handle:\n",
    "    master_dict = pickle.load(handle)"
   ]
  },
  {
   "cell_type": "code",
   "execution_count": null,
   "metadata": {},
   "outputs": [],
   "source": [
    "def ingredient_dict_builder(routine_dict, master_dict):\n",
    "    base_url = 'https://cosdna.com/eng/'\n",
    "    filtered_dict = {k:v for k,v in routine_dict.items() if k not in master_dict.keys()}\n",
    "    for k, v in filtered_dict.items():\n",
    "        driver.get(base_url + k + '.html')\n",
    "        print(f'{k}: {v}')\n",
    "        ingredient = input('preferred name: ')\n",
    "        if ingredient == 'BREAK':\n",
    "            break\n",
    "        elif ingredient == '':\n",
    "            master_dict[k] = v\n",
    "        else:\n",
    "            master_dict[k] = ingredient\n",
    "    return master_dict"
   ]
  },
  {
   "cell_type": "code",
   "execution_count": null,
   "metadata": {},
   "outputs": [],
   "source": [
    "am_routines = []\n",
    "for rout in responses['am_routine']:\n",
    "    routine = Routine(name=i, routine=responses['am_routine'][i])\n",
    "    routine.link_sync()\n",
    "#     master_dict = ingredient_dict_builder(routine._routine_dict, master_dict)\n",
    "    am_routines.append(routine)"
   ]
  },
  {
   "cell_type": "code",
   "execution_count": null,
   "metadata": {},
   "outputs": [],
   "source": [
    "for i in range(5, 10):\n",
    "    routine = Routine(name=i, routine=responses['am_routine'][i])\n",
    "    routine.link_sync()\n",
    "    master_dict= ingredient_dict_builder(routine._routine_dict, master_dict)"
   ]
  },
  {
   "cell_type": "code",
   "execution_count": null,
   "metadata": {},
   "outputs": [],
   "source": [
    "master_dict"
   ]
  },
  {
   "cell_type": "code",
   "execution_count": null,
   "metadata": {},
   "outputs": [],
   "source": [
    "# saving pickle\n",
    "with open('./data/master_dict.pickle', 'wb') as handle:\n",
    "    pickle.dump(master_dict, handle, protocol=pickle.HIGHEST_PROTOCOL)"
   ]
  }
 ],
 "metadata": {
  "kernelspec": {
   "display_name": "Python 3.7.4 64-bit ('base': conda)",
   "language": "python",
   "name": "python37464bitbaseconda02ec2a07eb85407987cf410ca1df4ebc"
  },
  "language_info": {
   "codemirror_mode": {
    "name": "ipython",
    "version": 3
   },
   "file_extension": ".py",
   "mimetype": "text/x-python",
   "name": "python",
   "nbconvert_exporter": "python",
   "pygments_lexer": "ipython3",
   "version": "3.7.4-final"
  }
 },
 "nbformat": 4,
 "nbformat_minor": 4
}