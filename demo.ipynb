{
 "cells": [
  {
   "cell_type": "code",
   "execution_count": 46,
   "metadata": {},
   "outputs": [],
   "source": [
    "import numpy as np\n",
    "import pandas as pd\n",
    "import re\n",
    "import time\n",
    "import pickle\n",
    "import pprint\n",
    "from glob import glob\n",
    "\n",
    "from selenium import webdriver\n",
    "\n",
    "from hackaroutine import Ingredient, Product, Routine"
   ]
  },
  {
   "cell_type": "code",
   "execution_count": 2,
   "metadata": {},
   "outputs": [],
   "source": [
    "# CHROMEDRIVER_PATH = '/Users/Jelly/Documents/googledrive/chromedriver/macos/chromedriver'\n",
    "CHROMEDRIVER_PATH = 'C:/chromedriver_win32/chromedriver.exe'"
   ]
  },
  {
   "cell_type": "code",
   "execution_count": 3,
   "metadata": {},
   "outputs": [],
   "source": [
    "driver = webdriver.Chrome(CHROMEDRIVER_PATH)"
   ]
  },
  {
   "cell_type": "code",
   "execution_count": 4,
   "metadata": {},
   "outputs": [
    {
     "output_type": "execute_result",
     "data": {
      "text/plain": "['./data\\\\brands.csv',\n './data\\\\recommendations_2020-05-05.csv',\n './data\\\\responses_2020-05-05.csv',\n './data\\\\responses_modified_2020-05-05.csv']"
     },
     "metadata": {},
     "execution_count": 4
    }
   ],
   "source": [
    "file_list = glob('./data/*.csv')\n",
    "file_list"
   ]
  },
  {
   "cell_type": "code",
   "execution_count": 5,
   "metadata": {},
   "outputs": [
    {
     "output_type": "execute_result",
     "data": {
      "text/plain": "            Timestamp What's your skin type?  \\\n0  4/30/2020 12:43:32            Combination   \n1  4/30/2020 12:45:25            Combination   \n\n  Do you have any known allergies? Or any ingredients you avoid for any reason?  \\\n0                                               None                              \n1                                       No allergies                              \n\n                    What are your top skin concerns?  \\\n0            Acne, Pigmentation, Fine lines/wrinkles   \n1  Acne, Fine lines/wrinkles, Skin Texture (rough...   \n\n  What is your current day routine? (Please list your products in order from first to last)  \\\n0  trader joe's all in one cleanser, bioderma seb...                                          \n1  Biore Charcoal Acne Clearing Cleanser, Kiel's ...                                          \n\n  What is your current night routine (Please list your products in order from first to last)  \\\n0  trader joe's all in one cleanser, Bioderma Seb...                                           \n1                                                NaN                                           \n\n  What type of summer weather will you have?  \\\n0           Temperate, a lovely 70F (lucky!)   \n1                            Tropical, humid   \n\n                       Any known skin sensitivities?  \\\n0  I broke out from Cosrx snail serum and from Ma...   \n1                                                No.   \n\n  Any experience with retinoids? (If so, please tell us your use history)  \\\n0                     Differing 0.1% for four years                         \n1                                                No.                        \n\n  Any experience with acids? (If so, please tell us your use history, what type, and any known concentrations)  \\\n0  I prefer toners with acids as masks with AHA s...                                                             \n1                                                No.                                                             \n\n  Are you prone to breakouts? If so, how severe are the breakouts and what is your acne treatment history?  \\\n0  I have mild to moderate acne that I have been ...                                                         \n1  Yes. They are usually cystic and around my cyc...                                                         \n\n  Anything else you want the chemists to know about your skin and your skincare routine?  \\\n0   I have a super oily forehead, oily nose and c...                                       \n1                                       I need help.                                       \n\n  Can we share your routine learnings (anonymously) on our social media (post, podcast, or insta live shoutout)?  \n0                                                Yes                                                              \n1                                                Yes                                                              ",
      "text/html": "<div>\n<style scoped>\n    .dataframe tbody tr th:only-of-type {\n        vertical-align: middle;\n    }\n\n    .dataframe tbody tr th {\n        vertical-align: top;\n    }\n\n    .dataframe thead th {\n        text-align: right;\n    }\n</style>\n<table border=\"1\" class=\"dataframe\">\n  <thead>\n    <tr style=\"text-align: right;\">\n      <th></th>\n      <th>Timestamp</th>\n      <th>What's your skin type?</th>\n      <th>Do you have any known allergies? Or any ingredients you avoid for any reason?</th>\n      <th>What are your top skin concerns?</th>\n      <th>What is your current day routine? (Please list your products in order from first to last)</th>\n      <th>What is your current night routine (Please list your products in order from first to last)</th>\n      <th>What type of summer weather will you have?</th>\n      <th>Any known skin sensitivities?</th>\n      <th>Any experience with retinoids? (If so, please tell us your use history)</th>\n      <th>Any experience with acids? (If so, please tell us your use history, what type, and any known concentrations)</th>\n      <th>Are you prone to breakouts? If so, how severe are the breakouts and what is your acne treatment history?</th>\n      <th>Anything else you want the chemists to know about your skin and your skincare routine?</th>\n      <th>Can we share your routine learnings (anonymously) on our social media (post, podcast, or insta live shoutout)?</th>\n    </tr>\n  </thead>\n  <tbody>\n    <tr>\n      <th>0</th>\n      <td>4/30/2020 12:43:32</td>\n      <td>Combination</td>\n      <td>None</td>\n      <td>Acne, Pigmentation, Fine lines/wrinkles</td>\n      <td>trader joe's all in one cleanser, bioderma seb...</td>\n      <td>trader joe's all in one cleanser, Bioderma Seb...</td>\n      <td>Temperate, a lovely 70F (lucky!)</td>\n      <td>I broke out from Cosrx snail serum and from Ma...</td>\n      <td>Differing 0.1% for four years</td>\n      <td>I prefer toners with acids as masks with AHA s...</td>\n      <td>I have mild to moderate acne that I have been ...</td>\n      <td>I have a super oily forehead, oily nose and c...</td>\n      <td>Yes</td>\n    </tr>\n    <tr>\n      <th>1</th>\n      <td>4/30/2020 12:45:25</td>\n      <td>Combination</td>\n      <td>No allergies</td>\n      <td>Acne, Fine lines/wrinkles, Skin Texture (rough...</td>\n      <td>Biore Charcoal Acne Clearing Cleanser, Kiel's ...</td>\n      <td>NaN</td>\n      <td>Tropical, humid</td>\n      <td>No.</td>\n      <td>No.</td>\n      <td>No.</td>\n      <td>Yes. They are usually cystic and around my cyc...</td>\n      <td>I need help.</td>\n      <td>Yes</td>\n    </tr>\n  </tbody>\n</table>\n</div>"
     },
     "metadata": {},
     "execution_count": 5
    }
   ],
   "source": [
    "responses = pd.read_csv(file_list[3])\n",
    "responses.head(2)"
   ]
  },
  {
   "cell_type": "code",
   "execution_count": 6,
   "metadata": {},
   "outputs": [
    {
     "output_type": "execute_result",
     "data": {
      "text/plain": "            timestamp    skin_type cannot_contain  \\\n0  4/30/2020 12:43:32  Combination           None   \n1  4/30/2020 12:45:25  Combination   No allergies   \n\n                                        skin_concern  \\\n0            Acne, Pigmentation, Fine lines/wrinkles   \n1  Acne, Fine lines/wrinkles, Skin Texture (rough...   \n\n                                          am_routine  \\\n0  trader joe's all in one cleanser, bioderma seb...   \n1  Biore Charcoal Acne Clearing Cleanser, Kiel's ...   \n\n                                          pm_routine  \\\n0  trader joe's all in one cleanser, Bioderma Seb...   \n1                                                NaN   \n\n                            climate  \\\n0  Temperate, a lovely 70F (lucky!)   \n1                   Tropical, humid   \n\n                                  skin_sensitivities  \\\n0  I broke out from Cosrx snail serum and from Ma...   \n1                                                No.   \n\n                   used_retinoids  \\\n0  Differing 0.1% for four years    \n1                             No.   \n\n                                          used_acids  \\\n0  I prefer toners with acids as masks with AHA s...   \n1                                                No.   \n\n                                  prone_to_breakouts  \\\n0  I have mild to moderate acne that I have been ...   \n1  Yes. They are usually cystic and around my cyc...   \n\n                                       miscellaneous permission  \n0   I have a super oily forehead, oily nose and c...        Yes  \n1                                       I need help.        Yes  ",
      "text/html": "<div>\n<style scoped>\n    .dataframe tbody tr th:only-of-type {\n        vertical-align: middle;\n    }\n\n    .dataframe tbody tr th {\n        vertical-align: top;\n    }\n\n    .dataframe thead th {\n        text-align: right;\n    }\n</style>\n<table border=\"1\" class=\"dataframe\">\n  <thead>\n    <tr style=\"text-align: right;\">\n      <th></th>\n      <th>timestamp</th>\n      <th>skin_type</th>\n      <th>cannot_contain</th>\n      <th>skin_concern</th>\n      <th>am_routine</th>\n      <th>pm_routine</th>\n      <th>climate</th>\n      <th>skin_sensitivities</th>\n      <th>used_retinoids</th>\n      <th>used_acids</th>\n      <th>prone_to_breakouts</th>\n      <th>miscellaneous</th>\n      <th>permission</th>\n    </tr>\n  </thead>\n  <tbody>\n    <tr>\n      <th>0</th>\n      <td>4/30/2020 12:43:32</td>\n      <td>Combination</td>\n      <td>None</td>\n      <td>Acne, Pigmentation, Fine lines/wrinkles</td>\n      <td>trader joe's all in one cleanser, bioderma seb...</td>\n      <td>trader joe's all in one cleanser, Bioderma Seb...</td>\n      <td>Temperate, a lovely 70F (lucky!)</td>\n      <td>I broke out from Cosrx snail serum and from Ma...</td>\n      <td>Differing 0.1% for four years</td>\n      <td>I prefer toners with acids as masks with AHA s...</td>\n      <td>I have mild to moderate acne that I have been ...</td>\n      <td>I have a super oily forehead, oily nose and c...</td>\n      <td>Yes</td>\n    </tr>\n    <tr>\n      <th>1</th>\n      <td>4/30/2020 12:45:25</td>\n      <td>Combination</td>\n      <td>No allergies</td>\n      <td>Acne, Fine lines/wrinkles, Skin Texture (rough...</td>\n      <td>Biore Charcoal Acne Clearing Cleanser, Kiel's ...</td>\n      <td>NaN</td>\n      <td>Tropical, humid</td>\n      <td>No.</td>\n      <td>No.</td>\n      <td>No.</td>\n      <td>Yes. They are usually cystic and around my cyc...</td>\n      <td>I need help.</td>\n      <td>Yes</td>\n    </tr>\n  </tbody>\n</table>\n</div>"
     },
     "metadata": {},
     "execution_count": 6
    }
   ],
   "source": [
    "new_columns = [\n",
    "    'timestamp',\n",
    "    'skin_type',\n",
    "    'cannot_contain',\n",
    "    'skin_concern',\n",
    "    'am_routine',\n",
    "    'pm_routine',\n",
    "    'climate',\n",
    "    'skin_sensitivities',\n",
    "    'used_retinoids',\n",
    "    'used_acids',\n",
    "    'prone_to_breakouts',\n",
    "    'miscellaneous',\n",
    "    'permission'\n",
    "]\n",
    "\n",
    "responses.columns = new_columns\n",
    "responses.head(2)"
   ]
  },
  {
   "cell_type": "code",
   "execution_count": 7,
   "metadata": {},
   "outputs": [
    {
     "output_type": "stream",
     "name": "stdout",
     "text": "0    [trader joe's all in one cleanser, bioderma se...\n1    [biore charcoal acne clearing cleanser, kiel's...\nName: am_routine, dtype: object\n0    [trader joe's all in one cleanser, bioderma se...\n1                                                  NaN\nName: pm_routine, dtype: object\n"
    }
   ],
   "source": [
    "routine_columns = ['am_routine', 'pm_routine']\n",
    "\n",
    "for col in routine_columns:\n",
    "    responses[col] = responses[col].str.lower().str.replace(';', ',').str.split(r'\\,+\\s*')\n",
    "    print(responses[col][:2])"
   ]
  },
  {
   "cell_type": "code",
   "execution_count": 8,
   "metadata": {},
   "outputs": [
    {
     "output_type": "execute_result",
     "data": {
      "text/plain": "[\"trader joe's all in one cleanser\",\n 'bioderma sebium h2o',\n 'the ordinary ascorbic acid 8%',\n 'bioderma sebium mat control cream',\n 'purlisse bb cream']"
     },
     "metadata": {},
     "execution_count": 8
    }
   ],
   "source": [
    "responses['am_routine'][0]"
   ]
  },
  {
   "cell_type": "code",
   "execution_count": 9,
   "metadata": {},
   "outputs": [],
   "source": [
    "# prior experience\n",
    "\n",
    "popular_brands = [\n",
    "    'La Roche Posay',\n",
    "    'Cerave', \n",
    "    'Cetaphil', \n",
    "    'Timeless Skincare', \n",
    "    'Skinceuticals', \n",
    "    'Stratia Skincare', \n",
    "    'Paula’s Choice', \n",
    "    'CosRX', \n",
    "    'The Ordinary', \n",
    "    'Drunk Elephant', \n",
    "    'Klairs', \n",
    "    'Inkey List', \n",
    "    'Farmacy ', \n",
    "    'First Aid Beauty'\n",
    "]\n",
    "\n",
    "popular_ingredients = [\n",
    "    'Vitamin C', \n",
    "    'Glycolic Acid', \n",
    "    'Lactic Acid', \n",
    "    'Mandelic Acid', \n",
    "    'Niacinamide', \n",
    "    'Retinol', \n",
    "    'Hydroxypinocolone Retinoate', \n",
    "    'Bakuchiol', \n",
    "    'Retinyl Palmitate', \n",
    "    'Ceramides', \n",
    "    'Salicylic Acid', \n",
    "    'Willow bark Extract', \n",
    "    'Adapalene', \n",
    "    'Sodium Lauryl Sulfate', \n",
    "    'Cocoamidopropyl Betaine', \n",
    "]"
   ]
  },
  {
   "cell_type": "code",
   "execution_count": 48,
   "metadata": {},
   "outputs": [
    {
     "output_type": "stream",
     "name": "stdout",
     "text": "['drunk elephant beste no. 9 jelly cleanser', \"paula's choice skin balancing pore-reducing toner\", \"paula's choice boost 10% niacinamide booster\", \"paula's choice boost 10% azelaic acid booster\", 'cerave pm facial moisturizing lotion', 'eltamd uv clear broad-spectrum spf 46']\n7.4957115650177 s\n"
    }
   ],
   "source": [
    "tick = time.time()\n",
    "n = 2\n",
    "routine = Routine(name=n, routine=responses['am_routine'][n])\n",
    "routine.link_sync()\n",
    "print(routine.routine)\n",
    "tock = time.time()\n",
    "print(f'{tock - tick} s')"
   ]
  },
  {
   "cell_type": "code",
   "execution_count": 50,
   "metadata": {},
   "outputs": [
    {
     "output_type": "execute_result",
     "data": {
      "text/plain": "[('glycerin', 5),\n ('phenoxyethanol', 5),\n ('water', 4),\n ('butylene glycol', 4),\n ('niacinamide', 4),\n ('xanthan gum', 4),\n ('sodium hyaluronate', 3),\n ('propanediol', 2),\n ('dipotassium glycyrrhizate', 2),\n ('citric acid', 2)]"
     },
     "metadata": {},
     "execution_count": 50
    }
   ],
   "source": [
    "routine.top"
   ]
  },
  {
   "cell_type": "code",
   "execution_count": 53,
   "metadata": {},
   "outputs": [
    {
     "output_type": "stream",
     "name": "stdout",
     "text": "Routine does not have 1,3-butanediol.\n"
    },
    {
     "output_type": "execute_result",
     "data": {
      "text/plain": "[]"
     },
     "metadata": {},
     "execution_count": 53
    }
   ],
   "source": [
    "routine.has('1,3-butanediol')"
   ]
  },
  {
   "cell_type": "code",
   "execution_count": 12,
   "metadata": {},
   "outputs": [
    {
     "output_type": "execute_result",
     "data": {
      "text/plain": "['drunk elephant beste no. 9 jelly cleanser',\n \"paula's choice skin balancing pore-reducing toner\",\n \"paula's choice boost 10% niacinamide booster\",\n \"paula's choice boost 10% azelaic acid booster\",\n 'cerave pm facial moisturizing lotion',\n 'eltamd uv clear broad-spectrum spf 46']"
     },
     "metadata": {},
     "execution_count": 12
    }
   ],
   "source": [
    "routine.routine"
   ]
  },
  {
   "cell_type": "code",
   "execution_count": 13,
   "metadata": {},
   "outputs": [
    {
     "output_type": "stream",
     "name": "stdout",
     "text": "Vitamin C\nRoutine does not have Vitamin C.\n[]\n\nGlycolic Acid\nRoutine does not have Glycolic Acid.\n[]\n\nLactic Acid\n['eltamd uv clear broad-spectrum spf 46']\n\nMandelic Acid\nRoutine does not have Mandelic Acid.\n[]\n\nNiacinamide\n[\"paula's choice skin balancing pore-reducing toner\", \"paula's choice boost 10% niacinamide booster\", 'cerave pm facial moisturizing lotion', 'eltamd uv clear broad-spectrum spf 46']\n\nRetinol\nRoutine does not have Retinol.\n[]\n\nHydroxypinocolone Retinoate\nRoutine does not have Hydroxypinocolone Retinoate.\n[]\n\nBakuchiol\nRoutine does not have Bakuchiol.\n[]\n\nRetinyl Palmitate\nRoutine does not have Retinyl Palmitate.\n[]\n\nCeramides\nRoutine does not have Ceramides.\n[]\n\nSalicylic Acid\n[\"paula's choice boost 10% azelaic acid booster\"]\n\nWillow bark Extract\nRoutine does not have Willow bark Extract.\n[]\n\nAdapalene\nRoutine does not have Adapalene.\n[]\n\nSodium Lauryl Sulfate\nRoutine does not have Sodium Lauryl Sulfate.\n[]\n\nCocoamidopropyl Betaine\n['drunk elephant beste no. 9 jelly cleanser']\n\n"
    }
   ],
   "source": [
    "for ingredient in popular_ingredients:\n",
    "    print(ingredient)\n",
    "    print(routine.has(ingredient))\n",
    "    print()"
   ]
  },
  {
   "cell_type": "markdown",
   "metadata": {},
   "source": [
    "## string grouper demo\n",
    "\n",
    "string_grouper is giving me a hard time, so i am going to do this manually according to:\n",
    "https://bergvca.github.io/2017/10/14/super-fast-string-matching.html"
   ]
  },
  {
   "cell_type": "code",
   "execution_count": 14,
   "metadata": {},
   "outputs": [],
   "source": [
    "import json\n",
    "from string_grouper import match_strings, match_most_similar, group_similar_strings, StringGrouper"
   ]
  },
  {
   "cell_type": "code",
   "execution_count": 15,
   "metadata": {},
   "outputs": [],
   "source": [
    "with open('./data/big_dict.json', 'rb') as handle:\n",
    "    big_dict = json.load(handle)"
   ]
  },
  {
   "cell_type": "code",
   "execution_count": 16,
   "metadata": {},
   "outputs": [
    {
     "output_type": "execute_result",
     "data": {
      "text/plain": "                                           name    brand  \\\n0                        kiehl's creme de corps  kiehl's   \n1  kiehl's bath and shower liquid body cleanser  kiehl's   \n2                             kiehl's body fuel  kiehl's   \n3          kiehl's ultimate strength hand salve  kiehl's   \n4                    kiehl's ultra facial cream  kiehl's   \n\n                                product  \n0                        creme de corps  \n1  bath and shower liquid body cleanser  \n2                             body fuel  \n3          ultimate strength hand salve  \n4                    ultra facial cream  ",
      "text/html": "<div>\n<style scoped>\n    .dataframe tbody tr th:only-of-type {\n        vertical-align: middle;\n    }\n\n    .dataframe tbody tr th {\n        vertical-align: top;\n    }\n\n    .dataframe thead th {\n        text-align: right;\n    }\n</style>\n<table border=\"1\" class=\"dataframe\">\n  <thead>\n    <tr style=\"text-align: right;\">\n      <th></th>\n      <th>name</th>\n      <th>brand</th>\n      <th>product</th>\n    </tr>\n  </thead>\n  <tbody>\n    <tr>\n      <th>0</th>\n      <td>kiehl's creme de corps</td>\n      <td>kiehl's</td>\n      <td>creme de corps</td>\n    </tr>\n    <tr>\n      <th>1</th>\n      <td>kiehl's bath and shower liquid body cleanser</td>\n      <td>kiehl's</td>\n      <td>bath and shower liquid body cleanser</td>\n    </tr>\n    <tr>\n      <th>2</th>\n      <td>kiehl's body fuel</td>\n      <td>kiehl's</td>\n      <td>body fuel</td>\n    </tr>\n    <tr>\n      <th>3</th>\n      <td>kiehl's ultimate strength hand salve</td>\n      <td>kiehl's</td>\n      <td>ultimate strength hand salve</td>\n    </tr>\n    <tr>\n      <th>4</th>\n      <td>kiehl's ultra facial cream</td>\n      <td>kiehl's</td>\n      <td>ultra facial cream</td>\n    </tr>\n  </tbody>\n</table>\n</div>"
     },
     "metadata": {},
     "execution_count": 16
    }
   ],
   "source": [
    "product_list = pd.read_json('./data/big_dict.json', orient='index').reset_index(level=0)\n",
    "product_list.columns = ['name', 'brand', 'product']\n",
    "product_list.head()"
   ]
  },
  {
   "cell_type": "code",
   "execution_count": 35,
   "metadata": {},
   "outputs": [
    {
     "output_type": "execute_result",
     "data": {
      "text/plain": "0                                 kiehl's creme de corps\n1           kiehl's bath and shower liquid body cleanser\n2                                      kiehl's body fuel\n3                   kiehl's ultimate strength hand salve\n4                             kiehl's ultra facial cream\n                             ...                        \n168                      la roche-posay my skin track uv\n169    la roche-posay toleriane ultra makeup remover ...\n170           la roche-posay micellar water gel cleanser\n171    la roche-posay respectissime extension lengthe...\n172         la roche-posay respectissime eyeliner pencil\nName: name, Length: 173, dtype: object"
     },
     "metadata": {},
     "execution_count": 35
    }
   ],
   "source": [
    "product_list['name']"
   ]
  },
  {
   "cell_type": "code",
   "execution_count": 24,
   "metadata": {},
   "outputs": [],
   "source": [
    "# matches = match_most_similar(product_list['name'], sample_list)\n",
    "# pd.DataFrame({'sample_list': sample_list, 'matches': matches})"
   ]
  },
  {
   "cell_type": "code",
   "execution_count": 32,
   "metadata": {},
   "outputs": [],
   "source": [
    "import re\n",
    "from sklearn.feature_extraction.text import TfidfVectorizer\n",
    "from sklearn.neighbors import NearestNeighbors"
   ]
  },
  {
   "cell_type": "code",
   "execution_count": 28,
   "metadata": {},
   "outputs": [],
   "source": [
    "def ngrams(string, n=3):\n",
    "    string = re.sub(r'[,-./]|\\s',r'', string)\n",
    "    ngrams = zip(*[string[i:] for i in range(n)])\n",
    "    return [''.join(ngram) for ngram in ngrams]\n",
    "\n",
    "vectorizer = TfidfVectorizer(min_df=1, analyzer=ngrams)\n",
    "matrix = vectorizer.fit_transform(sample_list)"
   ]
  },
  {
   "cell_type": "code",
   "execution_count": 31,
   "metadata": {},
   "outputs": [
    {
     "output_type": "stream",
     "name": "stdout",
     "text": "(0, 111)\t0.1331105824299741\n  (0, 58)\t0.1331105824299741\n  (0, 20)\t0.1331105824299741\n  (0, 11)\t0.1331105824299741\n  (0, 89)\t0.1331105824299741\n  (0, 71)\t0.1331105824299741\n  (0, 88)\t0.10494591211268606\n  (0, 30)\t0.1331105824299741\n  (0, 118)\t0.1331105824299741\n  (0, 75)\t0.1331105824299741\n  (0, 23)\t0.1331105824299741\n  (0, 0)\t0.1331105824299741\n  (0, 7)\t0.1331105824299741\n  (0, 6)\t0.1331105824299741\n  (0, 5)\t0.1331105824299741\n  (0, 44)\t0.1331105824299741\n  (0, 119)\t0.1331105824299741\n  (0, 33)\t0.1331105824299741\n  (0, 106)\t0.10494591211268606\n  (0, 124)\t0.10494591211268606\n  (0, 100)\t0.1331105824299741\n  (0, 55)\t0.10494591211268606\n  (0, 37)\t0.1331105824299741\n  (0, 90)\t0.1331105824299741\n  (0, 102)\t0.1331105824299741\n  :\t:\n  (0, 93)\t0.1331105824299741\n  (0, 72)\t0.1331105824299741\n  (0, 17)\t0.1331105824299741\n  (0, 65)\t0.1331105824299741\n  (0, 120)\t0.1331105824299741\n  (0, 64)\t0.1331105824299741\n  (0, 98)\t0.1331105824299741\n  (0, 54)\t0.1331105824299741\n  (0, 109)\t0.1331105824299741\n  (0, 125)\t0.1331105824299741\n  (0, 21)\t0.1331105824299741\n  (0, 79)\t0.1331105824299741\n  (0, 128)\t0.1331105824299741\n  (0, 60)\t0.1331105824299741\n  (0, 110)\t0.1331105824299741\n  (0, 57)\t0.1331105824299741\n  (0, 132)\t0.1331105824299741\n  (0, 104)\t0.1331105824299741\n  (0, 18)\t0.1331105824299741\n  (0, 114)\t0.1331105824299741\n  (0, 3)\t0.1331105824299741\n  (0, 77)\t0.06946262392021818\n  (0, 52)\t0.1331105824299741\n  (0, 70)\t0.1331105824299741\n  (0, 16)\t0.06946262392021818\n['Kie', 'iel', \"el'\", \"l's\", \"'sP\", 'sPo', 'Pow', 'owe', 'wer', 'erf', 'rfu', 'ful', 'ulS', 'lSt', 'Str', 'tre', 'ren', 'eng', 'ngt', 'gth', 'thL', 'hLi', 'Lin', 'ine', 'neR', 'eRe', 'Red', 'edu', 'duc', 'uci', 'cin', 'ing', 'ngC', 'gCo', 'Con', 'onc', 'nce', 'cen', 'ent', 'ntr', 'tra', 'rat', 'ate', 'te1', 'e12', '125', '25%', '5%V', '%Vi', 'Vit', 'ita', 'tam', 'ami', 'min', 'inC', 'nCS', 'CSe', 'Ser', 'eru', 'rum']\n"
    }
   ],
   "source": [
    "print(matrix[0])\n",
    "print(ngrams(sample_list[0]))"
   ]
  },
  {
   "cell_type": "code",
   "execution_count": 39,
   "metadata": {},
   "outputs": [],
   "source": [
    "# https://caserta.com/data-blog/string-matching-record-linkage-python-strategies/\n",
    "\n",
    "def tfidf_match(list1, list2):\n",
    "    \"\"\"For each item in list1, find the match in list2\"\"\"\n",
    "    vectorizer = TfidfVectorizer(analyzer=ngrams, lowercase=True)\n",
    "    tfidf = vectorizer.fit_transform(list2)\n",
    "    nbrs = NearestNeighbors(n_neighbors=1, n_jobs=-1).fit(tfidf)\n",
    "    distances, indices = nbrs.kneighbors(vectorizer.transform(list1))\n",
    "    \n",
    "    matches = [(round(distances[i][0], 2), list1[i], list2[j[0]]) \n",
    "               for i, j in enumerate(indices)]\n",
    "    matches = pd.DataFrame(matches, \n",
    "                           columns=['score', 'input', 'matched'])\n",
    "    return matches"
   ]
  },
  {
   "cell_type": "code",
   "execution_count": 52,
   "metadata": {},
   "outputs": [
    {
     "output_type": "stream",
     "name": "stdout",
     "text": "0.11469340324401855 s\n"
    },
    {
     "output_type": "execute_result",
     "data": {
      "text/plain": "   score                                              input  \\\n0   1.00  Kiel's Powerful-Strength Line-Reducing Concent...   \n1   1.03          Kiehl's Calendula hydrating mask 5 minute   \n2   0.95       Kiehl's Blue Herbal Acne Cleansing Treatment   \n3   0.12                          Kiehl's ultrafacial toner   \n\n                                            matched  \n0         kiehl's powerful-strength vitamin c serum  \n1  kiehl's calendula & aloe soothing hydration mask  \n2       kiehl's blue herbal acne cleanser treatment  \n3                        kiehl's ultra facial toner  ",
      "text/html": "<div>\n<style scoped>\n    .dataframe tbody tr th:only-of-type {\n        vertical-align: middle;\n    }\n\n    .dataframe tbody tr th {\n        vertical-align: top;\n    }\n\n    .dataframe thead th {\n        text-align: right;\n    }\n</style>\n<table border=\"1\" class=\"dataframe\">\n  <thead>\n    <tr style=\"text-align: right;\">\n      <th></th>\n      <th>score</th>\n      <th>input</th>\n      <th>matched</th>\n    </tr>\n  </thead>\n  <tbody>\n    <tr>\n      <th>0</th>\n      <td>1.00</td>\n      <td>Kiel's Powerful-Strength Line-Reducing Concent...</td>\n      <td>kiehl's powerful-strength vitamin c serum</td>\n    </tr>\n    <tr>\n      <th>1</th>\n      <td>1.03</td>\n      <td>Kiehl's Calendula hydrating mask 5 minute</td>\n      <td>kiehl's calendula &amp; aloe soothing hydration mask</td>\n    </tr>\n    <tr>\n      <th>2</th>\n      <td>0.95</td>\n      <td>Kiehl's Blue Herbal Acne Cleansing Treatment</td>\n      <td>kiehl's blue herbal acne cleanser treatment</td>\n    </tr>\n    <tr>\n      <th>3</th>\n      <td>0.12</td>\n      <td>Kiehl's ultrafacial toner</td>\n      <td>kiehl's ultra facial toner</td>\n    </tr>\n  </tbody>\n</table>\n</div>"
     },
     "metadata": {},
     "execution_count": 52
    }
   ],
   "source": [
    "tick = time.time()\n",
    "kiehls = [\n",
    "    \"Kiel's Powerful-Strength Line-Reducing Concentrate 12.5% Vitamin C Serum\",\n",
    "    \"Kiehl's Calendula hydrating mask 5 minute\",\n",
    "    \"Kiehl's Blue Herbal Acne Cleansing Treatment\",\n",
    "    \"Kiehl's ultrafacial toner\"\n",
    "]\n",
    "matches = tfidf_match(kiehls, product_list['name'])\n",
    "tock = time.time()\n",
    "print(f'{tock - tick} s')\n",
    "matches"
   ]
  },
  {
   "cell_type": "code",
   "execution_count": 43,
   "metadata": {},
   "outputs": [
    {
     "output_type": "execute_result",
     "data": {
      "text/plain": "   score                                              input  \\\n0   0.88  La Roche-Posay tinted Anthelios 50 Mineral Sun...   \n1   1.05              La Roche Posay Medicated Gel Cleanser   \n2   1.02         La Roche-Posay Tolerane Hydrating Cleanser   \n\n                                             matched  \n0  la roche-posay anthelios tinted mineral sunscr...  \n1   la roche-posay effaclar medicated acne face wash  \n2  la roche-posay toleriane hydrating gentle faci...  ",
      "text/html": "<div>\n<style scoped>\n    .dataframe tbody tr th:only-of-type {\n        vertical-align: middle;\n    }\n\n    .dataframe tbody tr th {\n        vertical-align: top;\n    }\n\n    .dataframe thead th {\n        text-align: right;\n    }\n</style>\n<table border=\"1\" class=\"dataframe\">\n  <thead>\n    <tr style=\"text-align: right;\">\n      <th></th>\n      <th>score</th>\n      <th>input</th>\n      <th>matched</th>\n    </tr>\n  </thead>\n  <tbody>\n    <tr>\n      <th>0</th>\n      <td>0.88</td>\n      <td>La Roche-Posay tinted Anthelios 50 Mineral Sun...</td>\n      <td>la roche-posay anthelios tinted mineral sunscr...</td>\n    </tr>\n    <tr>\n      <th>1</th>\n      <td>1.05</td>\n      <td>La Roche Posay Medicated Gel Cleanser</td>\n      <td>la roche-posay effaclar medicated acne face wash</td>\n    </tr>\n    <tr>\n      <th>2</th>\n      <td>1.02</td>\n      <td>La Roche-Posay Tolerane Hydrating Cleanser</td>\n      <td>la roche-posay toleriane hydrating gentle faci...</td>\n    </tr>\n  </tbody>\n</table>\n</div>"
     },
     "metadata": {},
     "execution_count": 43
    }
   ],
   "source": [
    "lrp = [\n",
    "    \"La Roche-Posay tinted Anthelios 50 Mineral Sunscreen\",\n",
    "    \"La Roche Posay Medicated Gel Cleanser\",\n",
    "    \"La Roche-Posay Tolerane Hydrating Cleanser\"\n",
    "]\n",
    "tfidf_match(lrp, product_list['name'])"
   ]
  },
  {
   "cell_type": "code",
   "execution_count": 56,
   "metadata": {},
   "outputs": [
    {
     "output_type": "execute_result",
     "data": {
      "text/plain": "   score                                              input  \\\n0   1.07      first i use la roche posay effaclare cleanser   \n1   0.67  then moisturize using kiehls super multi corre...   \n2   0.94   then kiehls facial fuel sunblock if i go outside   \n\n                                             matched  \n0  la roche-posay effaclar cream cleanser for oil...  \n1               kiehl's super multi-corrective cream  \n2                         kiehl's facial fuel spf 20  ",
      "text/html": "<div>\n<style scoped>\n    .dataframe tbody tr th:only-of-type {\n        vertical-align: middle;\n    }\n\n    .dataframe tbody tr th {\n        vertical-align: top;\n    }\n\n    .dataframe thead th {\n        text-align: right;\n    }\n</style>\n<table border=\"1\" class=\"dataframe\">\n  <thead>\n    <tr style=\"text-align: right;\">\n      <th></th>\n      <th>score</th>\n      <th>input</th>\n      <th>matched</th>\n    </tr>\n  </thead>\n  <tbody>\n    <tr>\n      <th>0</th>\n      <td>1.07</td>\n      <td>first i use la roche posay effaclare cleanser</td>\n      <td>la roche-posay effaclar cream cleanser for oil...</td>\n    </tr>\n    <tr>\n      <th>1</th>\n      <td>0.67</td>\n      <td>then moisturize using kiehls super multi corre...</td>\n      <td>kiehl's super multi-corrective cream</td>\n    </tr>\n    <tr>\n      <th>2</th>\n      <td>0.94</td>\n      <td>then kiehls facial fuel sunblock if i go outside</td>\n      <td>kiehl's facial fuel spf 20</td>\n    </tr>\n  </tbody>\n</table>\n</div>"
     },
     "metadata": {},
     "execution_count": 56
    }
   ],
   "source": [
    "english = [\n",
    "    'first i use la roche posay effaclare cleanser', \n",
    "    'then moisturize using kiehls super multi corrective cream',\n",
    "    'then kiehls facial fuel sunblock if i go outside']\n",
    "\n",
    "tfidf_match(english, product_list['name'])"
   ]
  },
  {
   "cell_type": "markdown",
   "metadata": {},
   "source": [
    "## common ingredient dictionary"
   ]
  },
  {
   "cell_type": "code",
   "execution_count": null,
   "metadata": {},
   "outputs": [],
   "source": [
    "with open('./data/master_dict.pickle', 'rb') as handle:\n",
    "    master_dict = pickle.load(handle)"
   ]
  },
  {
   "cell_type": "code",
   "execution_count": null,
   "metadata": {},
   "outputs": [],
   "source": [
    "def ingredient_dict_builder(routine_dict, master_dict):\n",
    "    base_url = 'https://cosdna.com/eng/'\n",
    "    filtered_dict = {k:v for k,v in routine_dict.items() if k not in master_dict.keys()}\n",
    "    for k, v in filtered_dict.items():\n",
    "        driver.get(base_url + k + '.html')\n",
    "        print(f'{k}: {v}')\n",
    "        ingredient = input('preferred name: ')\n",
    "        if ingredient == 'BREAK':\n",
    "            break\n",
    "        elif ingredient == '':\n",
    "            master_dict[k] = v\n",
    "        else:\n",
    "            master_dict[k] = ingredient\n",
    "    return master_dict"
   ]
  },
  {
   "cell_type": "code",
   "execution_count": null,
   "metadata": {},
   "outputs": [],
   "source": [
    "am_routines = []\n",
    "for rout in responses['am_routine']:\n",
    "    routine = Routine(name=i, routine=responses['am_routine'][i])\n",
    "    routine.link_sync()\n",
    "#     master_dict = ingredient_dict_builder(routine._routine_dict, master_dict)\n",
    "    am_routines.append(routine)"
   ]
  },
  {
   "cell_type": "code",
   "execution_count": null,
   "metadata": {},
   "outputs": [],
   "source": [
    "for i in range(5, 10):\n",
    "    routine = Routine(name=i, routine=responses['am_routine'][i])\n",
    "    routine.link_sync()\n",
    "    master_dict= ingredient_dict_builder(routine._routine_dict, master_dict)"
   ]
  },
  {
   "cell_type": "code",
   "execution_count": null,
   "metadata": {},
   "outputs": [],
   "source": [
    "master_dict"
   ]
  },
  {
   "cell_type": "code",
   "execution_count": null,
   "metadata": {},
   "outputs": [],
   "source": [
    "# saving pickle\n",
    "with open('./data/master_dict.pickle', 'wb') as handle:\n",
    "    pickle.dump(master_dict, handle, protocol=pickle.HIGHEST_PROTOCOL)"
   ]
  }
 ],
 "metadata": {
  "kernelspec": {
   "display_name": "Python 3",
   "language": "python",
   "name": "python3"
  },
  "language_info": {
   "codemirror_mode": {
    "name": "ipython",
    "version": 3
   },
   "file_extension": ".py",
   "mimetype": "text/x-python",
   "name": "python",
   "nbconvert_exporter": "python",
   "pygments_lexer": "ipython3",
   "version": "3.7.4-final"
  }
 },
 "nbformat": 4,
 "nbformat_minor": 4
}