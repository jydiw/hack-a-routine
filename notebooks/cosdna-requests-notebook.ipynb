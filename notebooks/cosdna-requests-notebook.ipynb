{
 "cells": [
  {
   "cell_type": "code",
   "execution_count": 1,
   "metadata": {},
   "outputs": [],
   "source": [
    "import numpy as np\n",
    "import pandas as pd\n",
    "import re\n",
    "import time\n",
    "from glob import glob\n",
    "from string import punctuation\n",
    "from collections import Counter, OrderedDict\n",
    "\n",
    "import requests\n",
    "from requests_html import HTMLSession\n",
    "\n",
    "# from string_grouper import match_strings, match_most_similar, group_similar_strings, StringGrouper\n",
    "# from sklearn.feature_extraction.text import TfidfVectorizer\n",
    "# from scipy.sparse import csr_matrix\n",
    "# import sparse_dot_topn.sparse_dot_topn as sdt"
   ]
  },
  {
   "cell_type": "markdown",
   "metadata": {},
   "source": [
    "cosmetic ingredient database: https://public.opendatasoft.com/explore/dataset/cosmetic-ingredient-database-ingredients-and-fragrance-inventory/table/\n",
    "\n",
    "cosdna: https://cosdna.com/"
   ]
  },
  {
   "cell_type": "code",
   "execution_count": 7,
   "metadata": {},
   "outputs": [
    {
     "output_type": "execute_result",
     "data": {
      "text/plain": "['../data\\\\brands.csv',\n '../data\\\\recommendations_2020-05-05.csv',\n '../data\\\\responses_2020-05-05.csv',\n '../data\\\\responses_modified_2020-05-05.csv']"
     },
     "metadata": {},
     "execution_count": 7
    }
   ],
   "source": [
    "file_list = glob('../data/*.csv')\n",
    "file_list = sorted(file_list)\n",
    "file_list"
   ]
  },
  {
   "cell_type": "code",
   "execution_count": 8,
   "metadata": {},
   "outputs": [],
   "source": [
    "responses = pd.read_csv(file_list[-1])"
   ]
  },
  {
   "cell_type": "code",
   "execution_count": 10,
   "metadata": {},
   "outputs": [
    {
     "output_type": "execute_result",
     "data": {
      "text/plain": "            Timestamp What's your skin type?  \\\n0  4/30/2020 12:43:32            Combination   \n1  4/30/2020 12:45:25            Combination   \n2  4/30/2020 12:50:26                   Oily   \n3  4/30/2020 13:02:43                 Normal   \n4  4/30/2020 13:08:20            Combination   \n\n  Do you have any known allergies? Or any ingredients you avoid for any reason?  \\\n0                                               None                              \n1                                       No allergies                              \n2                                                No.                              \n3                                                 No                              \n4  Ethylhexyl palmitate, strong sulfates, chemica...                              \n\n                    What are your top skin concerns?  \\\n0            Acne, Pigmentation, Fine lines/wrinkles   \n1  Acne, Fine lines/wrinkles, Skin Texture (rough...   \n2                                 Acne, Pigmentation   \n3  Fine lines/wrinkles, Skin Texture (roughness, ...   \n4    Acne, Skin Texture (roughness, dullness), Other   \n\n  What is your current day routine? (Please list your products in order from first to last)  \\\n0  trader joe's all in one cleanser, bioderma seb...                                          \n1  Biore Charcoal Acne Clearing Cleanser, Kiel's ...                                          \n2  Drunk Elephant Beste No. 9 Jelly Cleanser, pau...                                          \n3  Paula's Choice enriched calming toner, Timeles...                                          \n4  Osea Ocean Cleanser, Renee Rouleau Elderberry ...                                          \n\n  What is your current night routine (Please list your products in order from first to last)  \\\n0  trader joe's all in one cleanser, Bioderma Seb...                                           \n1                                                NaN                                           \n2  Dermalogica Precleanse, CeraVe Foaming Facial ...                                           \n3  Palmer's facial cleansing oil, Cetaphil gentle...                                           \n4  Renee Rouleau Luxe Mint Cleanser, Renee Roulea...                                           \n\n  What type of summer weather will you have?  \\\n0           Temperate, a lovely 70F (lucky!)   \n1                            Tropical, humid   \n2                            Desert dry heat   \n3                            Tropical, humid   \n4           Temperate, a lovely 70F (lucky!)   \n\n                       Any known skin sensitivities?  \\\n0  I broke out from Cosrx snail serum and from Ma...   \n1                                                No.   \n2                                                No.   \n3                                                No    \n4  Overall I have fairly sensitive skin with horm...   \n\n  Any experience with retinoids? (If so, please tell us your use history)  \\\n0                     Differing 0.1% for four years                         \n1                                                No.                        \n2                                                No.                        \n3  Almost through the purging/peeling phase with ...                        \n4  No, but I would like to start to address early...                        \n\n  Any experience with acids? (If so, please tell us your use history, what type, and any known concentrations)  \\\n0  I prefer toners with acids as masks with AHA s...                                                             \n1                                                No.                                                             \n2  I've used 2% BHA on and off; and daily I use a...                                                             \n3  I've tried (and still own) The Ordinary red pe...                                                             \n4  Azelaic acid has been a good acid for me (not ...                                                             \n\n  Are you prone to breakouts? If so, how severe are the breakouts and what is your acne treatment history?  \\\n0  I have mild to moderate acne that I have been ...                                                         \n1  Yes. They are usually cystic and around my cyc...                                                         \n2  Yes, occasional small whiteheads and blackhead...                                                         \n3  Not really - a very rare pimple, I tend more o...                                                         \n4  My acne is adult onset, primarily hormonal, an...                                                         \n\n  Anything else you want the chemists to know about your skin and your skincare routine?  \\\n0   I have a super oily forehead, oily nose and c...                                       \n1                                       I need help.                                       \n2  I'm Black so hyperpigmentation and skin discol...                                       \n3  I turn 43 in a month and am really trying to g...                                       \n4  I just moved to Chicago, so lots of temperatur...                                       \n\n  Can we share your routine learnings (anonymously) on our social media (post, podcast, or insta live shoutout)?  \n0                                                Yes                                                              \n1                                                Yes                                                              \n2                                                Yes                                                              \n3                                                Yes                                                              \n4                                                Yes                                                              ",
      "text/html": "<div>\n<style scoped>\n    .dataframe tbody tr th:only-of-type {\n        vertical-align: middle;\n    }\n\n    .dataframe tbody tr th {\n        vertical-align: top;\n    }\n\n    .dataframe thead th {\n        text-align: right;\n    }\n</style>\n<table border=\"1\" class=\"dataframe\">\n  <thead>\n    <tr style=\"text-align: right;\">\n      <th></th>\n      <th>Timestamp</th>\n      <th>What's your skin type?</th>\n      <th>Do you have any known allergies? Or any ingredients you avoid for any reason?</th>\n      <th>What are your top skin concerns?</th>\n      <th>What is your current day routine? (Please list your products in order from first to last)</th>\n      <th>What is your current night routine (Please list your products in order from first to last)</th>\n      <th>What type of summer weather will you have?</th>\n      <th>Any known skin sensitivities?</th>\n      <th>Any experience with retinoids? (If so, please tell us your use history)</th>\n      <th>Any experience with acids? (If so, please tell us your use history, what type, and any known concentrations)</th>\n      <th>Are you prone to breakouts? If so, how severe are the breakouts and what is your acne treatment history?</th>\n      <th>Anything else you want the chemists to know about your skin and your skincare routine?</th>\n      <th>Can we share your routine learnings (anonymously) on our social media (post, podcast, or insta live shoutout)?</th>\n    </tr>\n  </thead>\n  <tbody>\n    <tr>\n      <th>0</th>\n      <td>4/30/2020 12:43:32</td>\n      <td>Combination</td>\n      <td>None</td>\n      <td>Acne, Pigmentation, Fine lines/wrinkles</td>\n      <td>trader joe's all in one cleanser, bioderma seb...</td>\n      <td>trader joe's all in one cleanser, Bioderma Seb...</td>\n      <td>Temperate, a lovely 70F (lucky!)</td>\n      <td>I broke out from Cosrx snail serum and from Ma...</td>\n      <td>Differing 0.1% for four years</td>\n      <td>I prefer toners with acids as masks with AHA s...</td>\n      <td>I have mild to moderate acne that I have been ...</td>\n      <td>I have a super oily forehead, oily nose and c...</td>\n      <td>Yes</td>\n    </tr>\n    <tr>\n      <th>1</th>\n      <td>4/30/2020 12:45:25</td>\n      <td>Combination</td>\n      <td>No allergies</td>\n      <td>Acne, Fine lines/wrinkles, Skin Texture (rough...</td>\n      <td>Biore Charcoal Acne Clearing Cleanser, Kiel's ...</td>\n      <td>NaN</td>\n      <td>Tropical, humid</td>\n      <td>No.</td>\n      <td>No.</td>\n      <td>No.</td>\n      <td>Yes. They are usually cystic and around my cyc...</td>\n      <td>I need help.</td>\n      <td>Yes</td>\n    </tr>\n    <tr>\n      <th>2</th>\n      <td>4/30/2020 12:50:26</td>\n      <td>Oily</td>\n      <td>No.</td>\n      <td>Acne, Pigmentation</td>\n      <td>Drunk Elephant Beste No. 9 Jelly Cleanser, pau...</td>\n      <td>Dermalogica Precleanse, CeraVe Foaming Facial ...</td>\n      <td>Desert dry heat</td>\n      <td>No.</td>\n      <td>No.</td>\n      <td>I've used 2% BHA on and off; and daily I use a...</td>\n      <td>Yes, occasional small whiteheads and blackhead...</td>\n      <td>I'm Black so hyperpigmentation and skin discol...</td>\n      <td>Yes</td>\n    </tr>\n    <tr>\n      <th>3</th>\n      <td>4/30/2020 13:02:43</td>\n      <td>Normal</td>\n      <td>No</td>\n      <td>Fine lines/wrinkles, Skin Texture (roughness, ...</td>\n      <td>Paula's Choice enriched calming toner, Timeles...</td>\n      <td>Palmer's facial cleansing oil, Cetaphil gentle...</td>\n      <td>Tropical, humid</td>\n      <td>No</td>\n      <td>Almost through the purging/peeling phase with ...</td>\n      <td>I've tried (and still own) The Ordinary red pe...</td>\n      <td>Not really - a very rare pimple, I tend more o...</td>\n      <td>I turn 43 in a month and am really trying to g...</td>\n      <td>Yes</td>\n    </tr>\n    <tr>\n      <th>4</th>\n      <td>4/30/2020 13:08:20</td>\n      <td>Combination</td>\n      <td>Ethylhexyl palmitate, strong sulfates, chemica...</td>\n      <td>Acne, Skin Texture (roughness, dullness), Other</td>\n      <td>Osea Ocean Cleanser, Renee Rouleau Elderberry ...</td>\n      <td>Renee Rouleau Luxe Mint Cleanser, Renee Roulea...</td>\n      <td>Temperate, a lovely 70F (lucky!)</td>\n      <td>Overall I have fairly sensitive skin with horm...</td>\n      <td>No, but I would like to start to address early...</td>\n      <td>Azelaic acid has been a good acid for me (not ...</td>\n      <td>My acne is adult onset, primarily hormonal, an...</td>\n      <td>I just moved to Chicago, so lots of temperatur...</td>\n      <td>Yes</td>\n    </tr>\n  </tbody>\n</table>\n</div>"
     },
     "metadata": {},
     "execution_count": 10
    }
   ],
   "source": [
    "responses.head()"
   ]
  },
  {
   "cell_type": "code",
   "execution_count": 12,
   "metadata": {},
   "outputs": [
    {
     "output_type": "execute_result",
     "data": {
      "text/plain": "            timestamp    skin_type  \\\n0  4/30/2020 12:43:32  Combination   \n1  4/30/2020 12:45:25  Combination   \n2  4/30/2020 12:50:26         Oily   \n3  4/30/2020 13:02:43       Normal   \n4  4/30/2020 13:08:20  Combination   \n\n                                           allergies  \\\n0                                               None   \n1                                       No allergies   \n2                                                No.   \n3                                                 No   \n4  Ethylhexyl palmitate, strong sulfates, chemica...   \n\n                                    top_skin_concern  \\\n0            Acne, Pigmentation, Fine lines/wrinkles   \n1  Acne, Fine lines/wrinkles, Skin Texture (rough...   \n2                                 Acne, Pigmentation   \n3  Fine lines/wrinkles, Skin Texture (roughness, ...   \n4    Acne, Skin Texture (roughness, dullness), Other   \n\n                                          am_routine  \\\n0  trader joe's all in one cleanser, bioderma seb...   \n1  Biore Charcoal Acne Clearing Cleanser, Kiel's ...   \n2  Drunk Elephant Beste No. 9 Jelly Cleanser, pau...   \n3  Paula's Choice enriched calming toner, Timeles...   \n4  Osea Ocean Cleanser, Renee Rouleau Elderberry ...   \n\n                                          pm_routine  \\\n0  trader joe's all in one cleanser, Bioderma Seb...   \n1                                                NaN   \n2  Dermalogica Precleanse, CeraVe Foaming Facial ...   \n3  Palmer's facial cleansing oil, Cetaphil gentle...   \n4  Renee Rouleau Luxe Mint Cleanser, Renee Roulea...   \n\n                     summer_climate  \\\n0  Temperate, a lovely 70F (lucky!)   \n1                   Tropical, humid   \n2                   Desert dry heat   \n3                   Tropical, humid   \n4  Temperate, a lovely 70F (lucky!)   \n\n                                  skin_sensitivities  \\\n0  I broke out from Cosrx snail serum and from Ma...   \n1                                                No.   \n2                                                No.   \n3                                                No    \n4  Overall I have fairly sensitive skin with horm...   \n\n                                      used_retinoids  \\\n0                     Differing 0.1% for four years    \n1                                                No.   \n2                                                No.   \n3  Almost through the purging/peeling phase with ...   \n4  No, but I would like to start to address early...   \n\n                                          used_acids  \\\n0  I prefer toners with acids as masks with AHA s...   \n1                                                No.   \n2  I've used 2% BHA on and off; and daily I use a...   \n3  I've tried (and still own) The Ordinary red pe...   \n4  Azelaic acid has been a good acid for me (not ...   \n\n                                  prone_to_breakouts  \\\n0  I have mild to moderate acne that I have been ...   \n1  Yes. They are usually cystic and around my cyc...   \n2  Yes, occasional small whiteheads and blackhead...   \n3  Not really - a very rare pimple, I tend more o...   \n4  My acne is adult onset, primarily hormonal, an...   \n\n                                       miscellaneous permission  \n0   I have a super oily forehead, oily nose and c...        Yes  \n1                                       I need help.        Yes  \n2  I'm Black so hyperpigmentation and skin discol...        Yes  \n3  I turn 43 in a month and am really trying to g...        Yes  \n4  I just moved to Chicago, so lots of temperatur...        Yes  ",
      "text/html": "<div>\n<style scoped>\n    .dataframe tbody tr th:only-of-type {\n        vertical-align: middle;\n    }\n\n    .dataframe tbody tr th {\n        vertical-align: top;\n    }\n\n    .dataframe thead th {\n        text-align: right;\n    }\n</style>\n<table border=\"1\" class=\"dataframe\">\n  <thead>\n    <tr style=\"text-align: right;\">\n      <th></th>\n      <th>timestamp</th>\n      <th>skin_type</th>\n      <th>allergies</th>\n      <th>top_skin_concern</th>\n      <th>am_routine</th>\n      <th>pm_routine</th>\n      <th>summer_climate</th>\n      <th>skin_sensitivities</th>\n      <th>used_retinoids</th>\n      <th>used_acids</th>\n      <th>prone_to_breakouts</th>\n      <th>miscellaneous</th>\n      <th>permission</th>\n    </tr>\n  </thead>\n  <tbody>\n    <tr>\n      <th>0</th>\n      <td>4/30/2020 12:43:32</td>\n      <td>Combination</td>\n      <td>None</td>\n      <td>Acne, Pigmentation, Fine lines/wrinkles</td>\n      <td>trader joe's all in one cleanser, bioderma seb...</td>\n      <td>trader joe's all in one cleanser, Bioderma Seb...</td>\n      <td>Temperate, a lovely 70F (lucky!)</td>\n      <td>I broke out from Cosrx snail serum and from Ma...</td>\n      <td>Differing 0.1% for four years</td>\n      <td>I prefer toners with acids as masks with AHA s...</td>\n      <td>I have mild to moderate acne that I have been ...</td>\n      <td>I have a super oily forehead, oily nose and c...</td>\n      <td>Yes</td>\n    </tr>\n    <tr>\n      <th>1</th>\n      <td>4/30/2020 12:45:25</td>\n      <td>Combination</td>\n      <td>No allergies</td>\n      <td>Acne, Fine lines/wrinkles, Skin Texture (rough...</td>\n      <td>Biore Charcoal Acne Clearing Cleanser, Kiel's ...</td>\n      <td>NaN</td>\n      <td>Tropical, humid</td>\n      <td>No.</td>\n      <td>No.</td>\n      <td>No.</td>\n      <td>Yes. They are usually cystic and around my cyc...</td>\n      <td>I need help.</td>\n      <td>Yes</td>\n    </tr>\n    <tr>\n      <th>2</th>\n      <td>4/30/2020 12:50:26</td>\n      <td>Oily</td>\n      <td>No.</td>\n      <td>Acne, Pigmentation</td>\n      <td>Drunk Elephant Beste No. 9 Jelly Cleanser, pau...</td>\n      <td>Dermalogica Precleanse, CeraVe Foaming Facial ...</td>\n      <td>Desert dry heat</td>\n      <td>No.</td>\n      <td>No.</td>\n      <td>I've used 2% BHA on and off; and daily I use a...</td>\n      <td>Yes, occasional small whiteheads and blackhead...</td>\n      <td>I'm Black so hyperpigmentation and skin discol...</td>\n      <td>Yes</td>\n    </tr>\n    <tr>\n      <th>3</th>\n      <td>4/30/2020 13:02:43</td>\n      <td>Normal</td>\n      <td>No</td>\n      <td>Fine lines/wrinkles, Skin Texture (roughness, ...</td>\n      <td>Paula's Choice enriched calming toner, Timeles...</td>\n      <td>Palmer's facial cleansing oil, Cetaphil gentle...</td>\n      <td>Tropical, humid</td>\n      <td>No</td>\n      <td>Almost through the purging/peeling phase with ...</td>\n      <td>I've tried (and still own) The Ordinary red pe...</td>\n      <td>Not really - a very rare pimple, I tend more o...</td>\n      <td>I turn 43 in a month and am really trying to g...</td>\n      <td>Yes</td>\n    </tr>\n    <tr>\n      <th>4</th>\n      <td>4/30/2020 13:08:20</td>\n      <td>Combination</td>\n      <td>Ethylhexyl palmitate, strong sulfates, chemica...</td>\n      <td>Acne, Skin Texture (roughness, dullness), Other</td>\n      <td>Osea Ocean Cleanser, Renee Rouleau Elderberry ...</td>\n      <td>Renee Rouleau Luxe Mint Cleanser, Renee Roulea...</td>\n      <td>Temperate, a lovely 70F (lucky!)</td>\n      <td>Overall I have fairly sensitive skin with horm...</td>\n      <td>No, but I would like to start to address early...</td>\n      <td>Azelaic acid has been a good acid for me (not ...</td>\n      <td>My acne is adult onset, primarily hormonal, an...</td>\n      <td>I just moved to Chicago, so lots of temperatur...</td>\n      <td>Yes</td>\n    </tr>\n  </tbody>\n</table>\n</div>"
     },
     "metadata": {},
     "execution_count": 12
    }
   ],
   "source": [
    "new_columns = [\n",
    "    'timestamp',\n",
    "    'skin_type',\n",
    "    'allergies',\n",
    "    'top_skin_concern',\n",
    "    'am_routine',\n",
    "    'pm_routine',\n",
    "    'summer_climate',\n",
    "    'skin_sensitivities',\n",
    "    'used_retinoids',\n",
    "    'used_acids',\n",
    "    'prone_to_breakouts',\n",
    "    'miscellaneous',\n",
    "    'permission'\n",
    "]\n",
    "\n",
    "responses.columns = new_columns\n",
    "# responses.drop(columns=['email_address','name'], inplace=True)\n",
    "responses.head()"
   ]
  },
  {
   "cell_type": "code",
   "execution_count": 15,
   "metadata": {},
   "outputs": [
    {
     "output_type": "execute_result",
     "data": {
      "text/plain": "0            [acne, pigmentation, fine lines/wrinkles]\n1    [acne, fine lines/wrinkles, skin texture (roug...\n2                                 [acne, pigmentation]\n3    [fine lines/wrinkles, skin texture (roughness,...\n4    [acne, skin texture (roughness, dullness), other]\nName: top_skin_concern, dtype: object"
     },
     "metadata": {},
     "execution_count": 15
    }
   ],
   "source": [
    "# responses['top_skin_concern'] = responses['top_skin_concern'].str.lower().str.split(', ')\n",
    "responses['top_skin_concern'][:5]"
   ]
  },
  {
   "cell_type": "markdown",
   "metadata": {},
   "source": [
    "## using requests-html\n",
    "\n",
    "https://www.jcchouinard.com/web-scraping-with-python-and-requests-html/"
   ]
  },
  {
   "cell_type": "code",
   "execution_count": 16,
   "metadata": {},
   "outputs": [],
   "source": [
    "aliases = {}\n",
    "base_names = set()"
   ]
  },
  {
   "cell_type": "code",
   "execution_count": null,
   "metadata": {},
   "outputs": [],
   "source": [
    "# test = 'HELLO'\n",
    "# test_lower = test.lower\n",
    "# test = test_lower()\n",
    "# print(test)\n",
    "# test = []\n",
    "# test_append = test.append\n",
    "# test_append(5)\n",
    "# print(test)"
   ]
  },
  {
   "cell_type": "code",
   "execution_count": 17,
   "metadata": {},
   "outputs": [],
   "source": [
    "class OrderedCounter(Counter, OrderedDict):\n",
    "    pass"
   ]
  },
  {
   "cell_type": "code",
   "execution_count": 76,
   "metadata": {},
   "outputs": [],
   "source": [
    "class CosDNA(HTMLSession):\n",
    "    '''\n",
    "    Parent class for connecting to CosDNA.com database.\n",
    "    Not intended to be used on its own.\n",
    "    '''\n",
    "    \n",
    "    base_url = 'https://cosdna.com'\n",
    "    \n",
    "    sort_dict = {\n",
    "        'latest': '&sort=date',\n",
    "        'featured': '&sort=featured',\n",
    "        'clicks': '&sort=click',\n",
    "        'reviews': '&sort=review'\n",
    "    }\n",
    "    \n",
    "    def __init__(self, name=None):\n",
    "        super().__init__()\n",
    "        self._name = name\n",
    "        self._synced = False      # synced in child classes"
   ]
  },
  {
   "cell_type": "code",
   "execution_count": 106,
   "metadata": {},
   "outputs": [],
   "source": [
    "class Cosmetic(CosDNA):\n",
    "    '''\n",
    "    Parent class for organizing Products and Ingredients from CosDNA.com.\n",
    "    Not intended to be used on its own.\n",
    "    '''\n",
    "    def __init__(self, name=None, cosdna_url=None):\n",
    "        super().__init__(name)\n",
    "        self._cosdna_url = cosdna_url\n",
    "            \n",
    "    def link(self, sort=None, cosdna_url=None, _base_url=None):\n",
    "        self._cosdna_url = self._check_url(cosdna_url)\n",
    "        if self._cosdna_url:\n",
    "            return self\n",
    "        else:\n",
    "            self._search(sort, _base_url)\n",
    "            \n",
    "    def _search(self, sort=None, _base_url=None):\n",
    "        if self._query:\n",
    "            search_url = self._get_search_url(sort, _base_url)\n",
    "            self._r = self.get(search_url)\n",
    "            top = self._r.html.find('td', first=True)    # top result\n",
    "            if top:\n",
    "                self._cosdna_url = (CosDNA.base_url \n",
    "                                    + top.xpath('//a/@href', first=True))\n",
    "                return self\n",
    "            else:\n",
    "                nr = self._r.html.find('.text-danger')\n",
    "                if nr:\n",
    "                    print(f'No results for {self._query} on CosDNA.')\n",
    "                    print('Enter new search:')\n",
    "                    name = input(\"(to cancel, enter 'BREAK' w/o quotes)\")\n",
    "                    if name == 'BREAK':\n",
    "                        return self\n",
    "                    else:\n",
    "                        self._query = name\n",
    "                        return self._search(sort, _base_url)\n",
    "                else:\n",
    "                    self._cosdna_url = self._r.url\n",
    "                    return self\n",
    "        else:\n",
    "            print('Link with valid CosDNA URL or product name to proceed.')\n",
    "            return self\n",
    "    \n",
    "    def _get_search_url(self, sort=None, _base_url=None):\n",
    "        query = re.sub('[^a-z0-9\\s\\-]', '', self._query.lower())\n",
    "        query = re.sub('([a-z])\\-([a-z])', r'\\1 \\2', query)\n",
    "        query = query.replace(' ', '+')\n",
    "        # _base_url defined in child classes\n",
    "        # Product() has different sort options, Ingredient() does not\n",
    "        if sort in [*CosDNA.sort_dict]:\n",
    "            search_url = _base_url + query + CosDNA.sort_dict[sort]\n",
    "        else:\n",
    "            search_url = _base_url + query\n",
    "        return search_url\n",
    "    \n",
    "    def sync(self):\n",
    "        if self.cosdna_url:\n",
    "            # child classes define more actions\n",
    "            self._r = self.get(self.cosdna_url)\n",
    "            return self\n",
    "        else:\n",
    "            print('Initialize or link with valid CosDNA URL to proceed')\n",
    "            return self        \n",
    "    \n",
    "    def _check_url(self, url=None):\n",
    "        if not url:\n",
    "            if not self._cosdna_url:\n",
    "                return None\n",
    "            else:\n",
    "                return self._cosdna_url\n",
    "        elif CosDNA.base_url in url:\n",
    "            return url\n",
    "        else:\n",
    "            print('Invalid CosDNA URL.')\n",
    "            return None\n",
    "        \n",
    "    @property\n",
    "    def cosdna_url(self):\n",
    "        return self._check_url(self._cosdna_url)\n",
    "    \n",
    "    @property\n",
    "    def linked(self):\n",
    "        if self.cosdna_url:\n",
    "            return True\n",
    "        else:\n",
    "            return False\n",
    "        \n",
    "    @property\n",
    "    # defined as a property since Routine() will not share this behavior\n",
    "    def synced(self):\n",
    "        return self._synced"
   ]
  },
  {
   "cell_type": "code",
   "execution_count": 129,
   "metadata": {},
   "outputs": [],
   "source": [
    "class Ingredient(Cosmetic):\n",
    "    '''\n",
    "    Sync and store ingredient information from CosDNA.com.\n",
    "    \n",
    "    Search for ingredients based on name, link to CosDNA page, and scrape \n",
    "    information to store in instance.\n",
    "    \n",
    "    Parameters\n",
    "    ----------\n",
    "    name : str, default None\n",
    "        Name of ingredient.\n",
    "        \n",
    "    cas_no : str, default None\n",
    "        CAS Registry Number\n",
    "        \n",
    "    cosdna_url : str, default None\n",
    "        URL of ingredient in CosDNA database\n",
    "        \n",
    "    >>> i = Ingredient('salicylic acid')\n",
    "    >>> i.name                                     # returns assigned name\n",
    "    'salicylic acid'\n",
    "    >>> i.link_sync()                              # scrapes top result\n",
    "    >>> i.name                                     # returns CosDNA name\n",
    "    'bha'\n",
    "    \n",
    "    >>> i.link('https://cosdna.com/eng/0f1b7f1402.html')    # directly update link\n",
    "    >>> i.sync()\n",
    "    >>> i.name\n",
    "    'capryloyl salicylic acid'\n",
    "    '''\n",
    "    \n",
    "    def __init__(self, name=None, cas_no=None, cosdna_url=None):\n",
    "        self.cas_no, self._cosdna_id = cas_no, None\n",
    "        super().__init__(name, cosdna_url)\n",
    "        \n",
    "    def link(self, cosdna_url=None):\n",
    "        if self.cas_no:\n",
    "            self._query = self.cas_no\n",
    "        else:\n",
    "            self._query = self._name\n",
    "        return super().link(sort=None, cosdna_url=cosdna_url, \n",
    "                            _base_url='https://cosdna.com/eng/stuff.php?q=')\n",
    "        \n",
    "    def sync(self):\n",
    "        super().sync()     # goes to cosdna_url\n",
    "        self._cosdna_name, self.aliases = self._get_names()\n",
    "        self.mass, self.hlb, self.cas_no = self._get_chemical_info()\n",
    "        self.description = self._get_description()\n",
    "        self._synced = True\n",
    "        return self\n",
    "        \n",
    "    def link_sync(self, cosdna_url=None):\n",
    "        self.link(cosdna_url)\n",
    "        self.sync()\n",
    "        return self\n",
    "    \n",
    "    def _get_names(self):\n",
    "        cosdna_name = self._r.html.find('.text-vampire', first=True) \\\n",
    "                          .text.lower()\n",
    "        aliases = self._r.html.find('div.chem.mb-5 > div.mb-2', first=True) \\\n",
    "                      .text.lower().split(', ')\n",
    "        return cosdna_name, aliases\n",
    "    \n",
    "    def _get_chemical_info(self):\n",
    "        mass, hlb, cas_no = None, None, None\n",
    "        ci = self._r.html                                                \\\n",
    "                 .find('div.d-flex.justify-content-between', first=True) \\\n",
    "                 .text\n",
    "        if 'Molecular Weight' in ci:\n",
    "            try:\n",
    "                mass = float(re.findall(\".*Weight[^\\d\\.]+(\\d+\\.\\d+).*\", ci)[0])\n",
    "            except:\n",
    "                mass = None\n",
    "        if 'HLB' in ci:\n",
    "            try:\n",
    "                hlb = float(re.findall(\".*HLB[^\\d\\.]+(\\d+\\.\\d+).*\", ci)[0])\n",
    "            except:\n",
    "                hlb = None\n",
    "        if 'Cas No' in ci:\n",
    "            cas_no = re.findall(\".*Cas No[^\\d\\-]+(\\d+\\-\\d+\\-\\d+).*\", ci)[0]\n",
    "        return mass, hlb, cas_no\n",
    "    \n",
    "    def _get_description(self):\n",
    "        return self._r.html                                                  \\\n",
    "                   .find('div.chem.mb-5 > div.linkb1.ls-2.lh-1', first=True) \\\n",
    "                   .text\n",
    "        \n",
    "    @property\n",
    "    def name(self):\n",
    "        if self.synced:\n",
    "            return self._cosdna_name\n",
    "        else:\n",
    "            return self._name\n",
    "        \n",
    "    @property\n",
    "    def cosdna_id(self):\n",
    "        if not self._cosdna_id:\n",
    "            if self.cosdna_url:\n",
    "                self._cosdna_id = re.findall(\n",
    "                    \"eng/(.*).html\", self.cosdna_url)[0]\n",
    "            else:\n",
    "                self._cosdna_id = 'unavailable'\n",
    "        return self._cosdna_id\n",
    "        \n",
    "    def __str__(self):\n",
    "        return self.name"
   ]
  },
  {
   "cell_type": "code",
   "execution_count": 108,
   "metadata": {},
   "outputs": [],
   "source": [
    "def ingredient_test(ing):\n",
    "    tick = time.time()\n",
    "    print(ing.linked)\n",
    "    ing.link_sync()\n",
    "    print('--link_synced')\n",
    "    print(ing.linked)\n",
    "    print()\n",
    "    print(ing.name)\n",
    "    print(ing.aliases)\n",
    "    print(ing.cosdna_id)\n",
    "    print(ing.mass)\n",
    "    print(ing.hlb)\n",
    "    print(ing.cas_no)\n",
    "    print(ing.description)\n",
    "    tock = time.time()\n",
    "    print()\n",
    "    print(tock - tick)"
   ]
  },
  {
   "cell_type": "code",
   "execution_count": 109,
   "metadata": {},
   "outputs": [
    {
     "name": "stdout",
     "output_type": "stream",
     "text": [
      "False\n",
      "--link_synced\n",
      "True\n",
      "\n",
      "tween 20\n",
      "['poe (20) sorbitan monolaurate', 'polysorbate 20', 'atmer 110', 'peg(20)sorbitan monolaurate', 'alkest tw 20']\n",
      "62e334964\n",
      "1227.54\n",
      "16.7\n",
      "9005-64-5\n",
      "Surfactant, Emulsifier\n",
      "\n",
      "0.26927947998046875\n"
     ]
    }
   ],
   "source": [
    "test = Ingredient('polysorbate-20')\n",
    "\n",
    "ingredient_test(test)"
   ]
  },
  {
   "cell_type": "code",
   "execution_count": 93,
   "metadata": {},
   "outputs": [
    {
     "name": "stdout",
     "output_type": "stream",
     "text": [
      "False\n",
      "query = 9005-64-5\n",
      "https://cosdna.com/eng/62e334964.html\n",
      "--link_synced\n",
      "True\n",
      "\n",
      "tween 20\n",
      "['poe (20) sorbitan monolaurate', 'polysorbate 20', 'atmer 110', 'peg(20)sorbitan monolaurate', 'alkest tw 20']\n",
      "62e334964\n",
      "1227.54\n",
      "16.7\n",
      "9005-64-5\n",
      "Surfactant, Emulsifier\n",
      "\n",
      "0.41489458084106445\n"
     ]
    }
   ],
   "source": [
    "test = Ingredient(cas_no='9005-64-5')\n",
    "\n",
    "ingredient_test(test)"
   ]
  },
  {
   "cell_type": "code",
   "execution_count": 94,
   "metadata": {},
   "outputs": [
    {
     "name": "stdout",
     "output_type": "stream",
     "text": [
      "True\n",
      "--link_synced\n",
      "True\n",
      "\n",
      "tween 20\n",
      "['poe (20) sorbitan monolaurate', 'polysorbate 20', 'atmer 110', 'peg(20)sorbitan monolaurate', 'alkest tw 20']\n",
      "62e334964\n",
      "1227.54\n",
      "16.7\n",
      "9005-64-5\n",
      "Surfactant, Emulsifier\n",
      "\n",
      "0.2184145450592041\n"
     ]
    }
   ],
   "source": [
    "test = Ingredient(cosdna_url='https://cosdna.com/eng/62e334964.html')\n",
    "\n",
    "ingredient_test(test)"
   ]
  },
  {
   "cell_type": "code",
   "execution_count": 130,
   "metadata": {},
   "outputs": [],
   "source": [
    "class Product(Cosmetic):\n",
    "    '''\n",
    "    Sync and store product information from CosDNA.com.\n",
    "    \n",
    "    Search for products based on name, link to CosDNA page, and scrape \n",
    "    information to store in instance.\n",
    "    \n",
    "    Parameters\n",
    "    ----------\n",
    "    name : str, default None\n",
    "        Name of ingredient.\n",
    "        \n",
    "    brand : str, default None\n",
    "        Name of brand. Does not affect search--purely for internal purposes.\n",
    "        \n",
    "    product : str, default None\n",
    "        Name of product. Does not affect search--purely for internal purposes.\n",
    "        \n",
    "    cosdna_url : str, default None\n",
    "        URL of ingredient in CosDNA database\n",
    "    '''\n",
    "    \n",
    "    def __init__(self, name=None, brand=None, product=None, cosdna_url=None):\n",
    "        self._name, self.brand, self.product = name, brand, product\n",
    "        # initialize using 'name' property\n",
    "        super().__init__(self.name, cosdna_url)\n",
    "    \n",
    "    def link(self, sort='featured', cosdna_url=None):\n",
    "        # initialize using 'name' property\n",
    "        self._query = self.name\n",
    "        return super().link(sort=sort, cosdna_url=cosdna_url, \n",
    "                            _base_url='https://cosdna.com/eng/product.php?q=')\n",
    "    \n",
    "    def sync(self, deep=False):\n",
    "        super().sync()\n",
    "        self._set_name_brand_product(self._query)\n",
    "        self._ingredients = self._get_ingredients(deep)\n",
    "        self._synced = True\n",
    "        return self\n",
    "    \n",
    "    def link_sync(self, sort='featured', cosdna_url=None, deep=False):\n",
    "        self.link(sort=sort, cosdna_url=cosdna_url)\n",
    "        self.sync(deep=deep)\n",
    "        \n",
    "    def _set_name_brand_product(self, name):\n",
    "        cosdna_brand = self._r.html.find('.brand-name', first=True).text.lower()\n",
    "        cosdna_product = self._r.html.find('.prod-name', first=True).text.lower()\n",
    "        cosdna_name = str(cosdna_brand + ' ' + cosdna_product).strip()\n",
    "        if cosdna_brand:\n",
    "            self.brand, self.product = cosdna_brand, cosdna_product\n",
    "        else:\n",
    "            self._name = cosdna_name\n",
    "            \n",
    "    def _get_ingredients(self, deep):\n",
    "        ingredients = []\n",
    "        table = self._r.html.find('.tr-i')\n",
    "        # not sure if this improves performance\n",
    "        ingredients_append = ingredients.append\n",
    "        for row in table:\n",
    "            cells = row.find('td')\n",
    "            if len(cells) == 5:\n",
    "                ing, fun, _, _, _ = cells\n",
    "                ing_name, ing_url = self._get_ingredient_info(ing)\n",
    "                # figure out where to put function later\n",
    "                # function = self._get_function_info(fun)\n",
    "                ingredient = Ingredient(name=ing_name,\n",
    "                                        cosdna_url=ing_url)\n",
    "                if deep:\n",
    "                    ingredient.sync()\n",
    "                    time.sleep(0.5)\n",
    "            else:\n",
    "                ing = cells[0]\n",
    "                ing_name = ing.find('.text-muted', first=True).text.strip() \\\n",
    "                              .lower()\n",
    "                ingredient = Ingredient(name=ing_name)\n",
    "            ingredients_append(ingredient)\n",
    "        return ingredients            \n",
    "            \n",
    "    def _get_ingredient_info(self, ing):\n",
    "        name = ing.text.strip().lower()\n",
    "        url = ing.xpath('//a/@href', first=True)\n",
    "        url = Cosmetic.base_url + url\n",
    "        return name, url \n",
    "        \n",
    "    def _get_function_info(self, fun):\n",
    "        function = fun.text.strip().lower().split(',')\n",
    "        if 'sunscreen' in function:\n",
    "            try:\n",
    "                uva = re.search(\"uv[ab]\\d\", \n",
    "                                fun.xpath('//img')[0].attrs['src'])[0]\n",
    "                uvb = re.search(\"uv[ab]\\d\", \n",
    "                                fun.xpath('//img')[1].attrs['src'])[0]\n",
    "                function.append(uva)\n",
    "                function.append(uvb)\n",
    "            except:\n",
    "                pass\n",
    "        return function    \n",
    "    \n",
    "    @property\n",
    "    def name(self):\n",
    "        if self.brand is None and self.product is None:\n",
    "            return self._name\n",
    "        else:\n",
    "            self._name = self.brand + ' ' + self.product\n",
    "            return self._name\n",
    "    \n",
    "    @property\n",
    "    def ingredients(self):\n",
    "        return [ing.name for ing in self._ingredients]\n",
    "    \n",
    "    @property\n",
    "    def cosdna_urls(self):\n",
    "        return [ing.cosdna_url for ing in self._ingredients]\n",
    "    \n",
    "    # _cosdna_ids and _ing_dict used for Routine()\n",
    "    @property\n",
    "    def _cosdna_ids(self):\n",
    "        return [ing.cosdna_id for ing in self._ingredients]\n",
    "    \n",
    "    @property\n",
    "    def _ingredient_dict(self):\n",
    "        return dict(zip(self._cosdna_ids, self.ingredients))\n",
    "        \n",
    "    def __str__(self):\n",
    "        return f'{self.name}\\n\\n{self.ingredients}'"
   ]
  },
  {
   "cell_type": "code",
   "execution_count": 111,
   "metadata": {},
   "outputs": [],
   "source": [
    "def product_test(product):\n",
    "    tick = time.time()\n",
    "    print(product.linked)\n",
    "    product.link_sync()\n",
    "    print('--link_synced')\n",
    "    print(product.linked)\n",
    "    print()\n",
    "    print(product.name)\n",
    "    print(product.brand)\n",
    "    print(product.product)\n",
    "    print(product.ingredients)\n",
    "    print(product._cosdna_ids)\n",
    "    tock = time.time()\n",
    "    print()\n",
    "    print(tock - tick)"
   ]
  },
  {
   "cell_type": "code",
   "execution_count": 112,
   "metadata": {},
   "outputs": [
    {
     "name": "stdout",
     "output_type": "stream",
     "text": [
      "False\n",
      "--link_synced\n",
      "True\n",
      "\n",
      "chemist confessions better oil\n",
      "chemist confessions\n",
      "better oil\n",
      "['hippophae rhamnoides seed oil', 'ribes nigrum seed oil', 'rosa rubiginosa seed oil', 'squalane', 'bisabolol', 'linoleic acid', 'linolenic acid', 'α-tocopherol', 'pelargonium graveolens oil', 'salvia sclarea oil', 'chamaecyparis obtusa oil']\n",
      "['18c16716561', '5358a014437', '8a961d14427', '828b29359', 'affbc2955', '0287c3229', 'ba78081902', '3bf28a485', '12af7d17919', '4da61720318', '3f6f9914103']\n",
      "\n",
      "0.9345018863677979\n"
     ]
    }
   ],
   "source": [
    "test = Product(brand='chemist confessions', product='better oil')\n",
    "product_test(test)"
   ]
  },
  {
   "cell_type": "code",
   "execution_count": 113,
   "metadata": {},
   "outputs": [
    {
     "name": "stdout",
     "output_type": "stream",
     "text": [
      "False\n",
      "--link_synced\n",
      "True\n",
      "\n",
      "chemist confessions the better oil moisture basics nourishing emollients\n",
      "None\n",
      "None\n",
      "['hippophae rhamnoides seed oil', 'ribes nigrum seed oil', 'rosa rubiginosa seed oil', 'squalane', 'bisabolol', 'linoleic acid', 'linolenic acid', 'α-tocopherol', 'pelargonium graveolens oil', 'salvia sclarea oil', 'chamaecyparis obtusa oil']\n",
      "['18c16716561', '5358a014437', '8a961d14427', '828b29359', 'affbc2955', '0287c3229', 'ba78081902', '3bf28a485', '12af7d17919', '4da61720318', '3f6f9914103']\n",
      "\n",
      "0.8706705570220947\n"
     ]
    }
   ],
   "source": [
    "product2 = Product('chemist confessions better oil')\n",
    "product_test(product2)"
   ]
  },
  {
   "cell_type": "code",
   "execution_count": 114,
   "metadata": {},
   "outputs": [
    {
     "name": "stdout",
     "output_type": "stream",
     "text": [
      "True\n",
      "--link_synced\n",
      "True\n",
      "\n",
      "chemist confessions aquafix moisture basics hydrating water gel\n",
      "None\n",
      "None\n",
      "['water', 'propanediol', 'ethoxydiglycol', 'glycerin', 'sodium pca', 'panthenol', 'allantoin', 'peg/ppg-17/6 copolymer', 'vinyl dimethicone/methicone silsesquioxane crosspolymer', 'madecassoside', 'asiaticoside', 'sodium hyaluronate', 'xanthan gum', 'lecithin', 'sclerotium gum', 'pullulan', 'polyacrylate crosspolymer-6', 'hexanediol', 'caprylhydroxamic acid', 'disodium edta']\n",
      "['90172810251', '72a94a19514', 'b3d7c210384', '205eb9166', 'dfa882349', 'fc86a9293', 'f124da42', '1c459c8554', '293f3810714', 'd9fefd10987', 'ee7e9012948', '6b1f88346', '05a3b6831', 'cebeb8225', '7cef8d335', 'c7fedc6466', 'eba83f20507', '631f7f16507', 'eb396d14245', 'c25e5833']\n",
      "\n",
      "0.27526187896728516\n"
     ]
    }
   ],
   "source": [
    "product3 = Product(cosdna_url='https://cosdna.com/eng/cosmetic_57b4385905.html')\n",
    "product_test(product3)"
   ]
  },
  {
   "cell_type": "code",
   "execution_count": 149,
   "metadata": {},
   "outputs": [],
   "source": [
    "class Routine(CosDNA):\n",
    "    \n",
    "    def __init__(self, name=None, routine=None):\n",
    "        super().__init__(name)\n",
    "        self._routine = []\n",
    "        if routine:\n",
    "            self.add(routine)\n",
    "        \n",
    "    def add(self, routine):\n",
    "        routine = np.array([routine])\n",
    "        routine = routine.ravel()\n",
    "        for product in routine:\n",
    "            if type(product) == Product:\n",
    "                self._routine.append(product)\n",
    "            else:\n",
    "                self._routine.append(Product(product))\n",
    "        return self\n",
    "    \n",
    "    def link(self, sort='featured', force=False):\n",
    "        self.link_sync(sort=sort, force=force, _link=True, _sync=False)\n",
    "    \n",
    "    def sync(self, force=False, deep=False):\n",
    "        self.link_sync(sort=sort, force=force, deep=deep, _link=False, \n",
    "                       _sync=True)\n",
    "    \n",
    "    def link_sync(self, sort='featured', force=False, deep=False, _link=True, \n",
    "                  _sync=True):\n",
    "        for product in self._routine:\n",
    "            if _link:\n",
    "                if force:\n",
    "                    product.link(sort)\n",
    "                else:\n",
    "                    if not product.linked:\n",
    "                        product.link(sort)\n",
    "            if _sync:\n",
    "                if force:\n",
    "                    product.sync(deep)\n",
    "                    changes = True\n",
    "                else:\n",
    "                    if not product.synced:\n",
    "                        product.sync(deep)\n",
    "                        changes = True\n",
    "            time.sleep(0.5)\n",
    "        if changes:\n",
    "            self._analyze()\n",
    "        else:\n",
    "            return self\n",
    "        \n",
    "    def _analyze(self):\n",
    "        \"\"\"\n",
    "        Tabulates frequency of ingredients across all Products\n",
    "        \"\"\"\n",
    "#         self._rout_ids, self._rout_ings, self._rout_dict = self._get_routine_info()\n",
    "        self._routine_ids, self._routine_dict = self._get_routine_info()\n",
    "        self._counts = self._translate_counter(self._routine_dict,\n",
    "                                               Counter(self._routine_ids))\n",
    "        self._product_vectors = self._get_product_vectors()\n",
    "        return self\n",
    "    \n",
    "    def _get_routine_info(self):\n",
    "        routine_ids = []\n",
    "#         routine_ings = []\n",
    "        routine_dict = {}\n",
    "        for product in self._routine:\n",
    "            product_dict = product._ingredient_dict\n",
    "            routine_ids += product._cosdna_ids\n",
    "#             routine_ings += prod.ingredients\n",
    "            routine_dict.update(product_dict)\n",
    "        routine_dict.update({'unavailable': 'unavailable'})\n",
    "        return routine_ids, routine_dict\n",
    "#         return rout_ids, rout_ings, rout_dict\n",
    "    \n",
    "    def _translate_counter(self, translation_dict, counter):\n",
    "        # https://stackoverflow.com/questions/51423217/\n",
    "        return OrderedCounter(dict(\n",
    "            (translation_dict.get(k, k), v) for (k, v) in counter.items()\n",
    "        ))\n",
    "    \n",
    "    def _get_product_vectors(self):\n",
    "        product_vectors = []\n",
    "        for product in self._routine:\n",
    "            product_vector = []\n",
    "            product_vector_append = product_vector.append\n",
    "            for cosdna_id in self._routine_ids:\n",
    "                if cosdna_id in product._cosdna_ids:\n",
    "                    product_vector_append(1)\n",
    "                else:\n",
    "                    product_vector_append(0)\n",
    "            product_vectors.append(product_vector)\n",
    "        return product_vectors\n",
    "    \n",
    "    def top_ingredients(self, top=None, mask=None):\n",
    "        if mask:\n",
    "            mask_count = OrderedCounter([x for x in self._ingredients if x in mask])\n",
    "            return mask_count.most_common(top)\n",
    "        else:\n",
    "            return self._counts.most_common(top)\n",
    "    \n",
    "    def has(self, ingredient):\n",
    "        ingredient_id = Ingredient(ingredient).link_sync().cosdna_id\n",
    "        isolated_products = []\n",
    "        for i, product_vector in enumerate(self._product_vectors):\n",
    "            try:\n",
    "                ingredient_index = self._routine_ids.index(ingredient_id)\n",
    "                if product_vector[ingredient_index] == 1:\n",
    "                    isolated_products.append(self._routine[i].name)\n",
    "            except:\n",
    "                print(f'Routine does not have {ingredient}.')\n",
    "                break\n",
    "        return isolated_products\n",
    "    \n",
    "    @property\n",
    "    def routine(self):\n",
    "        try:\n",
    "            return [product.name for product in self._routine]\n",
    "        except:\n",
    "            return self._routine\n",
    "        \n",
    "    @property\n",
    "    def products(self):\n",
    "        return self.routine\n",
    "    \n",
    "    @property\n",
    "    def cosdna_urls(self):\n",
    "        return [product.cosdna_url for product in self._routine]\n",
    "    \n",
    "    @property\n",
    "    def brands(self):\n",
    "        return [product.brand for product in self._routine]\n",
    "    \n",
    "    @property\n",
    "    def linked(self):\n",
    "        try:\n",
    "            return all([product.linked for product in self._routine])\n",
    "        except:\n",
    "            return False\n",
    "    \n",
    "    @property\n",
    "    def synced(self):\n",
    "        try:\n",
    "            return all([product.synced for product in self._routine])\n",
    "        except:\n",
    "            return False\n",
    "        \n",
    "    @property\n",
    "    def ingredients(self):\n",
    "        return list(set(self._routine_ingredients))\n",
    "    \n",
    "    @property\n",
    "    def top(self):\n",
    "        return self.top_ingredients(10)\n",
    "        \n",
    "#     def __str__(self):\n",
    "#         return f'Routine \"{self.name}\" with {len(self.routine)} products'\n",
    "    \n",
    "#     def __repr__(self):\n",
    "#         return f'Routine(name={self.name}, routine={[product.name for product in self.routine]})'"
   ]
  },
  {
   "cell_type": "code",
   "execution_count": 150,
   "metadata": {},
   "outputs": [
    {
     "name": "stdout",
     "output_type": "stream",
     "text": [
      "5.353680849075317\n"
     ]
    }
   ],
   "source": [
    "tick = time.time()\n",
    "routine_list = [\n",
    "    'Biore Charcoal Acne Clearing Cleanser', \n",
    "    \"kiehl's powerful strength line-reducing concentrate 12.5\", \n",
    "    'Neutrogena Rapid Clear Spot Gel',\n",
    "    'Roc Retinol Correxion eye cream', \n",
    "    'Body Merry Retinol Surge Moisturizer'\n",
    "]\n",
    "\n",
    "\n",
    "routine = Routine(routine=routine_list)\n",
    "routine.link_sync()\n",
    "tock = time.time()\n",
    "print(tock - tick)"
   ]
  },
  {
   "cell_type": "code",
   "execution_count": 117,
   "metadata": {},
   "outputs": [
    {
     "data": {
      "text/plain": [
       "[('glycerin', 4),\n",
       " ('disodium edta', 3),\n",
       " ('aqua', 3),\n",
       " ('ethylhexylglycerin', 2),\n",
       " ('sodium hydroxide', 2),\n",
       " ('unavailable', 2),\n",
       " ('glyceryl stearate', 2),\n",
       " ('panthenol', 2),\n",
       " ('polysorbate 20', 2),\n",
       " ('retinol', 2)]"
      ]
     },
     "execution_count": 117,
     "metadata": {},
     "output_type": "execute_result"
    }
   ],
   "source": [
    "routine.top"
   ]
  },
  {
   "cell_type": "code",
   "execution_count": 157,
   "metadata": {},
   "outputs": [
    {
     "name": "stdout",
     "output_type": "stream",
     "text": [
      "0.21445441246032715\n"
     ]
    }
   ],
   "source": [
    "tick = time.time()\n",
    "routine.has('water')\n",
    "tock = time.time()\n",
    "print(tock-tick)"
   ]
  },
  {
   "cell_type": "code",
   "execution_count": 152,
   "metadata": {},
   "outputs": [
    {
     "data": {
      "text/plain": [
       "['biore charcoal acne clearing cleanser']"
      ]
     },
     "execution_count": 152,
     "metadata": {},
     "output_type": "execute_result"
    }
   ],
   "source": [
    "routine.has('salicylic acid')"
   ]
  },
  {
   "cell_type": "code",
   "execution_count": 55,
   "metadata": {},
   "outputs": [
    {
     "data": {
      "text/plain": [
       "['biore charcoal acne clearing cleanser',\n",
       " \"kiehl's powerful-strength line-reducing concentrate 12.5% vitamin c\",\n",
       " 'neutrogena rapid clear stubborn acne spot gel',\n",
       " 'roc retinol correxion® eye cream 0.5oz(15ml)',\n",
       " 'body merry retinol surge moisturizer']"
      ]
     },
     "execution_count": 55,
     "metadata": {},
     "output_type": "execute_result"
    }
   ],
   "source": [
    "routine.routine"
   ]
  },
  {
   "cell_type": "code",
   "execution_count": 119,
   "metadata": {},
   "outputs": [
    {
     "data": {
      "text/plain": [
       "[('glycerin', 4),\n",
       " ('disodium edta', 3),\n",
       " ('aqua', 3),\n",
       " ('ethylhexylglycerin', 2),\n",
       " ('sodium hydroxide', 2),\n",
       " ('unavailable', 2),\n",
       " ('glyceryl stearate', 2),\n",
       " ('panthenol', 2),\n",
       " ('polysorbate 20', 2),\n",
       " ('retinol', 2)]"
      ]
     },
     "execution_count": 119,
     "metadata": {},
     "output_type": "execute_result"
    }
   ],
   "source": [
    "routine.top"
   ]
  },
  {
   "cell_type": "code",
   "execution_count": 126,
   "metadata": {},
   "outputs": [],
   "source": [
    "def routine_test(routine):\n",
    "    \n",
    "    tick = time.time()\n",
    "    print(routine.routine)\n",
    "    routine.link_sync()\n",
    "    print()\n",
    "    print(routine.routine)\n",
    "    print(routine.has('water'))\n",
    "    print(routine.top_ingredients(5))\n",
    "    routine.add('la roche posay antihelios mineral')\n",
    "    routine.link_sync()\n",
    "    print()\n",
    "    print(routine.top_ingredients(5))\n",
    "    tock = time.time()\n",
    "    print()\n",
    "    print(tock - tick)"
   ]
  },
  {
   "cell_type": "code",
   "execution_count": 146,
   "metadata": {},
   "outputs": [
    {
     "name": "stdout",
     "output_type": "stream",
     "text": [
      "['Grown Alchemist Hydra-Restore Cream cleanser', 'Frudia Citrus Brightening Toner', 'Tatch The Essence', 'Peter Thomas Roth Retinol Fusion PM Serum']\n",
      "\n",
      "['grown alchemist hydra-restore cream cleanser', 'frudia citrus brightening toner', 'tatcha the essence 150 ml | 5.1 fl. oz.', 'peter thomas roth retinol fusion pm night serum(a']\n",
      "['grown alchemist hydra-restore cream cleanser', 'frudia citrus brightening toner', 'tatcha the essence 150 ml | 5.1 fl. oz.', 'peter thomas roth retinol fusion pm night serum(a']\n",
      "[('water', 4), ('sorbitan olivate', 2), ('tocopherol', 2), ('niacinamide', 2), ('phenoxyethanol', 2)]\n",
      "\n",
      "[('water', 5), ('tocopherol', 3), ('phenoxyethanol', 3), ('sorbitan olivate', 2), ('zinc oxide 5% (sunscreen)', 2)]\n",
      "\n",
      "8.234978675842285\n"
     ]
    }
   ],
   "source": [
    "routine_list = [\n",
    "    'Grown Alchemist Hydra-Restore Cream cleanser', \n",
    "    'Frudia Citrus Brightening Toner', \n",
    "    'Tatch The Essence', \n",
    "    'Peter Thomas Roth Retinol Fusion PM Serum'\n",
    "]\n",
    "routine = Routine(routine=routine_list)\n",
    "routine_test(routine)"
   ]
  },
  {
   "cell_type": "code",
   "execution_count": 143,
   "metadata": {},
   "outputs": [
    {
     "data": {
      "text/plain": [
       "['grown alchemist hydra-restore cream cleanser',\n",
       " 'frudia citrus brightening toner',\n",
       " 'la roche-posay antihelios mineral sunscreen spf 50']"
      ]
     },
     "execution_count": 143,
     "metadata": {},
     "output_type": "execute_result"
    }
   ],
   "source": [
    "routine.has('vitamin e')"
   ]
  },
  {
   "cell_type": "code",
   "execution_count": 139,
   "metadata": {},
   "outputs": [
    {
     "data": {
      "text/plain": [
       "['grown alchemist hydra-restore cream cleanser',\n",
       " 'frudia citrus brightening toner',\n",
       " 'tatcha the essence 150 ml | 5.1 fl. oz.',\n",
       " 'peter thomas roth retinol fusion pm night serum(a',\n",
       " 'la roche-posay antihelios mineral sunscreen spf 50']"
      ]
     },
     "execution_count": 139,
     "metadata": {},
     "output_type": "execute_result"
    }
   ],
   "source": [
    "routine.has('water')"
   ]
  },
  {
   "cell_type": "code",
   "execution_count": 148,
   "metadata": {},
   "outputs": [
    {
     "name": "stdout",
     "output_type": "stream",
     "text": [
      "Routine does not have salicylic acid\n"
     ]
    },
    {
     "data": {
      "text/plain": [
       "[]"
      ]
     },
     "execution_count": 148,
     "metadata": {},
     "output_type": "execute_result"
    }
   ],
   "source": [
    "routine.has('salicylic acid')"
   ]
  },
  {
   "cell_type": "code",
   "execution_count": 156,
   "metadata": {},
   "outputs": [
    {
     "name": "stdout",
     "output_type": "stream",
     "text": [
      "neutrogena rapid clear stubborn acne spot gel\n",
      "roc retinol correxion® eye cream 0.5oz(15ml)\n",
      "body merry retinol surge moisturizer\n",
      "1.3733494281768799\n"
     ]
    }
   ],
   "source": [
    "tick = time.time()\n",
    "ingredient = 'water'\n",
    "for product in routine._routine:\n",
    "    cosdna_id = Ingredient(ingredient).link_sync().cosdna_id\n",
    "    if cosdna_id in product._cosdna_ids:\n",
    "        print(product.name)\n",
    "        \n",
    "tock = time.time()\n",
    "print(tock-tick)"
   ]
  },
  {
   "cell_type": "code",
   "execution_count": null,
   "metadata": {},
   "outputs": [],
   "source": []
  }
 ],
 "metadata": {
  "kernelspec": {
   "display_name": "Python 3",
   "language": "python",
   "name": "python3"
  },
  "language_info": {
   "codemirror_mode": {
    "name": "ipython",
    "version": 3
   },
   "file_extension": ".py",
   "mimetype": "text/x-python",
   "name": "python",
   "nbconvert_exporter": "python",
   "pygments_lexer": "ipython3",
   "version": "3.7.9-final"
  }
 },
 "nbformat": 4,
 "nbformat_minor": 4
}