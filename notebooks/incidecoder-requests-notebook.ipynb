{
 "metadata": {
  "language_info": {
   "codemirror_mode": {
    "name": "ipython",
    "version": 3
   },
   "file_extension": ".py",
   "mimetype": "text/x-python",
   "name": "python",
   "nbconvert_exporter": "python",
   "pygments_lexer": "ipython3",
   "version": "3.7.9-final"
  },
  "orig_nbformat": 2,
  "kernelspec": {
   "name": "python_defaultSpec_1600278643378",
   "display_name": "Python 3.7.9 64-bit ('base': conda)"
  }
 },
 "nbformat": 4,
 "nbformat_minor": 2,
 "cells": [
  {
   "cell_type": "code",
   "execution_count": 1,
   "metadata": {},
   "outputs": [],
   "source": [
    "import numpy as np\n",
    "import pandas as pd\n",
    "import re\n",
    "import time\n",
    "from glob import glob\n",
    "from string import punctuation\n",
    "from collections import Counter, OrderedDict\n",
    "\n",
    "import requests\n",
    "from requests_html import HTMLSession\n",
    "\n",
    "# from string_grouper import match_strings, match_most_similar, group_similar_strings, StringGrouper\n",
    "# from sklearn.feature_extraction.text import TfidfVectorizer\n",
    "# from scipy.sparse import csr_matrix\n",
    "# import sparse_dot_topn.sparse_dot_topn as sdt"
   ]
  },
  {
   "cell_type": "code",
   "execution_count": 2,
   "metadata": {},
   "outputs": [
    {
     "output_type": "execute_result",
     "data": {
      "text/plain": "            Timestamp What's your skin type?  \\\n0  4/30/2020 12:43:32            Combination   \n1  4/30/2020 12:45:25            Combination   \n2  4/30/2020 12:50:26                   Oily   \n3  4/30/2020 13:02:43                 Normal   \n4  4/30/2020 13:08:20            Combination   \n\n  Do you have any known allergies? Or any ingredients you avoid for any reason?  \\\n0                                               None                              \n1                                       No allergies                              \n2                                                No.                              \n3                                                 No                              \n4  Ethylhexyl palmitate, strong sulfates, chemica...                              \n\n                    What are your top skin concerns?  \\\n0            Acne, Pigmentation, Fine lines/wrinkles   \n1  Acne, Fine lines/wrinkles, Skin Texture (rough...   \n2                                 Acne, Pigmentation   \n3  Fine lines/wrinkles, Skin Texture (roughness, ...   \n4    Acne, Skin Texture (roughness, dullness), Other   \n\n  What is your current day routine? (Please list your products in order from first to last)  \\\n0  trader joe's all in one cleanser, bioderma seb...                                          \n1  Biore Charcoal Acne Clearing Cleanser, Kiel's ...                                          \n2  Drunk Elephant Beste No. 9 Jelly Cleanser, pau...                                          \n3  Paula's Choice enriched calming toner, Timeles...                                          \n4  Osea Ocean Cleanser, Renee Rouleau Elderberry ...                                          \n\n  What is your current night routine (Please list your products in order from first to last)  \\\n0  trader joe's all in one cleanser, Bioderma Seb...                                           \n1                                                NaN                                           \n2  Dermalogica Precleanse, CeraVe Foaming Facial ...                                           \n3  Palmer's facial cleansing oil, Cetaphil gentle...                                           \n4  Renee Rouleau Luxe Mint Cleanser, Renee Roulea...                                           \n\n  What type of summer weather will you have?  \\\n0           Temperate, a lovely 70F (lucky!)   \n1                            Tropical, humid   \n2                            Desert dry heat   \n3                            Tropical, humid   \n4           Temperate, a lovely 70F (lucky!)   \n\n                       Any known skin sensitivities?  \\\n0  I broke out from Cosrx snail serum and from Ma...   \n1                                                No.   \n2                                                No.   \n3                                                No    \n4  Overall I have fairly sensitive skin with horm...   \n\n  Any experience with retinoids? (If so, please tell us your use history)  \\\n0                     Differing 0.1% for four years                         \n1                                                No.                        \n2                                                No.                        \n3  Almost through the purging/peeling phase with ...                        \n4  No, but I would like to start to address early...                        \n\n  Any experience with acids? (If so, please tell us your use history, what type, and any known concentrations)  \\\n0  I prefer toners with acids as masks with AHA s...                                                             \n1                                                No.                                                             \n2  I've used 2% BHA on and off; and daily I use a...                                                             \n3  I've tried (and still own) The Ordinary red pe...                                                             \n4  Azelaic acid has been a good acid for me (not ...                                                             \n\n  Are you prone to breakouts? If so, how severe are the breakouts and what is your acne treatment history?  \\\n0  I have mild to moderate acne that I have been ...                                                         \n1  Yes. They are usually cystic and around my cyc...                                                         \n2  Yes, occasional small whiteheads and blackhead...                                                         \n3  Not really - a very rare pimple, I tend more o...                                                         \n4  My acne is adult onset, primarily hormonal, an...                                                         \n\n  Anything else you want the chemists to know about your skin and your skincare routine?  \\\n0   I have a super oily forehead, oily nose and c...                                       \n1                                       I need help.                                       \n2  I'm Black so hyperpigmentation and skin discol...                                       \n3  I turn 43 in a month and am really trying to g...                                       \n4  I just moved to Chicago, so lots of temperatur...                                       \n\n  Can we share your routine learnings (anonymously) on our social media (post, podcast, or insta live shoutout)?  \n0                                                Yes                                                              \n1                                                Yes                                                              \n2                                                Yes                                                              \n3                                                Yes                                                              \n4                                                Yes                                                              ",
      "text/html": "<div>\n<style scoped>\n    .dataframe tbody tr th:only-of-type {\n        vertical-align: middle;\n    }\n\n    .dataframe tbody tr th {\n        vertical-align: top;\n    }\n\n    .dataframe thead th {\n        text-align: right;\n    }\n</style>\n<table border=\"1\" class=\"dataframe\">\n  <thead>\n    <tr style=\"text-align: right;\">\n      <th></th>\n      <th>Timestamp</th>\n      <th>What's your skin type?</th>\n      <th>Do you have any known allergies? Or any ingredients you avoid for any reason?</th>\n      <th>What are your top skin concerns?</th>\n      <th>What is your current day routine? (Please list your products in order from first to last)</th>\n      <th>What is your current night routine (Please list your products in order from first to last)</th>\n      <th>What type of summer weather will you have?</th>\n      <th>Any known skin sensitivities?</th>\n      <th>Any experience with retinoids? (If so, please tell us your use history)</th>\n      <th>Any experience with acids? (If so, please tell us your use history, what type, and any known concentrations)</th>\n      <th>Are you prone to breakouts? If so, how severe are the breakouts and what is your acne treatment history?</th>\n      <th>Anything else you want the chemists to know about your skin and your skincare routine?</th>\n      <th>Can we share your routine learnings (anonymously) on our social media (post, podcast, or insta live shoutout)?</th>\n    </tr>\n  </thead>\n  <tbody>\n    <tr>\n      <th>0</th>\n      <td>4/30/2020 12:43:32</td>\n      <td>Combination</td>\n      <td>None</td>\n      <td>Acne, Pigmentation, Fine lines/wrinkles</td>\n      <td>trader joe's all in one cleanser, bioderma seb...</td>\n      <td>trader joe's all in one cleanser, Bioderma Seb...</td>\n      <td>Temperate, a lovely 70F (lucky!)</td>\n      <td>I broke out from Cosrx snail serum and from Ma...</td>\n      <td>Differing 0.1% for four years</td>\n      <td>I prefer toners with acids as masks with AHA s...</td>\n      <td>I have mild to moderate acne that I have been ...</td>\n      <td>I have a super oily forehead, oily nose and c...</td>\n      <td>Yes</td>\n    </tr>\n    <tr>\n      <th>1</th>\n      <td>4/30/2020 12:45:25</td>\n      <td>Combination</td>\n      <td>No allergies</td>\n      <td>Acne, Fine lines/wrinkles, Skin Texture (rough...</td>\n      <td>Biore Charcoal Acne Clearing Cleanser, Kiel's ...</td>\n      <td>NaN</td>\n      <td>Tropical, humid</td>\n      <td>No.</td>\n      <td>No.</td>\n      <td>No.</td>\n      <td>Yes. They are usually cystic and around my cyc...</td>\n      <td>I need help.</td>\n      <td>Yes</td>\n    </tr>\n    <tr>\n      <th>2</th>\n      <td>4/30/2020 12:50:26</td>\n      <td>Oily</td>\n      <td>No.</td>\n      <td>Acne, Pigmentation</td>\n      <td>Drunk Elephant Beste No. 9 Jelly Cleanser, pau...</td>\n      <td>Dermalogica Precleanse, CeraVe Foaming Facial ...</td>\n      <td>Desert dry heat</td>\n      <td>No.</td>\n      <td>No.</td>\n      <td>I've used 2% BHA on and off; and daily I use a...</td>\n      <td>Yes, occasional small whiteheads and blackhead...</td>\n      <td>I'm Black so hyperpigmentation and skin discol...</td>\n      <td>Yes</td>\n    </tr>\n    <tr>\n      <th>3</th>\n      <td>4/30/2020 13:02:43</td>\n      <td>Normal</td>\n      <td>No</td>\n      <td>Fine lines/wrinkles, Skin Texture (roughness, ...</td>\n      <td>Paula's Choice enriched calming toner, Timeles...</td>\n      <td>Palmer's facial cleansing oil, Cetaphil gentle...</td>\n      <td>Tropical, humid</td>\n      <td>No</td>\n      <td>Almost through the purging/peeling phase with ...</td>\n      <td>I've tried (and still own) The Ordinary red pe...</td>\n      <td>Not really - a very rare pimple, I tend more o...</td>\n      <td>I turn 43 in a month and am really trying to g...</td>\n      <td>Yes</td>\n    </tr>\n    <tr>\n      <th>4</th>\n      <td>4/30/2020 13:08:20</td>\n      <td>Combination</td>\n      <td>Ethylhexyl palmitate, strong sulfates, chemica...</td>\n      <td>Acne, Skin Texture (roughness, dullness), Other</td>\n      <td>Osea Ocean Cleanser, Renee Rouleau Elderberry ...</td>\n      <td>Renee Rouleau Luxe Mint Cleanser, Renee Roulea...</td>\n      <td>Temperate, a lovely 70F (lucky!)</td>\n      <td>Overall I have fairly sensitive skin with horm...</td>\n      <td>No, but I would like to start to address early...</td>\n      <td>Azelaic acid has been a good acid for me (not ...</td>\n      <td>My acne is adult onset, primarily hormonal, an...</td>\n      <td>I just moved to Chicago, so lots of temperatur...</td>\n      <td>Yes</td>\n    </tr>\n  </tbody>\n</table>\n</div>"
     },
     "metadata": {},
     "execution_count": 2
    }
   ],
   "source": [
    "file_list = glob('../data/*.csv')\n",
    "file_list = sorted(file_list)\n",
    "\n",
    "responses = pd.read_csv(file_list[-1])\n",
    "responses.head()"
   ]
  },
  {
   "cell_type": "code",
   "execution_count": 3,
   "metadata": {},
   "outputs": [
    {
     "output_type": "execute_result",
     "data": {
      "text/plain": "            timestamp    skin_type  \\\n0  4/30/2020 12:43:32  Combination   \n1  4/30/2020 12:45:25  Combination   \n2  4/30/2020 12:50:26         Oily   \n3  4/30/2020 13:02:43       Normal   \n4  4/30/2020 13:08:20  Combination   \n\n                                           allergies  \\\n0                                               None   \n1                                       No allergies   \n2                                                No.   \n3                                                 No   \n4  Ethylhexyl palmitate, strong sulfates, chemica...   \n\n                                    top_skin_concern  \\\n0            Acne, Pigmentation, Fine lines/wrinkles   \n1  Acne, Fine lines/wrinkles, Skin Texture (rough...   \n2                                 Acne, Pigmentation   \n3  Fine lines/wrinkles, Skin Texture (roughness, ...   \n4    Acne, Skin Texture (roughness, dullness), Other   \n\n                                          am_routine  \\\n0  trader joe's all in one cleanser, bioderma seb...   \n1  Biore Charcoal Acne Clearing Cleanser, Kiel's ...   \n2  Drunk Elephant Beste No. 9 Jelly Cleanser, pau...   \n3  Paula's Choice enriched calming toner, Timeles...   \n4  Osea Ocean Cleanser, Renee Rouleau Elderberry ...   \n\n                                          pm_routine  \\\n0  trader joe's all in one cleanser, Bioderma Seb...   \n1                                                NaN   \n2  Dermalogica Precleanse, CeraVe Foaming Facial ...   \n3  Palmer's facial cleansing oil, Cetaphil gentle...   \n4  Renee Rouleau Luxe Mint Cleanser, Renee Roulea...   \n\n                     summer_climate  \\\n0  Temperate, a lovely 70F (lucky!)   \n1                   Tropical, humid   \n2                   Desert dry heat   \n3                   Tropical, humid   \n4  Temperate, a lovely 70F (lucky!)   \n\n                                  skin_sensitivities  \\\n0  I broke out from Cosrx snail serum and from Ma...   \n1                                                No.   \n2                                                No.   \n3                                                No    \n4  Overall I have fairly sensitive skin with horm...   \n\n                                      used_retinoids  \\\n0                     Differing 0.1% for four years    \n1                                                No.   \n2                                                No.   \n3  Almost through the purging/peeling phase with ...   \n4  No, but I would like to start to address early...   \n\n                                          used_acids  \\\n0  I prefer toners with acids as masks with AHA s...   \n1                                                No.   \n2  I've used 2% BHA on and off; and daily I use a...   \n3  I've tried (and still own) The Ordinary red pe...   \n4  Azelaic acid has been a good acid for me (not ...   \n\n                                  prone_to_breakouts  \\\n0  I have mild to moderate acne that I have been ...   \n1  Yes. They are usually cystic and around my cyc...   \n2  Yes, occasional small whiteheads and blackhead...   \n3  Not really - a very rare pimple, I tend more o...   \n4  My acne is adult onset, primarily hormonal, an...   \n\n                                       miscellaneous permission  \n0   I have a super oily forehead, oily nose and c...        Yes  \n1                                       I need help.        Yes  \n2  I'm Black so hyperpigmentation and skin discol...        Yes  \n3  I turn 43 in a month and am really trying to g...        Yes  \n4  I just moved to Chicago, so lots of temperatur...        Yes  ",
      "text/html": "<div>\n<style scoped>\n    .dataframe tbody tr th:only-of-type {\n        vertical-align: middle;\n    }\n\n    .dataframe tbody tr th {\n        vertical-align: top;\n    }\n\n    .dataframe thead th {\n        text-align: right;\n    }\n</style>\n<table border=\"1\" class=\"dataframe\">\n  <thead>\n    <tr style=\"text-align: right;\">\n      <th></th>\n      <th>timestamp</th>\n      <th>skin_type</th>\n      <th>allergies</th>\n      <th>top_skin_concern</th>\n      <th>am_routine</th>\n      <th>pm_routine</th>\n      <th>summer_climate</th>\n      <th>skin_sensitivities</th>\n      <th>used_retinoids</th>\n      <th>used_acids</th>\n      <th>prone_to_breakouts</th>\n      <th>miscellaneous</th>\n      <th>permission</th>\n    </tr>\n  </thead>\n  <tbody>\n    <tr>\n      <th>0</th>\n      <td>4/30/2020 12:43:32</td>\n      <td>Combination</td>\n      <td>None</td>\n      <td>Acne, Pigmentation, Fine lines/wrinkles</td>\n      <td>trader joe's all in one cleanser, bioderma seb...</td>\n      <td>trader joe's all in one cleanser, Bioderma Seb...</td>\n      <td>Temperate, a lovely 70F (lucky!)</td>\n      <td>I broke out from Cosrx snail serum and from Ma...</td>\n      <td>Differing 0.1% for four years</td>\n      <td>I prefer toners with acids as masks with AHA s...</td>\n      <td>I have mild to moderate acne that I have been ...</td>\n      <td>I have a super oily forehead, oily nose and c...</td>\n      <td>Yes</td>\n    </tr>\n    <tr>\n      <th>1</th>\n      <td>4/30/2020 12:45:25</td>\n      <td>Combination</td>\n      <td>No allergies</td>\n      <td>Acne, Fine lines/wrinkles, Skin Texture (rough...</td>\n      <td>Biore Charcoal Acne Clearing Cleanser, Kiel's ...</td>\n      <td>NaN</td>\n      <td>Tropical, humid</td>\n      <td>No.</td>\n      <td>No.</td>\n      <td>No.</td>\n      <td>Yes. They are usually cystic and around my cyc...</td>\n      <td>I need help.</td>\n      <td>Yes</td>\n    </tr>\n    <tr>\n      <th>2</th>\n      <td>4/30/2020 12:50:26</td>\n      <td>Oily</td>\n      <td>No.</td>\n      <td>Acne, Pigmentation</td>\n      <td>Drunk Elephant Beste No. 9 Jelly Cleanser, pau...</td>\n      <td>Dermalogica Precleanse, CeraVe Foaming Facial ...</td>\n      <td>Desert dry heat</td>\n      <td>No.</td>\n      <td>No.</td>\n      <td>I've used 2% BHA on and off; and daily I use a...</td>\n      <td>Yes, occasional small whiteheads and blackhead...</td>\n      <td>I'm Black so hyperpigmentation and skin discol...</td>\n      <td>Yes</td>\n    </tr>\n    <tr>\n      <th>3</th>\n      <td>4/30/2020 13:02:43</td>\n      <td>Normal</td>\n      <td>No</td>\n      <td>Fine lines/wrinkles, Skin Texture (roughness, ...</td>\n      <td>Paula's Choice enriched calming toner, Timeles...</td>\n      <td>Palmer's facial cleansing oil, Cetaphil gentle...</td>\n      <td>Tropical, humid</td>\n      <td>No</td>\n      <td>Almost through the purging/peeling phase with ...</td>\n      <td>I've tried (and still own) The Ordinary red pe...</td>\n      <td>Not really - a very rare pimple, I tend more o...</td>\n      <td>I turn 43 in a month and am really trying to g...</td>\n      <td>Yes</td>\n    </tr>\n    <tr>\n      <th>4</th>\n      <td>4/30/2020 13:08:20</td>\n      <td>Combination</td>\n      <td>Ethylhexyl palmitate, strong sulfates, chemica...</td>\n      <td>Acne, Skin Texture (roughness, dullness), Other</td>\n      <td>Osea Ocean Cleanser, Renee Rouleau Elderberry ...</td>\n      <td>Renee Rouleau Luxe Mint Cleanser, Renee Roulea...</td>\n      <td>Temperate, a lovely 70F (lucky!)</td>\n      <td>Overall I have fairly sensitive skin with horm...</td>\n      <td>No, but I would like to start to address early...</td>\n      <td>Azelaic acid has been a good acid for me (not ...</td>\n      <td>My acne is adult onset, primarily hormonal, an...</td>\n      <td>I just moved to Chicago, so lots of temperatur...</td>\n      <td>Yes</td>\n    </tr>\n  </tbody>\n</table>\n</div>"
     },
     "metadata": {},
     "execution_count": 3
    }
   ],
   "source": [
    "new_columns = [\n",
    "    'timestamp',\n",
    "    'skin_type',\n",
    "    'allergies',\n",
    "    'top_skin_concern',\n",
    "    'am_routine',\n",
    "    'pm_routine',\n",
    "    'summer_climate',\n",
    "    'skin_sensitivities',\n",
    "    'used_retinoids',\n",
    "    'used_acids',\n",
    "    'prone_to_breakouts',\n",
    "    'miscellaneous',\n",
    "    'permission'\n",
    "]\n",
    "\n",
    "responses.columns = new_columns\n",
    "# responses.drop(columns=['email_address','name'], inplace=True)\n",
    "responses.head()"
   ]
  },
  {
   "cell_type": "code",
   "execution_count": 4,
   "metadata": {},
   "outputs": [
    {
     "output_type": "execute_result",
     "data": {
      "text/plain": "0            [acne, pigmentation, fine lines/wrinkles]\n1    [acne, fine lines/wrinkles, skin texture (roug...\n2                                 [acne, pigmentation]\n3    [fine lines/wrinkles, skin texture (roughness,...\n4    [acne, skin texture (roughness, dullness), other]\nName: top_skin_concern, dtype: object"
     },
     "metadata": {},
     "execution_count": 4
    }
   ],
   "source": [
    "responses['top_skin_concern'] = responses['top_skin_concern'].str.lower().str.split(', ')\n",
    "responses['top_skin_concern'][:5]"
   ]
  },
  {
   "source": [
    "## using requests-html"
   ],
   "cell_type": "markdown",
   "metadata": {}
  },
  {
   "cell_type": "code",
   "execution_count": 5,
   "metadata": {},
   "outputs": [],
   "source": [
    "class OrderedCounter(Counter, OrderedDict):\n",
    "    pass"
   ]
  },
  {
   "cell_type": "code",
   "execution_count": 6,
   "metadata": {},
   "outputs": [],
   "source": [
    "class Cosmetic(HTMLSession):\n",
    "    '''\n",
    "    Parent class for connecting to CosDNA.com database.\n",
    "    Not intended to be used on its own.\n",
    "    '''\n",
    "    \n",
    "    base_url = 'https://incidecoder.com'\n",
    "    \n",
    "    # sort_dict = {\n",
    "    #     'latest': '&sort=date',\n",
    "    #     'featured': '&sort=featured',\n",
    "    #     'clicks': '&sort=click',\n",
    "    #     'reviews': '&sort=review'\n",
    "    # }\n",
    "    \n",
    "    def __init__(self):\n",
    "        super().__init__()\n",
    "\n",
    "    def link(self, name=None, url=None):\n",
    "        self.url = self._check_url(url)\n",
    "\n",
    "    @property\n",
    "    def name(self):\n",
    "        return self.name.replace(' ', '-')\n",
    "\n",
    "    @staticmethod\n",
    "    def _check_url(url):\n",
    "        if 'incidecoder.com' in url:\n",
    "            return url.lower()\n",
    "        else:\n",
    "            return None"
   ]
  },
  {
   "cell_type": "code",
   "execution_count": 39,
   "metadata": {},
   "outputs": [],
   "source": [
    "class Ingredient(HTMLSession):\n",
    "\n",
    "    base_url = 'https://incidecoder.com/ingredients/'\n",
    "\n",
    "    def __init__(self, name=None, url=None):\n",
    "        self.name = name\n",
    "        self._name = re.sub(r'\\s+', '-', self.name)\n",
    "        super().__init__()\n",
    "\n",
    "    def search(self, direct=True):\n",
    "        if direct:\n",
    "            try:\n",
    "                self._r = self.get(self.base_url + self._name)\n",
    "            except:\n",
    "                pass\n",
    "        else:\n",
    "            self._r = self.get('https://incidecoder.com/search?query=' + self._search_name)\n",
    "\n",
    "    @property\n",
    "    def _search_name(self):\n",
    "        return re.sub(r'\\s+', '\\+', self.name)"
   ]
  },
  {
   "cell_type": "code",
   "execution_count": 40,
   "metadata": {
    "tags": []
   },
   "outputs": [],
   "source": [
    "sa = Ingredient('salicylic acid')\n",
    "sa.search()"
   ]
  },
  {
   "cell_type": "code",
   "execution_count": 41,
   "metadata": {},
   "outputs": [
    {
     "output_type": "execute_result",
     "data": {
      "text/plain": "'https://incidecoder.com/ingredients/salicylic-acid'"
     },
     "metadata": {},
     "execution_count": 41
    }
   ],
   "source": [
    "sa._r.url"
   ]
  },
  {
   "cell_type": "code",
   "execution_count": 35,
   "metadata": {},
   "outputs": [
    {
     "output_type": "execute_result",
     "data": {
      "text/plain": "{'/ingredients/capryloyl-salicylic-acid', '/ingredients/salicylic-acid'}"
     },
     "metadata": {},
     "execution_count": 35
    }
   ],
   "source": [
    "sa._r.html.find('div#ingredients')[0].links"
   ]
  },
  {
   "cell_type": "code",
   "execution_count": 16,
   "metadata": {},
   "outputs": [],
   "source": [
    "s = HTMLSession()"
   ]
  },
  {
   "cell_type": "code",
   "execution_count": 17,
   "metadata": {},
   "outputs": [],
   "source": [
    "r = s.get('https://incidecoder.com/search?query=salicylic+acid')"
   ]
  },
  {
   "cell_type": "code",
   "execution_count": 18,
   "metadata": {},
   "outputs": [
    {
     "output_type": "execute_result",
     "data": {
      "text/plain": "'https://incidecoder.com/search?query=salicylic+acid'"
     },
     "metadata": {},
     "execution_count": 18
    }
   ],
   "source": [
    "r.url"
   ]
  },
  {
   "cell_type": "code",
   "execution_count": 23,
   "metadata": {},
   "outputs": [
    {
     "output_type": "execute_result",
     "data": {
      "text/plain": "{'/ingredients/capryloyl-salicylic-acid', '/ingredients/salicylic-acid'}"
     },
     "metadata": {},
     "execution_count": 23
    }
   ],
   "source": [
    "r.html.find('div#ingredients')[0].links"
   ]
  },
  {
   "cell_type": "code",
   "execution_count": null,
   "metadata": {},
   "outputs": [],
   "source": []
  }
 ]
}