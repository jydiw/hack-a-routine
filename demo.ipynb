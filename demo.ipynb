{
 "cells": [
  {
   "cell_type": "code",
   "execution_count": 62,
   "metadata": {},
   "outputs": [],
   "source": [
    "import numpy as np\n",
    "import pandas as pd\n",
    "import re\n",
    "import time\n",
    "import pickle\n",
    "from glob import glob\n",
    "\n",
    "from selenium import webdriver\n",
    "\n",
    "from hackaroutine import Ingredient, Product, Routine"
   ]
  },
  {
   "cell_type": "code",
   "execution_count": 2,
   "metadata": {},
   "outputs": [],
   "source": [
    "# CHROMEDRIVER_PATH = '/Users/Jelly/Documents/googledrive/chromedriver/macos/chromedriver'\n",
    "CHROMEDRIVER_PATH = 'C:/chromedriver_win32/chromedriver.exe'"
   ]
  },
  {
   "cell_type": "code",
   "execution_count": 3,
   "metadata": {},
   "outputs": [],
   "source": [
    "driver = webdriver.Chrome(CHROMEDRIVER_PATH)"
   ]
  },
  {
   "cell_type": "code",
   "execution_count": 4,
   "metadata": {},
   "outputs": [
    {
     "data": {
      "text/plain": [
       "['./data\\\\brands.csv',\n",
       " './data\\\\recommendations_2020-05-05.csv',\n",
       " './data\\\\responses_2020-05-05.csv',\n",
       " './data\\\\responses_modified_2020-05-05.csv']"
      ]
     },
     "execution_count": 4,
     "metadata": {},
     "output_type": "execute_result"
    }
   ],
   "source": [
    "file_list = glob('./data/*.csv')\n",
    "file_list"
   ]
  },
  {
   "cell_type": "code",
   "execution_count": 55,
   "metadata": {},
   "outputs": [
    {
     "data": {
      "text/html": [
       "<div>\n",
       "<style scoped>\n",
       "    .dataframe tbody tr th:only-of-type {\n",
       "        vertical-align: middle;\n",
       "    }\n",
       "\n",
       "    .dataframe tbody tr th {\n",
       "        vertical-align: top;\n",
       "    }\n",
       "\n",
       "    .dataframe thead th {\n",
       "        text-align: right;\n",
       "    }\n",
       "</style>\n",
       "<table border=\"1\" class=\"dataframe\">\n",
       "  <thead>\n",
       "    <tr style=\"text-align: right;\">\n",
       "      <th></th>\n",
       "      <th>Timestamp</th>\n",
       "      <th>What's your skin type?</th>\n",
       "      <th>Do you have any known allergies? Or any ingredients you avoid for any reason?</th>\n",
       "      <th>What are your top skin concerns?</th>\n",
       "      <th>What is your current day routine? (Please list your products in order from first to last)</th>\n",
       "      <th>What is your current night routine (Please list your products in order from first to last)</th>\n",
       "      <th>What type of summer weather will you have?</th>\n",
       "      <th>Any known skin sensitivities?</th>\n",
       "      <th>Any experience with retinoids? (If so, please tell us your use history)</th>\n",
       "      <th>Any experience with acids? (If so, please tell us your use history, what type, and any known concentrations)</th>\n",
       "      <th>Are you prone to breakouts? If so, how severe are the breakouts and what is your acne treatment history?</th>\n",
       "      <th>Anything else you want the chemists to know about your skin and your skincare routine?</th>\n",
       "      <th>Can we share your routine learnings (anonymously) on our social media (post, podcast, or insta live shoutout)?</th>\n",
       "    </tr>\n",
       "  </thead>\n",
       "  <tbody>\n",
       "    <tr>\n",
       "      <th>0</th>\n",
       "      <td>4/30/2020 12:43:32</td>\n",
       "      <td>Combination</td>\n",
       "      <td>None</td>\n",
       "      <td>Acne, Pigmentation, Fine lines/wrinkles</td>\n",
       "      <td>trader joe's all in one cleanser, bioderma seb...</td>\n",
       "      <td>trader joe's all in one cleanser, Bioderma Seb...</td>\n",
       "      <td>Temperate, a lovely 70F (lucky!)</td>\n",
       "      <td>I broke out from Cosrx snail serum and from Ma...</td>\n",
       "      <td>Differing 0.1% for four years</td>\n",
       "      <td>I prefer toners with acids as masks with AHA s...</td>\n",
       "      <td>I have mild to moderate acne that I have been ...</td>\n",
       "      <td>I have a super oily forehead, oily nose and c...</td>\n",
       "      <td>Yes</td>\n",
       "    </tr>\n",
       "    <tr>\n",
       "      <th>1</th>\n",
       "      <td>4/30/2020 12:45:25</td>\n",
       "      <td>Combination</td>\n",
       "      <td>No allergies</td>\n",
       "      <td>Acne, Fine lines/wrinkles, Skin Texture (rough...</td>\n",
       "      <td>Biore Charcoal Acne Clearing Cleanser, Kiel's ...</td>\n",
       "      <td>NaN</td>\n",
       "      <td>Tropical, humid</td>\n",
       "      <td>No.</td>\n",
       "      <td>No.</td>\n",
       "      <td>No.</td>\n",
       "      <td>Yes. They are usually cystic and around my cyc...</td>\n",
       "      <td>I need help.</td>\n",
       "      <td>Yes</td>\n",
       "    </tr>\n",
       "  </tbody>\n",
       "</table>\n",
       "</div>"
      ],
      "text/plain": [
       "            Timestamp What's your skin type?  \\\n",
       "0  4/30/2020 12:43:32            Combination   \n",
       "1  4/30/2020 12:45:25            Combination   \n",
       "\n",
       "  Do you have any known allergies? Or any ingredients you avoid for any reason?  \\\n",
       "0                                               None                              \n",
       "1                                       No allergies                              \n",
       "\n",
       "                    What are your top skin concerns?  \\\n",
       "0            Acne, Pigmentation, Fine lines/wrinkles   \n",
       "1  Acne, Fine lines/wrinkles, Skin Texture (rough...   \n",
       "\n",
       "  What is your current day routine? (Please list your products in order from first to last)  \\\n",
       "0  trader joe's all in one cleanser, bioderma seb...                                          \n",
       "1  Biore Charcoal Acne Clearing Cleanser, Kiel's ...                                          \n",
       "\n",
       "  What is your current night routine (Please list your products in order from first to last)  \\\n",
       "0  trader joe's all in one cleanser, Bioderma Seb...                                           \n",
       "1                                                NaN                                           \n",
       "\n",
       "  What type of summer weather will you have?  \\\n",
       "0           Temperate, a lovely 70F (lucky!)   \n",
       "1                            Tropical, humid   \n",
       "\n",
       "                       Any known skin sensitivities?  \\\n",
       "0  I broke out from Cosrx snail serum and from Ma...   \n",
       "1                                                No.   \n",
       "\n",
       "  Any experience with retinoids? (If so, please tell us your use history)  \\\n",
       "0                     Differing 0.1% for four years                         \n",
       "1                                                No.                        \n",
       "\n",
       "  Any experience with acids? (If so, please tell us your use history, what type, and any known concentrations)  \\\n",
       "0  I prefer toners with acids as masks with AHA s...                                                             \n",
       "1                                                No.                                                             \n",
       "\n",
       "  Are you prone to breakouts? If so, how severe are the breakouts and what is your acne treatment history?  \\\n",
       "0  I have mild to moderate acne that I have been ...                                                         \n",
       "1  Yes. They are usually cystic and around my cyc...                                                         \n",
       "\n",
       "  Anything else you want the chemists to know about your skin and your skincare routine?  \\\n",
       "0   I have a super oily forehead, oily nose and c...                                       \n",
       "1                                       I need help.                                       \n",
       "\n",
       "  Can we share your routine learnings (anonymously) on our social media (post, podcast, or insta live shoutout)?  \n",
       "0                                                Yes                                                              \n",
       "1                                                Yes                                                              "
      ]
     },
     "execution_count": 55,
     "metadata": {},
     "output_type": "execute_result"
    }
   ],
   "source": [
    "responses = pd.read_csv(file_list[3])\n",
    "responses.head(2)"
   ]
  },
  {
   "cell_type": "code",
   "execution_count": 56,
   "metadata": {},
   "outputs": [
    {
     "data": {
      "text/html": [
       "<div>\n",
       "<style scoped>\n",
       "    .dataframe tbody tr th:only-of-type {\n",
       "        vertical-align: middle;\n",
       "    }\n",
       "\n",
       "    .dataframe tbody tr th {\n",
       "        vertical-align: top;\n",
       "    }\n",
       "\n",
       "    .dataframe thead th {\n",
       "        text-align: right;\n",
       "    }\n",
       "</style>\n",
       "<table border=\"1\" class=\"dataframe\">\n",
       "  <thead>\n",
       "    <tr style=\"text-align: right;\">\n",
       "      <th></th>\n",
       "      <th>timestamp</th>\n",
       "      <th>skin_type</th>\n",
       "      <th>cannot_contain</th>\n",
       "      <th>skin_concern</th>\n",
       "      <th>am_routine</th>\n",
       "      <th>pm_routine</th>\n",
       "      <th>climate</th>\n",
       "      <th>skin_sensitivities</th>\n",
       "      <th>used_retinoids</th>\n",
       "      <th>used_acids</th>\n",
       "      <th>prone_to_breakouts</th>\n",
       "      <th>miscellaneous</th>\n",
       "      <th>permission</th>\n",
       "    </tr>\n",
       "  </thead>\n",
       "  <tbody>\n",
       "    <tr>\n",
       "      <th>0</th>\n",
       "      <td>4/30/2020 12:43:32</td>\n",
       "      <td>Combination</td>\n",
       "      <td>None</td>\n",
       "      <td>Acne, Pigmentation, Fine lines/wrinkles</td>\n",
       "      <td>trader joe's all in one cleanser, bioderma seb...</td>\n",
       "      <td>trader joe's all in one cleanser, Bioderma Seb...</td>\n",
       "      <td>Temperate, a lovely 70F (lucky!)</td>\n",
       "      <td>I broke out from Cosrx snail serum and from Ma...</td>\n",
       "      <td>Differing 0.1% for four years</td>\n",
       "      <td>I prefer toners with acids as masks with AHA s...</td>\n",
       "      <td>I have mild to moderate acne that I have been ...</td>\n",
       "      <td>I have a super oily forehead, oily nose and c...</td>\n",
       "      <td>Yes</td>\n",
       "    </tr>\n",
       "    <tr>\n",
       "      <th>1</th>\n",
       "      <td>4/30/2020 12:45:25</td>\n",
       "      <td>Combination</td>\n",
       "      <td>No allergies</td>\n",
       "      <td>Acne, Fine lines/wrinkles, Skin Texture (rough...</td>\n",
       "      <td>Biore Charcoal Acne Clearing Cleanser, Kiel's ...</td>\n",
       "      <td>NaN</td>\n",
       "      <td>Tropical, humid</td>\n",
       "      <td>No.</td>\n",
       "      <td>No.</td>\n",
       "      <td>No.</td>\n",
       "      <td>Yes. They are usually cystic and around my cyc...</td>\n",
       "      <td>I need help.</td>\n",
       "      <td>Yes</td>\n",
       "    </tr>\n",
       "  </tbody>\n",
       "</table>\n",
       "</div>"
      ],
      "text/plain": [
       "            timestamp    skin_type cannot_contain  \\\n",
       "0  4/30/2020 12:43:32  Combination           None   \n",
       "1  4/30/2020 12:45:25  Combination   No allergies   \n",
       "\n",
       "                                        skin_concern  \\\n",
       "0            Acne, Pigmentation, Fine lines/wrinkles   \n",
       "1  Acne, Fine lines/wrinkles, Skin Texture (rough...   \n",
       "\n",
       "                                          am_routine  \\\n",
       "0  trader joe's all in one cleanser, bioderma seb...   \n",
       "1  Biore Charcoal Acne Clearing Cleanser, Kiel's ...   \n",
       "\n",
       "                                          pm_routine  \\\n",
       "0  trader joe's all in one cleanser, Bioderma Seb...   \n",
       "1                                                NaN   \n",
       "\n",
       "                            climate  \\\n",
       "0  Temperate, a lovely 70F (lucky!)   \n",
       "1                   Tropical, humid   \n",
       "\n",
       "                                  skin_sensitivities  \\\n",
       "0  I broke out from Cosrx snail serum and from Ma...   \n",
       "1                                                No.   \n",
       "\n",
       "                   used_retinoids  \\\n",
       "0  Differing 0.1% for four years    \n",
       "1                             No.   \n",
       "\n",
       "                                          used_acids  \\\n",
       "0  I prefer toners with acids as masks with AHA s...   \n",
       "1                                                No.   \n",
       "\n",
       "                                  prone_to_breakouts  \\\n",
       "0  I have mild to moderate acne that I have been ...   \n",
       "1  Yes. They are usually cystic and around my cyc...   \n",
       "\n",
       "                                       miscellaneous permission  \n",
       "0   I have a super oily forehead, oily nose and c...        Yes  \n",
       "1                                       I need help.        Yes  "
      ]
     },
     "execution_count": 56,
     "metadata": {},
     "output_type": "execute_result"
    }
   ],
   "source": [
    "new_columns = [\n",
    "    'timestamp',\n",
    "    'skin_type',\n",
    "    'cannot_contain',\n",
    "    'skin_concern',\n",
    "    'am_routine',\n",
    "    'pm_routine',\n",
    "    'climate',\n",
    "    'skin_sensitivities',\n",
    "    'used_retinoids',\n",
    "    'used_acids',\n",
    "    'prone_to_breakouts',\n",
    "    'miscellaneous',\n",
    "    'permission'\n",
    "]\n",
    "\n",
    "responses.columns = new_columns\n",
    "responses.head(2)"
   ]
  },
  {
   "cell_type": "code",
   "execution_count": 58,
   "metadata": {},
   "outputs": [
    {
     "name": "stdout",
     "output_type": "stream",
     "text": [
      "0    [trader joe's all in one cleanser,  bioderma s...\n",
      "1    [biore charcoal acne clearing cleanser,  kiel'...\n",
      "Name: am_routine, dtype: object\n",
      "0    [trader joe's all in one cleanser,  bioderma s...\n",
      "1                                                  NaN\n",
      "Name: pm_routine, dtype: object\n"
     ]
    }
   ],
   "source": [
    "routine_columns = ['am_routine', 'pm_routine']\n",
    "\n",
    "for col in routine_columns:\n",
    "    responses[col] = responses[col].str.lower().str.split(',')\n",
    "    print(responses[col][:2])"
   ]
  },
  {
   "cell_type": "code",
   "execution_count": 59,
   "metadata": {},
   "outputs": [
    {
     "data": {
      "text/plain": [
       "[\"trader joe's all in one cleanser\",\n",
       " ' bioderma sebium toner',\n",
       " ' the ordinary ascorbic acid 8%',\n",
       " ' bioderma sebium mat control cream',\n",
       " ' purlisse bb cream']"
      ]
     },
     "execution_count": 59,
     "metadata": {},
     "output_type": "execute_result"
    }
   ],
   "source": [
    "responses['am_routine'][0]"
   ]
  },
  {
   "cell_type": "code",
   "execution_count": 9,
   "metadata": {},
   "outputs": [],
   "source": [
    "# prior experience\n",
    "\n",
    "popular_brands = [\n",
    "    'La Roche Posay',\n",
    "    'Cerave', \n",
    "    'Cetaphil', \n",
    "    'Timeless Skincare', \n",
    "    'Skinceuticals', \n",
    "    'Stratia Skincare', \n",
    "    'Paula’s Choice', \n",
    "    'CosRX', \n",
    "    'The Ordinary', \n",
    "    'Drunk Elephant', \n",
    "    'Klairs', \n",
    "    'Inkey List', \n",
    "    'Farmacy ', \n",
    "    'First Aid Beauty'\n",
    "]\n",
    "\n",
    "popular_ingredients = [\n",
    "    'Vitamin C', \n",
    "    'Glycolic Acid', \n",
    "    'Lactic Acid', \n",
    "    'Mandelic Acid', \n",
    "    'Niacinamide', \n",
    "    'Retinol', \n",
    "    'Hydroxypinocolone Retinoate', \n",
    "    'Bakuchiol', \n",
    "    'Retinyl Palmitate', \n",
    "    'Ceramides', \n",
    "    'Salicylic Acid', \n",
    "    'Willow bark Extract', \n",
    "    'Adapalene', \n",
    "    'Sodium Lauryl Sulfate', \n",
    "    'Cocoamidopropyl Betaine', \n",
    "]"
   ]
  },
  {
   "cell_type": "code",
   "execution_count": 10,
   "metadata": {},
   "outputs": [],
   "source": [
    "routine = Routine(name=0, routine=responses['am_routine'][0])"
   ]
  },
  {
   "cell_type": "code",
   "execution_count": 11,
   "metadata": {},
   "outputs": [
    {
     "name": "stdout",
     "output_type": "stream",
     "text": [
      "No results for bioderma sebium toner on CosDNA.\n",
      "Enter new search:\n"
     ]
    },
    {
     "name": "stdin",
     "output_type": "stream",
     "text": [
      "(to skip search, enter 'SKIP' w/o quotes) SKIP\n"
     ]
    },
    {
     "name": "stdout",
     "output_type": "stream",
     "text": [
      "SKIP: bioderma sebium toner\n",
      "No results for bioderma sebium mat control cream on CosDNA.\n",
      "Enter new search:\n"
     ]
    },
    {
     "name": "stdin",
     "output_type": "stream",
     "text": [
      "(to skip search, enter 'SKIP' w/o quotes) bioderma sebium mat control\n"
     ]
    },
    {
     "name": "stdout",
     "output_type": "stream",
     "text": [
      "[\"trader joe's all in one cleanser\", 'SKIP: bioderma sebium toner', 'the ordinary ascorbic acid 8%', 'bioderma sébium mat control', 'purlisse bb cream']\n"
     ]
    }
   ],
   "source": [
    "routine.link_sync()\n",
    "print(routine.routine)"
   ]
  },
  {
   "cell_type": "code",
   "execution_count": 12,
   "metadata": {},
   "outputs": [
    {
     "data": {
      "text/plain": [
       "[('water', 3),\n",
       " ('phenoxyethanol', 3),\n",
       " ('glycerin', 2),\n",
       " ('unavailable', 2),\n",
       " ('cyclopentasiloxane', 2),\n",
       " ('butylene glycol', 2),\n",
       " ('sodium chloride', 2),\n",
       " ('ethylhexyl methoxycinnamate', 2),\n",
       " ('titanium dioxide', 2),\n",
       " ('zinc oxide', 2)]"
      ]
     },
     "execution_count": 12,
     "metadata": {},
     "output_type": "execute_result"
    }
   ],
   "source": [
    "routine.top"
   ]
  },
  {
   "cell_type": "code",
   "execution_count": 13,
   "metadata": {},
   "outputs": [
    {
     "data": {
      "text/plain": [
       "['propanediol', 'ascorbic acid (8%)', 'alpha-arbutin (2%)']"
      ]
     },
     "execution_count": 13,
     "metadata": {},
     "output_type": "execute_result"
    }
   ],
   "source": [
    "routine.products[2].ingredients"
   ]
  },
  {
   "cell_type": "code",
   "execution_count": 14,
   "metadata": {},
   "outputs": [
    {
     "name": "stdout",
     "output_type": "stream",
     "text": [
      "Vitamin C\n",
      "['the ordinary ascorbic acid 8%']\n",
      "\n",
      "Glycolic Acid\n",
      "Routine does not have Glycolic Acid.\n",
      "[]\n",
      "\n",
      "Lactic Acid\n",
      "Routine does not have Lactic Acid.\n",
      "[]\n",
      "\n",
      "Mandelic Acid\n",
      "Routine does not have Mandelic Acid.\n",
      "[]\n",
      "\n",
      "Niacinamide\n",
      "Routine does not have Niacinamide.\n",
      "[]\n",
      "\n",
      "Retinol\n",
      "Routine does not have Retinol.\n",
      "[]\n",
      "\n",
      "Hydroxypinocolone Retinoate\n",
      "Routine does not have Hydroxypinocolone Retinoate.\n",
      "[]\n",
      "\n",
      "Bakuchiol\n",
      "Routine does not have Bakuchiol.\n",
      "[]\n",
      "\n",
      "Retinyl Palmitate\n",
      "[\"trader joe's all in one cleanser\"]\n",
      "\n",
      "Ceramides\n",
      "Routine does not have Ceramides.\n",
      "[]\n",
      "\n",
      "Salicylic Acid\n",
      "['bioderma sébium mat control']\n",
      "\n",
      "Willow bark Extract\n",
      "Routine does not have Willow bark Extract.\n",
      "[]\n",
      "\n",
      "Adapalene\n",
      "Routine does not have Adapalene.\n",
      "[]\n",
      "\n",
      "Sodium Lauryl Sulfate\n",
      "Routine does not have Sodium Lauryl Sulfate.\n",
      "[]\n",
      "\n",
      "Cocoamidopropyl Betaine\n",
      "[\"trader joe's all in one cleanser\"]\n",
      "\n"
     ]
    }
   ],
   "source": [
    "for ingredient in popular_ingredients:\n",
    "    print(ingredient)\n",
    "    print(routine.has(ingredient))\n",
    "    print()"
   ]
  },
  {
   "cell_type": "code",
   "execution_count": 16,
   "metadata": {},
   "outputs": [
    {
     "data": {
      "text/plain": [
       "{'90172810251': 'water',\n",
       " '8f2df68856': 'peg-80 sorbitan laurate',\n",
       " '9a5810119': 'cocamidopropyl betaine',\n",
       " 'f3bac6962': 'sodium trideceth sulfate',\n",
       " '04e7dc953': 'sodium lauroamphoacetate',\n",
       " '4548ae2101': 'peg 150 distearate',\n",
       " '48257f1077': 'ubiquinone',\n",
       " 'ee1a1a373': 'tocopheryl acetate',\n",
       " 'f246bf490': 'thioctic acid',\n",
       " '2ac38b321': 'retinyl palmitate',\n",
       " 'fcf8b5303': 'phytonadione',\n",
       " 'a83b7c483': 'cholecalciferol',\n",
       " 'fe279c1318': 'ascorbyl palmitate',\n",
       " 'b8a3bf116': 'citric acid',\n",
       " 'fc86a9293': 'panthenol',\n",
       " 'e812b9352': 'sorbic acid',\n",
       " 'f09549300': 'phenoxyethanol',\n",
       " '2f5a452621': 'sodium lauroyl glutamate',\n",
       " '205eb9166': 'glycerin',\n",
       " '80ae0e12197': 'sodium lauroyl oat amino acids',\n",
       " 'c0304615299': 'camellia sinensis leaf extract',\n",
       " 'unavailable': 'unavailable',\n",
       " '72a94a19514': 'propanediol',\n",
       " '7927f4219': 'ascorbic acid (8%)',\n",
       " 'd828e611478': 'alpha-arbutin (2%)',\n",
       " 'bd4d8e1208': 'cyclopentasiloxane',\n",
       " 'c7c7fe1947': 'methyl methacrylate crosspolymer',\n",
       " 'b05d771602': 'dipropylene glycol',\n",
       " 'e530df6438': 'polymethylsilsesquioxane',\n",
       " '2f905810281': 'peg-10 dimethicone',\n",
       " '313d361204': 'hdi/trimethylol hexyllactone crosspolymer',\n",
       " '1fdc3980': 'butylene glycol',\n",
       " 'd0da2e2588': 'sodium chloride',\n",
       " '293f3810714': 'vinyl dimethicone/methicone silsesquioxane crosspolymer',\n",
       " 'a5b27411203': 'c30-45 alkyl cetearyl dimethicone crosspolymer',\n",
       " '4417b53157': 'zinc gluconate',\n",
       " 'c25e5833': 'disodium edta',\n",
       " '466110332': 'salicylic acid',\n",
       " '2a40df251': 'mannitol',\n",
       " '9257fe393': 'xylitol',\n",
       " '28bf2810385': 'rhamnose',\n",
       " '05a3b6831': 'xanthan gum',\n",
       " '47cc91943': 'sodium hydroxide',\n",
       " 'aa6ed93811': 'dodecyl gallate',\n",
       " '9a77f92529': 'pyridoxine hcl',\n",
       " '72100419948': 'fomes officinalis extract',\n",
       " '636161979': 'peg-40 hydrogenated castor oil',\n",
       " '3de7c6864': 'fragrance',\n",
       " 'c0e748279': 'ethylhexyl methoxycinnamate',\n",
       " '76298d372': 'titanium dioxide',\n",
       " '59265a832': 'zinc oxide',\n",
       " 'cd4ca910296': 'cetyl peg/ppg-10/1 dimethicone',\n",
       " 'd82eb289': 'caprylic/capric triglyceride',\n",
       " 'cd005b2682': 'sorbitan sesquioleate',\n",
       " '3da165145': 'dimethicone',\n",
       " 'a33544814': 'iron oxide',\n",
       " '368022598': 'beeswax',\n",
       " '7fbdb92691': 'stearalkonium hectorite',\n",
       " '45183e246': 'magnesium aluminum silicate',\n",
       " '3e4f37100': 'ozokerite',\n",
       " '6dde7e10454': 'dimethicone/vinyl dimethicone crosspolymer',\n",
       " '8ce86910811': 'peg-10 dimethicone crosspolymer',\n",
       " 'bfeb7610984': 'cyclotetrasiloxane',\n",
       " 'ef37c019760': 'chamomilla recutita flower extract',\n",
       " '2c70b516339': 'gentiana lutea root extract',\n",
       " '728bdb14899': 'artemisia absinthium extract',\n",
       " 'cec7c418286': 'portulaca oleracea extract',\n",
       " '3838f519668': 'acer saccharum extract'}"
      ]
     },
     "execution_count": 16,
     "metadata": {},
     "output_type": "execute_result"
    }
   ],
   "source": [
    "routine._routine_dict"
   ]
  },
  {
   "cell_type": "code",
   "execution_count": 66,
   "metadata": {},
   "outputs": [],
   "source": [
    "with open('./data/master_dict.pickle', 'rb') as handle:\n",
    "    master_dict = pickle.load(handle)"
   ]
  },
  {
   "cell_type": "code",
   "execution_count": 60,
   "metadata": {},
   "outputs": [],
   "source": [
    "def ingredient_dict_builder(routine_dict, master_dict):\n",
    "    base_url = 'https://cosdna.com/eng/'\n",
    "    filtered_dict = {k:v for k,v in routine_dict.items() if k not in master_dict.keys()}\n",
    "    for k, v in filtered_dict.items():\n",
    "        driver.get(base_url + k + '.html')\n",
    "        print(f'{k}: {v}')\n",
    "        ingredient = input('preferred name: ')\n",
    "        if ingredient == 'BREAK':\n",
    "            break\n",
    "        elif ingredient == '':\n",
    "            master_dict[k] = v\n",
    "        else:\n",
    "            master_dict[k] = ingredient\n",
    "    return master_dict"
   ]
  },
  {
   "cell_type": "code",
   "execution_count": 61,
   "metadata": {},
   "outputs": [
    {
     "name": "stdout",
     "output_type": "stream",
     "text": [
      "No results for  bioderma sebium toner on CosDNA.\n",
      "Enter new search:\n"
     ]
    },
    {
     "name": "stdin",
     "output_type": "stream",
     "text": [
      "(to skip search, enter 'SKIP' w/o quotes) bioderma sebium h2o\n"
     ]
    },
    {
     "name": "stdout",
     "output_type": "stream",
     "text": [
      "No results for  bioderma sebium mat control cream on CosDNA.\n",
      "Enter new search:\n"
     ]
    },
    {
     "name": "stdin",
     "output_type": "stream",
     "text": [
      "(to skip search, enter 'SKIP' w/o quotes) bioderma sebium mat control\n"
     ]
    },
    {
     "name": "stdout",
     "output_type": "stream",
     "text": [
      "No results for  kiel's powerful-strength line-reducing concentrate 12.5% vitamin c serum on CosDNA.\n",
      "Enter new search:\n"
     ]
    },
    {
     "name": "stdin",
     "output_type": "stream",
     "text": [
      "(to skip search, enter 'SKIP' w/o quotes) kiehl's powerful strength concentrate 12.5\n"
     ]
    },
    {
     "name": "stdout",
     "output_type": "stream",
     "text": [
      "No results for  roc retinol correction eye cream on CosDNA.\n",
      "Enter new search:\n"
     ]
    },
    {
     "name": "stdin",
     "output_type": "stream",
     "text": [
      "(to skip search, enter 'SKIP' w/o quotes) roc retinol correxion\n"
     ]
    },
    {
     "name": "stdout",
     "output_type": "stream",
     "text": [
      "5a14ff1845: lactose\n"
     ]
    },
    {
     "name": "stdin",
     "output_type": "stream",
     "text": [
      "preferred name:  \n"
     ]
    },
    {
     "name": "stdout",
     "output_type": "stream",
     "text": [
      "3425bd1361: c12-15 alkyl benzoate\n"
     ]
    },
    {
     "name": "stdin",
     "output_type": "stream",
     "text": [
      "preferred name:  \n"
     ]
    },
    {
     "name": "stdout",
     "output_type": "stream",
     "text": [
      "a275e510403: cetearyl ethylhexanoate\n"
     ]
    },
    {
     "name": "stdin",
     "output_type": "stream",
     "text": [
      "preferred name:  \n"
     ]
    },
    {
     "name": "stdout",
     "output_type": "stream",
     "text": [
      "919bfd8: peg-100 stearate\n"
     ]
    },
    {
     "name": "stdin",
     "output_type": "stream",
     "text": [
      "preferred name:  \n"
     ]
    },
    {
     "name": "stdout",
     "output_type": "stream",
     "text": [
      "b375f32251: peg-8\n"
     ]
    },
    {
     "name": "stdin",
     "output_type": "stream",
     "text": [
      "preferred name:  \n"
     ]
    },
    {
     "name": "stdout",
     "output_type": "stream",
     "text": [
      "5ef6ef467: stearyl alcohol\n"
     ]
    },
    {
     "name": "stdin",
     "output_type": "stream",
     "text": [
      "preferred name:  \n"
     ]
    },
    {
     "name": "stdout",
     "output_type": "stream",
     "text": [
      "fada5a3145: tromethamine\n"
     ]
    },
    {
     "name": "stdin",
     "output_type": "stream",
     "text": [
      "preferred name:  \n"
     ]
    },
    {
     "name": "stdout",
     "output_type": "stream",
     "text": [
      "f8701b90: carbomer\n"
     ]
    },
    {
     "name": "stdin",
     "output_type": "stream",
     "text": [
      "preferred name:  \n"
     ]
    },
    {
     "name": "stdout",
     "output_type": "stream",
     "text": [
      "35cc31879: isopropyl myristate\n"
     ]
    },
    {
     "name": "stdin",
     "output_type": "stream",
     "text": [
      "preferred name:  \n"
     ]
    },
    {
     "name": "stdout",
     "output_type": "stream",
     "text": [
      "035888448: chlorhexidine digluconate\n"
     ]
    },
    {
     "name": "stdin",
     "output_type": "stream",
     "text": [
      "preferred name:  \n"
     ]
    },
    {
     "name": "stdout",
     "output_type": "stream",
     "text": [
      "No results for  paula's choice 10% azelaic acid booster on CosDNA.\n",
      "Enter new search:\n"
     ]
    },
    {
     "name": "stdin",
     "output_type": "stream",
     "text": [
      "(to skip search, enter 'SKIP' w/o quotes) paula's choice 10% azelaic acid\n"
     ]
    },
    {
     "name": "stdout",
     "output_type": "stream",
     "text": [
      "No results for paula's choice 10% azelaic acid on CosDNA.\n",
      "Enter new search:\n"
     ]
    },
    {
     "name": "stdin",
     "output_type": "stream",
     "text": [
      "(to skip search, enter 'SKIP' w/o quotes) paula's choice 10 azelaic acid booster\n"
     ]
    },
    {
     "name": "stdout",
     "output_type": "stream",
     "text": [
      "No results for paula's choice 10 azelaic acid booster on CosDNA.\n",
      "Enter new search:\n"
     ]
    },
    {
     "name": "stdin",
     "output_type": "stream",
     "text": [
      "(to skip search, enter 'SKIP' w/o quotes) choice 10 azelaic acid booster\n"
     ]
    },
    {
     "name": "stdout",
     "output_type": "stream",
     "text": [
      "de022d1499: coco-glucoside\n"
     ]
    },
    {
     "name": "stdin",
     "output_type": "stream",
     "text": [
      "preferred name:  \n"
     ]
    },
    {
     "name": "stdout",
     "output_type": "stream",
     "text": [
      "ab8ccd20544: sodium lauroyl methyl isethionate\n"
     ]
    },
    {
     "name": "stdin",
     "output_type": "stream",
     "text": [
      "preferred name:  \n"
     ]
    },
    {
     "name": "stdout",
     "output_type": "stream",
     "text": [
      "3360581494: cocamidopropyl hydroxysultaine\n"
     ]
    },
    {
     "name": "stdin",
     "output_type": "stream",
     "text": [
      "preferred name:  \n"
     ]
    },
    {
     "name": "stdout",
     "output_type": "stream",
     "text": [
      "9a68372633: sodium methyl oleoyl taurate\n"
     ]
    },
    {
     "name": "stdin",
     "output_type": "stream",
     "text": [
      "preferred name:  \n"
     ]
    },
    {
     "name": "stdout",
     "output_type": "stream",
     "text": [
      "d8088c14734: aloe barbadensis leaf extract\n"
     ]
    },
    {
     "name": "stdin",
     "output_type": "stream",
     "text": [
      "preferred name:  \n"
     ]
    },
    {
     "name": "stdout",
     "output_type": "stream",
     "text": [
      "51cddd10661: glycolipids\n"
     ]
    },
    {
     "name": "stdin",
     "output_type": "stream",
     "text": [
      "preferred name:  \n"
     ]
    },
    {
     "name": "stdout",
     "output_type": "stream",
     "text": [
      "0287c3229: linoleic acid\n"
     ]
    },
    {
     "name": "stdin",
     "output_type": "stream",
     "text": [
      "preferred name:  \n"
     ]
    },
    {
     "name": "stdout",
     "output_type": "stream",
     "text": [
      "ba78081902: linolenic acid\n"
     ]
    },
    {
     "name": "stdin",
     "output_type": "stream",
     "text": [
      "preferred name:  \n"
     ]
    },
    {
     "name": "stdout",
     "output_type": "stream",
     "text": [
      "0187f210178: lauryl glucoside\n"
     ]
    },
    {
     "name": "stdin",
     "output_type": "stream",
     "text": [
      "preferred name:  \n"
     ]
    },
    {
     "name": "stdout",
     "output_type": "stream",
     "text": [
      "7202f515719: cucumis melo cantalupensis fruit extract\n"
     ]
    },
    {
     "name": "stdin",
     "output_type": "stream",
     "text": [
      "preferred name:  cantaloupe fruit extract\n"
     ]
    },
    {
     "name": "stdout",
     "output_type": "stream",
     "text": [
      "41831414303: sclerocarya birrea seed oil\n"
     ]
    },
    {
     "name": "stdin",
     "output_type": "stream",
     "text": [
      "preferred name:  marula seed oil\n"
     ]
    },
    {
     "name": "stdout",
     "output_type": "stream",
     "text": [
      "8e16cb1047: dipotassium glycyrrhizate\n"
     ]
    },
    {
     "name": "stdin",
     "output_type": "stream",
     "text": [
      "preferred name:  \n"
     ]
    },
    {
     "name": "stdout",
     "output_type": "stream",
     "text": [
      "8032ba2352: polylysine\n"
     ]
    },
    {
     "name": "stdin",
     "output_type": "stream",
     "text": [
      "preferred name:  \n"
     ]
    },
    {
     "name": "stdout",
     "output_type": "stream",
     "text": [
      "af81356377: niacinamide\n"
     ]
    },
    {
     "name": "stdin",
     "output_type": "stream",
     "text": [
      "preferred name:  \n"
     ]
    },
    {
     "name": "stdout",
     "output_type": "stream",
     "text": [
      "77cb98422: adenosine triphosphate\n"
     ]
    },
    {
     "name": "stdin",
     "output_type": "stream",
     "text": [
      "preferred name:  \n"
     ]
    },
    {
     "name": "stdout",
     "output_type": "stream",
     "text": [
      "da1eca14848: anthemis nobilis flower extract\n"
     ]
    },
    {
     "name": "stdin",
     "output_type": "stream",
     "text": [
      "preferred name:  chamomile flower extract\n"
     ]
    },
    {
     "name": "stdout",
     "output_type": "stream",
     "text": [
      "3fac9214872: arctium lappa root extract\n"
     ]
    },
    {
     "name": "stdin",
     "output_type": "stream",
     "text": [
      "preferred name:  burdock root extract\n"
     ]
    },
    {
     "name": "stdout",
     "output_type": "stream",
     "text": [
      "f1e7ec14350: hydrolyzed jojoba esters\n"
     ]
    },
    {
     "name": "stdin",
     "output_type": "stream",
     "text": [
      "preferred name:  \n"
     ]
    },
    {
     "name": "stdout",
     "output_type": "stream",
     "text": [
      "b23fa41780: hydrolyzed vegetable protein\n"
     ]
    },
    {
     "name": "stdin",
     "output_type": "stream",
     "text": [
      "preferred name:  \n"
     ]
    },
    {
     "name": "stdout",
     "output_type": "stream",
     "text": [
      "dfa882349: sodium pca\n"
     ]
    },
    {
     "name": "stdin",
     "output_type": "stream",
     "text": [
      "preferred name:  \n"
     ]
    },
    {
     "name": "stdout",
     "output_type": "stream",
     "text": [
      "6b1f88346: sodium hyaluronate\n"
     ]
    },
    {
     "name": "stdin",
     "output_type": "stream",
     "text": [
      "preferred name:  \n"
     ]
    },
    {
     "name": "stdout",
     "output_type": "stream",
     "text": [
      "a11c14935: sodium chondroitin sulfate\n"
     ]
    },
    {
     "name": "stdin",
     "output_type": "stream",
     "text": [
      "preferred name:  \n"
     ]
    },
    {
     "name": "stdout",
     "output_type": "stream",
     "text": [
      "a9b3846414: ceramide 3\n"
     ]
    },
    {
     "name": "stdin",
     "output_type": "stream",
     "text": [
      "preferred name:  \n"
     ]
    },
    {
     "name": "stdout",
     "output_type": "stream",
     "text": [
      "cd82ce10488: ceramide 6 ii\n"
     ]
    },
    {
     "name": "stdin",
     "output_type": "stream",
     "text": [
      "preferred name:  \n"
     ]
    },
    {
     "name": "stdout",
     "output_type": "stream",
     "text": [
      "1bf93015409: ceramide 1\n"
     ]
    },
    {
     "name": "stdin",
     "output_type": "stream",
     "text": [
      "preferred name:  \n"
     ]
    },
    {
     "name": "stdout",
     "output_type": "stream",
     "text": [
      "cb1ca71123: phytosphingosine\n"
     ]
    },
    {
     "name": "stdin",
     "output_type": "stream",
     "text": [
      "preferred name:  \n"
     ]
    },
    {
     "name": "stdout",
     "output_type": "stream",
     "text": [
      "d0c3f7112: cholesterol\n"
     ]
    },
    {
     "name": "stdin",
     "output_type": "stream",
     "text": [
      "preferred name:  \n"
     ]
    },
    {
     "name": "stdout",
     "output_type": "stream",
     "text": [
      "87dba96374: tetrahexyldecyl ascorbate\n"
     ]
    },
    {
     "name": "stdin",
     "output_type": "stream",
     "text": [
      "preferred name:  vitamin c tetraisopalmitate\n"
     ]
    },
    {
     "name": "stdout",
     "output_type": "stream",
     "text": [
      "5440721010: oleth-10\n"
     ]
    },
    {
     "name": "stdin",
     "output_type": "stream",
     "text": [
      "preferred name:  \n"
     ]
    },
    {
     "name": "stdout",
     "output_type": "stream",
     "text": [
      "0bb1f67258: dea-oleth-10 phosphate\n"
     ]
    },
    {
     "name": "stdin",
     "output_type": "stream",
     "text": [
      "preferred name:  \n"
     ]
    },
    {
     "name": "stdout",
     "output_type": "stream",
     "text": [
      "4ea5529516: sodium lauroyl lactylate\n"
     ]
    },
    {
     "name": "stdin",
     "output_type": "stream",
     "text": [
      "preferred name:  \n"
     ]
    },
    {
     "name": "stdout",
     "output_type": "stream",
     "text": [
      "1ee2367042: caprylyl glycol\n"
     ]
    },
    {
     "name": "stdin",
     "output_type": "stream",
     "text": [
      "preferred name:  \n"
     ]
    },
    {
     "name": "stdout",
     "output_type": "stream",
     "text": [
      "f31b711196: hexylene glycol\n"
     ]
    },
    {
     "name": "stdin",
     "output_type": "stream",
     "text": [
      "preferred name:  \n"
     ]
    },
    {
     "name": "stdout",
     "output_type": "stream",
     "text": [
      "53026b378: trisodium edta\n"
     ]
    },
    {
     "name": "stdin",
     "output_type": "stream",
     "text": [
      "preferred name:  \n"
     ]
    },
    {
     "name": "stdout",
     "output_type": "stream",
     "text": [
      "569dd0557: acetyl glucosamine\n"
     ]
    },
    {
     "name": "stdin",
     "output_type": "stream",
     "text": [
      "preferred name:  \n"
     ]
    },
    {
     "name": "stdout",
     "output_type": "stream",
     "text": [
      "7e4b55302: phospholipids\n"
     ]
    },
    {
     "name": "stdin",
     "output_type": "stream",
     "text": [
      "preferred name:  \n"
     ]
    },
    {
     "name": "stdout",
     "output_type": "stream",
     "text": [
      "6fbf8714126: boerhavia diffusa root extract\n"
     ]
    },
    {
     "name": "stdin",
     "output_type": "stream",
     "text": [
      "preferred name:  punarnava root extract\n"
     ]
    },
    {
     "name": "stdout",
     "output_type": "stream",
     "text": [
      "25ec3119984: glycyrrhiza glabra root extract\n"
     ]
    },
    {
     "name": "stdin",
     "output_type": "stream",
     "text": [
      "preferred name:  licorice root extract\n"
     ]
    },
    {
     "name": "stdout",
     "output_type": "stream",
     "text": [
      "1a8f4f11335: epigallocatechin gallate\n"
     ]
    },
    {
     "name": "stdin",
     "output_type": "stream",
     "text": [
      "preferred name:  egcg\n"
     ]
    },
    {
     "name": "stdout",
     "output_type": "stream",
     "text": [
      "c2f9241045: beta-glucan\n"
     ]
    },
    {
     "name": "stdin",
     "output_type": "stream",
     "text": [
      "preferred name:  \n"
     ]
    },
    {
     "name": "stdout",
     "output_type": "stream",
     "text": [
      "7b3b1910625: carnosine\n",
      "肌肽\n"
     ]
    },
    {
     "name": "stdin",
     "output_type": "stream",
     "text": [
      "preferred name:  \n"
     ]
    },
    {
     "name": "stdout",
     "output_type": "stream",
     "text": [
      "325b6910974: genistein\n"
     ]
    },
    {
     "name": "stdin",
     "output_type": "stream",
     "text": [
      "preferred name:  \n"
     ]
    },
    {
     "name": "stdout",
     "output_type": "stream",
     "text": [
      "15529e60: azelaic acid\n"
     ]
    },
    {
     "name": "stdin",
     "output_type": "stream",
     "text": [
      "preferred name:  \n"
     ]
    },
    {
     "name": "stdout",
     "output_type": "stream",
     "text": [
      "91717f1945: methyl glucose sesquistearate\n"
     ]
    },
    {
     "name": "stdin",
     "output_type": "stream",
     "text": [
      "preferred name:  \n"
     ]
    },
    {
     "name": "stdout",
     "output_type": "stream",
     "text": [
      "f83898102: cetearyl alcohol\n"
     ]
    },
    {
     "name": "stdin",
     "output_type": "stream",
     "text": [
      "preferred name:  \n"
     ]
    },
    {
     "name": "stdout",
     "output_type": "stream",
     "text": [
      "7cef8d335: sclerotium gum\n"
     ]
    },
    {
     "name": "stdin",
     "output_type": "stream",
     "text": [
      "preferred name:  \n"
     ]
    },
    {
     "name": "stdout",
     "output_type": "stream",
     "text": [
      "bd86141140: purified water\n"
     ]
    },
    {
     "name": "stdin",
     "output_type": "stream",
     "text": [
      "preferred name:  water\n"
     ]
    },
    {
     "name": "stdout",
     "output_type": "stream",
     "text": [
      "2d842c182: hyaluronic acid\n"
     ]
    },
    {
     "name": "stdin",
     "output_type": "stream",
     "text": [
      "preferred name:  \n"
     ]
    },
    {
     "name": "stdout",
     "output_type": "stream",
     "text": [
      "ba1a66971: polyglyceryl-3-diisostearate\n"
     ]
    },
    {
     "name": "stdin",
     "output_type": "stream",
     "text": [
      "preferred name:  \n"
     ]
    },
    {
     "name": "stdout",
     "output_type": "stream",
     "text": [
      "ef65162402: potassium phosphate\n"
     ]
    },
    {
     "name": "stdin",
     "output_type": "stream",
     "text": [
      "preferred name:  \n"
     ]
    },
    {
     "name": "stdout",
     "output_type": "stream",
     "text": [
      "1f1eee1601: dipotassium phosphate\n"
     ]
    },
    {
     "name": "stdin",
     "output_type": "stream",
     "text": [
      "preferred name:  \n"
     ]
    },
    {
     "name": "stdout",
     "output_type": "stream",
     "text": [
      "4a06d62021: octyldodecyl neopentanoate\n"
     ]
    },
    {
     "name": "stdin",
     "output_type": "stream",
     "text": [
      "preferred name:  \n"
     ]
    },
    {
     "name": "stdout",
     "output_type": "stream",
     "text": [
      "09e04010431: hydroxyethyl acrylate/sodium acryloyldimethyl taurate copolymer\n"
     ]
    },
    {
     "name": "stdin",
     "output_type": "stream",
     "text": [
      "preferred name:  \n"
     ]
    },
    {
     "name": "stdout",
     "output_type": "stream",
     "text": [
      "b35a542350: polyisobutene\n"
     ]
    },
    {
     "name": "stdin",
     "output_type": "stream",
     "text": [
      "preferred name:  \n"
     ]
    },
    {
     "name": "stdout",
     "output_type": "stream",
     "text": [
      "6c023b20725: peg-7 trimethylolpropane coconut ether\n"
     ]
    },
    {
     "name": "stdin",
     "output_type": "stream",
     "text": [
      "preferred name:  \n"
     ]
    },
    {
     "name": "stdout",
     "output_type": "stream",
     "text": [
      "36b237212: lactic acid\n"
     ]
    },
    {
     "name": "stdin",
     "output_type": "stream",
     "text": [
      "preferred name:  \n"
     ]
    },
    {
     "name": "stdout",
     "output_type": "stream",
     "text": [
      "e002648465: oleth-3 phosphate\n"
     ]
    },
    {
     "name": "stdin",
     "output_type": "stream",
     "text": [
      "preferred name:  \n"
     ]
    },
    {
     "name": "stdout",
     "output_type": "stream",
     "text": [
      "6db25d431: iodopropynyl butylcarbamate\n"
     ]
    },
    {
     "name": "stdin",
     "output_type": "stream",
     "text": [
      "preferred name:  \n"
     ]
    },
    {
     "name": "stdout",
     "output_type": "stream",
     "text": [
      "1a5790961: octyl stearate\n"
     ]
    },
    {
     "name": "stdin",
     "output_type": "stream",
     "text": [
      "preferred name:  \n"
     ]
    },
    {
     "name": "stdout",
     "output_type": "stream",
     "text": [
      "20ad5010427: triethoxycaprylylsilane\n"
     ]
    },
    {
     "name": "stdin",
     "output_type": "stream",
     "text": [
      "preferred name:  \n"
     ]
    },
    {
     "name": "stdout",
     "output_type": "stream",
     "text": [
      "9a5625165: glycereth-26\n"
     ]
    },
    {
     "name": "stdin",
     "output_type": "stream",
     "text": [
      "preferred name:  \n"
     ]
    },
    {
     "name": "stdout",
     "output_type": "stream",
     "text": [
      "8f93011164: dimethiconol\n"
     ]
    },
    {
     "name": "stdin",
     "output_type": "stream",
     "text": [
      "preferred name:  \n"
     ]
    },
    {
     "name": "stdout",
     "output_type": "stream",
     "text": [
      "00f4e8568: oenothera biennis oil\n"
     ]
    },
    {
     "name": "stdin",
     "output_type": "stream",
     "text": [
      "preferred name:  evening primrose oil\n"
     ]
    },
    {
     "name": "stdout",
     "output_type": "stream",
     "text": [
      "2b5b8b14410: borago officinalis seed oil\n"
     ]
    },
    {
     "name": "stdin",
     "output_type": "stream",
     "text": [
      "preferred name:  borage seed oil\n"
     ]
    },
    {
     "name": "stdout",
     "output_type": "stream",
     "text": [
      "47dfc31739: hydrogenated lecithin\n"
     ]
    },
    {
     "name": "stdin",
     "output_type": "stream",
     "text": [
      "preferred name:  \n"
     ]
    },
    {
     "name": "stdout",
     "output_type": "stream",
     "text": [
      "c761da2740: superoxide dismutase\n"
     ]
    },
    {
     "name": "stdin",
     "output_type": "stream",
     "text": [
      "preferred name:  \n"
     ]
    },
    {
     "name": "stdout",
     "output_type": "stream",
     "text": [
      "65d0851901: linoleamidopropyl pg-dimonium chloride phosphate\n"
     ]
    },
    {
     "name": "stdin",
     "output_type": "stream",
     "text": [
      "preferred name:  \n"
     ]
    },
    {
     "name": "stdout",
     "output_type": "stream",
     "text": [
      "e81b872894: chlorphenesin\n"
     ]
    },
    {
     "name": "stdin",
     "output_type": "stream",
     "text": [
      "preferred name:  \n"
     ]
    },
    {
     "name": "stdout",
     "output_type": "stream",
     "text": [
      "3d1b7c425: benzoic acid\n"
     ]
    },
    {
     "name": "stdin",
     "output_type": "stream",
     "text": [
      "preferred name:  \n"
     ]
    },
    {
     "name": "stdout",
     "output_type": "stream",
     "text": [
      "b3d7c210384: ethoxydiglycol\n"
     ]
    },
    {
     "name": "stdin",
     "output_type": "stream",
     "text": [
      "preferred name:  \n"
     ]
    },
    {
     "name": "stdout",
     "output_type": "stream",
     "text": [
      "b87736828: polysorbate 80\n"
     ]
    },
    {
     "name": "stdin",
     "output_type": "stream",
     "text": [
      "preferred name:  \n"
     ]
    },
    {
     "name": "stdout",
     "output_type": "stream",
     "text": [
      "8847aa2864: ferulic acid\n"
     ]
    },
    {
     "name": "stdin",
     "output_type": "stream",
     "text": [
      "preferred name:  \n"
     ]
    },
    {
     "name": "stdout",
     "output_type": "stream",
     "text": [
      "30f22f427: dehydroacetic acid\n"
     ]
    },
    {
     "name": "stdin",
     "output_type": "stream",
     "text": [
      "preferred name:  \n"
     ]
    },
    {
     "name": "stdout",
     "output_type": "stream",
     "text": [
      "60c99c998: zinc pca\n"
     ]
    },
    {
     "name": "stdin",
     "output_type": "stream",
     "text": [
      "preferred name:  \n"
     ]
    },
    {
     "name": "stdout",
     "output_type": "stream",
     "text": [
      "46d3321580: dimethyl isosorbide\n"
     ]
    },
    {
     "name": "stdin",
     "output_type": "stream",
     "text": [
      "preferred name:  \n"
     ]
    },
    {
     "name": "stdout",
     "output_type": "stream",
     "text": [
      "56980413168: tamarindus indica seed gum\n"
     ]
    },
    {
     "name": "stdin",
     "output_type": "stream",
     "text": [
      "preferred name:  tamarind seed gum\n"
     ]
    },
    {
     "name": "stdout",
     "output_type": "stream",
     "text": [
      "bd1f871814: isoceteth-20\n"
     ]
    },
    {
     "name": "stdin",
     "output_type": "stream",
     "text": [
      "preferred name:  \n"
     ]
    },
    {
     "name": "stdout",
     "output_type": "stream",
     "text": [
      "22ac5018873: sodium hyaluronate crosspolymer\n"
     ]
    },
    {
     "name": "stdin",
     "output_type": "stream",
     "text": [
      "preferred name:  \n"
     ]
    },
    {
     "name": "stdout",
     "output_type": "stream",
     "text": [
      "17f44f14690: ahnfeltia concinna extract\n"
     ]
    },
    {
     "name": "stdin",
     "output_type": "stream",
     "text": [
      "preferred name:  \n"
     ]
    },
    {
     "name": "stdout",
     "output_type": "stream",
     "text": [
      "5bb09d12167: trisodium ethylenediamine disuccinate\n"
     ]
    },
    {
     "name": "stdin",
     "output_type": "stream",
     "text": [
      "preferred name:  \n"
     ]
    },
    {
     "name": "stdout",
     "output_type": "stream",
     "text": [
      "56f78f6500: 1,2-hexanediol\n"
     ]
    },
    {
     "name": "stdin",
     "output_type": "stream",
     "text": [
      "preferred name:  \n"
     ]
    },
    {
     "name": "stdout",
     "output_type": "stream",
     "text": [
      "a57e99179: homosalate (12%)\n"
     ]
    },
    {
     "name": "stdin",
     "output_type": "stream",
     "text": [
      "preferred name:  homosalate\n"
     ]
    },
    {
     "name": "stdout",
     "output_type": "stream",
     "text": [
      "ebaca21028: meradimate (5%)\n"
     ]
    },
    {
     "name": "stdin",
     "output_type": "stream",
     "text": [
      "preferred name:  menthyl anthranilate\n"
     ]
    },
    {
     "name": "stdout",
     "output_type": "stream",
     "text": [
      "4f4a4b277: octocrylene (2%)\n"
     ]
    },
    {
     "name": "stdin",
     "output_type": "stream",
     "text": [
      "preferred name:  octocrylene\n"
     ]
    },
    {
     "name": "stdout",
     "output_type": "stream",
     "text": [
      "0ddcdc2874: behentrimonium methosulfate\n"
     ]
    },
    {
     "name": "stdin",
     "output_type": "stream",
     "text": [
      "preferred name:  \n"
     ]
    },
    {
     "name": "stdout",
     "output_type": "stream",
     "text": [
      "35c7b320472: ceramide eop\n"
     ]
    },
    {
     "name": "stdin",
     "output_type": "stream",
     "text": [
      "preferred name:  ceramide 9\n"
     ]
    },
    {
     "name": "stdout",
     "output_type": "stream",
     "text": [
      "3d9e521284: aluminum starch octenylsuccinate\n"
     ]
    },
    {
     "name": "stdin",
     "output_type": "stream",
     "text": [
      "preferred name:  \n"
     ]
    },
    {
     "name": "stdout",
     "output_type": "stream",
     "text": [
      "938ea3418: hydroxyethylcellulose\n"
     ]
    },
    {
     "name": "stdin",
     "output_type": "stream",
     "text": [
      "preferred name:  \n"
     ]
    },
    {
     "name": "stdout",
     "output_type": "stream",
     "text": [
      "2c510d793: isohexadecane\n"
     ]
    },
    {
     "name": "stdin",
     "output_type": "stream",
     "text": [
      "preferred name:  \n"
     ]
    },
    {
     "name": "stdout",
     "output_type": "stream",
     "text": [
      "452d3e1111: isononyl isononanoate\n"
     ]
    },
    {
     "name": "stdin",
     "output_type": "stream",
     "text": [
      "preferred name:  \n"
     ]
    },
    {
     "name": "stdout",
     "output_type": "stream",
     "text": [
      "52b7131550: dicaprylyl ether\n"
     ]
    },
    {
     "name": "stdin",
     "output_type": "stream",
     "text": [
      "preferred name:  \n"
     ]
    },
    {
     "name": "stdout",
     "output_type": "stream",
     "text": [
      "0cafd22153: peg-30 dipolyhydroxystearate\n"
     ]
    },
    {
     "name": "stdin",
     "output_type": "stream",
     "text": [
      "preferred name:  \n"
     ]
    },
    {
     "name": "stdout",
     "output_type": "stream",
     "text": [
      "82a6306380: triethylhexanoin\n"
     ]
    },
    {
     "name": "stdin",
     "output_type": "stream",
     "text": [
      "preferred name:  \n"
     ]
    },
    {
     "name": "stdout",
     "output_type": "stream",
     "text": [
      "8616be2341: polyglyceryl-4 isostearate\n"
     ]
    },
    {
     "name": "stdin",
     "output_type": "stream",
     "text": [
      "preferred name:  \n"
     ]
    },
    {
     "name": "stdout",
     "output_type": "stream",
     "text": [
      "90f3e610236: dicaprylyl carbonate\n"
     ]
    },
    {
     "name": "stdin",
     "output_type": "stream",
     "text": [
      "preferred name:  \n"
     ]
    },
    {
     "name": "stdout",
     "output_type": "stream",
     "text": [
      "3e04e41205: ethylene/acrylic acid copolymer\n"
     ]
    },
    {
     "name": "stdin",
     "output_type": "stream",
     "text": [
      "preferred name:  \n"
     ]
    },
    {
     "name": "stdout",
     "output_type": "stream",
     "text": [
      "9cd233376: triethanolamine\n"
     ]
    },
    {
     "name": "stdin",
     "output_type": "stream",
     "text": [
      "preferred name:  \n"
     ]
    },
    {
     "name": "stdout",
     "output_type": "stream",
     "text": [
      "ba9fb8339: silica\n"
     ]
    },
    {
     "name": "stdin",
     "output_type": "stream",
     "text": [
      "preferred name:  \n"
     ]
    },
    {
     "name": "stdout",
     "output_type": "stream",
     "text": [
      "82f11311002: poly c10-30 alkyl acrylate\n"
     ]
    },
    {
     "name": "stdin",
     "output_type": "stream",
     "text": [
      "preferred name:  \n"
     ]
    },
    {
     "name": "stdout",
     "output_type": "stream",
     "text": [
      "78d2f06709: aluminum stearate\n"
     ]
    },
    {
     "name": "stdin",
     "output_type": "stream",
     "text": [
      "preferred name:  \n"
     ]
    },
    {
     "name": "stdout",
     "output_type": "stream",
     "text": [
      "9c15831276: alumina\n"
     ]
    },
    {
     "name": "stdin",
     "output_type": "stream",
     "text": [
      "preferred name:  \n"
     ]
    },
    {
     "name": "stdout",
     "output_type": "stream",
     "text": [
      "e5fc211280: aluminum hydroxide\n"
     ]
    },
    {
     "name": "stdin",
     "output_type": "stream",
     "text": [
      "preferred name:  \n"
     ]
    },
    {
     "name": "stdout",
     "output_type": "stream",
     "text": [
      "8eea368505: p-anisic acid\n"
     ]
    },
    {
     "name": "stdin",
     "output_type": "stream",
     "text": [
      "preferred name:  \n"
     ]
    },
    {
     "name": "stdout",
     "output_type": "stream",
     "text": [
      "89a24f10275: disodium stearoyl glutamate\n"
     ]
    },
    {
     "name": "stdin",
     "output_type": "stream",
     "text": [
      "preferred name:  \n"
     ]
    },
    {
     "name": "stdout",
     "output_type": "stream",
     "text": [
      "61b38a2504: propylene carbonate\n"
     ]
    },
    {
     "name": "stdin",
     "output_type": "stream",
     "text": [
      "preferred name:  \n"
     ]
    },
    {
     "name": "stdout",
     "output_type": "stream",
     "text": [
      "0f1b7f1402: capryloyl salicylic acid\n"
     ]
    },
    {
     "name": "stdin",
     "output_type": "stream",
     "text": [
      "preferred name:  \n"
     ]
    },
    {
     "name": "stdout",
     "output_type": "stream",
     "text": [
      "0ac34111010: diethylhexyl syringylidene malonate\n"
     ]
    },
    {
     "name": "stdin",
     "output_type": "stream",
     "text": [
      "preferred name:  \n"
     ]
    },
    {
     "name": "stdout",
     "output_type": "stream",
     "text": [
      "b3ccd66442: disteardimonium hectorite\n"
     ]
    },
    {
     "name": "stdin",
     "output_type": "stream",
     "text": [
      "preferred name:  \n"
     ]
    },
    {
     "name": "stdout",
     "output_type": "stream",
     "text": [
      "dd78942349: polyhydroxystearic acid\n"
     ]
    },
    {
     "name": "stdin",
     "output_type": "stream",
     "text": [
      "preferred name:  \n"
     ]
    },
    {
     "name": "stdout",
     "output_type": "stream",
     "text": [
      "fada7814712: algae extract\n"
     ]
    },
    {
     "name": "stdin",
     "output_type": "stream",
     "text": [
      "preferred name:  \n"
     ]
    },
    {
     "name": "stdout",
     "output_type": "stream",
     "text": [
      "10d7ba950: decyl glucoside\n"
     ]
    },
    {
     "name": "stdin",
     "output_type": "stream",
     "text": [
      "preferred name:  \n"
     ]
    },
    {
     "name": "stdout",
     "output_type": "stream",
     "text": [
      "b898356384: sorbitan olivate\n"
     ]
    },
    {
     "name": "stdin",
     "output_type": "stream",
     "text": [
      "preferred name:  \n"
     ]
    },
    {
     "name": "stdout",
     "output_type": "stream",
     "text": [
      "1c4ecd1188: sesamum indicum seed oil\n"
     ]
    },
    {
     "name": "stdin",
     "output_type": "stream",
     "text": [
      "preferred name:  sesame seed oil\n"
     ]
    },
    {
     "name": "stdout",
     "output_type": "stream",
     "text": [
      "866c5a19791: citrus aurantifolia oil\n"
     ]
    },
    {
     "name": "stdin",
     "output_type": "stream",
     "text": [
      "preferred name:  lime oil\n"
     ]
    },
    {
     "name": "stdout",
     "output_type": "stream",
     "text": [
      "d8f26520748: citrus aurantium dulcis (orange) oil\n"
     ]
    },
    {
     "name": "stdin",
     "output_type": "stream",
     "text": [
      "preferred name:  orange oil\n"
     ]
    },
    {
     "name": "stdout",
     "output_type": "stream",
     "text": [
      "3cae1116912: juniperus communis fruit oil\n"
     ]
    },
    {
     "name": "stdin",
     "output_type": "stream",
     "text": [
      "preferred name:  juniper fruit oil\n"
     ]
    },
    {
     "name": "stdout",
     "output_type": "stream",
     "text": [
      "65f6f11237: cupressus sempervirens\n"
     ]
    },
    {
     "name": "stdin",
     "output_type": "stream",
     "text": [
      "preferred name:  cypress\n"
     ]
    },
    {
     "name": "stdout",
     "output_type": "stream",
     "text": [
      "419adb20036: jasminum officinale oil\n"
     ]
    },
    {
     "name": "stdin",
     "output_type": "stream",
     "text": [
      "preferred name:  jasmine oil\n"
     ]
    },
    {
     "name": "stdout",
     "output_type": "stream",
     "text": [
      "5dbe43507: glycine\n"
     ]
    },
    {
     "name": "stdin",
     "output_type": "stream",
     "text": [
      "preferred name:  \n"
     ]
    },
    {
     "name": "stdout",
     "output_type": "stream",
     "text": [
      "383bb7435: potassium sorbate\n"
     ]
    },
    {
     "name": "stdin",
     "output_type": "stream",
     "text": [
      "preferred name:  \n"
     ]
    },
    {
     "name": "stdout",
     "output_type": "stream",
     "text": [
      "ee8723493: chlorophyll extract\n"
     ]
    },
    {
     "name": "stdin",
     "output_type": "stream",
     "text": [
      "preferred name:  \n"
     ]
    },
    {
     "name": "stdout",
     "output_type": "stream",
     "text": [
      "d3295918674: sambucus nigra fruit extract\n"
     ]
    },
    {
     "name": "stdin",
     "output_type": "stream",
     "text": [
      "preferred name:  elder fruit extract\n"
     ]
    },
    {
     "name": "stdout",
     "output_type": "stream",
     "text": [
      "043b0f72: biosaccharide gum-1\n"
     ]
    },
    {
     "name": "stdin",
     "output_type": "stream",
     "text": [
      "preferred name:  \n"
     ]
    },
    {
     "name": "stdout",
     "output_type": "stream",
     "text": [
      "d0a87d17917: pelargonium graveolens flower oil\n"
     ]
    },
    {
     "name": "stdin",
     "output_type": "stream",
     "text": [
      "preferred name:  geranium flower oil\n"
     ]
    },
    {
     "name": "stdout",
     "output_type": "stream",
     "text": [
      "ed918715308: cananga odorata flower oil\n"
     ]
    },
    {
     "name": "stdin",
     "output_type": "stream",
     "text": [
      "preferred name:  ylang-ylang flower oil\n"
     ]
    },
    {
     "name": "stdout",
     "output_type": "stream",
     "text": [
      "c23dd69049: polyglyceryl-3 stearate\n"
     ]
    },
    {
     "name": "stdin",
     "output_type": "stream",
     "text": [
      "preferred name:  \n"
     ]
    },
    {
     "name": "stdout",
     "output_type": "stream",
     "text": [
      "f6255d1463: cetyl esters\n"
     ]
    },
    {
     "name": "stdin",
     "output_type": "stream",
     "text": [
      "preferred name:  \n"
     ]
    },
    {
     "name": "stdout",
     "output_type": "stream",
     "text": [
      "8658131169: cetyl ethylhexanoate\n"
     ]
    },
    {
     "name": "stdin",
     "output_type": "stream",
     "text": [
      "preferred name:  \n"
     ]
    },
    {
     "name": "stdout",
     "output_type": "stream",
     "text": [
      "92d0b110573: diethylhexyl succinate\n"
     ]
    },
    {
     "name": "stdin",
     "output_type": "stream",
     "text": [
      "preferred name:  \n"
     ]
    },
    {
     "name": "stdout",
     "output_type": "stream",
     "text": [
      "fa0339967: octyldodecanol\n"
     ]
    },
    {
     "name": "stdin",
     "output_type": "stream",
     "text": [
      "preferred name:  \n"
     ]
    },
    {
     "name": "stdout",
     "output_type": "stream",
     "text": [
      "daa7ae19236: tocopheryl linoleate/oleate\n"
     ]
    },
    {
     "name": "stdin",
     "output_type": "stream",
     "text": [
      "preferred name:  \n"
     ]
    },
    {
     "name": "stdout",
     "output_type": "stream",
     "text": [
      "92fcb119806: citrus aurantium bergamia fruit extract\n"
     ]
    },
    {
     "name": "stdin",
     "output_type": "stream",
     "text": [
      "preferred name:  bergamot fruit extract\n"
     ]
    },
    {
     "name": "stdout",
     "output_type": "stream",
     "text": [
      "b8586819867: coriandrum sativum fruit/leaf extract\n"
     ]
    },
    {
     "name": "stdin",
     "output_type": "stream",
     "text": [
      "preferred name:  coriander fruit/leaf extract\n"
     ]
    },
    {
     "name": "stdout",
     "output_type": "stream",
     "text": [
      "9403e315727: cupressus sempervirens leaf/stem extract\n"
     ]
    },
    {
     "name": "stdin",
     "output_type": "stream",
     "text": [
      "preferred name:  italian cypress leaf/stem extract\n"
     ]
    },
    {
     "name": "stdout",
     "output_type": "stream",
     "text": [
      "a4a0ff16298: fucus vesiculosus extract\n"
     ]
    },
    {
     "name": "stdin",
     "output_type": "stream",
     "text": [
      "preferred name:  bladder wrack extract\n"
     ]
    },
    {
     "name": "stdout",
     "output_type": "stream",
     "text": [
      "1dfaa119978: glycine soja seed extract\n"
     ]
    },
    {
     "name": "stdin",
     "output_type": "stream",
     "text": [
      "preferred name:  soybean seed extract\n"
     ]
    },
    {
     "name": "stdout",
     "output_type": "stream",
     "text": [
      "efc39720034: jasminum officinale flower/leaf extract\n"
     ]
    },
    {
     "name": "stdin",
     "output_type": "stream",
     "text": [
      "preferred name:  jasmine flower/leaf extract\n"
     ]
    },
    {
     "name": "stdout",
     "output_type": "stream",
     "text": [
      "3f922220052: lavandula angustifolia extract\n"
     ]
    },
    {
     "name": "stdin",
     "output_type": "stream",
     "text": [
      "preferred name:  lavender extract\n"
     ]
    },
    {
     "name": "stdout",
     "output_type": "stream",
     "text": [
      "7f7f6018115: plumeria rubra flower extract\n"
     ]
    },
    {
     "name": "stdin",
     "output_type": "stream",
     "text": [
      "preferred name:  frangipani flower extract\n"
     ]
    },
    {
     "name": "stdout",
     "output_type": "stream",
     "text": [
      "c3d77a14524: prunus persica fruit extract\n"
     ]
    },
    {
     "name": "stdin",
     "output_type": "stream",
     "text": [
      "preferred name:  peach fruit extract\n"
     ]
    },
    {
     "name": "stdout",
     "output_type": "stream",
     "text": [
      "3ff5b6324: rose extract\n"
     ]
    },
    {
     "name": "stdin",
     "output_type": "stream",
     "text": [
      "preferred name:  \n"
     ]
    },
    {
     "name": "stdout",
     "output_type": "stream",
     "text": [
      "dbfcce20275: rosmarinus officinalis leaf extract\n"
     ]
    },
    {
     "name": "stdin",
     "output_type": "stream",
     "text": [
      "preferred name:  rosemary leaf extract\n"
     ]
    },
    {
     "name": "stdout",
     "output_type": "stream",
     "text": [
      "c1ad5119376: vanilla planifolia fruit extract\n"
     ]
    },
    {
     "name": "stdin",
     "output_type": "stream",
     "text": [
      "preferred name:  \n"
     ]
    },
    {
     "name": "stdout",
     "output_type": "stream",
     "text": [
      "5fc5481: behenyl alcohol\n"
     ]
    },
    {
     "name": "stdin",
     "output_type": "stream",
     "text": [
      "preferred name:  \n"
     ]
    },
    {
     "name": "stdout",
     "output_type": "stream",
     "text": [
      "cf1fc6108: cetyl phosphate\n"
     ]
    },
    {
     "name": "stdin",
     "output_type": "stream",
     "text": [
      "preferred name:  \n"
     ]
    },
    {
     "name": "stdout",
     "output_type": "stream",
     "text": [
      "1567f910317: acrylamide/sodium acryloyldimethyltaurate copolymer\n"
     ]
    },
    {
     "name": "stdin",
     "output_type": "stream",
     "text": [
      "preferred name:  \n"
     ]
    },
    {
     "name": "stdout",
     "output_type": "stream",
     "text": [
      "18238912740: c13-15 alkane\n"
     ]
    },
    {
     "name": "stdin",
     "output_type": "stream",
     "text": [
      "preferred name:  \n"
     ]
    },
    {
     "name": "stdout",
     "output_type": "stream",
     "text": [
      "a195941311: arachidyl alcohol\n"
     ]
    },
    {
     "name": "stdin",
     "output_type": "stream",
     "text": [
      "preferred name:  \n"
     ]
    },
    {
     "name": "stdout",
     "output_type": "stream",
     "text": [
      "9e91e11057: saccharide isomerate\n"
     ]
    },
    {
     "name": "stdin",
     "output_type": "stream",
     "text": [
      "preferred name:  \n"
     ]
    },
    {
     "name": "stdout",
     "output_type": "stream",
     "text": [
      "0f102710655: xylitylglucoside\n"
     ]
    },
    {
     "name": "stdin",
     "output_type": "stream",
     "text": [
      "preferred name:  \n"
     ]
    },
    {
     "name": "stdout",
     "output_type": "stream",
     "text": [
      "69ac9e10654: anhydroxylitol\n"
     ]
    },
    {
     "name": "stdin",
     "output_type": "stream",
     "text": [
      "preferred name:  \n"
     ]
    },
    {
     "name": "stdout",
     "output_type": "stream",
     "text": [
      "d0953417706: parietaria officinalis extract\n"
     ]
    },
    {
     "name": "stdin",
     "output_type": "stream",
     "text": [
      "preferred name:  \n"
     ]
    },
    {
     "name": "stdout",
     "output_type": "stream",
     "text": [
      "1e6ea920082: malva sylvestris flower/leaf/stem extract\n"
     ]
    },
    {
     "name": "stdin",
     "output_type": "stream",
     "text": [
      "preferred name:  mallow flower leaf/stem extract\n"
     ]
    },
    {
     "name": "stdout",
     "output_type": "stream",
     "text": [
      "e5a7da20003: hedera helix leaf/stem extract\n"
     ]
    },
    {
     "name": "stdin",
     "output_type": "stream",
     "text": [
      "preferred name:  ivy leaf/stem extract\n"
     ]
    },
    {
     "name": "stdout",
     "output_type": "stream",
     "text": [
      "3abe1f19886: cucumis sativus fruit extract\n"
     ]
    },
    {
     "name": "stdin",
     "output_type": "stream",
     "text": [
      "preferred name:  cucumber fruit extract\n"
     ]
    },
    {
     "name": "stdout",
     "output_type": "stream",
     "text": [
      "28482314894: arnica montana flower extract\n"
     ]
    },
    {
     "name": "stdin",
     "output_type": "stream",
     "text": [
      "preferred name:  wolf's bane flower extract\n"
     ]
    },
    {
     "name": "stdout",
     "output_type": "stream",
     "text": [
      "e672f118670: sambucus nigra flower extract\n"
     ]
    },
    {
     "name": "stdin",
     "output_type": "stream",
     "text": [
      "preferred name:  elder flower extract\n"
     ]
    },
    {
     "name": "stdout",
     "output_type": "stream",
     "text": [
      "381b3f10294: arachidyl glucoside\n"
     ]
    },
    {
     "name": "stdin",
     "output_type": "stream",
     "text": [
      "preferred name:  \n"
     ]
    },
    {
     "name": "stdout",
     "output_type": "stream",
     "text": [
      "9199212294: phytic acid\n"
     ]
    },
    {
     "name": "stdin",
     "output_type": "stream",
     "text": [
      "preferred name:  \n"
     ]
    },
    {
     "name": "stdout",
     "output_type": "stream",
     "text": [
      "9d545e11867: citrus grandis peel oil\n"
     ]
    },
    {
     "name": "stdin",
     "output_type": "stream",
     "text": [
      "preferred name:  grapefruit peel oil\n"
     ]
    },
    {
     "name": "stdout",
     "output_type": "stream",
     "text": [
      "62cf2510424: seawater\n"
     ]
    },
    {
     "name": "stdin",
     "output_type": "stream",
     "text": [
      "preferred name:  \n"
     ]
    },
    {
     "name": "stdout",
     "output_type": "stream",
     "text": [
      "ee243d20491: coconut alkanes\n"
     ]
    },
    {
     "name": "stdin",
     "output_type": "stream",
     "text": [
      "preferred name:  \n"
     ]
    },
    {
     "name": "stdout",
     "output_type": "stream",
     "text": [
      "f48fb019513: squalene\n"
     ]
    },
    {
     "name": "stdin",
     "output_type": "stream",
     "text": [
      "preferred name:  \n"
     ]
    },
    {
     "name": "stdout",
     "output_type": "stream",
     "text": [
      "67f50e294: paraffin\n"
     ]
    },
    {
     "name": "stdin",
     "output_type": "stream",
     "text": [
      "preferred name:  \n"
     ]
    },
    {
     "name": "stdout",
     "output_type": "stream",
     "text": [
      "04aae511332: neopentyl glycol diheptanoate\n"
     ]
    },
    {
     "name": "stdin",
     "output_type": "stream",
     "text": [
      "preferred name:  \n"
     ]
    },
    {
     "name": "stdout",
     "output_type": "stream",
     "text": [
      "1de9d212693: bis-butyldimethicone polyglyceryl-3\n"
     ]
    },
    {
     "name": "stdin",
     "output_type": "stream",
     "text": [
      "preferred name:  \n"
     ]
    },
    {
     "name": "stdout",
     "output_type": "stream",
     "text": [
      "23953e207: jojoba esters\n"
     ]
    },
    {
     "name": "stdin",
     "output_type": "stream",
     "text": [
      "preferred name:  \n"
     ]
    },
    {
     "name": "stdout",
     "output_type": "stream",
     "text": [
      "f5d18510312: lauryl peg-9 polydimethylsiloxyethyl dimethicone\n"
     ]
    },
    {
     "name": "stdin",
     "output_type": "stream",
     "text": [
      "preferred name:  \n"
     ]
    },
    {
     "name": "stdout",
     "output_type": "stream",
     "text": [
      "51515b10455: saccharomyces/xylinum black tea ferment\n"
     ]
    },
    {
     "name": "stdin",
     "output_type": "stream",
     "text": [
      "preferred name:  \n"
     ]
    },
    {
     "name": "stdout",
     "output_type": "stream",
     "text": [
      "9780bb201: isostearic acid\n"
     ]
    },
    {
     "name": "stdin",
     "output_type": "stream",
     "text": [
      "preferred name:  \n"
     ]
    },
    {
     "name": "stdout",
     "output_type": "stream",
     "text": [
      "6acf4919271: trifluoropropyldimethyl/trimethylsiloxysilicate\n"
     ]
    },
    {
     "name": "stdin",
     "output_type": "stream",
     "text": [
      "preferred name:  \n"
     ]
    },
    {
     "name": "stdout",
     "output_type": "stream",
     "text": [
      "c2628a409: trehalose\n"
     ]
    },
    {
     "name": "stdin",
     "output_type": "stream",
     "text": [
      "preferred name:  \n"
     ]
    },
    {
     "name": "stdout",
     "output_type": "stream",
     "text": [
      "4f61ec5388: moringa oleifera\n"
     ]
    },
    {
     "name": "stdin",
     "output_type": "stream",
     "text": [
      "preferred name:  moringa\n"
     ]
    },
    {
     "name": "stdout",
     "output_type": "stream",
     "text": [
      "a6643a15284: camellia japonica flower extract\n"
     ]
    },
    {
     "name": "stdin",
     "output_type": "stream",
     "text": [
      "preferred name:  japanese camellia flower extract\n"
     ]
    },
    {
     "name": "stdout",
     "output_type": "stream",
     "text": [
      "910d0413457: salicornia herbacea extract\n"
     ]
    },
    {
     "name": "stdin",
     "output_type": "stream",
     "text": [
      "preferred name:  glasswort extract\n"
     ]
    },
    {
     "name": "stdout",
     "output_type": "stream",
     "text": [
      "c1c16520359: theobroma cacao seed extract\n"
     ]
    },
    {
     "name": "stdin",
     "output_type": "stream",
     "text": [
      "preferred name:  cocoa seed extract\n"
     ]
    },
    {
     "name": "stdout",
     "output_type": "stream",
     "text": [
      "c16c5510261: sea salt\n"
     ]
    },
    {
     "name": "stdin",
     "output_type": "stream",
     "text": [
      "preferred name:  \n"
     ]
    },
    {
     "name": "stdout",
     "output_type": "stream",
     "text": [
      "57d6b110795: biosaccharide gum-4\n"
     ]
    },
    {
     "name": "stdin",
     "output_type": "stream",
     "text": [
      "preferred name:  \n"
     ]
    },
    {
     "name": "stdout",
     "output_type": "stream",
     "text": [
      "59db7e12153: palmitoyl tripeptide-5\n"
     ]
    },
    {
     "name": "stdin",
     "output_type": "stream",
     "text": [
      "preferred name:  \n"
     ]
    },
    {
     "name": "stdout",
     "output_type": "stream",
     "text": [
      "8d0e6d122: coco-caprylate/caprate\n"
     ]
    },
    {
     "name": "stdin",
     "output_type": "stream",
     "text": [
      "preferred name:  \n"
     ]
    },
    {
     "name": "stdout",
     "output_type": "stream",
     "text": [
      "d762ca262: microcrystalline wax\n"
     ]
    },
    {
     "name": "stdin",
     "output_type": "stream",
     "text": [
      "preferred name:  \n"
     ]
    },
    {
     "name": "stdout",
     "output_type": "stream",
     "text": [
      "0835d82583: sodium carrageenan\n"
     ]
    },
    {
     "name": "stdin",
     "output_type": "stream",
     "text": [
      "preferred name:  \n"
     ]
    },
    {
     "name": "stdout",
     "output_type": "stream",
     "text": [
      "7063b41277: aluminum dimyristate\n"
     ]
    },
    {
     "name": "stdin",
     "output_type": "stream",
     "text": [
      "preferred name:  \n"
     ]
    },
    {
     "name": "stdout",
     "output_type": "stream",
     "text": [
      "f9054c1161: boron nitride\n"
     ]
    },
    {
     "name": "stdin",
     "output_type": "stream",
     "text": [
      "preferred name:  \n"
     ]
    },
    {
     "name": "stdout",
     "output_type": "stream",
     "text": [
      "339cf61617: disodium phosphate\n"
     ]
    },
    {
     "name": "stdin",
     "output_type": "stream",
     "text": [
      "preferred name:  \n"
     ]
    }
   ],
   "source": [
    "am_routines = []\n",
    "for rout in responses['am_routine']:\n",
    "    routine = Routine(name=i, routine=responses['am_routine'][i])\n",
    "    routine.link_sync()\n",
    "#     master_dict = ingredient_dict_builder(routine._routine_dict, master_dict)\n",
    "    am_routines.append(routine)"
   ]
  },
  {
   "cell_type": "code",
   "execution_count": 68,
   "metadata": {},
   "outputs": [
    {
     "name": "stdout",
     "output_type": "stream",
     "text": [
      "No results for seventh sense morning dew moisturizer on CosDNA.\n",
      "Enter new search:\n"
     ]
    },
    {
     "name": "stdin",
     "output_type": "stream",
     "text": [
      "(to skip search, enter 'SKIP' w/o quotes) seventh sense morning dew\n"
     ]
    },
    {
     "name": "stdout",
     "output_type": "stream",
     "text": [
      "No results for  seventh sense inner light eye cream on CosDNA.\n",
      "Enter new search:\n"
     ]
    },
    {
     "name": "stdin",
     "output_type": "stream",
     "text": [
      "(to skip search, enter 'SKIP' w/o quotes) SKIP\n"
     ]
    },
    {
     "name": "stdout",
     "output_type": "stream",
     "text": [
      "SKIP:  seventh sense inner light eye cream\n",
      "No results for  jimbo & jules' bee buzzin' salve on CosDNA.\n",
      "Enter new search:\n"
     ]
    },
    {
     "name": "stdin",
     "output_type": "stream",
     "text": [
      "(to skip search, enter 'SKIP' w/o quotes) SKIP\n"
     ]
    },
    {
     "name": "stdout",
     "output_type": "stream",
     "text": [
      "SKIP:  jimbo & jules' bee buzzin' salve\n",
      "3cd1d120793: coco-caprylate\n"
     ]
    },
    {
     "name": "stdin",
     "output_type": "stream",
     "text": [
      "preferred name:  \n"
     ]
    },
    {
     "name": "stdout",
     "output_type": "stream",
     "text": [
      "d9400110350: polyglyceryl-6 stearate\n"
     ]
    },
    {
     "name": "stdin",
     "output_type": "stream",
     "text": [
      "preferred name:  \n"
     ]
    },
    {
     "name": "stdout",
     "output_type": "stream",
     "text": [
      "f1139111455: polyglyceryl-6 behenate\n"
     ]
    },
    {
     "name": "stdin",
     "output_type": "stream",
     "text": [
      "preferred name:  \n"
     ]
    },
    {
     "name": "stdout",
     "output_type": "stream",
     "text": [
      "db531e2050: oleyl erucate\n"
     ]
    },
    {
     "name": "stdin",
     "output_type": "stream",
     "text": [
      "preferred name:  \n"
     ]
    },
    {
     "name": "stdout",
     "output_type": "stream",
     "text": [
      "5377e810776: diethylhexyl carbonate\n"
     ]
    },
    {
     "name": "stdin",
     "output_type": "stream",
     "text": [
      "preferred name:  \n"
     ]
    },
    {
     "name": "stdout",
     "output_type": "stream",
     "text": [
      "06188b20786: matricaria extract\n"
     ]
    },
    {
     "name": "stdin",
     "output_type": "stream",
     "text": [
      "preferred name:  chamomile extract\n"
     ]
    },
    {
     "name": "stdout",
     "output_type": "stream",
     "text": [
      "a9aee9604: zingiber officinale\n"
     ]
    },
    {
     "name": "stdin",
     "output_type": "stream",
     "text": [
      "preferred name:  ginger\n"
     ]
    },
    {
     "name": "stdout",
     "output_type": "stream",
     "text": [
      "fd61b244: aloe barbadensis\n"
     ]
    },
    {
     "name": "stdin",
     "output_type": "stream",
     "text": [
      "preferred name:  aloe vera\n"
     ]
    },
    {
     "name": "stdout",
     "output_type": "stream",
     "text": [
      "862748283: olea europaea oil\n"
     ]
    },
    {
     "name": "stdin",
     "output_type": "stream",
     "text": [
      "preferred name:  olive oil\n"
     ]
    },
    {
     "name": "stdout",
     "output_type": "stream",
     "text": [
      "6af76711851: sucrose polysoyate\n"
     ]
    },
    {
     "name": "stdin",
     "output_type": "stream",
     "text": [
      "preferred name:  \n"
     ]
    },
    {
     "name": "stdout",
     "output_type": "stream",
     "text": [
      "5c49bc20611: ethyl palmate\n"
     ]
    },
    {
     "name": "stdin",
     "output_type": "stream",
     "text": [
      "preferred name:  \n"
     ]
    },
    {
     "name": "stdout",
     "output_type": "stream",
     "text": [
      "ea2ee62734: sucrose cocoate\n"
     ]
    },
    {
     "name": "stdin",
     "output_type": "stream",
     "text": [
      "preferred name:  \n"
     ]
    },
    {
     "name": "stdout",
     "output_type": "stream",
     "text": [
      "fa29d13291: citrus medica limonum\n"
     ]
    },
    {
     "name": "stdin",
     "output_type": "stream",
     "text": [
      "preferred name:  citrus wilsonii tanaka\n"
     ]
    },
    {
     "name": "stdout",
     "output_type": "stream",
     "text": [
      "840fa519768: chondrus crispus extract\n"
     ]
    },
    {
     "name": "stdin",
     "output_type": "stream",
     "text": [
      "preferred name:  carrageen moss extract\n"
     ]
    },
    {
     "name": "stdout",
     "output_type": "stream",
     "text": [
      "2d18ac14564: lavandula angustifolia oil\n"
     ]
    },
    {
     "name": "stdin",
     "output_type": "stream",
     "text": [
      "preferred name:  lavender oil\n"
     ]
    },
    {
     "name": "stdout",
     "output_type": "stream",
     "text": [
      "286b601779: hydrolyzed soy protein\n"
     ]
    },
    {
     "name": "stdin",
     "output_type": "stream",
     "text": [
      "preferred name:  \n"
     ]
    },
    {
     "name": "stdout",
     "output_type": "stream",
     "text": [
      "d89a5a5787: rosa canina\n"
     ]
    },
    {
     "name": "stdin",
     "output_type": "stream",
     "text": [
      "preferred name:  dog rose\n"
     ]
    },
    {
     "name": "stdout",
     "output_type": "stream",
     "text": [
      "b29c3d3405: hippophae rhamnoides\n"
     ]
    },
    {
     "name": "stdin",
     "output_type": "stream",
     "text": [
      "preferred name:  sea buckthorn\n"
     ]
    },
    {
     "name": "stdout",
     "output_type": "stream",
     "text": [
      "71252214532: or hippophae rhamnoides\n"
     ]
    },
    {
     "name": "stdin",
     "output_type": "stream",
     "text": [
      "preferred name:  sea buckthorn\n"
     ]
    },
    {
     "name": "stdout",
     "output_type": "stream",
     "text": [
      "096e0f4683: rosa damascena\n"
     ]
    },
    {
     "name": "stdin",
     "output_type": "stream",
     "text": [
      "preferred name:  damask rose\n"
     ]
    },
    {
     "name": "stdout",
     "output_type": "stream",
     "text": [
      "ea1c07110: anthemis nobilis\n"
     ]
    },
    {
     "name": "stdin",
     "output_type": "stream",
     "text": [
      "preferred name:  chamomile\n"
     ]
    },
    {
     "name": "stdout",
     "output_type": "stream",
     "text": [
      "971fa885: calendula\n"
     ]
    },
    {
     "name": "stdin",
     "output_type": "stream",
     "text": [
      "preferred name:  \n"
     ]
    },
    {
     "name": "stdout",
     "output_type": "stream",
     "text": [
      "5c8b4414656: adansonia digitata seed oil\n"
     ]
    },
    {
     "name": "stdin",
     "output_type": "stream",
     "text": [
      "preferred name:  african baobab seed oil\n"
     ]
    },
    {
     "name": "stdout",
     "output_type": "stream",
     "text": [
      "14cf5752: prunus armeniaca kernel oil\n"
     ]
    },
    {
     "name": "stdin",
     "output_type": "stream",
     "text": [
      "preferred name:  apricot kernel oil\n"
     ]
    },
    {
     "name": "stdout",
     "output_type": "stream",
     "text": [
      "e059fb11888: punica granatum seed oil\n"
     ]
    },
    {
     "name": "stdin",
     "output_type": "stream",
     "text": [
      "preferred name:  pomegranate seed oil\n"
     ]
    },
    {
     "name": "stdout",
     "output_type": "stream",
     "text": [
      "441ee816559: hippophae rhamnoides fruit extract\n"
     ]
    },
    {
     "name": "stdin",
     "output_type": "stream",
     "text": [
      "preferred name:  sea buckthorn fruit extract\n"
     ]
    },
    {
     "name": "stdout",
     "output_type": "stream",
     "text": [
      "f4844720060: lavender flower oil\n"
     ]
    },
    {
     "name": "stdin",
     "output_type": "stream",
     "text": [
      "preferred name:  \n"
     ]
    },
    {
     "name": "stdout",
     "output_type": "stream",
     "text": [
      "2e462c163: geranium\n"
     ]
    },
    {
     "name": "stdin",
     "output_type": "stream",
     "text": [
      "preferred name:  \n"
     ]
    },
    {
     "name": "stdout",
     "output_type": "stream",
     "text": [
      "31331818580: rosa canina fruit extract\n"
     ]
    },
    {
     "name": "stdin",
     "output_type": "stream",
     "text": [
      "preferred name:  dog rose fruit extract\n"
     ]
    },
    {
     "name": "stdout",
     "output_type": "stream",
     "text": [
      "No results for  armada face and body shield 60 sunblock on CosDNA.\n",
      "Enter new search:\n"
     ]
    },
    {
     "name": "stdin",
     "output_type": "stream",
     "text": [
      "(to skip search, enter 'SKIP' w/o quotes) armada face body shield\n"
     ]
    },
    {
     "name": "stdout",
     "output_type": "stream",
     "text": [
      "92865e11517: sodium coco-glucoside tartrate\n"
     ]
    },
    {
     "name": "stdin",
     "output_type": "stream",
     "text": [
      "preferred name:  \n"
     ]
    },
    {
     "name": "stdout",
     "output_type": "stream",
     "text": [
      "5a60469051: polyglyceryl-4 caprate\n"
     ]
    },
    {
     "name": "stdin",
     "output_type": "stream",
     "text": [
      "preferred name:  \n"
     ]
    },
    {
     "name": "stdout",
     "output_type": "stream",
     "text": [
      "8d0ca5963: sodium c14-16 olefin sulfonate\n"
     ]
    },
    {
     "name": "stdin",
     "output_type": "stream",
     "text": [
      "preferred name:  \n"
     ]
    },
    {
     "name": "stdout",
     "output_type": "stream",
     "text": [
      "c6c72b951: sodium methyl cocoyl taurate\n"
     ]
    },
    {
     "name": "stdin",
     "output_type": "stream",
     "text": [
      "preferred name:  \n"
     ]
    },
    {
     "name": "stdout",
     "output_type": "stream",
     "text": [
      "859d9f2590: sodium cocoamphoacetate\n"
     ]
    },
    {
     "name": "stdin",
     "output_type": "stream",
     "text": [
      "preferred name:  \n"
     ]
    },
    {
     "name": "stdout",
     "output_type": "stream",
     "text": [
      "b3232d20783: sodium cocoyl hydrolyzed amaranth protein\n"
     ]
    },
    {
     "name": "stdin",
     "output_type": "stream",
     "text": [
      "preferred name:  \n"
     ]
    },
    {
     "name": "stdout",
     "output_type": "stream",
     "text": [
      "37cc9e18461: punica granatum extract\n"
     ]
    },
    {
     "name": "stdin",
     "output_type": "stream",
     "text": [
      "preferred name:  pomegranate extract\n"
     ]
    },
    {
     "name": "stdout",
     "output_type": "stream",
     "text": [
      "498e02583: vitis vinifera seed extract\n"
     ]
    },
    {
     "name": "stdin",
     "output_type": "stream",
     "text": [
      "preferred name:  grape seed extract\n"
     ]
    },
    {
     "name": "stdout",
     "output_type": "stream",
     "text": [
      "f3e33c20235: prunus serotina bark extract\n"
     ]
    },
    {
     "name": "stdin",
     "output_type": "stream",
     "text": [
      "preferred name:  wild cherry bark extract\n"
     ]
    },
    {
     "name": "stdout",
     "output_type": "stream",
     "text": [
      "c2e0f619798: citrus aurantium amara flower oil\n"
     ]
    },
    {
     "name": "stdin",
     "output_type": "stream",
     "text": [
      "preferred name:  bitter orange flower oil\n"
     ]
    },
    {
     "name": "stdout",
     "output_type": "stream",
     "text": [
      "ccee0611923: litchi chinensis pericarp extract\n"
     ]
    },
    {
     "name": "stdin",
     "output_type": "stream",
     "text": [
      "preferred name:  lychee pericarp extract\n"
     ]
    },
    {
     "name": "stdout",
     "output_type": "stream",
     "text": [
      "7ec8d019469: yucca schidigera root extract\n"
     ]
    },
    {
     "name": "stdin",
     "output_type": "stream",
     "text": [
      "preferred name:  yucca root extract\n"
     ]
    },
    {
     "name": "stdout",
     "output_type": "stream",
     "text": [
      "77254620222: prunus avium fruit extract\n"
     ]
    },
    {
     "name": "stdin",
     "output_type": "stream",
     "text": [
      "preferred name:  sweet cherry fruit extract\n"
     ]
    },
    {
     "name": "stdout",
     "output_type": "stream",
     "text": [
      "bc04cb20225: prunus cerasus extract\n"
     ]
    },
    {
     "name": "stdin",
     "output_type": "stream",
     "text": [
      "preferred name:  bitter cherry extract\n"
     ]
    },
    {
     "name": "stdout",
     "output_type": "stream",
     "text": [
      "68b49920000: hamamelis virginiana water\n"
     ]
    },
    {
     "name": "stdin",
     "output_type": "stream",
     "text": [
      "preferred name:  witch hazel water\n"
     ]
    },
    {
     "name": "stdout",
     "output_type": "stream",
     "text": [
      "554009929: alcohol denat\n"
     ]
    },
    {
     "name": "stdin",
     "output_type": "stream",
     "text": [
      "preferred name:  denatured alcohol\n"
     ]
    },
    {
     "name": "stdout",
     "output_type": "stream",
     "text": [
      "0faefb1659: glucosamine hcl\n"
     ]
    },
    {
     "name": "stdin",
     "output_type": "stream",
     "text": [
      "preferred name:  \n"
     ]
    },
    {
     "name": "stdout",
     "output_type": "stream",
     "text": [
      "93f41615627: commiphora myrrha oil\n"
     ]
    },
    {
     "name": "stdin",
     "output_type": "stream",
     "text": [
      "preferred name:  myrrh oil\n"
     ]
    },
    {
     "name": "stdout",
     "output_type": "stream",
     "text": [
      "02137d2687: sphingolipids\n"
     ]
    },
    {
     "name": "stdin",
     "output_type": "stream",
     "text": [
      "preferred name:  \n"
     ]
    },
    {
     "name": "stdout",
     "output_type": "stream",
     "text": [
      "82bb9c19889: cucumber oil\n"
     ]
    },
    {
     "name": "stdin",
     "output_type": "stream",
     "text": [
      "preferred name:  \n"
     ]
    },
    {
     "name": "stdout",
     "output_type": "stream",
     "text": [
      "e4372b10402: brassica campestris/aleurites fordi oil copolymer\n"
     ]
    },
    {
     "name": "stdin",
     "output_type": "stream",
     "text": [
      "preferred name:  \n"
     ]
    },
    {
     "name": "stdout",
     "output_type": "stream",
     "text": [
      "9c5bcf261: mica\n"
     ]
    },
    {
     "name": "stdin",
     "output_type": "stream",
     "text": [
      "preferred name:  \n"
     ]
    },
    {
     "name": "stdout",
     "output_type": "stream",
     "text": [
      "6d6e1d2784: tin oxide\n"
     ]
    },
    {
     "name": "stdin",
     "output_type": "stream",
     "text": [
      "preferred name:  \n"
     ]
    },
    {
     "name": "stdout",
     "output_type": "stream",
     "text": [
      "cbfab94665: cymbopogon flexuosus\n"
     ]
    },
    {
     "name": "stdin",
     "output_type": "stream",
     "text": [
      "preferred name:  lemongrass\n"
     ]
    },
    {
     "name": "stdout",
     "output_type": "stream",
     "text": [
      "6fd7921027: phenylbenzimidazole sulfonic acid\n"
     ]
    },
    {
     "name": "stdin",
     "output_type": "stream",
     "text": [
      "preferred name:  \n"
     ]
    },
    {
     "name": "stdout",
     "output_type": "stream",
     "text": [
      "eb2b041029: 4-methylbenzylidene camphor\n"
     ]
    },
    {
     "name": "stdin",
     "output_type": "stream",
     "text": [
      "preferred name:  \n"
     ]
    },
    {
     "name": "stdout",
     "output_type": "stream",
     "text": [
      "e4e4ab1681: glyceryl laurate\n"
     ]
    },
    {
     "name": "stdin",
     "output_type": "stream",
     "text": [
      "preferred name:  \n"
     ]
    },
    {
     "name": "stdout",
     "output_type": "stream",
     "text": [
      "8c79781107: pvp/hexadecene copolymer\n"
     ]
    },
    {
     "name": "stdin",
     "output_type": "stream",
     "text": [
      "preferred name:  \n"
     ]
    },
    {
     "name": "stdout",
     "output_type": "stream",
     "text": [
      "96b85913584: hydrogen dimethicone\n"
     ]
    },
    {
     "name": "stdin",
     "output_type": "stream",
     "text": [
      "preferred name:  \n"
     ]
    },
    {
     "name": "stdout",
     "output_type": "stream",
     "text": [
      "829f7c370: tetrasodium edta\n"
     ]
    },
    {
     "name": "stdin",
     "output_type": "stream",
     "text": [
      "preferred name:  \n"
     ]
    },
    {
     "name": "stdout",
     "output_type": "stream",
     "text": [
      "f29973400: zirconium dioxide\n"
     ]
    },
    {
     "name": "stdin",
     "output_type": "stream",
     "text": [
      "preferred name:  \n"
     ]
    },
    {
     "name": "stdout",
     "output_type": "stream",
     "text": [
      "No results for  olay revitalift 10% vitamin c concentrate on CosDNA.\n",
      "Enter new search:\n"
     ]
    },
    {
     "name": "stdin",
     "output_type": "stream",
     "text": [
      "(to skip search, enter 'SKIP' w/o quotes) revitalift vitamin c 10\n"
     ]
    },
    {
     "name": "stdout",
     "output_type": "stream",
     "text": [
      "No results for  neutrogena hydroboost city shield spf moisturizer on CosDNA.\n",
      "Enter new search:\n"
     ]
    },
    {
     "name": "stdin",
     "output_type": "stream",
     "text": [
      "(to skip search, enter 'SKIP' w/o quotes) neutrogena hydroboost city shield\n"
     ]
    },
    {
     "name": "stdout",
     "output_type": "stream",
     "text": [
      "No results for  avarelle pimple patch\n",
      "\n",
      "aveeno maxglow peel off mask on CosDNA.\n",
      "Enter new search:\n"
     ]
    },
    {
     "name": "stdin",
     "output_type": "stream",
     "text": [
      "(to skip search, enter 'SKIP' w/o quotes) aveeno maxglow peel\n"
     ]
    },
    {
     "name": "stdout",
     "output_type": "stream",
     "text": [
      "No results for  kiehl's calendula 5 minute hydrating mask on CosDNA.\n",
      "Enter new search:\n"
     ]
    },
    {
     "name": "stdin",
     "output_type": "stream",
     "text": [
      "(to skip search, enter 'SKIP' w/o quotes) kiehl's calendula hydrating\n"
     ]
    },
    {
     "name": "stdout",
     "output_type": "stream",
     "text": [
      "No results for kiehl's calendula hydrating on CosDNA.\n",
      "Enter new search:\n"
     ]
    },
    {
     "name": "stdin",
     "output_type": "stream",
     "text": [
      "(to skip search, enter 'SKIP' w/o quotes) keihl's calendula aloe\n"
     ]
    },
    {
     "name": "stdout",
     "output_type": "stream",
     "text": [
      "No results for keihl's calendula aloe on CosDNA.\n",
      "Enter new search:\n"
     ]
    },
    {
     "name": "stdin",
     "output_type": "stream",
     "text": [
      "(to skip search, enter 'SKIP' w/o quotes) SKIP\n"
     ]
    },
    {
     "name": "stdout",
     "output_type": "stream",
     "text": [
      "SKIP:  kiehl's calendula 5 minute hydrating mask\n",
      "26b00937: acrylates copolymer\n"
     ]
    },
    {
     "name": "stdin",
     "output_type": "stream",
     "text": [
      "preferred name:  \n"
     ]
    },
    {
     "name": "stdout",
     "output_type": "stream",
     "text": [
      "c7de31169: glycolic acid\n"
     ]
    },
    {
     "name": "stdin",
     "output_type": "stream",
     "text": [
      "preferred name:  \n"
     ]
    },
    {
     "name": "stdout",
     "output_type": "stream",
     "text": [
      "f26d4a20110: mentha piperita oil\n"
     ]
    },
    {
     "name": "stdin",
     "output_type": "stream",
     "text": [
      "preferred name:  peppermint oil\n"
     ]
    },
    {
     "name": "stdout",
     "output_type": "stream",
     "text": [
      "9f407217277: melia azadirachta seed oil\n"
     ]
    },
    {
     "name": "stdin",
     "output_type": "stream",
     "text": [
      "preferred name:  chinaberry seed oil\n"
     ]
    },
    {
     "name": "stdout",
     "output_type": "stream",
     "text": [
      "f80f2a16201: eucalyptus globulus leaf extract\n"
     ]
    },
    {
     "name": "stdin",
     "output_type": "stream",
     "text": [
      "preferred name:  eucalyptus leaf extract\n"
     ]
    },
    {
     "name": "stdout",
     "output_type": "stream",
     "text": [
      "a8c55a19842: citrus paradisi fruit extract\n"
     ]
    },
    {
     "name": "stdin",
     "output_type": "stream",
     "text": [
      "preferred name:  grapefruit fruit extract\n"
     ]
    },
    {
     "name": "stdout",
     "output_type": "stream",
     "text": [
      "3c709c19850: citrus tangerina extract\n"
     ]
    },
    {
     "name": "stdin",
     "output_type": "stream",
     "text": [
      "preferred name:  tangerine extract\n"
     ]
    },
    {
     "name": "stdout",
     "output_type": "stream",
     "text": [
      "90f41517614: opuntia coccinellifera fruit extract (orange)\n"
     ]
    },
    {
     "name": "stdin",
     "output_type": "stream",
     "text": [
      "preferred name:  prickly pear fruit extract\n"
     ]
    },
    {
     "name": "stdout",
     "output_type": "stream",
     "text": [
      "dfa80c8817: peg-75 (tangerine)\n"
     ]
    },
    {
     "name": "stdin",
     "output_type": "stream",
     "text": [
      "preferred name:  peg-75\n"
     ]
    },
    {
     "name": "stdout",
     "output_type": "stream",
     "text": [
      "f8f05019535: citrus aurantium dulcis fruit extract (japanese camellia)\n"
     ]
    },
    {
     "name": "stdin",
     "output_type": "stream",
     "text": [
      "preferred name:  sweet orange fruit extract\n"
     ]
    },
    {
     "name": "stdout",
     "output_type": "stream",
     "text": [
      "84236f15286: camellia japonica leaf extract (satsuma orange)\n"
     ]
    },
    {
     "name": "stdin",
     "output_type": "stream",
     "text": [
      "preferred name:  japanese camellia leaf extract\n"
     ]
    },
    {
     "name": "stdout",
     "output_type": "stream",
     "text": [
      "bcbaac10320: orchid extract\n"
     ]
    },
    {
     "name": "stdin",
     "output_type": "stream",
     "text": [
      "preferred name:  \n"
     ]
    },
    {
     "name": "stdout",
     "output_type": "stream",
     "text": [
      "b0c0ce15555: citrus unshiu peel extract\n"
     ]
    },
    {
     "name": "stdin",
     "output_type": "stream",
     "text": [
      "preferred name:  satsuma orange peel extract\n"
     ]
    },
    {
     "name": "stdout",
     "output_type": "stream",
     "text": [
      "e595cd978: peg-60 hydrogenated castor oil\n"
     ]
    },
    {
     "name": "stdin",
     "output_type": "stream",
     "text": [
      "preferred name:  \n"
     ]
    },
    {
     "name": "stdout",
     "output_type": "stream",
     "text": [
      "597f0c19712: avena sativa kernel flour\n"
     ]
    },
    {
     "name": "stdin",
     "output_type": "stream",
     "text": [
      "preferred name:  oat kernel flour\n"
     ]
    },
    {
     "name": "stdout",
     "output_type": "stream",
     "text": [
      "cdb997981: methyl gluceth-20\n"
     ]
    },
    {
     "name": "stdin",
     "output_type": "stream",
     "text": [
      "preferred name:  \n"
     ]
    },
    {
     "name": "stdout",
     "output_type": "stream",
     "text": [
      "3cb8eb16101: enantia chlorantha bark extract\n"
     ]
    },
    {
     "name": "stdin",
     "output_type": "stream",
     "text": [
      "preferred name:  \n"
     ]
    },
    {
     "name": "stdout",
     "output_type": "stream",
     "text": [
      "23c5592742: synthetic fluorphlogopite\n"
     ]
    },
    {
     "name": "stdin",
     "output_type": "stream",
     "text": [
      "preferred name:  \n"
     ]
    },
    {
     "name": "stdout",
     "output_type": "stream",
     "text": [
      "40126510286: acetyl tetrapeptide-5\n"
     ]
    },
    {
     "name": "stdin",
     "output_type": "stream",
     "text": [
      "preferred name:  \n"
     ]
    },
    {
     "name": "stdout",
     "output_type": "stream",
     "text": [
      "5ea85014739: aloe barbadensis leaf water\n"
     ]
    },
    {
     "name": "stdin",
     "output_type": "stream",
     "text": [
      "preferred name:  \n"
     ]
    },
    {
     "name": "stdout",
     "output_type": "stream",
     "text": [
      "182e7f19672: actinidia chinensis fruit water\n"
     ]
    },
    {
     "name": "stdin",
     "output_type": "stream",
     "text": [
      "preferred name:  kiwi fruit water\n"
     ]
    },
    {
     "name": "stdout",
     "output_type": "stream",
     "text": [
      "279939357: glycine soja/soybean protein\n"
     ]
    },
    {
     "name": "stdin",
     "output_type": "stream",
     "text": [
      "preferred name:  soy protein\n"
     ]
    },
    {
     "name": "stdout",
     "output_type": "stream",
     "text": [
      "f307c517173: lycium barbarum fruit extract\n"
     ]
    },
    {
     "name": "stdin",
     "output_type": "stream",
     "text": [
      "preferred name:  matrimony vine fruit extract\n"
     ]
    },
    {
     "name": "stdout",
     "output_type": "stream",
     "text": [
      "750f489100: polyvinyl acetate\n"
     ]
    },
    {
     "name": "stdin",
     "output_type": "stream",
     "text": [
      "preferred name:  \n"
     ]
    },
    {
     "name": "stdout",
     "output_type": "stream",
     "text": [
      "8915306479: yeast extract\n"
     ]
    },
    {
     "name": "stdin",
     "output_type": "stream",
     "text": [
      "preferred name:  \n"
     ]
    },
    {
     "name": "stdout",
     "output_type": "stream",
     "text": [
      "ede7813765: cellulose gum\n"
     ]
    },
    {
     "name": "stdin",
     "output_type": "stream",
     "text": [
      "preferred name:  \n"
     ]
    },
    {
     "name": "stdout",
     "output_type": "stream",
     "text": [
      "e9589b10130: cinnamal\n"
     ]
    },
    {
     "name": "stdin",
     "output_type": "stream",
     "text": [
      "preferred name:  \n"
     ]
    },
    {
     "name": "stdout",
     "output_type": "stream",
     "text": [
      "148e331117: cucurbita pepo\n"
     ]
    },
    {
     "name": "stdin",
     "output_type": "stream",
     "text": [
      "preferred name:  winter squash\n"
     ]
    },
    {
     "name": "stdout",
     "output_type": "stream",
     "text": [
      "52cc7c5716: or cucurbita pepo\n"
     ]
    },
    {
     "name": "stdin",
     "output_type": "stream",
     "text": [
      "preferred name:  winter squash\n"
     ]
    },
    {
     "name": "stdout",
     "output_type": "stream",
     "text": [
      "e03583347: sodium lactate\n"
     ]
    },
    {
     "name": "stdin",
     "output_type": "stream",
     "text": [
      "preferred name:  \n"
     ]
    },
    {
     "name": "stdout",
     "output_type": "stream",
     "text": [
      "No results for first aid beauty or is clinical on CosDNA.\n",
      "Enter new search:\n"
     ]
    },
    {
     "name": "stdin",
     "output_type": "stream",
     "text": [
      "(to skip search, enter 'SKIP' w/o quotes) SKIP\n"
     ]
    },
    {
     "name": "stdout",
     "output_type": "stream",
     "text": [
      "SKIP: first aid beauty or is clinical\n",
      "No results for  somme institute or is clinical pro heal on CosDNA.\n",
      "Enter new search:\n"
     ]
    },
    {
     "name": "stdin",
     "output_type": "stream",
     "text": [
      "(to skip search, enter 'SKIP' w/o quotes) is clinical pro heal\n"
     ]
    },
    {
     "name": "stdout",
     "output_type": "stream",
     "text": [
      "No results for  is clinical hyaluronic serum on CosDNA.\n",
      "Enter new search:\n"
     ]
    },
    {
     "name": "stdin",
     "output_type": "stream",
     "text": [
      "(to skip search, enter 'SKIP' w/o quotes) SKIP\n"
     ]
    },
    {
     "name": "stdout",
     "output_type": "stream",
     "text": [
      "SKIP:  is clinical hyaluronic serum\n",
      "No results for  biologique recherche gel adn silkgen moisturizer on CosDNA.\n",
      "Enter new search:\n"
     ]
    },
    {
     "name": "stdin",
     "output_type": "stream",
     "text": [
      "(to skip search, enter 'SKIP' w/o quotes) SKIP\n"
     ]
    },
    {
     "name": "stdout",
     "output_type": "stream",
     "text": [
      "SKIP:  biologique recherche gel adn silkgen moisturizer\n",
      "c0348014505: olea europaea leaf extract\n"
     ]
    },
    {
     "name": "stdin",
     "output_type": "stream",
     "text": [
      "preferred name:  olive leaf extract\n"
     ]
    },
    {
     "name": "stdout",
     "output_type": "stream",
     "text": [
      "62d146399: zinc sulfate\n"
     ]
    },
    {
     "name": "stdin",
     "output_type": "stream",
     "text": [
      "preferred name:  \n"
     ]
    },
    {
     "name": "stdout",
     "output_type": "stream",
     "text": [
      "e5138e20210: polyporus umbellatus extract\n"
     ]
    },
    {
     "name": "stdin",
     "output_type": "stream",
     "text": [
      "preferred name:  \n"
     ]
    },
    {
     "name": "stdout",
     "output_type": "stream",
     "text": [
      "bc33d253: arbutin\n"
     ]
    },
    {
     "name": "stdin",
     "output_type": "stream",
     "text": [
      "preferred name:  \n"
     ]
    },
    {
     "name": "stdout",
     "output_type": "stream",
     "text": [
      "b9b7f0140: bioflavonoids\n"
     ]
    },
    {
     "name": "stdin",
     "output_type": "stream",
     "text": [
      "preferred name:  \n"
     ]
    },
    {
     "name": "stdout",
     "output_type": "stream",
     "text": [
      "fafea110529: ethyl macadamiate\n"
     ]
    },
    {
     "name": "stdin",
     "output_type": "stream",
     "text": [
      "preferred name:  \n"
     ]
    },
    {
     "name": "stdout",
     "output_type": "stream",
     "text": [
      "63e4bc20509: aronia melanocarpa fruit extract\n"
     ]
    },
    {
     "name": "stdin",
     "output_type": "stream",
     "text": [
      "preferred name:  black chokeberry fruit extract\n"
     ]
    },
    {
     "name": "stdout",
     "output_type": "stream",
     "text": [
      "a124216229: verbascum thapsus\n"
     ]
    },
    {
     "name": "stdin",
     "output_type": "stream",
     "text": [
      "preferred name:  great mullein\n"
     ]
    },
    {
     "name": "stdout",
     "output_type": "stream",
     "text": [
      "eb623419098: tagetes erecta flower extract\n"
     ]
    },
    {
     "name": "stdin",
     "output_type": "stream",
     "text": [
      "preferred name:  mexican marigold flower extract\n"
     ]
    },
    {
     "name": "stdout",
     "output_type": "stream",
     "text": [
      "5e84061251: 7-dehydrocholesterol\n"
     ]
    },
    {
     "name": "stdin",
     "output_type": "stream",
     "text": [
      "preferred name:  provitamin d3\n"
     ]
    },
    {
     "name": "stdout",
     "output_type": "stream",
     "text": [
      "3f58459977: zea mays oil\n"
     ]
    },
    {
     "name": "stdin",
     "output_type": "stream",
     "text": [
      "preferred name:  corn oil\n"
     ]
    },
    {
     "name": "stdout",
     "output_type": "stream",
     "text": [
      "df010e330: carthamus tinctorius seed oil\n"
     ]
    },
    {
     "name": "stdin",
     "output_type": "stream",
     "text": [
      "preferred name:  safflower seed oil\n"
     ]
    },
    {
     "name": "stdout",
     "output_type": "stream",
     "text": [
      "a30391247: malic acid\n"
     ]
    },
    {
     "name": "stdin",
     "output_type": "stream",
     "text": [
      "preferred name:  \n"
     ]
    },
    {
     "name": "stdout",
     "output_type": "stream",
     "text": [
      "7d45c6369: myristic acid\n"
     ]
    },
    {
     "name": "stdin",
     "output_type": "stream",
     "text": [
      "preferred name:  \n"
     ]
    },
    {
     "name": "stdout",
     "output_type": "stream",
     "text": [
      "4cde459062: polyglyceryl-6 isostearate\n"
     ]
    },
    {
     "name": "stdin",
     "output_type": "stream",
     "text": [
      "preferred name:  \n"
     ]
    },
    {
     "name": "stdout",
     "output_type": "stream",
     "text": [
      "6ac4431049: microcrystalline cellulose\n"
     ]
    },
    {
     "name": "stdin",
     "output_type": "stream",
     "text": [
      "preferred name:  \n"
     ]
    },
    {
     "name": "stdout",
     "output_type": "stream",
     "text": [
      "52fb0c1330: behenic acid\n"
     ]
    },
    {
     "name": "stdin",
     "output_type": "stream",
     "text": [
      "preferred name:  \n"
     ]
    },
    {
     "name": "stdout",
     "output_type": "stream",
     "text": [
      "bfbaab1939: methicone\n"
     ]
    },
    {
     "name": "stdin",
     "output_type": "stream",
     "text": [
      "preferred name:  \n"
     ]
    },
    {
     "name": "stdout",
     "output_type": "stream",
     "text": [
      "bb89b612112: sodium acrylate/sodium acryloyldimethyl taurate copolymer\n"
     ]
    },
    {
     "name": "stdin",
     "output_type": "stream",
     "text": [
      "preferred name:  \n"
     ]
    },
    {
     "name": "stdout",
     "output_type": "stream",
     "text": [
      "3e71e0353: sorbitan oleate\n"
     ]
    },
    {
     "name": "stdin",
     "output_type": "stream",
     "text": [
      "preferred name:  \n"
     ]
    },
    {
     "name": "stdout",
     "output_type": "stream",
     "text": [
      "16e9b39556: sodium phytate\n"
     ]
    },
    {
     "name": "stdin",
     "output_type": "stream",
     "text": [
      "preferred name:  \n"
     ]
    },
    {
     "name": "stdout",
     "output_type": "stream",
     "text": [
      "25280511353: corallina officinalis\n"
     ]
    },
    {
     "name": "stdin",
     "output_type": "stream",
     "text": [
      "preferred name:  \n"
     ]
    },
    {
     "name": "stdout",
     "output_type": "stream",
     "text": [
      "fb3e091396: calcium silicate\n"
     ]
    },
    {
     "name": "stdin",
     "output_type": "stream",
     "text": [
      "preferred name:  \n"
     ]
    },
    {
     "name": "stdout",
     "output_type": "stream",
     "text": [
      "c816662666: sodium sulfate\n"
     ]
    },
    {
     "name": "stdin",
     "output_type": "stream",
     "text": [
      "preferred name:  \n"
     ]
    },
    {
     "name": "stdout",
     "output_type": "stream",
     "text": [
      "eea34912195: sodium lauryl glucose carboxylate\n"
     ]
    },
    {
     "name": "stdin",
     "output_type": "stream",
     "text": [
      "preferred name:  \n"
     ]
    },
    {
     "name": "stdout",
     "output_type": "stream",
     "text": [
      "f338107518: disodium cocoyl glutamate\n"
     ]
    },
    {
     "name": "stdin",
     "output_type": "stream",
     "text": [
      "preferred name:  \n"
     ]
    },
    {
     "name": "stdout",
     "output_type": "stream",
     "text": [
      "f93175980: peg-7 glyceryl cocoate\n"
     ]
    },
    {
     "name": "stdin",
     "output_type": "stream",
     "text": [
      "preferred name:  \n"
     ]
    },
    {
     "name": "stdout",
     "output_type": "stream",
     "text": [
      "9f15a310417: ceteareth-60 myristyl glycol\n"
     ]
    },
    {
     "name": "stdin",
     "output_type": "stream",
     "text": [
      "preferred name:  \n"
     ]
    },
    {
     "name": "stdout",
     "output_type": "stream",
     "text": [
      "eb396d14245: caprylhydroxamic acid\n"
     ]
    },
    {
     "name": "stdin",
     "output_type": "stream",
     "text": [
      "preferred name:  \n"
     ]
    },
    {
     "name": "stdout",
     "output_type": "stream",
     "text": [
      "abaa3019763: chamomilla recutita flower oil\n"
     ]
    },
    {
     "name": "stdin",
     "output_type": "stream",
     "text": [
      "preferred name:  chamomile flower oil\n"
     ]
    },
    {
     "name": "stdout",
     "output_type": "stream",
     "text": [
      "12af7d17919: pelargonium graveolens oil\n"
     ]
    },
    {
     "name": "stdin",
     "output_type": "stream",
     "text": [
      "preferred name:  geranium oil\n"
     ]
    },
    {
     "name": "stdout",
     "output_type": "stream",
     "text": [
      "ee64fb5303: citrus sinensis\n"
     ]
    },
    {
     "name": "stdin",
     "output_type": "stream",
     "text": [
      "preferred name:  mandarin orange\n"
     ]
    },
    {
     "name": "stdout",
     "output_type": "stream",
     "text": [
      "2b1782884: citronellol\n"
     ]
    },
    {
     "name": "stdin",
     "output_type": "stream",
     "text": [
      "preferred name:  \n"
     ]
    },
    {
     "name": "stdout",
     "output_type": "stream",
     "text": [
      "63f4cd19839: citrus nobilis peel oil\n"
     ]
    },
    {
     "name": "stdin",
     "output_type": "stream",
     "text": [
      "preferred name:  mandarin orange peel oil\n"
     ]
    },
    {
     "name": "stdout",
     "output_type": "stream",
     "text": [
      "051ea417719: passiflora incarnata seed oil\n"
     ]
    },
    {
     "name": "stdin",
     "output_type": "stream",
     "text": [
      "preferred name:  purple passionflower seed oil\n"
     ]
    },
    {
     "name": "stdout",
     "output_type": "stream",
     "text": [
      "d736c7419: prunus amygdalus dulcis oil\n"
     ]
    },
    {
     "name": "stdin",
     "output_type": "stream",
     "text": [
      "preferred name:  sweet almond oil\n"
     ]
    },
    {
     "name": "stdout",
     "output_type": "stream",
     "text": [
      "7ad82f14555: vitis vinifera seed oil\n"
     ]
    },
    {
     "name": "stdin",
     "output_type": "stream",
     "text": [
      "preferred name:  grape seed oil\n"
     ]
    },
    {
     "name": "stdout",
     "output_type": "stream",
     "text": [
      "2566aa350: sodium polyacrylate\n"
     ]
    },
    {
     "name": "stdin",
     "output_type": "stream",
     "text": [
      "preferred name:  \n"
     ]
    },
    {
     "name": "stdout",
     "output_type": "stream",
     "text": [
      "bc25c81207: caprylyl methicone\n"
     ]
    },
    {
     "name": "stdin",
     "output_type": "stream",
     "text": [
      "preferred name:  \n"
     ]
    },
    {
     "name": "stdout",
     "output_type": "stream",
     "text": [
      "a82cff2315: polyglyceryl-10 pentastearate\n"
     ]
    },
    {
     "name": "stdin",
     "output_type": "stream",
     "text": [
      "preferred name:  \n"
     ]
    },
    {
     "name": "stdout",
     "output_type": "stream",
     "text": [
      "df091a2664: sodium stearoyl lactylate\n"
     ]
    },
    {
     "name": "stdin",
     "output_type": "stream",
     "text": [
      "preferred name:  \n"
     ]
    },
    {
     "name": "stdout",
     "output_type": "stream",
     "text": [
      "a2f54213136: calcium aluminum borosilicate\n"
     ]
    },
    {
     "name": "stdin",
     "output_type": "stream",
     "text": [
      "preferred name:  \n"
     ]
    },
    {
     "name": "stdout",
     "output_type": "stream",
     "text": [
      "48a76d2195: peg-40 stearate\n"
     ]
    },
    {
     "name": "stdin",
     "output_type": "stream",
     "text": [
      "preferred name:  \n"
     ]
    },
    {
     "name": "stdout",
     "output_type": "stream",
     "text": [
      "8abc216434: polysorbate 60\n"
     ]
    },
    {
     "name": "stdin",
     "output_type": "stream",
     "text": [
      "preferred name:  \n"
     ]
    },
    {
     "name": "stdout",
     "output_type": "stream",
     "text": [
      "0beac113927: physalis angulata extract\n"
     ]
    },
    {
     "name": "stdin",
     "output_type": "stream",
     "text": [
      "preferred name:  \n"
     ]
    }
   ],
   "source": [
    "for i in range(5, 10):\n",
    "    routine = Routine(name=i, routine=responses['am_routine'][i])\n",
    "    routine.link_sync()\n",
    "    master_dict= ingredient_dict_builder(routine._routine_dict, master_dict)"
   ]
  },
  {
   "cell_type": "code",
   "execution_count": 69,
   "metadata": {},
   "outputs": [
    {
     "data": {
      "text/plain": [
       "{'90172810251': 'water',\n",
       " '8f2df68856': 'peg-80 sorbitan laurate',\n",
       " '9a5810119': 'cocamidopropyl betaine',\n",
       " 'f3bac6962': 'sodium trideceth sulfate',\n",
       " '04e7dc953': 'sodium lauroamphoacetate',\n",
       " '4548ae2101': 'peg 150 distearate',\n",
       " '48257f1077': 'coq10',\n",
       " 'ee1a1a373': 'vitamin e acetate',\n",
       " 'f246bf490': 'alpha-lipoic acid',\n",
       " '2ac38b321': 'vitamin a palmitate',\n",
       " 'fcf8b5303': 'vitamin k1',\n",
       " 'a83b7c483': 'vitamin d3',\n",
       " 'fe279c1318': 'vitamin c palmitate',\n",
       " 'b8a3bf116': 'citric acid',\n",
       " 'fc86a9293': 'panthenol',\n",
       " 'e812b9352': 'sorbic acid',\n",
       " 'f09549300': 'phenoxyethanol',\n",
       " '2f5a452621': 'sodium lauroyl glutamate',\n",
       " '205eb9166': 'glycerin',\n",
       " '80ae0e12197': 'sodium lauroyl oat amino acids',\n",
       " 'c0304615299': 'tea leaf extract',\n",
       " 'unavailable': 'unavailable',\n",
       " '72a94a19514': 'propanediol',\n",
       " '7927f4219': 'vitamin c',\n",
       " 'd828e611478': 'alpha-arbutin',\n",
       " 'bd4d8e1208': 'cyclopentasiloxane',\n",
       " 'c7c7fe1947': 'methyl methacrylate crosspolymer',\n",
       " 'b05d771602': 'dipropylene glycol',\n",
       " 'e530df6438': 'polymethylsilsesquioxane',\n",
       " '2f905810281': 'peg-10 dimethicone',\n",
       " '313d361204': 'hdi/trimethylol hexyllactone crosspolymer',\n",
       " '1fdc3980': 'butylene glycol',\n",
       " 'd0da2e2588': 'sodium chloride',\n",
       " '293f3810714': 'vinyl dimethicone/methicone silsesquioxane crosspolymer',\n",
       " 'a5b27411203': 'c30-45 alkyl cetearyl dimethicone crosspolymer',\n",
       " '4417b53157': 'zinc gluconate',\n",
       " 'c25e5833': 'disodium edta',\n",
       " '466110332': 'salicylic acid',\n",
       " '2a40df251': 'mannitol',\n",
       " '9257fe393': 'xylitol',\n",
       " '28bf2810385': 'rhamnose',\n",
       " '05a3b6831': 'xanthan gum',\n",
       " '47cc91943': 'sodium hydroxide',\n",
       " 'aa6ed93811': 'dodecyl gallate',\n",
       " '9a77f92529': 'vitamin b6 hydrochloride',\n",
       " '72100419948': 'fomes officinalis extract',\n",
       " '636161979': 'peg-40 hydrogenated castor oil',\n",
       " '3de7c6864': 'fragrance',\n",
       " 'c0e748279': 'ethylhexyl methoxycinnamate',\n",
       " '76298d372': 'titanium dioxide',\n",
       " '59265a832': 'zinc oxide',\n",
       " 'cd4ca910296': 'cetyl peg/ppg-10/1 dimethicone',\n",
       " 'd82eb289': 'caprylic/capric triglyceride',\n",
       " 'cd005b2682': 'sorbitan sesquioleate',\n",
       " '3da165145': 'dimethicone',\n",
       " 'a33544814': 'iron oxides',\n",
       " '368022598': 'beeswax',\n",
       " '7fbdb92691': 'stearalkonium hectorite',\n",
       " '45183e246': 'magnesium aluminum silicate',\n",
       " '3e4f37100': 'ozokerite',\n",
       " '6dde7e10454': 'dimethicone/vinyl dimethicone crosspolymer',\n",
       " '8ce86910811': 'peg-10 dimethicone crosspolymer',\n",
       " 'bfeb7610984': 'cyclotetrasiloxane',\n",
       " 'ef37c019760': 'chamomile flower extract',\n",
       " '2c70b516339': 'gentian root extract',\n",
       " '728bdb14899': 'wormwood extract',\n",
       " 'cec7c418286': 'purslane extract',\n",
       " '3838f519668': 'sugar maple extract',\n",
       " '0540ce6447': 'peg-6 caprylic/capric glycerides',\n",
       " '70c90c344': 'sodium citrate',\n",
       " '0f31c41511': 'copper sulfate',\n",
       " '34d2e716358': 'ginkgo biloba leaf extract',\n",
       " '9e9cef1225': 'fructo-oligosaccharides',\n",
       " '4775d7315': 'propylene glycol',\n",
       " 'd5fb0c2887': 'cetrimonium bromide',\n",
       " 'b23911940': 'sodium laureth sulfate',\n",
       " 'ffdf8e356': 'sorbitol',\n",
       " '248af88091': 'laureth-4 carboxylic acid',\n",
       " '60de5d6467': 'ethylhexylglycerin',\n",
       " '1827f86633': 'acrylates/c10-30 alkyl acrylate crosspolymer',\n",
       " 'fc0e7e438': 'sodium benzoate',\n",
       " '297fc0888': 'menthol',\n",
       " '5f1bc32365': 'polyquaternium-39',\n",
       " 'ec774810923': 'charcoal powder',\n",
       " 'f981541037': 'ethylhexyl palmitate',\n",
       " '509e461105': 'dimethicone crosspolymer',\n",
       " 'd6b122816': 'ascorbyl glucoside',\n",
       " '91c5201209': 'cyclohexasiloxane',\n",
       " '51ab9d10410': 'hydroxyethylpiperazine ethane sulfonic acid',\n",
       " '0966a31886': 'lauroyl lysine',\n",
       " '8cf1fd20982': 'acrylonitrile/methyl methacrylate/vinylidene chloride copolymer',\n",
       " '26af7a10370': 'polysilicone-11',\n",
       " '51abfb10727': 'adenosine',\n",
       " 'c4e35316703': 'hydrolyzed hyaluronic acid',\n",
       " '99e549231': 'limonene',\n",
       " 'bae5801226': 'isobutane',\n",
       " 'd6e9bc20784': 'orange peel oil',\n",
       " 'c8edf419833': 'lemon peel oil',\n",
       " '60baad6494': 'citral',\n",
       " '5672db11403': 'pentaerythrityl tetra-di-t-butyl hydroxyhydrocinnamate',\n",
       " 'e69afd66': 'benzoyl peroxide',\n",
       " '2b89f820675': 'carbomer homopolymer type b',\n",
       " '77a8961800': 'hydroxypropyl methylcellulose',\n",
       " 'ce2c2f67': 'benzyl alcohol',\n",
       " '2a226a1012': 'laureth-4',\n",
       " '859a532773': 'tetrahydroxypropyl ethylenediamine',\n",
       " 'ef33796501': 'ammonium acryloyldimethyltaurate/vp copolymer',\n",
       " 'd0c02c273': 'nylon-12',\n",
       " 'a5ad9510287': 'peg-12 dimethicone',\n",
       " '3bf28a485': 'vitamin e',\n",
       " '0cd5c11135': 'pentylene glycol',\n",
       " 'c69b0a991': 'laureth-23',\n",
       " '8965401782': 'hydrolyzed wheat protein',\n",
       " '4c6067424': 'methylparaben',\n",
       " '2bba59316': 'propylparaben',\n",
       " '0dec90429': 'ethylparaben',\n",
       " 'cc75461167': 'polyacrylamide',\n",
       " 'f124da42': 'allantoin',\n",
       " '511c561003': 'bht',\n",
       " 'ad5da0365': 'sunflower oil',\n",
       " 'c54c1c1168': 'c13-14 isoparaffin',\n",
       " '62e334964': 'polysorbate 20',\n",
       " '3665ec1910': 'magnesium aspartate',\n",
       " 'affbc2955': 'alpha-bisabolol',\n",
       " '79f3321065': 'retinol',\n",
       " '2a7b7220519': 'hydroxyphenyl propamidobenzoic acid',\n",
       " '8aa6731882': 'laureth-7',\n",
       " 'd9943d1510': 'copper gluconate',\n",
       " '057e85992': 'yellow 5',\n",
       " '3a1e2314735': 'aloe barbadensis leaf juice',\n",
       " '10c2ee200': 'isopropyl palmitate',\n",
       " 'e79fcd168': 'glyceryl stearate',\n",
       " 'cac655104': 'cetyl alcohol',\n",
       " 'ee1a4413354': 'senna seed extract',\n",
       " 'b081f0360': 'stearic acid',\n",
       " 'f5650f208': 'jojoba oil',\n",
       " 'b2e310338': 'shea butter',\n",
       " '898bf618389': 'propolis extract',\n",
       " '64860215406': 'pennywort extract',\n",
       " '3fd6af16120': 'horsetail extract',\n",
       " '3ff58516346': 'geranium extract',\n",
       " 'f8711b721': 'dandelion',\n",
       " 'fe88f2158': 'ethanol',\n",
       " 'cebeb8225': 'lecithin',\n",
       " '5a14ff1845': 'lactose',\n",
       " '3425bd1361': 'c12-15 alkyl benzoate',\n",
       " 'a275e510403': 'cetearyl ethylhexanoate',\n",
       " '919bfd8': 'peg-100 stearate',\n",
       " 'b375f32251': 'peg-8',\n",
       " '5ef6ef467': 'stearyl alcohol',\n",
       " 'fada5a3145': 'tromethamine',\n",
       " 'f8701b90': 'carbomer',\n",
       " '35cc31879': 'isopropyl myristate',\n",
       " '035888448': 'chlorhexidine digluconate',\n",
       " 'de022d1499': 'coco-glucoside',\n",
       " 'ab8ccd20544': 'sodium lauroyl methyl isethionate',\n",
       " '3360581494': 'cocamidopropyl hydroxysultaine',\n",
       " '9a68372633': 'sodium methyl oleoyl taurate',\n",
       " 'd8088c14734': 'aloe barbadensis leaf extract',\n",
       " '51cddd10661': 'glycolipids',\n",
       " '0287c3229': 'linoleic acid',\n",
       " 'ba78081902': 'linolenic acid',\n",
       " '0187f210178': 'lauryl glucoside',\n",
       " '7202f515719': 'cantaloupe fruit extract',\n",
       " '41831414303': 'marula seed oil',\n",
       " '8e16cb1047': 'dipotassium glycyrrhizate',\n",
       " '8032ba2352': 'polylysine',\n",
       " 'af81356377': 'niacinamide',\n",
       " '77cb98422': 'adenosine triphosphate',\n",
       " 'da1eca14848': 'chamomile flower extract',\n",
       " '3fac9214872': 'burdock root extract',\n",
       " 'f1e7ec14350': 'hydrolyzed jojoba esters',\n",
       " 'b23fa41780': 'hydrolyzed vegetable protein',\n",
       " 'dfa882349': 'sodium pca',\n",
       " '6b1f88346': 'sodium hyaluronate',\n",
       " 'a11c14935': 'sodium chondroitin sulfate',\n",
       " 'a9b3846414': 'ceramide 3',\n",
       " 'cd82ce10488': 'ceramide 6 ii',\n",
       " '1bf93015409': 'ceramide 1',\n",
       " 'cb1ca71123': 'phytosphingosine',\n",
       " 'd0c3f7112': 'cholesterol',\n",
       " '87dba96374': 'vitamin c tetraisopalmitate',\n",
       " '5440721010': 'oleth-10',\n",
       " '0bb1f67258': 'dea-oleth-10 phosphate',\n",
       " '4ea5529516': 'sodium lauroyl lactylate',\n",
       " '1ee2367042': 'caprylyl glycol',\n",
       " 'f31b711196': 'hexylene glycol',\n",
       " '53026b378': 'trisodium edta',\n",
       " '569dd0557': 'acetyl glucosamine',\n",
       " '7e4b55302': 'phospholipids',\n",
       " '6fbf8714126': 'punarnava root extract',\n",
       " '25ec3119984': 'licorice root extract',\n",
       " '1a8f4f11335': 'egcg',\n",
       " 'c2f9241045': 'beta-glucan',\n",
       " '7b3b1910625': 'carnosine\\n肌肽',\n",
       " '325b6910974': 'genistein',\n",
       " '15529e60': 'azelaic acid',\n",
       " '91717f1945': 'methyl glucose sesquistearate',\n",
       " 'f83898102': 'cetearyl alcohol',\n",
       " '7cef8d335': 'sclerotium gum',\n",
       " 'bd86141140': 'water',\n",
       " '2d842c182': 'hyaluronic acid',\n",
       " 'ba1a66971': 'polyglyceryl-3-diisostearate',\n",
       " 'ef65162402': 'potassium phosphate',\n",
       " '1f1eee1601': 'dipotassium phosphate',\n",
       " '4a06d62021': 'octyldodecyl neopentanoate',\n",
       " '09e04010431': 'hydroxyethyl acrylate/sodium acryloyldimethyl taurate copolymer',\n",
       " 'b35a542350': 'polyisobutene',\n",
       " '6c023b20725': 'peg-7 trimethylolpropane coconut ether',\n",
       " '36b237212': 'lactic acid',\n",
       " 'e002648465': 'oleth-3 phosphate',\n",
       " '6db25d431': 'iodopropynyl butylcarbamate',\n",
       " '1a5790961': 'octyl stearate',\n",
       " '20ad5010427': 'triethoxycaprylylsilane',\n",
       " '9a5625165': 'glycereth-26',\n",
       " '8f93011164': 'dimethiconol',\n",
       " '00f4e8568': 'evening primrose oil',\n",
       " '2b5b8b14410': 'borage seed oil',\n",
       " '47dfc31739': 'hydrogenated lecithin',\n",
       " 'c761da2740': 'superoxide dismutase',\n",
       " '65d0851901': 'linoleamidopropyl pg-dimonium chloride phosphate',\n",
       " 'e81b872894': 'chlorphenesin',\n",
       " '3d1b7c425': 'benzoic acid',\n",
       " 'b3d7c210384': 'ethoxydiglycol',\n",
       " 'b87736828': 'polysorbate 80',\n",
       " '8847aa2864': 'ferulic acid',\n",
       " '30f22f427': 'dehydroacetic acid',\n",
       " '60c99c998': 'zinc pca',\n",
       " '46d3321580': 'dimethyl isosorbide',\n",
       " '56980413168': 'tamarind seed gum',\n",
       " 'bd1f871814': 'isoceteth-20',\n",
       " '22ac5018873': 'sodium hyaluronate crosspolymer',\n",
       " '17f44f14690': 'ahnfeltia concinna extract',\n",
       " '5bb09d12167': 'trisodium ethylenediamine disuccinate',\n",
       " '56f78f6500': '1,2-hexanediol',\n",
       " 'a57e99179': 'homosalate',\n",
       " 'ebaca21028': 'menthyl anthranilate',\n",
       " '4f4a4b277': 'octocrylene',\n",
       " '0ddcdc2874': 'behentrimonium methosulfate',\n",
       " '35c7b320472': 'ceramide 9',\n",
       " '3d9e521284': 'aluminum starch octenylsuccinate',\n",
       " '938ea3418': 'hydroxyethylcellulose',\n",
       " '2c510d793': 'isohexadecane',\n",
       " '452d3e1111': 'isononyl isononanoate',\n",
       " '52b7131550': 'dicaprylyl ether',\n",
       " '0cafd22153': 'peg-30 dipolyhydroxystearate',\n",
       " '82a6306380': 'triethylhexanoin',\n",
       " '8616be2341': 'polyglyceryl-4 isostearate',\n",
       " '90f3e610236': 'dicaprylyl carbonate',\n",
       " '3e04e41205': 'ethylene/acrylic acid copolymer',\n",
       " '9cd233376': 'triethanolamine',\n",
       " 'ba9fb8339': 'silica',\n",
       " '82f11311002': 'poly c10-30 alkyl acrylate',\n",
       " '78d2f06709': 'aluminum stearate',\n",
       " '9c15831276': 'alumina',\n",
       " 'e5fc211280': 'aluminum hydroxide',\n",
       " '8eea368505': 'p-anisic acid',\n",
       " '89a24f10275': 'disodium stearoyl glutamate',\n",
       " '61b38a2504': 'propylene carbonate',\n",
       " '0f1b7f1402': 'capryloyl salicylic acid',\n",
       " '0ac34111010': 'diethylhexyl syringylidene malonate',\n",
       " 'b3ccd66442': 'disteardimonium hectorite',\n",
       " 'dd78942349': 'polyhydroxystearic acid',\n",
       " 'fada7814712': 'algae extract',\n",
       " '10d7ba950': 'decyl glucoside',\n",
       " 'b898356384': 'sorbitan olivate',\n",
       " '1c4ecd1188': 'sesame seed oil',\n",
       " '866c5a19791': 'lime oil',\n",
       " 'd8f26520748': 'orange oil',\n",
       " '3cae1116912': 'juniper fruit oil',\n",
       " '65f6f11237': 'cypress',\n",
       " '419adb20036': 'jasmine oil',\n",
       " '5dbe43507': 'glycine',\n",
       " '383bb7435': 'potassium sorbate',\n",
       " 'ee8723493': 'chlorophyll extract',\n",
       " 'd3295918674': 'elder fruit extract',\n",
       " '043b0f72': 'biosaccharide gum-1',\n",
       " 'd0a87d17917': 'geranium flower oil',\n",
       " 'ed918715308': 'ylang-ylang flower oil',\n",
       " 'c23dd69049': 'polyglyceryl-3 stearate',\n",
       " 'f6255d1463': 'cetyl esters',\n",
       " '8658131169': 'cetyl ethylhexanoate',\n",
       " '92d0b110573': 'diethylhexyl succinate',\n",
       " 'fa0339967': 'octyldodecanol',\n",
       " 'daa7ae19236': 'tocopheryl linoleate/oleate',\n",
       " '92fcb119806': 'bergamot fruit extract',\n",
       " 'b8586819867': 'coriander fruit/leaf extract',\n",
       " '9403e315727': 'italian cypress leaf/stem extract',\n",
       " 'a4a0ff16298': 'bladder wrack extract',\n",
       " '1dfaa119978': 'soybean seed extract',\n",
       " 'efc39720034': 'jasmine flower/leaf extract',\n",
       " '3f922220052': 'lavender extract',\n",
       " '7f7f6018115': 'frangipani flower extract',\n",
       " 'c3d77a14524': 'peach fruit extract',\n",
       " '3ff5b6324': 'rose extract',\n",
       " 'dbfcce20275': 'rosemary leaf extract',\n",
       " 'c1ad5119376': 'vanilla planifolia fruit extract',\n",
       " '5fc5481': 'behenyl alcohol',\n",
       " 'cf1fc6108': 'cetyl phosphate',\n",
       " '1567f910317': 'acrylamide/sodium acryloyldimethyltaurate copolymer',\n",
       " '18238912740': 'c13-15 alkane',\n",
       " 'a195941311': 'arachidyl alcohol',\n",
       " '9e91e11057': 'saccharide isomerate',\n",
       " '0f102710655': 'xylitylglucoside',\n",
       " '69ac9e10654': 'anhydroxylitol',\n",
       " 'd0953417706': 'parietaria officinalis extract',\n",
       " '1e6ea920082': 'mallow flower leaf/stem extract',\n",
       " 'e5a7da20003': 'ivy leaf/stem extract',\n",
       " '3abe1f19886': 'cucumber fruit extract',\n",
       " '28482314894': \"wolf's bane flower extract\",\n",
       " 'e672f118670': 'elder flower extract',\n",
       " '381b3f10294': 'arachidyl glucoside',\n",
       " '9199212294': 'phytic acid',\n",
       " '9d545e11867': 'grapefruit peel oil',\n",
       " '62cf2510424': 'seawater',\n",
       " 'ee243d20491': 'coconut alkanes',\n",
       " 'f48fb019513': 'squalene',\n",
       " '67f50e294': 'paraffin',\n",
       " '04aae511332': 'neopentyl glycol diheptanoate',\n",
       " '1de9d212693': 'bis-butyldimethicone polyglyceryl-3',\n",
       " '23953e207': 'jojoba esters',\n",
       " 'f5d18510312': 'lauryl peg-9 polydimethylsiloxyethyl dimethicone',\n",
       " '51515b10455': 'saccharomyces/xylinum black tea ferment',\n",
       " '9780bb201': 'isostearic acid',\n",
       " '6acf4919271': 'trifluoropropyldimethyl/trimethylsiloxysilicate',\n",
       " 'c2628a409': 'trehalose',\n",
       " '4f61ec5388': 'moringa',\n",
       " 'a6643a15284': 'japanese camellia flower extract',\n",
       " '910d0413457': 'glasswort extract',\n",
       " 'c1c16520359': 'cocoa seed extract',\n",
       " 'c16c5510261': 'sea salt',\n",
       " '57d6b110795': 'biosaccharide gum-4',\n",
       " '59db7e12153': 'palmitoyl tripeptide-5',\n",
       " '8d0e6d122': 'coco-caprylate/caprate',\n",
       " 'd762ca262': 'microcrystalline wax',\n",
       " '0835d82583': 'sodium carrageenan',\n",
       " '7063b41277': 'aluminum dimyristate',\n",
       " 'f9054c1161': 'boron nitride',\n",
       " '339cf61617': 'disodium phosphate',\n",
       " '3cd1d120793': 'coco-caprylate',\n",
       " 'd9400110350': 'polyglyceryl-6 stearate',\n",
       " 'f1139111455': 'polyglyceryl-6 behenate',\n",
       " 'db531e2050': 'oleyl erucate',\n",
       " '5377e810776': 'diethylhexyl carbonate',\n",
       " '06188b20786': 'chamomile extract',\n",
       " 'a9aee9604': 'ginger',\n",
       " 'fd61b244': 'aloe vera',\n",
       " '862748283': 'olive oil',\n",
       " '6af76711851': 'sucrose polysoyate',\n",
       " '5c49bc20611': 'ethyl palmate',\n",
       " 'ea2ee62734': 'sucrose cocoate',\n",
       " 'fa29d13291': 'citrus wilsonii tanaka',\n",
       " '840fa519768': 'carrageen moss extract',\n",
       " '2d18ac14564': 'lavender oil',\n",
       " '286b601779': 'hydrolyzed soy protein',\n",
       " 'd89a5a5787': 'dog rose',\n",
       " 'b29c3d3405': 'sea buckthorn',\n",
       " '71252214532': 'sea buckthorn',\n",
       " '096e0f4683': 'damask rose',\n",
       " 'ea1c07110': 'chamomile',\n",
       " '971fa885': 'calendula',\n",
       " '5c8b4414656': 'african baobab seed oil',\n",
       " '14cf5752': 'apricot kernel oil',\n",
       " 'e059fb11888': 'pomegranate seed oil',\n",
       " '441ee816559': 'sea buckthorn fruit extract',\n",
       " 'f4844720060': 'lavender flower oil',\n",
       " '2e462c163': 'geranium',\n",
       " '31331818580': 'dog rose fruit extract',\n",
       " '92865e11517': 'sodium coco-glucoside tartrate',\n",
       " '5a60469051': 'polyglyceryl-4 caprate',\n",
       " '8d0ca5963': 'sodium c14-16 olefin sulfonate',\n",
       " 'c6c72b951': 'sodium methyl cocoyl taurate',\n",
       " '859d9f2590': 'sodium cocoamphoacetate',\n",
       " 'b3232d20783': 'sodium cocoyl hydrolyzed amaranth protein',\n",
       " '37cc9e18461': 'pomegranate extract',\n",
       " '498e02583': 'grape seed extract',\n",
       " 'f3e33c20235': 'wild cherry bark extract',\n",
       " 'c2e0f619798': 'bitter orange flower oil',\n",
       " 'ccee0611923': 'lychee pericarp extract',\n",
       " '7ec8d019469': 'yucca root extract',\n",
       " '77254620222': 'sweet cherry fruit extract',\n",
       " 'bc04cb20225': 'bitter cherry extract',\n",
       " '68b49920000': 'witch hazel water',\n",
       " '554009929': 'denatured alcohol',\n",
       " '0faefb1659': 'glucosamine hcl',\n",
       " '93f41615627': 'myrrh oil',\n",
       " '02137d2687': 'sphingolipids',\n",
       " '82bb9c19889': 'cucumber oil',\n",
       " 'e4372b10402': 'brassica campestris/aleurites fordi oil copolymer',\n",
       " '9c5bcf261': 'mica',\n",
       " '6d6e1d2784': 'tin oxide',\n",
       " 'cbfab94665': 'lemongrass',\n",
       " '6fd7921027': 'phenylbenzimidazole sulfonic acid',\n",
       " 'eb2b041029': '4-methylbenzylidene camphor',\n",
       " 'e4e4ab1681': 'glyceryl laurate',\n",
       " '8c79781107': 'pvp/hexadecene copolymer',\n",
       " '96b85913584': 'hydrogen dimethicone',\n",
       " '829f7c370': 'tetrasodium edta',\n",
       " 'f29973400': 'zirconium dioxide',\n",
       " '26b00937': 'acrylates copolymer',\n",
       " 'c7de31169': 'glycolic acid',\n",
       " 'f26d4a20110': 'peppermint oil',\n",
       " '9f407217277': 'chinaberry seed oil',\n",
       " 'f80f2a16201': 'eucalyptus leaf extract',\n",
       " 'a8c55a19842': 'grapefruit fruit extract',\n",
       " '3c709c19850': 'tangerine extract',\n",
       " '90f41517614': 'prickly pear fruit extract',\n",
       " 'dfa80c8817': 'peg-75',\n",
       " 'f8f05019535': 'sweet orange fruit extract',\n",
       " '84236f15286': 'japanese camellia leaf extract',\n",
       " 'bcbaac10320': 'orchid extract',\n",
       " 'b0c0ce15555': 'satsuma orange peel extract',\n",
       " 'e595cd978': 'peg-60 hydrogenated castor oil',\n",
       " '597f0c19712': 'oat kernel flour',\n",
       " 'cdb997981': 'methyl gluceth-20',\n",
       " '3cb8eb16101': 'enantia chlorantha bark extract',\n",
       " '23c5592742': 'synthetic fluorphlogopite',\n",
       " '40126510286': 'acetyl tetrapeptide-5',\n",
       " '5ea85014739': 'aloe barbadensis leaf water',\n",
       " '182e7f19672': 'kiwi fruit water',\n",
       " '279939357': 'soy protein',\n",
       " 'f307c517173': 'matrimony vine fruit extract',\n",
       " '750f489100': 'polyvinyl acetate',\n",
       " '8915306479': 'yeast extract',\n",
       " 'ede7813765': 'cellulose gum',\n",
       " 'e9589b10130': 'cinnamal',\n",
       " '148e331117': 'winter squash',\n",
       " '52cc7c5716': 'winter squash',\n",
       " 'e03583347': 'sodium lactate',\n",
       " 'c0348014505': 'olive leaf extract',\n",
       " '62d146399': 'zinc sulfate',\n",
       " 'e5138e20210': 'polyporus umbellatus extract',\n",
       " 'bc33d253': 'arbutin',\n",
       " 'b9b7f0140': 'bioflavonoids',\n",
       " 'fafea110529': 'ethyl macadamiate',\n",
       " '63e4bc20509': 'black chokeberry fruit extract',\n",
       " 'a124216229': 'great mullein',\n",
       " 'eb623419098': 'mexican marigold flower extract',\n",
       " '5e84061251': 'provitamin d3',\n",
       " '3f58459977': 'corn oil',\n",
       " 'df010e330': 'safflower seed oil',\n",
       " 'a30391247': 'malic acid',\n",
       " '7d45c6369': 'myristic acid',\n",
       " '4cde459062': 'polyglyceryl-6 isostearate',\n",
       " '6ac4431049': 'microcrystalline cellulose',\n",
       " '52fb0c1330': 'behenic acid',\n",
       " 'bfbaab1939': 'methicone',\n",
       " 'bb89b612112': 'sodium acrylate/sodium acryloyldimethyl taurate copolymer',\n",
       " '3e71e0353': 'sorbitan oleate',\n",
       " '16e9b39556': 'sodium phytate',\n",
       " '25280511353': 'corallina officinalis',\n",
       " 'fb3e091396': 'calcium silicate',\n",
       " 'c816662666': 'sodium sulfate',\n",
       " 'eea34912195': 'sodium lauryl glucose carboxylate',\n",
       " 'f338107518': 'disodium cocoyl glutamate',\n",
       " 'f93175980': 'peg-7 glyceryl cocoate',\n",
       " '9f15a310417': 'ceteareth-60 myristyl glycol',\n",
       " 'eb396d14245': 'caprylhydroxamic acid',\n",
       " 'abaa3019763': 'chamomile flower oil',\n",
       " '12af7d17919': 'geranium oil',\n",
       " 'ee64fb5303': 'mandarin orange',\n",
       " '2b1782884': 'citronellol',\n",
       " '63f4cd19839': 'mandarin orange peel oil',\n",
       " '051ea417719': 'purple passionflower seed oil',\n",
       " 'd736c7419': 'sweet almond oil',\n",
       " '7ad82f14555': 'grape seed oil',\n",
       " '2566aa350': 'sodium polyacrylate',\n",
       " 'bc25c81207': 'caprylyl methicone',\n",
       " 'a82cff2315': 'polyglyceryl-10 pentastearate',\n",
       " 'df091a2664': 'sodium stearoyl lactylate',\n",
       " 'a2f54213136': 'calcium aluminum borosilicate',\n",
       " '48a76d2195': 'peg-40 stearate',\n",
       " '8abc216434': 'polysorbate 60',\n",
       " '0beac113927': 'physalis angulata extract'}"
      ]
     },
     "execution_count": 69,
     "metadata": {},
     "output_type": "execute_result"
    }
   ],
   "source": [
    "master_dict"
   ]
  },
  {
   "cell_type": "code",
   "execution_count": 70,
   "metadata": {},
   "outputs": [],
   "source": [
    "# saving pickle\n",
    "with open('./data/master_dict.pickle', 'wb') as handle:\n",
    "    pickle.dump(master_dict, handle, protocol=pickle.HIGHEST_PROTOCOL)"
   ]
  },
  {
   "cell_type": "code",
   "execution_count": null,
   "metadata": {},
   "outputs": [],
   "source": []
  }
 ],
 "metadata": {
  "kernelspec": {
   "display_name": "Python 3",
   "language": "python",
   "name": "python3"
  },
  "language_info": {
   "codemirror_mode": {
    "name": "ipython",
    "version": 3
   },
   "file_extension": ".py",
   "mimetype": "text/x-python",
   "name": "python",
   "nbconvert_exporter": "python",
   "pygments_lexer": "ipython3",
   "version": "3.7.4"
  }
 },
 "nbformat": 4,
 "nbformat_minor": 4
}
